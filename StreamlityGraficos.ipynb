{
  "nbformat": 4,
  "nbformat_minor": 0,
  "metadata": {
    "colab": {
      "name": "StreamlityGraficos.ipynb",
      "provenance": [],
      "mount_file_id": "1pgFnDvPJCM1jUZsJKABLln_Aky9D8LLZ",
      "authorship_tag": "ABX9TyPxH+ooWaH9oBcesUVzmfMO",
      "include_colab_link": true
    },
    "kernelspec": {
      "name": "python3",
      "display_name": "Python 3"
    },
    "language_info": {
      "name": "python"
    }
  },
  "cells": [
    {
      "cell_type": "markdown",
      "metadata": {
        "id": "view-in-github",
        "colab_type": "text"
      },
      "source": [
        "<a href=\"https://colab.research.google.com/github/GonzaloPosse/Proyecto_Grupal_Grupo05/blob/Fernando/StreamlityGraficos.ipynb\" target=\"_parent\"><img src=\"https://colab.research.google.com/assets/colab-badge.svg\" alt=\"Open In Colab\"/></a>"
      ]
    },
    {
      "cell_type": "code",
      "source": [
        "pip install streamlit -q"
      ],
      "metadata": {
        "colab": {
          "base_uri": "https://localhost:8080/"
        },
        "id": "Cwh5e7x6xGvZ",
        "outputId": "61a6c0c5-abe2-49eb-e65c-fc2baa6f4b43"
      },
      "execution_count": 4,
      "outputs": [
        {
          "output_type": "stream",
          "name": "stdout",
          "text": [
            "\u001b[K     |████████████████████████████████| 9.1 MB 5.0 MB/s \n",
            "\u001b[K     |████████████████████████████████| 4.7 MB 39.8 MB/s \n",
            "\u001b[K     |████████████████████████████████| 235 kB 49.0 MB/s \n",
            "\u001b[K     |████████████████████████████████| 78 kB 5.3 MB/s \n",
            "\u001b[K     |████████████████████████████████| 164 kB 44.5 MB/s \n",
            "\u001b[K     |████████████████████████████████| 181 kB 35.8 MB/s \n",
            "\u001b[K     |████████████████████████████████| 63 kB 1.4 MB/s \n",
            "\u001b[K     |████████████████████████████████| 51 kB 5.3 MB/s \n",
            "\u001b[?25h  Building wheel for validators (setup.py) ... \u001b[?25l\u001b[?25hdone\n"
          ]
        }
      ]
    },
    {
      "cell_type": "code",
      "execution_count": 3,
      "metadata": {
        "colab": {
          "base_uri": "https://localhost:8080/"
        },
        "id": "NenV8czv8ymu",
        "outputId": "b20418ab-76ba-4767-cb87-5470d2f5bb01"
      },
      "outputs": [
        {
          "output_type": "stream",
          "name": "stdout",
          "text": [
            "Looking in indexes: https://pypi.org/simple, https://us-python.pkg.dev/colab-wheels/public/simple/\n",
            "Collecting pyngrok\n",
            "  Downloading pyngrok-5.1.0.tar.gz (745 kB)\n",
            "\u001b[K     |████████████████████████████████| 745 kB 5.3 MB/s \n",
            "\u001b[?25hRequirement already satisfied: PyYAML in /usr/local/lib/python3.7/dist-packages (from pyngrok) (6.0)\n",
            "Building wheels for collected packages: pyngrok\n",
            "  Building wheel for pyngrok (setup.py) ... \u001b[?25l\u001b[?25hdone\n",
            "  Created wheel for pyngrok: filename=pyngrok-5.1.0-py3-none-any.whl size=19007 sha256=58e90183947e0b4bda59b76df20d03a5f1886c9655f42bf8876d96df52c18775\n",
            "  Stored in directory: /root/.cache/pip/wheels/bf/e6/af/ccf6598ecefecd44104069371795cb9b3afbcd16987f6ccfb3\n",
            "Successfully built pyngrok\n",
            "Installing collected packages: pyngrok\n",
            "Successfully installed pyngrok-5.1.0\n"
          ]
        }
      ],
      "source": [
        "! pip install pyngrok"
      ]
    },
    {
      "cell_type": "code",
      "source": [
        "%%writefile app.py\n",
        "import streamlit as st\n",
        "from PIL import Image\n",
        "import plotly.figure_factory as ff\n",
        "import numpy as np\n",
        "import plotly.express as px\n",
        "import pandas as pd\n",
        "from sqlalchemy import create_engine\n",
        "import plotly.graph_objects as go\n",
        "\n",
        "conexion= create_engine('postgresql://{user}:{pw}@{host}:{port}/{db}'.format(\n",
        "    user='postgres', pw='postgres', host='database-grupo5.cgmzd7suyc4v.us-east-1.rds.amazonaws.com',port='5432',db='postgres', echo=False))\n",
        "\n",
        "paises = pd.read_sql_query('SELECT * FROM \"Paises\"',con=conexion)\n",
        "anos = pd.read_sql_query('SELECT * FROM \"Años\"' ,con=conexion)\n",
        "emisiones_sin_año = pd.read_sql_query ('SELECT * FROM \"Emisiones_CO2\"',con=conexion)\n",
        "nuclear_sin_año = pd.read_sql_query ('SELECT * FROM \"Energia_nuclear\"',con=conexion)\n",
        "eolica_sin_año = pd.read_sql_query ('SELECT * FROM \"Energia_nuclear\"',con=conexion)\n",
        "geotermica_sin_año = pd.read_sql_query ('SELECT * FROM \"Energia_Geotermica\"',con=conexion)\n",
        "solar_sin_año = pd.read_sql_query ('SELECT * FROM \"Energia_solar\"',con=conexion)\n",
        "\n",
        "nuclear=pd.merge(nuclear_sin_año,anos)\n",
        "nuclear=pd.merge(nuclear,paises)\n",
        "\n",
        "Imagen_Henry = Image.open('/content/drive/MyDrive/DataGrace/Fernando_Vergara/Henry.jpg')           \n",
        "st.image(Imagen_Henry)\n",
        "st.title(\"Proyecto Grupal Equipo 5\")\n",
        "\n",
        "Imagen_Equipo= Image.open('/content/drive/MyDrive/DataGrace/Fernando_Vergara/equipo.png')\n",
        "st.image(Imagen_Equipo)\n",
        "\n",
        "fig = px.line(nuclear, x=\"Anio\", y=\"Produccion_Nuclear\", color=\"Pais\")\n",
        "st.plotly_chart(fig, use_container_width=True)"
      ],
      "metadata": {
        "colab": {
          "base_uri": "https://localhost:8080/"
        },
        "id": "mAoc_XDq80qN",
        "outputId": "3a677ca1-eae6-40b2-908a-ebaf0f60c388"
      },
      "execution_count": 1,
      "outputs": [
        {
          "output_type": "stream",
          "name": "stdout",
          "text": [
            "Writing app.py\n"
          ]
        }
      ]
    },
    {
      "cell_type": "code",
      "source": [
        "from pyngrok import ngrok\n",
        "ngrok.set_auth_token('2E5xQCmL1iKGMlongZwKJdbupkK_5iTFxG4R4zWqyx8PP5w7x')\n"
      ],
      "metadata": {
        "id": "tVQCAuAY9fT3",
        "colab": {
          "base_uri": "https://localhost:8080/"
        },
        "outputId": "6a841eb4-1c30-44c2-961d-eb149070de55"
      },
      "execution_count": 5,
      "outputs": [
        {
          "output_type": "stream",
          "name": "stdout",
          "text": []
        }
      ]
    },
    {
      "cell_type": "code",
      "source": [
        "!nohup streamlit run app.py --server.port 80 &\n",
        "ngrok.connect(port='80')"
      ],
      "metadata": {
        "colab": {
          "base_uri": "https://localhost:8080/"
        },
        "id": "x58hXEmVxjqn",
        "outputId": "a6ac4e7a-2652-43a5-d301-629aa8ce2579"
      },
      "execution_count": 6,
      "outputs": [
        {
          "output_type": "stream",
          "name": "stdout",
          "text": [
            "nohup: appending output to 'nohup.out'\n"
          ]
        },
        {
          "output_type": "execute_result",
          "data": {
            "text/plain": [
              "<NgrokTunnel: \"http://0b69-34-132-31-73.ngrok.io\" -> \"http://localhost:80\">"
            ]
          },
          "metadata": {},
          "execution_count": 6
        }
      ]
    },
    {
      "cell_type": "code",
      "source": [
        "!ngrok http --host-header=rewrite localhost:80"
      ],
      "metadata": {
        "colab": {
          "base_uri": "https://localhost:8080/"
        },
        "id": "VDJvnu4Bx8XX",
        "outputId": "3ae66eff-abad-46ba-fc9b-49f336ffae4e"
      },
      "execution_count": 6,
      "outputs": [
        {
          "output_type": "stream",
          "name": "stdout",
          "text": [
            "Your account is limited to 1 simultaneous ngrok agent session.\n",
            "Active ngrok agent sessions in region 'us':\n",
            "  - ts_2E8oSi7FVZkmgQC8aiJOBn91wty (35.201.201.120)\r\n",
            "\r\n",
            "ERR_NGROK_108\r\n",
            "\n"
          ]
        }
      ]
    },
    {
      "cell_type": "code",
      "source": [
        "tunnels=ngrok.get_tunnels()"
      ],
      "metadata": {
        "id": "LdmElWdOxlj5"
      },
      "execution_count": 7,
      "outputs": []
    },
    {
      "cell_type": "code",
      "source": [
        "tunnels"
      ],
      "metadata": {
        "colab": {
          "base_uri": "https://localhost:8080/"
        },
        "id": "5xhMyG_NXA-H",
        "outputId": "86862f8b-e509-4021-d8ed-845896ff2ae2"
      },
      "execution_count": 8,
      "outputs": [
        {
          "output_type": "execute_result",
          "data": {
            "text/plain": [
              "[<NgrokTunnel: \"http://2427-35-201-201-120.ngrok.io\" -> \"http://localhost:80\">,\n",
              " <NgrokTunnel: \"https://2427-35-201-201-120.ngrok.io\" -> \"http://localhost:80\">]"
            ]
          },
          "metadata": {},
          "execution_count": 8
        }
      ]
    },
    {
      "cell_type": "code",
      "source": [
        "pip install SQLAlchemy"
      ],
      "metadata": {
        "colab": {
          "base_uri": "https://localhost:8080/"
        },
        "id": "FoAitEqxdCS0",
        "outputId": "cb7bdc31-ac46-412f-b34d-e321fa372764"
      },
      "execution_count": 9,
      "outputs": [
        {
          "output_type": "stream",
          "name": "stdout",
          "text": [
            "Looking in indexes: https://pypi.org/simple, https://us-python.pkg.dev/colab-wheels/public/simple/\n",
            "Requirement already satisfied: SQLAlchemy in /usr/local/lib/python3.7/dist-packages (1.4.40)\n",
            "Requirement already satisfied: importlib-metadata in /usr/local/lib/python3.7/dist-packages (from SQLAlchemy) (4.12.0)\n",
            "Requirement already satisfied: greenlet!=0.4.17 in /usr/local/lib/python3.7/dist-packages (from SQLAlchemy) (1.1.3)\n",
            "Requirement already satisfied: typing-extensions>=3.6.4 in /usr/local/lib/python3.7/dist-packages (from importlib-metadata->SQLAlchemy) (4.1.1)\n",
            "Requirement already satisfied: zipp>=0.5 in /usr/local/lib/python3.7/dist-packages (from importlib-metadata->SQLAlchemy) (3.8.1)\n"
          ]
        }
      ]
    },
    {
      "cell_type": "code",
      "source": [
        "import pandas as pd\n",
        "from sqlalchemy import create_engine"
      ],
      "metadata": {
        "id": "AgRaNgNacotO"
      },
      "execution_count": 7,
      "outputs": []
    },
    {
      "cell_type": "code",
      "source": [
        "conexion= create_engine('postgresql://{user}:{pw}@{host}:{port}/{db}'.format(\n",
        "    user='postgres', pw='postgres', host='database-grupo5.cgmzd7suyc4v.us-east-1.rds.amazonaws.com',port='5432',db='postgres', echo=False))\n",
        "\n",
        "if conexion.connect():\n",
        "    print('Conexion Exitosa')"
      ],
      "metadata": {
        "id": "Y7IDnQ0pXVQY",
        "colab": {
          "base_uri": "https://localhost:8080/"
        },
        "outputId": "5f5c6f81-54ce-420a-c79a-77d344b90247"
      },
      "execution_count": 8,
      "outputs": [
        {
          "output_type": "stream",
          "name": "stdout",
          "text": [
            "Conexion Exitosa\n"
          ]
        }
      ]
    },
    {
      "cell_type": "code",
      "source": [
        "paises = pd.read_sql_query('SELECT * FROM \"Paises\"',con=conexion)\n",
        "anos = pd.read_sql_query('SELECT * FROM \"Años\"' ,con=conexion)\n",
        "emisiones_sin_año = pd.read_sql_query ('SELECT * FROM \"Emisiones_CO2\"',con=conexion)\n",
        "nuclear_sin_año = pd.read_sql_query ('SELECT * FROM \"Energia_nuclear\"',con=conexion)\n",
        "eolica_sin_año = pd.read_sql_query ('SELECT * FROM \"Energia_nuclear\"',con=conexion)\n",
        "geotermica_sin_año = pd.read_sql_query ('SELECT * FROM \"Energia_Geotermica\"',con=conexion)\n",
        "solar_sin_año = pd.read_sql_query ('SELECT * FROM \"Energia_solar\"',con=conexion)"
      ],
      "metadata": {
        "id": "8v0bq_KGclL_"
      },
      "execution_count": 9,
      "outputs": []
    },
    {
      "cell_type": "code",
      "source": [
        "pip install plotly"
      ],
      "metadata": {
        "colab": {
          "base_uri": "https://localhost:8080/"
        },
        "id": "ZwDkc-PYI3G_",
        "outputId": "4a572143-ce98-42fb-85e3-f20a081fe0fc"
      },
      "execution_count": 17,
      "outputs": [
        {
          "output_type": "stream",
          "name": "stdout",
          "text": [
            "Looking in indexes: https://pypi.org/simple, https://us-python.pkg.dev/colab-wheels/public/simple/\n",
            "Requirement already satisfied: plotly in /usr/local/lib/python3.7/dist-packages (5.5.0)\n",
            "Requirement already satisfied: tenacity>=6.2.0 in /usr/local/lib/python3.7/dist-packages (from plotly) (8.0.1)\n",
            "Requirement already satisfied: six in /usr/local/lib/python3.7/dist-packages (from plotly) (1.15.0)\n"
          ]
        }
      ]
    },
    {
      "cell_type": "code",
      "source": [
        "import plotly.express as px"
      ],
      "metadata": {
        "id": "5wYgZyB8I22c"
      },
      "execution_count": 10,
      "outputs": []
    },
    {
      "cell_type": "markdown",
      "source": [
        "Cambie el nombre de la columna Años porque en todas las energias estaba diferente\n"
      ],
      "metadata": {
        "id": "uIB4kC49g_qO"
      }
    },
    {
      "cell_type": "code",
      "source": [
        "anos=anos.rename(columns={'Id_Años':'Id_anio'})\n",
        "Años=anos\n",
        "Años.to_csv('Años.csv',index=False)\n",
        "Años.to_sql(con=conexion,if_exists='replace',index=False,name='Años')"
      ],
      "metadata": {
        "id": "YQgCbFizax4z"
      },
      "execution_count": 63,
      "outputs": []
    },
    {
      "cell_type": "code",
      "source": [
        "paises=paises.rename(columns={'Id_pais':'Id_Pais'})\n",
        "Paises=paises\n",
        "Paises.to_sql(con=conexion,if_exists='replace',index=False,name='Paises')"
      ],
      "metadata": {
        "id": "BzSC85suiR-F"
      },
      "execution_count": 81,
      "outputs": []
    },
    {
      "cell_type": "markdown",
      "source": [
        "Continuamos para construir las graficas"
      ],
      "metadata": {
        "id": "wtqPwSb0aiOP"
      }
    },
    {
      "cell_type": "code",
      "source": [
        "nuclear=pd.merge(nuclear_sin_año,anos)"
      ],
      "metadata": {
        "id": "SW9GEBklg92Z"
      },
      "execution_count": 12,
      "outputs": []
    },
    {
      "cell_type": "code",
      "source": [
        "nuclear=pd.merge(nuclear,paises)"
      ],
      "metadata": {
        "id": "VMFjHSL4hQ4a"
      },
      "execution_count": 13,
      "outputs": []
    },
    {
      "cell_type": "code",
      "source": [
        "nuclear.head(2)"
      ],
      "metadata": {
        "colab": {
          "base_uri": "https://localhost:8080/",
          "height": 112
        },
        "id": "oCU2hLc2jJps",
        "outputId": "358f02bd-fd2b-40a4-d3f8-87ce41c47168"
      },
      "execution_count": 14,
      "outputs": [
        {
          "output_type": "execute_result",
          "data": {
            "text/plain": [
              "   Id_Energia_nuclear  Id_Pais  Id_anio  Consumo_Nuclear  Produccion_Nuclear  \\\n",
              "0                   1       44       31             0.99                97.2   \n",
              "1                  32       44       32             0.94                92.1   \n",
              "\n",
              "   Anio Codigo_pais    Pais  \n",
              "0  1995         CAN  Canada  \n",
              "1  1996         CAN  Canada  "
            ],
            "text/html": [
              "\n",
              "  <div id=\"df-48c9803a-6bcc-4260-9d00-38b1aa595ffd\">\n",
              "    <div class=\"colab-df-container\">\n",
              "      <div>\n",
              "<style scoped>\n",
              "    .dataframe tbody tr th:only-of-type {\n",
              "        vertical-align: middle;\n",
              "    }\n",
              "\n",
              "    .dataframe tbody tr th {\n",
              "        vertical-align: top;\n",
              "    }\n",
              "\n",
              "    .dataframe thead th {\n",
              "        text-align: right;\n",
              "    }\n",
              "</style>\n",
              "<table border=\"1\" class=\"dataframe\">\n",
              "  <thead>\n",
              "    <tr style=\"text-align: right;\">\n",
              "      <th></th>\n",
              "      <th>Id_Energia_nuclear</th>\n",
              "      <th>Id_Pais</th>\n",
              "      <th>Id_anio</th>\n",
              "      <th>Consumo_Nuclear</th>\n",
              "      <th>Produccion_Nuclear</th>\n",
              "      <th>Anio</th>\n",
              "      <th>Codigo_pais</th>\n",
              "      <th>Pais</th>\n",
              "    </tr>\n",
              "  </thead>\n",
              "  <tbody>\n",
              "    <tr>\n",
              "      <th>0</th>\n",
              "      <td>1</td>\n",
              "      <td>44</td>\n",
              "      <td>31</td>\n",
              "      <td>0.99</td>\n",
              "      <td>97.2</td>\n",
              "      <td>1995</td>\n",
              "      <td>CAN</td>\n",
              "      <td>Canada</td>\n",
              "    </tr>\n",
              "    <tr>\n",
              "      <th>1</th>\n",
              "      <td>32</td>\n",
              "      <td>44</td>\n",
              "      <td>32</td>\n",
              "      <td>0.94</td>\n",
              "      <td>92.1</td>\n",
              "      <td>1996</td>\n",
              "      <td>CAN</td>\n",
              "      <td>Canada</td>\n",
              "    </tr>\n",
              "  </tbody>\n",
              "</table>\n",
              "</div>\n",
              "      <button class=\"colab-df-convert\" onclick=\"convertToInteractive('df-48c9803a-6bcc-4260-9d00-38b1aa595ffd')\"\n",
              "              title=\"Convert this dataframe to an interactive table.\"\n",
              "              style=\"display:none;\">\n",
              "        \n",
              "  <svg xmlns=\"http://www.w3.org/2000/svg\" height=\"24px\"viewBox=\"0 0 24 24\"\n",
              "       width=\"24px\">\n",
              "    <path d=\"M0 0h24v24H0V0z\" fill=\"none\"/>\n",
              "    <path d=\"M18.56 5.44l.94 2.06.94-2.06 2.06-.94-2.06-.94-.94-2.06-.94 2.06-2.06.94zm-11 1L8.5 8.5l.94-2.06 2.06-.94-2.06-.94L8.5 2.5l-.94 2.06-2.06.94zm10 10l.94 2.06.94-2.06 2.06-.94-2.06-.94-.94-2.06-.94 2.06-2.06.94z\"/><path d=\"M17.41 7.96l-1.37-1.37c-.4-.4-.92-.59-1.43-.59-.52 0-1.04.2-1.43.59L10.3 9.45l-7.72 7.72c-.78.78-.78 2.05 0 2.83L4 21.41c.39.39.9.59 1.41.59.51 0 1.02-.2 1.41-.59l7.78-7.78 2.81-2.81c.8-.78.8-2.07 0-2.86zM5.41 20L4 18.59l7.72-7.72 1.47 1.35L5.41 20z\"/>\n",
              "  </svg>\n",
              "      </button>\n",
              "      \n",
              "  <style>\n",
              "    .colab-df-container {\n",
              "      display:flex;\n",
              "      flex-wrap:wrap;\n",
              "      gap: 12px;\n",
              "    }\n",
              "\n",
              "    .colab-df-convert {\n",
              "      background-color: #E8F0FE;\n",
              "      border: none;\n",
              "      border-radius: 50%;\n",
              "      cursor: pointer;\n",
              "      display: none;\n",
              "      fill: #1967D2;\n",
              "      height: 32px;\n",
              "      padding: 0 0 0 0;\n",
              "      width: 32px;\n",
              "    }\n",
              "\n",
              "    .colab-df-convert:hover {\n",
              "      background-color: #E2EBFA;\n",
              "      box-shadow: 0px 1px 2px rgba(60, 64, 67, 0.3), 0px 1px 3px 1px rgba(60, 64, 67, 0.15);\n",
              "      fill: #174EA6;\n",
              "    }\n",
              "\n",
              "    [theme=dark] .colab-df-convert {\n",
              "      background-color: #3B4455;\n",
              "      fill: #D2E3FC;\n",
              "    }\n",
              "\n",
              "    [theme=dark] .colab-df-convert:hover {\n",
              "      background-color: #434B5C;\n",
              "      box-shadow: 0px 1px 3px 1px rgba(0, 0, 0, 0.15);\n",
              "      filter: drop-shadow(0px 1px 2px rgba(0, 0, 0, 0.3));\n",
              "      fill: #FFFFFF;\n",
              "    }\n",
              "  </style>\n",
              "\n",
              "      <script>\n",
              "        const buttonEl =\n",
              "          document.querySelector('#df-48c9803a-6bcc-4260-9d00-38b1aa595ffd button.colab-df-convert');\n",
              "        buttonEl.style.display =\n",
              "          google.colab.kernel.accessAllowed ? 'block' : 'none';\n",
              "\n",
              "        async function convertToInteractive(key) {\n",
              "          const element = document.querySelector('#df-48c9803a-6bcc-4260-9d00-38b1aa595ffd');\n",
              "          const dataTable =\n",
              "            await google.colab.kernel.invokeFunction('convertToInteractive',\n",
              "                                                     [key], {});\n",
              "          if (!dataTable) return;\n",
              "\n",
              "          const docLinkHtml = 'Like what you see? Visit the ' +\n",
              "            '<a target=\"_blank\" href=https://colab.research.google.com/notebooks/data_table.ipynb>data table notebook</a>'\n",
              "            + ' to learn more about interactive tables.';\n",
              "          element.innerHTML = '';\n",
              "          dataTable['output_type'] = 'display_data';\n",
              "          await google.colab.output.renderOutput(dataTable, element);\n",
              "          const docLink = document.createElement('div');\n",
              "          docLink.innerHTML = docLinkHtml;\n",
              "          element.appendChild(docLink);\n",
              "        }\n",
              "      </script>\n",
              "    </div>\n",
              "  </div>\n",
              "  "
            ]
          },
          "metadata": {},
          "execution_count": 14
        }
      ]
    },
    {
      "cell_type": "code",
      "source": [
        "fig = px.line(nuclear, x=\"Anio\", y=\"Produccion_Nuclear\", color=\"Pais\")\n",
        "fig.show()"
      ],
      "metadata": {
        "colab": {
          "base_uri": "https://localhost:8080/",
          "height": 542
        },
        "id": "YNTSlLdtgXQu",
        "outputId": "573528b3-e90b-4dc5-ace2-2e351d2b3637"
      },
      "execution_count": 15,
      "outputs": [
        {
          "output_type": "display_data",
          "data": {
            "text/html": [
              "<html>\n",
              "<head><meta charset=\"utf-8\" /></head>\n",
              "<body>\n",
              "    <div>            <script src=\"https://cdnjs.cloudflare.com/ajax/libs/mathjax/2.7.5/MathJax.js?config=TeX-AMS-MML_SVG\"></script><script type=\"text/javascript\">if (window.MathJax) {MathJax.Hub.Config({SVG: {font: \"STIX-Web\"}});}</script>                <script type=\"text/javascript\">window.PlotlyConfig = {MathJaxConfig: 'local'};</script>\n",
              "        <script src=\"https://cdn.plot.ly/plotly-2.8.3.min.js\"></script>                <div id=\"5fe519e4-588b-4e77-9fd1-fc462d7181ff\" class=\"plotly-graph-div\" style=\"height:525px; width:100%;\"></div>            <script type=\"text/javascript\">                                    window.PLOTLYENV=window.PLOTLYENV || {};                                    if (document.getElementById(\"5fe519e4-588b-4e77-9fd1-fc462d7181ff\")) {                    Plotly.newPlot(                        \"5fe519e4-588b-4e77-9fd1-fc462d7181ff\",                        [{\"hovertemplate\":\"Pais=Canada<br>Anio=%{x}<br>Produccion_Nuclear=%{y}<extra></extra>\",\"legendgroup\":\"Canada\",\"line\":{\"color\":\"#636efa\",\"dash\":\"solid\"},\"marker\":{\"symbol\":\"circle\"},\"mode\":\"lines\",\"name\":\"Canada\",\"orientation\":\"v\",\"showlegend\":true,\"x\":[1995,1996,1997,1998,1999,2000,2001,2002,2003,2004,2005,2006,2007,2008,2009,2010,2011,2012,2013,2014,2015,2016,2017,2018,2019,2020,2021],\"xaxis\":\"x\",\"y\":[97.2,92.1,82.0,71.0,73.0,72.3,76.2,75.0,74.4,89.8,91.4,97.3,92.8,95.4,89.5,90.0,92.9,94.2,102.7,106.5,101.1,100.7,100.6,100.0,100.5,97.5,92.0],\"yaxis\":\"y\",\"type\":\"scatter\"},{\"hovertemplate\":\"Pais=Mexico<br>Anio=%{x}<br>Produccion_Nuclear=%{y}<extra></extra>\",\"legendgroup\":\"Mexico\",\"line\":{\"color\":\"#EF553B\",\"dash\":\"solid\"},\"marker\":{\"symbol\":\"circle\"},\"mode\":\"lines\",\"name\":\"Mexico\",\"orientation\":\"v\",\"showlegend\":true,\"x\":[1995,1996,1997,1998,1999,2000,2001,2002,2003,2004,2005,2006,2007,2008,2009,2010,2011,2012,2013,2014,2015,2016,2017,2018,2019,2020,2021],\"xaxis\":\"x\",\"y\":[8.4,7.9,10.5,9.3,10.0,8.2,8.7,9.7,10.5,9.2,10.8,10.9,10.4,9.8,10.5,5.9,10.1,8.8,11.8,9.7,11.6,10.6,10.9,13.6,11.2,11.2,11.9],\"yaxis\":\"y\",\"type\":\"scatter\"},{\"hovertemplate\":\"Pais=United States<br>Anio=%{x}<br>Produccion_Nuclear=%{y}<extra></extra>\",\"legendgroup\":\"United States\",\"line\":{\"color\":\"#00cc96\",\"dash\":\"solid\"},\"marker\":{\"symbol\":\"circle\"},\"mode\":\"lines\",\"name\":\"United States\",\"orientation\":\"v\",\"showlegend\":true,\"x\":[1995,1996,1997,1998,1999,2000,2001,2002,2003,2004,2005,2006,2007,2008,2009,2010,2011,2012,2013,2014,2015,2016,2017,2018,2019,2020,2021],\"xaxis\":\"x\",\"y\":[708.8,710.2,661.7,709.2,766.6,793.6,809.3,821.1,803.9,830.0,823.1,828.7,848.9,848.6,840.9,849.4,831.8,809.8,830.5,839.1,839.1,848.1,847.3,849.6,852.0,831.5,819.1],\"yaxis\":\"y\",\"type\":\"scatter\"},{\"hovertemplate\":\"Pais=Argentina<br>Anio=%{x}<br>Produccion_Nuclear=%{y}<extra></extra>\",\"legendgroup\":\"Argentina\",\"line\":{\"color\":\"#ab63fa\",\"dash\":\"solid\"},\"marker\":{\"symbol\":\"circle\"},\"mode\":\"lines\",\"name\":\"Argentina\",\"orientation\":\"v\",\"showlegend\":true,\"x\":[1995,1996,1997,1998,1999,2000,2001,2002,2003,2004,2005,2006,2007,2008,2009,2010,2011,2012,2013,2014,2015,2016,2017,2018,2019,2020,2021],\"xaxis\":\"x\",\"y\":[7.1,7.5,8.0,7.5,7.1,6.2,7.1,5.8,7.6,7.9,6.9,7.7,7.3,7.4,8.2,7.2,6.4,6.4,6.2,5.5,7.0,8.3,6.1,6.9,8.4,10.7,10.8],\"yaxis\":\"y\",\"type\":\"scatter\"},{\"hovertemplate\":\"Pais=Brazil<br>Anio=%{x}<br>Produccion_Nuclear=%{y}<extra></extra>\",\"legendgroup\":\"Brazil\",\"line\":{\"color\":\"#FFA15A\",\"dash\":\"solid\"},\"marker\":{\"symbol\":\"circle\"},\"mode\":\"lines\",\"name\":\"Brazil\",\"orientation\":\"v\",\"showlegend\":true,\"x\":[1995,1996,1997,1998,1999,2000,2001,2002,2003,2004,2005,2006,2007,2008,2009,2010,2011,2012,2013,2014,2015,2016,2017,2018,2019,2020,2021],\"xaxis\":\"x\",\"y\":[2.5,2.4,3.2,3.3,4.0,6.0,14.3,13.8,13.4,11.6,9.9,13.8,12.3,14.0,13.0,14.5,15.7,16.0,15.4,15.4,14.7,15.9,15.7,15.7,16.1,14.1,14.7],\"yaxis\":\"y\",\"type\":\"scatter\"},{\"hovertemplate\":\"Pais=Belgium<br>Anio=%{x}<br>Produccion_Nuclear=%{y}<extra></extra>\",\"legendgroup\":\"Belgium\",\"line\":{\"color\":\"#19d3f3\",\"dash\":\"solid\"},\"marker\":{\"symbol\":\"circle\"},\"mode\":\"lines\",\"name\":\"Belgium\",\"orientation\":\"v\",\"showlegend\":true,\"x\":[1995,1996,1997,1998,1999,2000,2001,2002,2003,2004,2005,2006,2007,2008,2009,2010,2011,2012,2013,2014,2015,2016,2017,2018,2019,2020,2021],\"xaxis\":\"x\",\"y\":[41.4,43.3,47.4,46.2,49.0,48.2,46.3,47.4,47.4,47.3,47.6,46.6,48.2,45.6,47.2,47.9,48.2,40.3,42.6,33.7,26.1,43.5,42.2,28.6,43.5,34.4,50.6],\"yaxis\":\"y\",\"type\":\"scatter\"},{\"hovertemplate\":\"Pais=Bulgaria<br>Anio=%{x}<br>Produccion_Nuclear=%{y}<extra></extra>\",\"legendgroup\":\"Bulgaria\",\"line\":{\"color\":\"#FF6692\",\"dash\":\"solid\"},\"marker\":{\"symbol\":\"circle\"},\"mode\":\"lines\",\"name\":\"Bulgaria\",\"orientation\":\"v\",\"showlegend\":true,\"x\":[1995,1996,1997,1998,1999,2000,2001,2002,2003,2004,2005,2006,2007,2008,2009,2010,2011,2012,2013,2014,2015,2016,2017,2018,2019,2020,2021],\"xaxis\":\"x\",\"y\":[17.3,18.1,17.8,16.9,15.8,18.2,19.6,20.2,17.3,16.8,18.7,19.5,14.6,15.8,15.3,15.2,16.3,15.8,14.2,15.9,15.4,15.8,15.5,16.1,16.6,16.6,16.5],\"yaxis\":\"y\",\"type\":\"scatter\"},{\"hovertemplate\":\"Pais=Czechia<br>Anio=%{x}<br>Produccion_Nuclear=%{y}<extra></extra>\",\"legendgroup\":\"Czechia\",\"line\":{\"color\":\"#B6E880\",\"dash\":\"solid\"},\"marker\":{\"symbol\":\"circle\"},\"mode\":\"lines\",\"name\":\"Czechia\",\"orientation\":\"v\",\"showlegend\":true,\"x\":[1995,1996,1997,1998,1999,2000,2001,2002,2003,2004,2005,2006,2007,2008,2009,2010,2011,2012,2013,2014,2015,2016,2017,2018,2019,2020,2021],\"xaxis\":\"x\",\"y\":[12.2,12.9,12.5,13.2,13.4,13.6,14.7,18.7,25.9,26.3,24.7,26.0,26.2,26.6,27.2,28.0,28.3,30.3,30.7,30.3,26.8,24.1,28.3,29.9,30.2,30.0,30.7],\"yaxis\":\"y\",\"type\":\"scatter\"},{\"hovertemplate\":\"Pais=Finland<br>Anio=%{x}<br>Produccion_Nuclear=%{y}<extra></extra>\",\"legendgroup\":\"Finland\",\"line\":{\"color\":\"#FF97FF\",\"dash\":\"solid\"},\"marker\":{\"symbol\":\"circle\"},\"mode\":\"lines\",\"name\":\"Finland\",\"orientation\":\"v\",\"showlegend\":true,\"x\":[1995,1996,1997,1998,1999,2000,2001,2002,2003,2004,2005,2006,2007,2008,2009,2010,2011,2012,2013,2014,2015,2016,2017,2018,2019,2020,2021],\"xaxis\":\"x\",\"y\":[19.1,19.7,21.1,22.1,23.2,22.7,23.0,22.5,23.0,23.0,23.5,23.2,23.7,23.2,23.8,23.0,23.4,23.2,23.9,23.8,23.5,23.5,22.7,23.0,24.1,23.5,23.8],\"yaxis\":\"y\",\"type\":\"scatter\"},{\"hovertemplate\":\"Pais=France<br>Anio=%{x}<br>Produccion_Nuclear=%{y}<extra></extra>\",\"legendgroup\":\"France\",\"line\":{\"color\":\"#FECB52\",\"dash\":\"solid\"},\"marker\":{\"symbol\":\"circle\"},\"mode\":\"lines\",\"name\":\"France\",\"orientation\":\"v\",\"showlegend\":true,\"x\":[1995,1996,1997,1998,1999,2000,2001,2002,2003,2004,2005,2006,2007,2008,2009,2010,2011,2012,2013,2014,2015,2016,2017,2018,2019,2020,2021],\"xaxis\":\"x\",\"y\":[377.2,397.3,395.5,388.0,394.2,415.2,421.1,436.8,441.1,448.2,451.5,450.2,439.7,439.4,409.7,428.5,442.4,425.4,423.7,436.5,437.4,403.2,398.4,412.9,399.0,353.8,379.4],\"yaxis\":\"y\",\"type\":\"scatter\"},{\"hovertemplate\":\"Pais=Germany<br>Anio=%{x}<br>Produccion_Nuclear=%{y}<extra></extra>\",\"legendgroup\":\"Germany\",\"line\":{\"color\":\"#636efa\",\"dash\":\"solid\"},\"marker\":{\"symbol\":\"circle\"},\"mode\":\"lines\",\"name\":\"Germany\",\"orientation\":\"v\",\"showlegend\":true,\"x\":[1995,1996,1997,1998,1999,2000,2001,2002,2003,2004,2005,2006,2007,2008,2009,2010,2011,2012,2013,2014,2015,2016,2017,2018,2019,2020,2021],\"xaxis\":\"x\",\"y\":[154.1,161.6,170.3,161.6,170.0,169.6,171.3,164.8,165.1,167.1,163.0,167.4,140.5,148.8,134.9,140.6,108.0,99.5,97.3,97.1,91.8,84.6,76.3,76.0,75.1,64.4,69.0],\"yaxis\":\"y\",\"type\":\"scatter\"},{\"hovertemplate\":\"Pais=Hungary<br>Anio=%{x}<br>Produccion_Nuclear=%{y}<extra></extra>\",\"legendgroup\":\"Hungary\",\"line\":{\"color\":\"#EF553B\",\"dash\":\"solid\"},\"marker\":{\"symbol\":\"circle\"},\"mode\":\"lines\",\"name\":\"Hungary\",\"orientation\":\"v\",\"showlegend\":true,\"x\":[1995,1996,1997,1998,1999,2000,2001,2002,2003,2004,2005,2006,2007,2008,2009,2010,2011,2012,2013,2014,2015,2016,2017,2018,2019,2020,2021],\"xaxis\":\"x\",\"y\":[14.0,14.2,14.0,13.9,14.1,14.2,14.1,14.0,11.0,11.9,13.8,13.5,14.7,14.8,15.4,15.8,15.7,15.8,15.4,15.6,15.8,16.1,16.1,15.7,16.3,16.1,16.0],\"yaxis\":\"y\",\"type\":\"scatter\"},{\"hovertemplate\":\"Pais=Lithuania<br>Anio=%{x}<br>Produccion_Nuclear=%{y}<extra></extra>\",\"legendgroup\":\"Lithuania\",\"line\":{\"color\":\"#00cc96\",\"dash\":\"solid\"},\"marker\":{\"symbol\":\"circle\"},\"mode\":\"lines\",\"name\":\"Lithuania\",\"orientation\":\"v\",\"showlegend\":true,\"x\":[1995,1996,1997,1998,1999,2000,2001,2002,2003,2004,2005,2006,2007,2008,2009],\"xaxis\":\"x\",\"y\":[11.8,13.9,12.0,13.6,9.9,8.4,11.4,14.1,15.5,15.1,10.3,8.7,9.8,9.9,10.9],\"yaxis\":\"y\",\"type\":\"scatter\"},{\"hovertemplate\":\"Pais=Netherlands<br>Anio=%{x}<br>Produccion_Nuclear=%{y}<extra></extra>\",\"legendgroup\":\"Netherlands\",\"line\":{\"color\":\"#ab63fa\",\"dash\":\"solid\"},\"marker\":{\"symbol\":\"circle\"},\"mode\":\"lines\",\"name\":\"Netherlands\",\"orientation\":\"v\",\"showlegend\":true,\"x\":[1995,1996,1997,1998,1999,2000,2001,2002,2003,2004,2005,2006,2007,2008,2009,2010,2011,2012,2013,2014,2015,2016,2017,2018,2019,2020,2021],\"xaxis\":\"x\",\"y\":[4.0,4.2,2.4,3.8,3.8,3.9,4.0,3.9,4.0,3.8,4.0,3.5,4.2,4.2,4.2,4.0,4.1,3.9,2.9,4.1,4.1,4.0,3.4,3.5,3.9,4.1,3.8],\"yaxis\":\"y\",\"type\":\"scatter\"},{\"hovertemplate\":\"Pais=Spain<br>Anio=%{x}<br>Produccion_Nuclear=%{y}<extra></extra>\",\"legendgroup\":\"Spain\",\"line\":{\"color\":\"#FFA15A\",\"dash\":\"solid\"},\"marker\":{\"symbol\":\"circle\"},\"mode\":\"lines\",\"name\":\"Spain\",\"orientation\":\"v\",\"showlegend\":true,\"x\":[1995,1996,1997,1998,1999,2000,2001,2002,2003,2004,2005,2006,2007,2008,2009,2010,2011,2012,2013,2014,2015,2016,2017,2018,2019,2020,2021],\"xaxis\":\"x\",\"y\":[55.5,56.3,55.3,59.0,58.9,62.2,63.7,63.0,61.9,63.6,57.5,60.1,55.1,59.0,52.8,61.6,57.7,61.5,56.7,57.3,57.3,58.6,58.1,55.8,58.3,58.3,56.5],\"yaxis\":\"y\",\"type\":\"scatter\"},{\"hovertemplate\":\"Pais=Sweden<br>Anio=%{x}<br>Produccion_Nuclear=%{y}<extra></extra>\",\"legendgroup\":\"Sweden\",\"line\":{\"color\":\"#19d3f3\",\"dash\":\"solid\"},\"marker\":{\"symbol\":\"circle\"},\"mode\":\"lines\",\"name\":\"Sweden\",\"orientation\":\"v\",\"showlegend\":true,\"x\":[1995,1996,1997,1998,1999,2000,2001,2002,2003,2004,2005,2006,2007,2008,2009,2010,2011,2012,2013,2014,2015,2016,2017,2018,2019,2020,2021],\"xaxis\":\"x\",\"y\":[69.9,74.3,69.9,73.6,73.2,57.3,72.1,68.1,67.4,77.7,72.7,67.0,67.0,63.9,52.2,57.7,60.5,64.0,66.5,64.9,56.3,63.1,65.7,68.5,66.1,49.2,53.1],\"yaxis\":\"y\",\"type\":\"scatter\"},{\"hovertemplate\":\"Pais=Switzerland<br>Anio=%{x}<br>Produccion_Nuclear=%{y}<extra></extra>\",\"legendgroup\":\"Switzerland\",\"line\":{\"color\":\"#FF6692\",\"dash\":\"solid\"},\"marker\":{\"symbol\":\"circle\"},\"mode\":\"lines\",\"name\":\"Switzerland\",\"orientation\":\"v\",\"showlegend\":true,\"x\":[1995,1996,1997,1998,1999,2000,2001,2002,2003,2004,2005,2006,2007,2008,2009,2010,2011,2012,2013,2014,2015,2016,2017,2018,2019,2020,2021],\"xaxis\":\"x\",\"y\":[24.7,25.0,25.2,25.7,24.8,26.3,26.6,27.0,27.3,26.8,23.2,27.6,27.7,27.5,27.5,26.5,26.9,25.6,26.2,27.8,23.3,21.3,20.5,24.4,25.3,23.0,18.5],\"yaxis\":\"y\",\"type\":\"scatter\"},{\"hovertemplate\":\"Pais=Ukraine<br>Anio=%{x}<br>Produccion_Nuclear=%{y}<extra></extra>\",\"legendgroup\":\"Ukraine\",\"line\":{\"color\":\"#B6E880\",\"dash\":\"solid\"},\"marker\":{\"symbol\":\"circle\"},\"mode\":\"lines\",\"name\":\"Ukraine\",\"orientation\":\"v\",\"showlegend\":true,\"x\":[1995,1996,1997,1998,1999,2000,2001,2002,2003,2004,2005,2006,2007,2008,2009,2010,2011,2012,2013,2014,2015,2016,2017,2018,2019,2020,2021],\"xaxis\":\"x\",\"y\":[70.5,79.6,79.4,75.2,72.1,77.3,76.2,78.0,81.4,87.0,88.8,90.2,92.5,89.8,82.9,89.2,90.2,90.1,83.2,88.4,87.6,81.0,85.6,84.4,83.0,76.2,86.2],\"yaxis\":\"y\",\"type\":\"scatter\"},{\"hovertemplate\":\"Pais=United Kingdom<br>Anio=%{x}<br>Produccion_Nuclear=%{y}<extra></extra>\",\"legendgroup\":\"United Kingdom\",\"line\":{\"color\":\"#FF97FF\",\"dash\":\"solid\"},\"marker\":{\"symbol\":\"circle\"},\"mode\":\"lines\",\"name\":\"United Kingdom\",\"orientation\":\"v\",\"showlegend\":true,\"x\":[1995,1996,1997,1998,1999,2000,2001,2002,2003,2004,2005,2006,2007,2008,2009,2010,2011,2012,2013,2014,2015,2016,2017,2018,2019,2020,2021],\"xaxis\":\"x\",\"y\":[89.0,94.7,98.1,99.5,95.1,85.1,90.1,87.8,88.7,80.0,81.6,75.5,63.0,52.5,69.1,62.1,69.0,70.4,70.6,63.7,70.3,71.7,70.3,65.1,56.2,50.3,45.9],\"yaxis\":\"y\",\"type\":\"scatter\"},{\"hovertemplate\":\"Pais=Kazakhstan<br>Anio=%{x}<br>Produccion_Nuclear=%{y}<extra></extra>\",\"legendgroup\":\"Kazakhstan\",\"line\":{\"color\":\"#FECB52\",\"dash\":\"solid\"},\"marker\":{\"symbol\":\"circle\"},\"mode\":\"lines\",\"name\":\"Kazakhstan\",\"orientation\":\"v\",\"showlegend\":true,\"x\":[1995,1996,1997,1998],\"xaxis\":\"x\",\"y\":[0.1,0.1,0.3,0.1],\"yaxis\":\"y\",\"type\":\"scatter\"},{\"hovertemplate\":\"Pais=Russia<br>Anio=%{x}<br>Produccion_Nuclear=%{y}<extra></extra>\",\"legendgroup\":\"Russia\",\"line\":{\"color\":\"#636efa\",\"dash\":\"solid\"},\"marker\":{\"symbol\":\"circle\"},\"mode\":\"lines\",\"name\":\"Russia\",\"orientation\":\"v\",\"showlegend\":true,\"x\":[1995,1996,1997,1998,1999,2000,2001,2002,2003,2004,2005,2006,2007,2008,2009,2010,2011,2012,2013,2014,2015,2016,2017,2018,2019,2020,2021],\"xaxis\":\"x\",\"y\":[99.5,109.0,108.5,103.7,121.9,130.7,136.9,141.6,150.3,144.7,149.4,156.4,160.1,163.1,163.6,170.4,172.9,177.5,172.5,180.8,195.5,196.6,203.1,204.6,209.0,215.9,222.4],\"yaxis\":\"y\",\"type\":\"scatter\"},{\"hovertemplate\":\"Pais=Other CIS (BP)<br>Anio=%{x}<br>Produccion_Nuclear=%{y}<extra></extra>\",\"legendgroup\":\"Other CIS (BP)\",\"line\":{\"color\":\"#EF553B\",\"dash\":\"solid\"},\"marker\":{\"symbol\":\"circle\"},\"mode\":\"lines\",\"name\":\"Other CIS (BP)\",\"orientation\":\"v\",\"showlegend\":true,\"x\":[1995,1996,1997,1998,1999,2000,2001,2002,2003,2004,2005,2006,2007,2008,2009,2010,2011,2012,2013,2014,2015,2016,2017,2018,2019,2020,2021],\"xaxis\":\"x\",\"y\":[0.3,2.3,1.6,1.6,2.1,2.0,2.0,2.3,2.0,2.2,2.7,2.6,2.6,2.5,2.5,2.5,2.5,2.3,2.4,2.5,2.8,2.4,2.6,2.1,2.2,2.8,2.0],\"yaxis\":\"y\",\"type\":\"scatter\"},{\"hovertemplate\":\"Pais=South Africa<br>Anio=%{x}<br>Produccion_Nuclear=%{y}<extra></extra>\",\"legendgroup\":\"South Africa\",\"line\":{\"color\":\"#00cc96\",\"dash\":\"solid\"},\"marker\":{\"symbol\":\"circle\"},\"mode\":\"lines\",\"name\":\"South Africa\",\"orientation\":\"v\",\"showlegend\":true,\"x\":[1995,1996,1997,1998,1999,2000,2001,2002,2003,2004,2005,2006,2007,2008,2009,2010,2011,2012,2013,2014,2015,2016,2017,2018,2019,2020,2021],\"xaxis\":\"x\",\"y\":[11.3,11.8,12.6,13.6,12.8,13.0,10.7,12.0,12.7,13.4,11.3,10.0,11.3,13.0,12.8,13.5,12.9,13.0,14.1,13.8,12.2,15.0,14.2,11.6,13.6,13.9,10.4],\"yaxis\":\"y\",\"type\":\"scatter\"},{\"hovertemplate\":\"Pais=China<br>Anio=%{x}<br>Produccion_Nuclear=%{y}<extra></extra>\",\"legendgroup\":\"China\",\"line\":{\"color\":\"#ab63fa\",\"dash\":\"solid\"},\"marker\":{\"symbol\":\"circle\"},\"mode\":\"lines\",\"name\":\"China\",\"orientation\":\"v\",\"showlegend\":true,\"x\":[1995,1996,1997,1998,1999,2000,2001,2002,2003,2004,2005,2006,2007,2008,2009,2010,2011,2012,2013,2014,2015,2016,2017,2018,2019,2020,2021],\"xaxis\":\"x\",\"y\":[12.8,14.3,14.4,14.1,14.9,16.7,17.5,25.1,43.3,50.5,53.1,54.8,62.1,68.4,70.1,74.7,87.2,98.3,111.5,133.2,171.4,213.2,248.1,295.0,348.7,366.2,407.5],\"yaxis\":\"y\",\"type\":\"scatter\"},{\"hovertemplate\":\"Pais=India<br>Anio=%{x}<br>Produccion_Nuclear=%{y}<extra></extra>\",\"legendgroup\":\"India\",\"line\":{\"color\":\"#FFA15A\",\"dash\":\"solid\"},\"marker\":{\"symbol\":\"circle\"},\"mode\":\"lines\",\"name\":\"India\",\"orientation\":\"v\",\"showlegend\":true,\"x\":[1995,1996,1997,1998,1999,2000,2001,2002,2003,2004,2005,2006,2007,2008,2009,2010,2011,2012,2013,2014,2015,2016,2017,2018,2019,2020,2021],\"xaxis\":\"x\",\"y\":[7.6,8.4,10.1,11.4,12.7,15.8,18.9,19.4,18.1,21.3,17.7,17.6,17.8,15.2,16.8,23.1,32.2,33.1,33.3,34.7,38.3,37.9,37.4,39.1,45.2,44.6,43.9],\"yaxis\":\"y\",\"type\":\"scatter\"},{\"hovertemplate\":\"Pais=Japan<br>Anio=%{x}<br>Produccion_Nuclear=%{y}<extra></extra>\",\"legendgroup\":\"Japan\",\"line\":{\"color\":\"#19d3f3\",\"dash\":\"solid\"},\"marker\":{\"symbol\":\"circle\"},\"mode\":\"lines\",\"name\":\"Japan\",\"orientation\":\"v\",\"showlegend\":true,\"x\":[1995,1996,1997,1998,1999,2000,2001,2002,2003,2004,2005,2006,2007,2008,2009,2010,2011,2012,2013,2015,2016,2017,2018,2019,2020,2021],\"xaxis\":\"x\",\"y\":[286.9,296.5,321.2,326.0,317.2,319.1,320.5,314.3,230.1,285.9,293.0,304.3,279.0,251.7,274.7,292.4,162.9,18.0,14.6,4.5,17.7,29.1,49.1,65.6,43.0,61.2],\"yaxis\":\"y\",\"type\":\"scatter\"},{\"hovertemplate\":\"Pais=Pakistan<br>Anio=%{x}<br>Produccion_Nuclear=%{y}<extra></extra>\",\"legendgroup\":\"Pakistan\",\"line\":{\"color\":\"#FF6692\",\"dash\":\"solid\"},\"marker\":{\"symbol\":\"circle\"},\"mode\":\"lines\",\"name\":\"Pakistan\",\"orientation\":\"v\",\"showlegend\":true,\"x\":[1995,1996,1997,1998,1999,2000,2001,2002,2003,2004,2005,2006,2007,2008,2009,2010,2011,2012,2013,2014,2015,2016,2017,2018,2019,2020,2021],\"xaxis\":\"x\",\"y\":[0.5,0.3,0.5,0.4,0.1,0.9,2.1,1.9,1.9,2.4,2.5,2.5,2.3,1.7,2.5,2.5,3.9,2.7,4.3,4.7,4.3,5.3,8.1,9.2,9.2,9.5,15.9],\"yaxis\":\"y\",\"type\":\"scatter\"},{\"hovertemplate\":\"Pais=South Korea<br>Anio=%{x}<br>Produccion_Nuclear=%{y}<extra></extra>\",\"legendgroup\":\"South Korea\",\"line\":{\"color\":\"#B6E880\",\"dash\":\"solid\"},\"marker\":{\"symbol\":\"circle\"},\"mode\":\"lines\",\"name\":\"South Korea\",\"orientation\":\"v\",\"showlegend\":true,\"x\":[1995,1996,1997,1998,1999,2000,2001,2002,2003,2004,2005,2006,2007,2008,2009,2010,2011,2012,2013,2014,2015,2016,2017,2018,2019,2020,2021],\"xaxis\":\"x\",\"y\":[67.0,73.9,77.1,89.7,103.1,109.0,112.1,119.1,129.7,130.7,146.8,148.7,142.9,151.0,147.8,148.6,154.7,150.3,138.8,156.4,164.8,162.0,148.4,133.5,145.9,160.2,158.0],\"yaxis\":\"y\",\"type\":\"scatter\"},{\"hovertemplate\":\"Pais=Taiwan<br>Anio=%{x}<br>Produccion_Nuclear=%{y}<extra></extra>\",\"legendgroup\":\"Taiwan\",\"line\":{\"color\":\"#FF97FF\",\"dash\":\"solid\"},\"marker\":{\"symbol\":\"circle\"},\"mode\":\"lines\",\"name\":\"Taiwan\",\"orientation\":\"v\",\"showlegend\":true,\"x\":[1995,1996,1997,1998,1999,2000,2001,2002,2003,2004,2005,2006,2007,2008,2009,2010,2011,2012,2013,2014,2015,2016,2017,2018,2019,2020,2021],\"xaxis\":\"x\",\"y\":[35.3,37.8,36.3,36.9,38.0,38.5,35.5,39.6,38.9,39.5,40.0,39.9,40.5,40.8,41.6,41.6,42.1,40.4,41.6,42.4,36.5,31.7,22.4,27.7,32.3,31.4,27.8],\"yaxis\":\"y\",\"type\":\"scatter\"},{\"hovertemplate\":\"Pais=Romania<br>Anio=%{x}<br>Produccion_Nuclear=%{y}<extra></extra>\",\"legendgroup\":\"Romania\",\"line\":{\"color\":\"#FECB52\",\"dash\":\"solid\"},\"marker\":{\"symbol\":\"circle\"},\"mode\":\"lines\",\"name\":\"Romania\",\"orientation\":\"v\",\"showlegend\":true,\"x\":[1996,1997,1998,1999,2000,2001,2002,2003,2004,2005,2006,2007,2008,2009,2010,2011,2012,2013,2014,2015,2016,2017,2018,2019,2020,2021],\"xaxis\":\"x\",\"y\":[1.4,5.4,5.3,5.2,5.5,5.4,5.5,4.9,5.5,5.6,5.6,7.7,11.2,11.8,11.6,11.7,11.5,11.6,11.7,11.6,11.3,11.5,11.4,11.3,11.5,11.3],\"yaxis\":\"y\",\"type\":\"scatter\"},{\"hovertemplate\":\"Pais=Iran<br>Anio=%{x}<br>Produccion_Nuclear=%{y}<extra></extra>\",\"legendgroup\":\"Iran\",\"line\":{\"color\":\"#636efa\",\"dash\":\"solid\"},\"marker\":{\"symbol\":\"circle\"},\"mode\":\"lines\",\"name\":\"Iran\",\"orientation\":\"v\",\"showlegend\":true,\"x\":[2011,2012,2013,2014,2015,2016,2017,2018,2019,2020,2021],\"xaxis\":\"x\",\"y\":[0.1,1.5,4.3,4.1,3.5,6.5,7.0,6.9,6.4,6.3,3.5],\"yaxis\":\"y\",\"type\":\"scatter\"},{\"hovertemplate\":\"Pais=Belarus<br>Anio=%{x}<br>Produccion_Nuclear=%{y}<extra></extra>\",\"legendgroup\":\"Belarus\",\"line\":{\"color\":\"#EF553B\",\"dash\":\"solid\"},\"marker\":{\"symbol\":\"circle\"},\"mode\":\"lines\",\"name\":\"Belarus\",\"orientation\":\"v\",\"showlegend\":true,\"x\":[2020,2021],\"xaxis\":\"x\",\"y\":[0.3,5.8],\"yaxis\":\"y\",\"type\":\"scatter\"}],                        {\"template\":{\"data\":{\"bar\":[{\"error_x\":{\"color\":\"#2a3f5f\"},\"error_y\":{\"color\":\"#2a3f5f\"},\"marker\":{\"line\":{\"color\":\"#E5ECF6\",\"width\":0.5},\"pattern\":{\"fillmode\":\"overlay\",\"size\":10,\"solidity\":0.2}},\"type\":\"bar\"}],\"barpolar\":[{\"marker\":{\"line\":{\"color\":\"#E5ECF6\",\"width\":0.5},\"pattern\":{\"fillmode\":\"overlay\",\"size\":10,\"solidity\":0.2}},\"type\":\"barpolar\"}],\"carpet\":[{\"aaxis\":{\"endlinecolor\":\"#2a3f5f\",\"gridcolor\":\"white\",\"linecolor\":\"white\",\"minorgridcolor\":\"white\",\"startlinecolor\":\"#2a3f5f\"},\"baxis\":{\"endlinecolor\":\"#2a3f5f\",\"gridcolor\":\"white\",\"linecolor\":\"white\",\"minorgridcolor\":\"white\",\"startlinecolor\":\"#2a3f5f\"},\"type\":\"carpet\"}],\"choropleth\":[{\"colorbar\":{\"outlinewidth\":0,\"ticks\":\"\"},\"type\":\"choropleth\"}],\"contour\":[{\"colorbar\":{\"outlinewidth\":0,\"ticks\":\"\"},\"colorscale\":[[0.0,\"#0d0887\"],[0.1111111111111111,\"#46039f\"],[0.2222222222222222,\"#7201a8\"],[0.3333333333333333,\"#9c179e\"],[0.4444444444444444,\"#bd3786\"],[0.5555555555555556,\"#d8576b\"],[0.6666666666666666,\"#ed7953\"],[0.7777777777777778,\"#fb9f3a\"],[0.8888888888888888,\"#fdca26\"],[1.0,\"#f0f921\"]],\"type\":\"contour\"}],\"contourcarpet\":[{\"colorbar\":{\"outlinewidth\":0,\"ticks\":\"\"},\"type\":\"contourcarpet\"}],\"heatmap\":[{\"colorbar\":{\"outlinewidth\":0,\"ticks\":\"\"},\"colorscale\":[[0.0,\"#0d0887\"],[0.1111111111111111,\"#46039f\"],[0.2222222222222222,\"#7201a8\"],[0.3333333333333333,\"#9c179e\"],[0.4444444444444444,\"#bd3786\"],[0.5555555555555556,\"#d8576b\"],[0.6666666666666666,\"#ed7953\"],[0.7777777777777778,\"#fb9f3a\"],[0.8888888888888888,\"#fdca26\"],[1.0,\"#f0f921\"]],\"type\":\"heatmap\"}],\"heatmapgl\":[{\"colorbar\":{\"outlinewidth\":0,\"ticks\":\"\"},\"colorscale\":[[0.0,\"#0d0887\"],[0.1111111111111111,\"#46039f\"],[0.2222222222222222,\"#7201a8\"],[0.3333333333333333,\"#9c179e\"],[0.4444444444444444,\"#bd3786\"],[0.5555555555555556,\"#d8576b\"],[0.6666666666666666,\"#ed7953\"],[0.7777777777777778,\"#fb9f3a\"],[0.8888888888888888,\"#fdca26\"],[1.0,\"#f0f921\"]],\"type\":\"heatmapgl\"}],\"histogram\":[{\"marker\":{\"pattern\":{\"fillmode\":\"overlay\",\"size\":10,\"solidity\":0.2}},\"type\":\"histogram\"}],\"histogram2d\":[{\"colorbar\":{\"outlinewidth\":0,\"ticks\":\"\"},\"colorscale\":[[0.0,\"#0d0887\"],[0.1111111111111111,\"#46039f\"],[0.2222222222222222,\"#7201a8\"],[0.3333333333333333,\"#9c179e\"],[0.4444444444444444,\"#bd3786\"],[0.5555555555555556,\"#d8576b\"],[0.6666666666666666,\"#ed7953\"],[0.7777777777777778,\"#fb9f3a\"],[0.8888888888888888,\"#fdca26\"],[1.0,\"#f0f921\"]],\"type\":\"histogram2d\"}],\"histogram2dcontour\":[{\"colorbar\":{\"outlinewidth\":0,\"ticks\":\"\"},\"colorscale\":[[0.0,\"#0d0887\"],[0.1111111111111111,\"#46039f\"],[0.2222222222222222,\"#7201a8\"],[0.3333333333333333,\"#9c179e\"],[0.4444444444444444,\"#bd3786\"],[0.5555555555555556,\"#d8576b\"],[0.6666666666666666,\"#ed7953\"],[0.7777777777777778,\"#fb9f3a\"],[0.8888888888888888,\"#fdca26\"],[1.0,\"#f0f921\"]],\"type\":\"histogram2dcontour\"}],\"mesh3d\":[{\"colorbar\":{\"outlinewidth\":0,\"ticks\":\"\"},\"type\":\"mesh3d\"}],\"parcoords\":[{\"line\":{\"colorbar\":{\"outlinewidth\":0,\"ticks\":\"\"}},\"type\":\"parcoords\"}],\"pie\":[{\"automargin\":true,\"type\":\"pie\"}],\"scatter\":[{\"marker\":{\"colorbar\":{\"outlinewidth\":0,\"ticks\":\"\"}},\"type\":\"scatter\"}],\"scatter3d\":[{\"line\":{\"colorbar\":{\"outlinewidth\":0,\"ticks\":\"\"}},\"marker\":{\"colorbar\":{\"outlinewidth\":0,\"ticks\":\"\"}},\"type\":\"scatter3d\"}],\"scattercarpet\":[{\"marker\":{\"colorbar\":{\"outlinewidth\":0,\"ticks\":\"\"}},\"type\":\"scattercarpet\"}],\"scattergeo\":[{\"marker\":{\"colorbar\":{\"outlinewidth\":0,\"ticks\":\"\"}},\"type\":\"scattergeo\"}],\"scattergl\":[{\"marker\":{\"colorbar\":{\"outlinewidth\":0,\"ticks\":\"\"}},\"type\":\"scattergl\"}],\"scattermapbox\":[{\"marker\":{\"colorbar\":{\"outlinewidth\":0,\"ticks\":\"\"}},\"type\":\"scattermapbox\"}],\"scatterpolar\":[{\"marker\":{\"colorbar\":{\"outlinewidth\":0,\"ticks\":\"\"}},\"type\":\"scatterpolar\"}],\"scatterpolargl\":[{\"marker\":{\"colorbar\":{\"outlinewidth\":0,\"ticks\":\"\"}},\"type\":\"scatterpolargl\"}],\"scatterternary\":[{\"marker\":{\"colorbar\":{\"outlinewidth\":0,\"ticks\":\"\"}},\"type\":\"scatterternary\"}],\"surface\":[{\"colorbar\":{\"outlinewidth\":0,\"ticks\":\"\"},\"colorscale\":[[0.0,\"#0d0887\"],[0.1111111111111111,\"#46039f\"],[0.2222222222222222,\"#7201a8\"],[0.3333333333333333,\"#9c179e\"],[0.4444444444444444,\"#bd3786\"],[0.5555555555555556,\"#d8576b\"],[0.6666666666666666,\"#ed7953\"],[0.7777777777777778,\"#fb9f3a\"],[0.8888888888888888,\"#fdca26\"],[1.0,\"#f0f921\"]],\"type\":\"surface\"}],\"table\":[{\"cells\":{\"fill\":{\"color\":\"#EBF0F8\"},\"line\":{\"color\":\"white\"}},\"header\":{\"fill\":{\"color\":\"#C8D4E3\"},\"line\":{\"color\":\"white\"}},\"type\":\"table\"}]},\"layout\":{\"annotationdefaults\":{\"arrowcolor\":\"#2a3f5f\",\"arrowhead\":0,\"arrowwidth\":1},\"autotypenumbers\":\"strict\",\"coloraxis\":{\"colorbar\":{\"outlinewidth\":0,\"ticks\":\"\"}},\"colorscale\":{\"diverging\":[[0,\"#8e0152\"],[0.1,\"#c51b7d\"],[0.2,\"#de77ae\"],[0.3,\"#f1b6da\"],[0.4,\"#fde0ef\"],[0.5,\"#f7f7f7\"],[0.6,\"#e6f5d0\"],[0.7,\"#b8e186\"],[0.8,\"#7fbc41\"],[0.9,\"#4d9221\"],[1,\"#276419\"]],\"sequential\":[[0.0,\"#0d0887\"],[0.1111111111111111,\"#46039f\"],[0.2222222222222222,\"#7201a8\"],[0.3333333333333333,\"#9c179e\"],[0.4444444444444444,\"#bd3786\"],[0.5555555555555556,\"#d8576b\"],[0.6666666666666666,\"#ed7953\"],[0.7777777777777778,\"#fb9f3a\"],[0.8888888888888888,\"#fdca26\"],[1.0,\"#f0f921\"]],\"sequentialminus\":[[0.0,\"#0d0887\"],[0.1111111111111111,\"#46039f\"],[0.2222222222222222,\"#7201a8\"],[0.3333333333333333,\"#9c179e\"],[0.4444444444444444,\"#bd3786\"],[0.5555555555555556,\"#d8576b\"],[0.6666666666666666,\"#ed7953\"],[0.7777777777777778,\"#fb9f3a\"],[0.8888888888888888,\"#fdca26\"],[1.0,\"#f0f921\"]]},\"colorway\":[\"#636efa\",\"#EF553B\",\"#00cc96\",\"#ab63fa\",\"#FFA15A\",\"#19d3f3\",\"#FF6692\",\"#B6E880\",\"#FF97FF\",\"#FECB52\"],\"font\":{\"color\":\"#2a3f5f\"},\"geo\":{\"bgcolor\":\"white\",\"lakecolor\":\"white\",\"landcolor\":\"#E5ECF6\",\"showlakes\":true,\"showland\":true,\"subunitcolor\":\"white\"},\"hoverlabel\":{\"align\":\"left\"},\"hovermode\":\"closest\",\"mapbox\":{\"style\":\"light\"},\"paper_bgcolor\":\"white\",\"plot_bgcolor\":\"#E5ECF6\",\"polar\":{\"angularaxis\":{\"gridcolor\":\"white\",\"linecolor\":\"white\",\"ticks\":\"\"},\"bgcolor\":\"#E5ECF6\",\"radialaxis\":{\"gridcolor\":\"white\",\"linecolor\":\"white\",\"ticks\":\"\"}},\"scene\":{\"xaxis\":{\"backgroundcolor\":\"#E5ECF6\",\"gridcolor\":\"white\",\"gridwidth\":2,\"linecolor\":\"white\",\"showbackground\":true,\"ticks\":\"\",\"zerolinecolor\":\"white\"},\"yaxis\":{\"backgroundcolor\":\"#E5ECF6\",\"gridcolor\":\"white\",\"gridwidth\":2,\"linecolor\":\"white\",\"showbackground\":true,\"ticks\":\"\",\"zerolinecolor\":\"white\"},\"zaxis\":{\"backgroundcolor\":\"#E5ECF6\",\"gridcolor\":\"white\",\"gridwidth\":2,\"linecolor\":\"white\",\"showbackground\":true,\"ticks\":\"\",\"zerolinecolor\":\"white\"}},\"shapedefaults\":{\"line\":{\"color\":\"#2a3f5f\"}},\"ternary\":{\"aaxis\":{\"gridcolor\":\"white\",\"linecolor\":\"white\",\"ticks\":\"\"},\"baxis\":{\"gridcolor\":\"white\",\"linecolor\":\"white\",\"ticks\":\"\"},\"bgcolor\":\"#E5ECF6\",\"caxis\":{\"gridcolor\":\"white\",\"linecolor\":\"white\",\"ticks\":\"\"}},\"title\":{\"x\":0.05},\"xaxis\":{\"automargin\":true,\"gridcolor\":\"white\",\"linecolor\":\"white\",\"ticks\":\"\",\"title\":{\"standoff\":15},\"zerolinecolor\":\"white\",\"zerolinewidth\":2},\"yaxis\":{\"automargin\":true,\"gridcolor\":\"white\",\"linecolor\":\"white\",\"ticks\":\"\",\"title\":{\"standoff\":15},\"zerolinecolor\":\"white\",\"zerolinewidth\":2}}},\"xaxis\":{\"anchor\":\"y\",\"domain\":[0.0,1.0],\"title\":{\"text\":\"Anio\"}},\"yaxis\":{\"anchor\":\"x\",\"domain\":[0.0,1.0],\"title\":{\"text\":\"Produccion_Nuclear\"}},\"legend\":{\"title\":{\"text\":\"Pais\"},\"tracegroupgap\":0},\"margin\":{\"t\":60}},                        {\"responsive\": true}                    ).then(function(){\n",
              "                            \n",
              "var gd = document.getElementById('5fe519e4-588b-4e77-9fd1-fc462d7181ff');\n",
              "var x = new MutationObserver(function (mutations, observer) {{\n",
              "        var display = window.getComputedStyle(gd).display;\n",
              "        if (!display || display === 'none') {{\n",
              "            console.log([gd, 'removed!']);\n",
              "            Plotly.purge(gd);\n",
              "            observer.disconnect();\n",
              "        }}\n",
              "}});\n",
              "\n",
              "// Listen for the removal of the full notebook cells\n",
              "var notebookContainer = gd.closest('#notebook-container');\n",
              "if (notebookContainer) {{\n",
              "    x.observe(notebookContainer, {childList: true});\n",
              "}}\n",
              "\n",
              "// Listen for the clearing of the current output cell\n",
              "var outputEl = gd.closest('.output');\n",
              "if (outputEl) {{\n",
              "    x.observe(outputEl, {childList: true});\n",
              "}}\n",
              "\n",
              "                        })                };                            </script>        </div>\n",
              "</body>\n",
              "</html>"
            ]
          },
          "metadata": {}
        }
      ]
    },
    {
      "cell_type": "code",
      "source": [
        "paises"
      ],
      "metadata": {
        "colab": {
          "base_uri": "https://localhost:8080/",
          "height": 424
        },
        "id": "Bi-IfMfWjQl2",
        "outputId": "e5ced6da-d78f-4a99-942f-854085d2cb71"
      },
      "execution_count": 100,
      "outputs": [
        {
          "output_type": "execute_result",
          "data": {
            "text/plain": [
              "     Id_Pais Codigo_pais            Pais\n",
              "0          1         AFG     Afghanistan\n",
              "1          2           0          Africa\n",
              "2          3           0     Africa (BP)\n",
              "3          4           0  Africa (Shift)\n",
              "4          5         ALB         Albania\n",
              "..       ...         ...             ...\n",
              "309      310           0           World\n",
              "310      311         YEM           Yemen\n",
              "311      312           0      Yugoslavia\n",
              "312      313         ZMB          Zambia\n",
              "313      314         ZWE        Zimbabwe\n",
              "\n",
              "[314 rows x 3 columns]"
            ],
            "text/html": [
              "\n",
              "  <div id=\"df-445e120f-a85c-4998-9947-df38686a728b\">\n",
              "    <div class=\"colab-df-container\">\n",
              "      <div>\n",
              "<style scoped>\n",
              "    .dataframe tbody tr th:only-of-type {\n",
              "        vertical-align: middle;\n",
              "    }\n",
              "\n",
              "    .dataframe tbody tr th {\n",
              "        vertical-align: top;\n",
              "    }\n",
              "\n",
              "    .dataframe thead th {\n",
              "        text-align: right;\n",
              "    }\n",
              "</style>\n",
              "<table border=\"1\" class=\"dataframe\">\n",
              "  <thead>\n",
              "    <tr style=\"text-align: right;\">\n",
              "      <th></th>\n",
              "      <th>Id_Pais</th>\n",
              "      <th>Codigo_pais</th>\n",
              "      <th>Pais</th>\n",
              "    </tr>\n",
              "  </thead>\n",
              "  <tbody>\n",
              "    <tr>\n",
              "      <th>0</th>\n",
              "      <td>1</td>\n",
              "      <td>AFG</td>\n",
              "      <td>Afghanistan</td>\n",
              "    </tr>\n",
              "    <tr>\n",
              "      <th>1</th>\n",
              "      <td>2</td>\n",
              "      <td>0</td>\n",
              "      <td>Africa</td>\n",
              "    </tr>\n",
              "    <tr>\n",
              "      <th>2</th>\n",
              "      <td>3</td>\n",
              "      <td>0</td>\n",
              "      <td>Africa (BP)</td>\n",
              "    </tr>\n",
              "    <tr>\n",
              "      <th>3</th>\n",
              "      <td>4</td>\n",
              "      <td>0</td>\n",
              "      <td>Africa (Shift)</td>\n",
              "    </tr>\n",
              "    <tr>\n",
              "      <th>4</th>\n",
              "      <td>5</td>\n",
              "      <td>ALB</td>\n",
              "      <td>Albania</td>\n",
              "    </tr>\n",
              "    <tr>\n",
              "      <th>...</th>\n",
              "      <td>...</td>\n",
              "      <td>...</td>\n",
              "      <td>...</td>\n",
              "    </tr>\n",
              "    <tr>\n",
              "      <th>309</th>\n",
              "      <td>310</td>\n",
              "      <td>0</td>\n",
              "      <td>World</td>\n",
              "    </tr>\n",
              "    <tr>\n",
              "      <th>310</th>\n",
              "      <td>311</td>\n",
              "      <td>YEM</td>\n",
              "      <td>Yemen</td>\n",
              "    </tr>\n",
              "    <tr>\n",
              "      <th>311</th>\n",
              "      <td>312</td>\n",
              "      <td>0</td>\n",
              "      <td>Yugoslavia</td>\n",
              "    </tr>\n",
              "    <tr>\n",
              "      <th>312</th>\n",
              "      <td>313</td>\n",
              "      <td>ZMB</td>\n",
              "      <td>Zambia</td>\n",
              "    </tr>\n",
              "    <tr>\n",
              "      <th>313</th>\n",
              "      <td>314</td>\n",
              "      <td>ZWE</td>\n",
              "      <td>Zimbabwe</td>\n",
              "    </tr>\n",
              "  </tbody>\n",
              "</table>\n",
              "<p>314 rows × 3 columns</p>\n",
              "</div>\n",
              "      <button class=\"colab-df-convert\" onclick=\"convertToInteractive('df-445e120f-a85c-4998-9947-df38686a728b')\"\n",
              "              title=\"Convert this dataframe to an interactive table.\"\n",
              "              style=\"display:none;\">\n",
              "        \n",
              "  <svg xmlns=\"http://www.w3.org/2000/svg\" height=\"24px\"viewBox=\"0 0 24 24\"\n",
              "       width=\"24px\">\n",
              "    <path d=\"M0 0h24v24H0V0z\" fill=\"none\"/>\n",
              "    <path d=\"M18.56 5.44l.94 2.06.94-2.06 2.06-.94-2.06-.94-.94-2.06-.94 2.06-2.06.94zm-11 1L8.5 8.5l.94-2.06 2.06-.94-2.06-.94L8.5 2.5l-.94 2.06-2.06.94zm10 10l.94 2.06.94-2.06 2.06-.94-2.06-.94-.94-2.06-.94 2.06-2.06.94z\"/><path d=\"M17.41 7.96l-1.37-1.37c-.4-.4-.92-.59-1.43-.59-.52 0-1.04.2-1.43.59L10.3 9.45l-7.72 7.72c-.78.78-.78 2.05 0 2.83L4 21.41c.39.39.9.59 1.41.59.51 0 1.02-.2 1.41-.59l7.78-7.78 2.81-2.81c.8-.78.8-2.07 0-2.86zM5.41 20L4 18.59l7.72-7.72 1.47 1.35L5.41 20z\"/>\n",
              "  </svg>\n",
              "      </button>\n",
              "      \n",
              "  <style>\n",
              "    .colab-df-container {\n",
              "      display:flex;\n",
              "      flex-wrap:wrap;\n",
              "      gap: 12px;\n",
              "    }\n",
              "\n",
              "    .colab-df-convert {\n",
              "      background-color: #E8F0FE;\n",
              "      border: none;\n",
              "      border-radius: 50%;\n",
              "      cursor: pointer;\n",
              "      display: none;\n",
              "      fill: #1967D2;\n",
              "      height: 32px;\n",
              "      padding: 0 0 0 0;\n",
              "      width: 32px;\n",
              "    }\n",
              "\n",
              "    .colab-df-convert:hover {\n",
              "      background-color: #E2EBFA;\n",
              "      box-shadow: 0px 1px 2px rgba(60, 64, 67, 0.3), 0px 1px 3px 1px rgba(60, 64, 67, 0.15);\n",
              "      fill: #174EA6;\n",
              "    }\n",
              "\n",
              "    [theme=dark] .colab-df-convert {\n",
              "      background-color: #3B4455;\n",
              "      fill: #D2E3FC;\n",
              "    }\n",
              "\n",
              "    [theme=dark] .colab-df-convert:hover {\n",
              "      background-color: #434B5C;\n",
              "      box-shadow: 0px 1px 3px 1px rgba(0, 0, 0, 0.15);\n",
              "      filter: drop-shadow(0px 1px 2px rgba(0, 0, 0, 0.3));\n",
              "      fill: #FFFFFF;\n",
              "    }\n",
              "  </style>\n",
              "\n",
              "      <script>\n",
              "        const buttonEl =\n",
              "          document.querySelector('#df-445e120f-a85c-4998-9947-df38686a728b button.colab-df-convert');\n",
              "        buttonEl.style.display =\n",
              "          google.colab.kernel.accessAllowed ? 'block' : 'none';\n",
              "\n",
              "        async function convertToInteractive(key) {\n",
              "          const element = document.querySelector('#df-445e120f-a85c-4998-9947-df38686a728b');\n",
              "          const dataTable =\n",
              "            await google.colab.kernel.invokeFunction('convertToInteractive',\n",
              "                                                     [key], {});\n",
              "          if (!dataTable) return;\n",
              "\n",
              "          const docLinkHtml = 'Like what you see? Visit the ' +\n",
              "            '<a target=\"_blank\" href=https://colab.research.google.com/notebooks/data_table.ipynb>data table notebook</a>'\n",
              "            + ' to learn more about interactive tables.';\n",
              "          element.innerHTML = '';\n",
              "          dataTable['output_type'] = 'display_data';\n",
              "          await google.colab.output.renderOutput(dataTable, element);\n",
              "          const docLink = document.createElement('div');\n",
              "          docLink.innerHTML = docLinkHtml;\n",
              "          element.appendChild(docLink);\n",
              "        }\n",
              "      </script>\n",
              "    </div>\n",
              "  </div>\n",
              "  "
            ]
          },
          "metadata": {},
          "execution_count": 100
        }
      ]
    },
    {
      "cell_type": "code",
      "source": [
        "fig = px.choropleth(nuclear, locations=\"Codigo_pais\", color='Produccion_Nuclear')\n",
        "fig.show()"
      ],
      "metadata": {
        "colab": {
          "base_uri": "https://localhost:8080/",
          "height": 542
        },
        "id": "axHIfELYsU8x",
        "outputId": "7c96efaf-525c-4d4b-81c6-8cd21c18166c"
      },
      "execution_count": 20,
      "outputs": [
        {
          "output_type": "display_data",
          "data": {
            "text/html": [
              "<html>\n",
              "<head><meta charset=\"utf-8\" /></head>\n",
              "<body>\n",
              "    <div>            <script src=\"https://cdnjs.cloudflare.com/ajax/libs/mathjax/2.7.5/MathJax.js?config=TeX-AMS-MML_SVG\"></script><script type=\"text/javascript\">if (window.MathJax) {MathJax.Hub.Config({SVG: {font: \"STIX-Web\"}});}</script>                <script type=\"text/javascript\">window.PlotlyConfig = {MathJaxConfig: 'local'};</script>\n",
              "        <script src=\"https://cdn.plot.ly/plotly-2.8.3.min.js\"></script>                <div id=\"0fe4bb20-6e66-4be8-a0a1-55583eeb1e42\" class=\"plotly-graph-div\" style=\"height:525px; width:100%;\"></div>            <script type=\"text/javascript\">                                    window.PLOTLYENV=window.PLOTLYENV || {};                                    if (document.getElementById(\"0fe4bb20-6e66-4be8-a0a1-55583eeb1e42\")) {                    Plotly.newPlot(                        \"0fe4bb20-6e66-4be8-a0a1-55583eeb1e42\",                        [{\"coloraxis\":\"coloraxis\",\"geo\":\"geo\",\"hovertemplate\":\"Codigo_pais=%{location}<br>Produccion_Nuclear=%{z}<extra></extra>\",\"locations\":[\"CAN\",\"CAN\",\"CAN\",\"CAN\",\"CAN\",\"CAN\",\"CAN\",\"CAN\",\"CAN\",\"CAN\",\"CAN\",\"CAN\",\"CAN\",\"CAN\",\"CAN\",\"CAN\",\"CAN\",\"CAN\",\"CAN\",\"CAN\",\"CAN\",\"CAN\",\"CAN\",\"CAN\",\"CAN\",\"CAN\",\"CAN\",\"MEX\",\"MEX\",\"MEX\",\"MEX\",\"MEX\",\"MEX\",\"MEX\",\"MEX\",\"MEX\",\"MEX\",\"MEX\",\"MEX\",\"MEX\",\"MEX\",\"MEX\",\"MEX\",\"MEX\",\"MEX\",\"MEX\",\"MEX\",\"MEX\",\"MEX\",\"MEX\",\"MEX\",\"MEX\",\"MEX\",\"MEX\",\"USA\",\"USA\",\"USA\",\"USA\",\"USA\",\"USA\",\"USA\",\"USA\",\"USA\",\"USA\",\"USA\",\"USA\",\"USA\",\"USA\",\"USA\",\"USA\",\"USA\",\"USA\",\"USA\",\"USA\",\"USA\",\"USA\",\"USA\",\"USA\",\"USA\",\"USA\",\"USA\",\"ARG\",\"ARG\",\"ARG\",\"ARG\",\"ARG\",\"ARG\",\"ARG\",\"ARG\",\"ARG\",\"ARG\",\"ARG\",\"ARG\",\"ARG\",\"ARG\",\"ARG\",\"ARG\",\"ARG\",\"ARG\",\"ARG\",\"ARG\",\"ARG\",\"ARG\",\"ARG\",\"ARG\",\"ARG\",\"ARG\",\"ARG\",\"BRA\",\"BRA\",\"BRA\",\"BRA\",\"BRA\",\"BRA\",\"BRA\",\"BRA\",\"BRA\",\"BRA\",\"BRA\",\"BRA\",\"BRA\",\"BRA\",\"BRA\",\"BRA\",\"BRA\",\"BRA\",\"BRA\",\"BRA\",\"BRA\",\"BRA\",\"BRA\",\"BRA\",\"BRA\",\"BRA\",\"BRA\",\"BEL\",\"BEL\",\"BEL\",\"BEL\",\"BEL\",\"BEL\",\"BEL\",\"BEL\",\"BEL\",\"BEL\",\"BEL\",\"BEL\",\"BEL\",\"BEL\",\"BEL\",\"BEL\",\"BEL\",\"BEL\",\"BEL\",\"BEL\",\"BEL\",\"BEL\",\"BEL\",\"BEL\",\"BEL\",\"BEL\",\"BEL\",\"BGR\",\"BGR\",\"BGR\",\"BGR\",\"BGR\",\"BGR\",\"BGR\",\"BGR\",\"BGR\",\"BGR\",\"BGR\",\"BGR\",\"BGR\",\"BGR\",\"BGR\",\"BGR\",\"BGR\",\"BGR\",\"BGR\",\"BGR\",\"BGR\",\"BGR\",\"BGR\",\"BGR\",\"BGR\",\"BGR\",\"BGR\",\"CZE\",\"CZE\",\"CZE\",\"CZE\",\"CZE\",\"CZE\",\"CZE\",\"CZE\",\"CZE\",\"CZE\",\"CZE\",\"CZE\",\"CZE\",\"CZE\",\"CZE\",\"CZE\",\"CZE\",\"CZE\",\"CZE\",\"CZE\",\"CZE\",\"CZE\",\"CZE\",\"CZE\",\"CZE\",\"CZE\",\"CZE\",\"FIN\",\"FIN\",\"FIN\",\"FIN\",\"FIN\",\"FIN\",\"FIN\",\"FIN\",\"FIN\",\"FIN\",\"FIN\",\"FIN\",\"FIN\",\"FIN\",\"FIN\",\"FIN\",\"FIN\",\"FIN\",\"FIN\",\"FIN\",\"FIN\",\"FIN\",\"FIN\",\"FIN\",\"FIN\",\"FIN\",\"FIN\",\"FRA\",\"FRA\",\"FRA\",\"FRA\",\"FRA\",\"FRA\",\"FRA\",\"FRA\",\"FRA\",\"FRA\",\"FRA\",\"FRA\",\"FRA\",\"FRA\",\"FRA\",\"FRA\",\"FRA\",\"FRA\",\"FRA\",\"FRA\",\"FRA\",\"FRA\",\"FRA\",\"FRA\",\"FRA\",\"FRA\",\"FRA\",\"DEU\",\"DEU\",\"DEU\",\"DEU\",\"DEU\",\"DEU\",\"DEU\",\"DEU\",\"DEU\",\"DEU\",\"DEU\",\"DEU\",\"DEU\",\"DEU\",\"DEU\",\"DEU\",\"DEU\",\"DEU\",\"DEU\",\"DEU\",\"DEU\",\"DEU\",\"DEU\",\"DEU\",\"DEU\",\"DEU\",\"DEU\",\"HUN\",\"HUN\",\"HUN\",\"HUN\",\"HUN\",\"HUN\",\"HUN\",\"HUN\",\"HUN\",\"HUN\",\"HUN\",\"HUN\",\"HUN\",\"HUN\",\"HUN\",\"HUN\",\"HUN\",\"HUN\",\"HUN\",\"HUN\",\"HUN\",\"HUN\",\"HUN\",\"HUN\",\"HUN\",\"HUN\",\"HUN\",\"LTU\",\"LTU\",\"LTU\",\"LTU\",\"LTU\",\"LTU\",\"LTU\",\"LTU\",\"LTU\",\"LTU\",\"LTU\",\"LTU\",\"LTU\",\"LTU\",\"LTU\",\"NLD\",\"NLD\",\"NLD\",\"NLD\",\"NLD\",\"NLD\",\"NLD\",\"NLD\",\"NLD\",\"NLD\",\"NLD\",\"NLD\",\"NLD\",\"NLD\",\"NLD\",\"NLD\",\"NLD\",\"NLD\",\"NLD\",\"NLD\",\"NLD\",\"NLD\",\"NLD\",\"NLD\",\"NLD\",\"NLD\",\"NLD\",\"ESP\",\"ESP\",\"ESP\",\"ESP\",\"ESP\",\"ESP\",\"ESP\",\"ESP\",\"ESP\",\"ESP\",\"ESP\",\"ESP\",\"ESP\",\"ESP\",\"ESP\",\"ESP\",\"ESP\",\"ESP\",\"ESP\",\"ESP\",\"ESP\",\"ESP\",\"ESP\",\"ESP\",\"ESP\",\"ESP\",\"ESP\",\"SWE\",\"SWE\",\"SWE\",\"SWE\",\"SWE\",\"SWE\",\"SWE\",\"SWE\",\"SWE\",\"SWE\",\"SWE\",\"SWE\",\"SWE\",\"SWE\",\"SWE\",\"SWE\",\"SWE\",\"SWE\",\"SWE\",\"SWE\",\"SWE\",\"SWE\",\"SWE\",\"SWE\",\"SWE\",\"SWE\",\"SWE\",\"CHE\",\"CHE\",\"CHE\",\"CHE\",\"CHE\",\"CHE\",\"CHE\",\"CHE\",\"CHE\",\"CHE\",\"CHE\",\"CHE\",\"CHE\",\"CHE\",\"CHE\",\"CHE\",\"CHE\",\"CHE\",\"CHE\",\"CHE\",\"CHE\",\"CHE\",\"CHE\",\"CHE\",\"CHE\",\"CHE\",\"CHE\",\"UKR\",\"UKR\",\"UKR\",\"UKR\",\"UKR\",\"UKR\",\"UKR\",\"UKR\",\"UKR\",\"UKR\",\"UKR\",\"UKR\",\"UKR\",\"UKR\",\"UKR\",\"UKR\",\"UKR\",\"UKR\",\"UKR\",\"UKR\",\"UKR\",\"UKR\",\"UKR\",\"UKR\",\"UKR\",\"UKR\",\"UKR\",\"GBR\",\"GBR\",\"GBR\",\"GBR\",\"GBR\",\"GBR\",\"GBR\",\"GBR\",\"GBR\",\"GBR\",\"GBR\",\"GBR\",\"GBR\",\"GBR\",\"GBR\",\"GBR\",\"GBR\",\"GBR\",\"GBR\",\"GBR\",\"GBR\",\"GBR\",\"GBR\",\"GBR\",\"GBR\",\"GBR\",\"GBR\",\"KAZ\",\"KAZ\",\"KAZ\",\"KAZ\",\"RUS\",\"RUS\",\"RUS\",\"RUS\",\"RUS\",\"RUS\",\"RUS\",\"RUS\",\"RUS\",\"RUS\",\"RUS\",\"RUS\",\"RUS\",\"RUS\",\"RUS\",\"RUS\",\"RUS\",\"RUS\",\"RUS\",\"RUS\",\"RUS\",\"RUS\",\"RUS\",\"RUS\",\"RUS\",\"RUS\",\"RUS\",\"0\",\"0\",\"0\",\"0\",\"0\",\"0\",\"0\",\"0\",\"0\",\"0\",\"0\",\"0\",\"0\",\"0\",\"0\",\"0\",\"0\",\"0\",\"0\",\"0\",\"0\",\"0\",\"0\",\"0\",\"0\",\"0\",\"0\",\"ZAF\",\"ZAF\",\"ZAF\",\"ZAF\",\"ZAF\",\"ZAF\",\"ZAF\",\"ZAF\",\"ZAF\",\"ZAF\",\"ZAF\",\"ZAF\",\"ZAF\",\"ZAF\",\"ZAF\",\"ZAF\",\"ZAF\",\"ZAF\",\"ZAF\",\"ZAF\",\"ZAF\",\"ZAF\",\"ZAF\",\"ZAF\",\"ZAF\",\"ZAF\",\"ZAF\",\"CHN\",\"CHN\",\"CHN\",\"CHN\",\"CHN\",\"CHN\",\"CHN\",\"CHN\",\"CHN\",\"CHN\",\"CHN\",\"CHN\",\"CHN\",\"CHN\",\"CHN\",\"CHN\",\"CHN\",\"CHN\",\"CHN\",\"CHN\",\"CHN\",\"CHN\",\"CHN\",\"CHN\",\"CHN\",\"CHN\",\"CHN\",\"IND\",\"IND\",\"IND\",\"IND\",\"IND\",\"IND\",\"IND\",\"IND\",\"IND\",\"IND\",\"IND\",\"IND\",\"IND\",\"IND\",\"IND\",\"IND\",\"IND\",\"IND\",\"IND\",\"IND\",\"IND\",\"IND\",\"IND\",\"IND\",\"IND\",\"IND\",\"IND\",\"JPN\",\"JPN\",\"JPN\",\"JPN\",\"JPN\",\"JPN\",\"JPN\",\"JPN\",\"JPN\",\"JPN\",\"JPN\",\"JPN\",\"JPN\",\"JPN\",\"JPN\",\"JPN\",\"JPN\",\"JPN\",\"JPN\",\"JPN\",\"JPN\",\"JPN\",\"JPN\",\"JPN\",\"JPN\",\"JPN\",\"PAK\",\"PAK\",\"PAK\",\"PAK\",\"PAK\",\"PAK\",\"PAK\",\"PAK\",\"PAK\",\"PAK\",\"PAK\",\"PAK\",\"PAK\",\"PAK\",\"PAK\",\"PAK\",\"PAK\",\"PAK\",\"PAK\",\"PAK\",\"PAK\",\"PAK\",\"PAK\",\"PAK\",\"PAK\",\"PAK\",\"PAK\",\"KOR\",\"KOR\",\"KOR\",\"KOR\",\"KOR\",\"KOR\",\"KOR\",\"KOR\",\"KOR\",\"KOR\",\"KOR\",\"KOR\",\"KOR\",\"KOR\",\"KOR\",\"KOR\",\"KOR\",\"KOR\",\"KOR\",\"KOR\",\"KOR\",\"KOR\",\"KOR\",\"KOR\",\"KOR\",\"KOR\",\"KOR\",\"TWN\",\"TWN\",\"TWN\",\"TWN\",\"TWN\",\"TWN\",\"TWN\",\"TWN\",\"TWN\",\"TWN\",\"TWN\",\"TWN\",\"TWN\",\"TWN\",\"TWN\",\"TWN\",\"TWN\",\"TWN\",\"TWN\",\"TWN\",\"TWN\",\"TWN\",\"TWN\",\"TWN\",\"TWN\",\"TWN\",\"TWN\",\"ROU\",\"ROU\",\"ROU\",\"ROU\",\"ROU\",\"ROU\",\"ROU\",\"ROU\",\"ROU\",\"ROU\",\"ROU\",\"ROU\",\"ROU\",\"ROU\",\"ROU\",\"ROU\",\"ROU\",\"ROU\",\"ROU\",\"ROU\",\"ROU\",\"ROU\",\"ROU\",\"ROU\",\"ROU\",\"ROU\",\"IRN\",\"IRN\",\"IRN\",\"IRN\",\"IRN\",\"IRN\",\"IRN\",\"IRN\",\"IRN\",\"IRN\",\"IRN\",\"BLR\",\"BLR\"],\"name\":\"\",\"z\":[97.2,92.1,82.0,71.0,73.0,72.3,76.2,75.0,74.4,89.8,91.4,97.3,92.8,95.4,89.5,90.0,92.9,94.2,102.7,106.5,101.1,100.7,100.6,100.0,100.5,97.5,92.0,8.4,7.9,10.5,9.3,10.0,8.2,8.7,9.7,10.5,9.2,10.8,10.9,10.4,9.8,10.5,5.9,10.1,8.8,11.8,9.7,11.6,10.6,10.9,13.6,11.2,11.2,11.9,708.8,710.2,661.7,709.2,766.6,793.6,809.3,821.1,803.9,830.0,823.1,828.7,848.9,848.6,840.9,849.4,831.8,809.8,830.5,839.1,839.1,848.1,847.3,849.6,852.0,831.5,819.1,7.1,7.5,8.0,7.5,7.1,6.2,7.1,5.8,7.6,7.9,6.9,7.7,7.3,7.4,8.2,7.2,6.4,6.4,6.2,5.5,7.0,8.3,6.1,6.9,8.4,10.7,10.8,2.5,2.4,3.2,3.3,4.0,6.0,14.3,13.8,13.4,11.6,9.9,13.8,12.3,14.0,13.0,14.5,15.7,16.0,15.4,15.4,14.7,15.9,15.7,15.7,16.1,14.1,14.7,41.4,43.3,47.4,46.2,49.0,48.2,46.3,47.4,47.4,47.3,47.6,46.6,48.2,45.6,47.2,47.9,48.2,40.3,42.6,33.7,26.1,43.5,42.2,28.6,43.5,34.4,50.6,17.3,18.1,17.8,16.9,15.8,18.2,19.6,20.2,17.3,16.8,18.7,19.5,14.6,15.8,15.3,15.2,16.3,15.8,14.2,15.9,15.4,15.8,15.5,16.1,16.6,16.6,16.5,12.2,12.9,12.5,13.2,13.4,13.6,14.7,18.7,25.9,26.3,24.7,26.0,26.2,26.6,27.2,28.0,28.3,30.3,30.7,30.3,26.8,24.1,28.3,29.9,30.2,30.0,30.7,19.1,19.7,21.1,22.1,23.2,22.7,23.0,22.5,23.0,23.0,23.5,23.2,23.7,23.2,23.8,23.0,23.4,23.2,23.9,23.8,23.5,23.5,22.7,23.0,24.1,23.5,23.8,377.2,397.3,395.5,388.0,394.2,415.2,421.1,436.8,441.1,448.2,451.5,450.2,439.7,439.4,409.7,428.5,442.4,425.4,423.7,436.5,437.4,403.2,398.4,412.9,399.0,353.8,379.4,154.1,161.6,170.3,161.6,170.0,169.6,171.3,164.8,165.1,167.1,163.0,167.4,140.5,148.8,134.9,140.6,108.0,99.5,97.3,97.1,91.8,84.6,76.3,76.0,75.1,64.4,69.0,14.0,14.2,14.0,13.9,14.1,14.2,14.1,14.0,11.0,11.9,13.8,13.5,14.7,14.8,15.4,15.8,15.7,15.8,15.4,15.6,15.8,16.1,16.1,15.7,16.3,16.1,16.0,11.8,13.9,12.0,13.6,9.9,8.4,11.4,14.1,15.5,15.1,10.3,8.7,9.8,9.9,10.9,4.0,4.2,2.4,3.8,3.8,3.9,4.0,3.9,4.0,3.8,4.0,3.5,4.2,4.2,4.2,4.0,4.1,3.9,2.9,4.1,4.1,4.0,3.4,3.5,3.9,4.1,3.8,55.5,56.3,55.3,59.0,58.9,62.2,63.7,63.0,61.9,63.6,57.5,60.1,55.1,59.0,52.8,61.6,57.7,61.5,56.7,57.3,57.3,58.6,58.1,55.8,58.3,58.3,56.5,69.9,74.3,69.9,73.6,73.2,57.3,72.1,68.1,67.4,77.7,72.7,67.0,67.0,63.9,52.2,57.7,60.5,64.0,66.5,64.9,56.3,63.1,65.7,68.5,66.1,49.2,53.1,24.7,25.0,25.2,25.7,24.8,26.3,26.6,27.0,27.3,26.8,23.2,27.6,27.7,27.5,27.5,26.5,26.9,25.6,26.2,27.8,23.3,21.3,20.5,24.4,25.3,23.0,18.5,70.5,79.6,79.4,75.2,72.1,77.3,76.2,78.0,81.4,87.0,88.8,90.2,92.5,89.8,82.9,89.2,90.2,90.1,83.2,88.4,87.6,81.0,85.6,84.4,83.0,76.2,86.2,89.0,94.7,98.1,99.5,95.1,85.1,90.1,87.8,88.7,80.0,81.6,75.5,63.0,52.5,69.1,62.1,69.0,70.4,70.6,63.7,70.3,71.7,70.3,65.1,56.2,50.3,45.9,0.1,0.1,0.3,0.1,99.5,109.0,108.5,103.7,121.9,130.7,136.9,141.6,150.3,144.7,149.4,156.4,160.1,163.1,163.6,170.4,172.9,177.5,172.5,180.8,195.5,196.6,203.1,204.6,209.0,215.9,222.4,0.3,2.3,1.6,1.6,2.1,2.0,2.0,2.3,2.0,2.2,2.7,2.6,2.6,2.5,2.5,2.5,2.5,2.3,2.4,2.5,2.8,2.4,2.6,2.1,2.2,2.8,2.0,11.3,11.8,12.6,13.6,12.8,13.0,10.7,12.0,12.7,13.4,11.3,10.0,11.3,13.0,12.8,13.5,12.9,13.0,14.1,13.8,12.2,15.0,14.2,11.6,13.6,13.9,10.4,12.8,14.3,14.4,14.1,14.9,16.7,17.5,25.1,43.3,50.5,53.1,54.8,62.1,68.4,70.1,74.7,87.2,98.3,111.5,133.2,171.4,213.2,248.1,295.0,348.7,366.2,407.5,7.6,8.4,10.1,11.4,12.7,15.8,18.9,19.4,18.1,21.3,17.7,17.6,17.8,15.2,16.8,23.1,32.2,33.1,33.3,34.7,38.3,37.9,37.4,39.1,45.2,44.6,43.9,286.9,296.5,321.2,326.0,317.2,319.1,320.5,314.3,230.1,285.9,293.0,304.3,279.0,251.7,274.7,292.4,162.9,18.0,14.6,4.5,17.7,29.1,49.1,65.6,43.0,61.2,0.5,0.3,0.5,0.4,0.1,0.9,2.1,1.9,1.9,2.4,2.5,2.5,2.3,1.7,2.5,2.5,3.9,2.7,4.3,4.7,4.3,5.3,8.1,9.2,9.2,9.5,15.9,67.0,73.9,77.1,89.7,103.1,109.0,112.1,119.1,129.7,130.7,146.8,148.7,142.9,151.0,147.8,148.6,154.7,150.3,138.8,156.4,164.8,162.0,148.4,133.5,145.9,160.2,158.0,35.3,37.8,36.3,36.9,38.0,38.5,35.5,39.6,38.9,39.5,40.0,39.9,40.5,40.8,41.6,41.6,42.1,40.4,41.6,42.4,36.5,31.7,22.4,27.7,32.3,31.4,27.8,1.4,5.4,5.3,5.2,5.5,5.4,5.5,4.9,5.5,5.6,5.6,7.7,11.2,11.8,11.6,11.7,11.5,11.6,11.7,11.6,11.3,11.5,11.4,11.3,11.5,11.3,0.1,1.5,4.3,4.1,3.5,6.5,7.0,6.9,6.4,6.3,3.5,0.3,5.8],\"type\":\"choropleth\"}],                        {\"template\":{\"data\":{\"bar\":[{\"error_x\":{\"color\":\"#2a3f5f\"},\"error_y\":{\"color\":\"#2a3f5f\"},\"marker\":{\"line\":{\"color\":\"#E5ECF6\",\"width\":0.5},\"pattern\":{\"fillmode\":\"overlay\",\"size\":10,\"solidity\":0.2}},\"type\":\"bar\"}],\"barpolar\":[{\"marker\":{\"line\":{\"color\":\"#E5ECF6\",\"width\":0.5},\"pattern\":{\"fillmode\":\"overlay\",\"size\":10,\"solidity\":0.2}},\"type\":\"barpolar\"}],\"carpet\":[{\"aaxis\":{\"endlinecolor\":\"#2a3f5f\",\"gridcolor\":\"white\",\"linecolor\":\"white\",\"minorgridcolor\":\"white\",\"startlinecolor\":\"#2a3f5f\"},\"baxis\":{\"endlinecolor\":\"#2a3f5f\",\"gridcolor\":\"white\",\"linecolor\":\"white\",\"minorgridcolor\":\"white\",\"startlinecolor\":\"#2a3f5f\"},\"type\":\"carpet\"}],\"choropleth\":[{\"colorbar\":{\"outlinewidth\":0,\"ticks\":\"\"},\"type\":\"choropleth\"}],\"contour\":[{\"colorbar\":{\"outlinewidth\":0,\"ticks\":\"\"},\"colorscale\":[[0.0,\"#0d0887\"],[0.1111111111111111,\"#46039f\"],[0.2222222222222222,\"#7201a8\"],[0.3333333333333333,\"#9c179e\"],[0.4444444444444444,\"#bd3786\"],[0.5555555555555556,\"#d8576b\"],[0.6666666666666666,\"#ed7953\"],[0.7777777777777778,\"#fb9f3a\"],[0.8888888888888888,\"#fdca26\"],[1.0,\"#f0f921\"]],\"type\":\"contour\"}],\"contourcarpet\":[{\"colorbar\":{\"outlinewidth\":0,\"ticks\":\"\"},\"type\":\"contourcarpet\"}],\"heatmap\":[{\"colorbar\":{\"outlinewidth\":0,\"ticks\":\"\"},\"colorscale\":[[0.0,\"#0d0887\"],[0.1111111111111111,\"#46039f\"],[0.2222222222222222,\"#7201a8\"],[0.3333333333333333,\"#9c179e\"],[0.4444444444444444,\"#bd3786\"],[0.5555555555555556,\"#d8576b\"],[0.6666666666666666,\"#ed7953\"],[0.7777777777777778,\"#fb9f3a\"],[0.8888888888888888,\"#fdca26\"],[1.0,\"#f0f921\"]],\"type\":\"heatmap\"}],\"heatmapgl\":[{\"colorbar\":{\"outlinewidth\":0,\"ticks\":\"\"},\"colorscale\":[[0.0,\"#0d0887\"],[0.1111111111111111,\"#46039f\"],[0.2222222222222222,\"#7201a8\"],[0.3333333333333333,\"#9c179e\"],[0.4444444444444444,\"#bd3786\"],[0.5555555555555556,\"#d8576b\"],[0.6666666666666666,\"#ed7953\"],[0.7777777777777778,\"#fb9f3a\"],[0.8888888888888888,\"#fdca26\"],[1.0,\"#f0f921\"]],\"type\":\"heatmapgl\"}],\"histogram\":[{\"marker\":{\"pattern\":{\"fillmode\":\"overlay\",\"size\":10,\"solidity\":0.2}},\"type\":\"histogram\"}],\"histogram2d\":[{\"colorbar\":{\"outlinewidth\":0,\"ticks\":\"\"},\"colorscale\":[[0.0,\"#0d0887\"],[0.1111111111111111,\"#46039f\"],[0.2222222222222222,\"#7201a8\"],[0.3333333333333333,\"#9c179e\"],[0.4444444444444444,\"#bd3786\"],[0.5555555555555556,\"#d8576b\"],[0.6666666666666666,\"#ed7953\"],[0.7777777777777778,\"#fb9f3a\"],[0.8888888888888888,\"#fdca26\"],[1.0,\"#f0f921\"]],\"type\":\"histogram2d\"}],\"histogram2dcontour\":[{\"colorbar\":{\"outlinewidth\":0,\"ticks\":\"\"},\"colorscale\":[[0.0,\"#0d0887\"],[0.1111111111111111,\"#46039f\"],[0.2222222222222222,\"#7201a8\"],[0.3333333333333333,\"#9c179e\"],[0.4444444444444444,\"#bd3786\"],[0.5555555555555556,\"#d8576b\"],[0.6666666666666666,\"#ed7953\"],[0.7777777777777778,\"#fb9f3a\"],[0.8888888888888888,\"#fdca26\"],[1.0,\"#f0f921\"]],\"type\":\"histogram2dcontour\"}],\"mesh3d\":[{\"colorbar\":{\"outlinewidth\":0,\"ticks\":\"\"},\"type\":\"mesh3d\"}],\"parcoords\":[{\"line\":{\"colorbar\":{\"outlinewidth\":0,\"ticks\":\"\"}},\"type\":\"parcoords\"}],\"pie\":[{\"automargin\":true,\"type\":\"pie\"}],\"scatter\":[{\"marker\":{\"colorbar\":{\"outlinewidth\":0,\"ticks\":\"\"}},\"type\":\"scatter\"}],\"scatter3d\":[{\"line\":{\"colorbar\":{\"outlinewidth\":0,\"ticks\":\"\"}},\"marker\":{\"colorbar\":{\"outlinewidth\":0,\"ticks\":\"\"}},\"type\":\"scatter3d\"}],\"scattercarpet\":[{\"marker\":{\"colorbar\":{\"outlinewidth\":0,\"ticks\":\"\"}},\"type\":\"scattercarpet\"}],\"scattergeo\":[{\"marker\":{\"colorbar\":{\"outlinewidth\":0,\"ticks\":\"\"}},\"type\":\"scattergeo\"}],\"scattergl\":[{\"marker\":{\"colorbar\":{\"outlinewidth\":0,\"ticks\":\"\"}},\"type\":\"scattergl\"}],\"scattermapbox\":[{\"marker\":{\"colorbar\":{\"outlinewidth\":0,\"ticks\":\"\"}},\"type\":\"scattermapbox\"}],\"scatterpolar\":[{\"marker\":{\"colorbar\":{\"outlinewidth\":0,\"ticks\":\"\"}},\"type\":\"scatterpolar\"}],\"scatterpolargl\":[{\"marker\":{\"colorbar\":{\"outlinewidth\":0,\"ticks\":\"\"}},\"type\":\"scatterpolargl\"}],\"scatterternary\":[{\"marker\":{\"colorbar\":{\"outlinewidth\":0,\"ticks\":\"\"}},\"type\":\"scatterternary\"}],\"surface\":[{\"colorbar\":{\"outlinewidth\":0,\"ticks\":\"\"},\"colorscale\":[[0.0,\"#0d0887\"],[0.1111111111111111,\"#46039f\"],[0.2222222222222222,\"#7201a8\"],[0.3333333333333333,\"#9c179e\"],[0.4444444444444444,\"#bd3786\"],[0.5555555555555556,\"#d8576b\"],[0.6666666666666666,\"#ed7953\"],[0.7777777777777778,\"#fb9f3a\"],[0.8888888888888888,\"#fdca26\"],[1.0,\"#f0f921\"]],\"type\":\"surface\"}],\"table\":[{\"cells\":{\"fill\":{\"color\":\"#EBF0F8\"},\"line\":{\"color\":\"white\"}},\"header\":{\"fill\":{\"color\":\"#C8D4E3\"},\"line\":{\"color\":\"white\"}},\"type\":\"table\"}]},\"layout\":{\"annotationdefaults\":{\"arrowcolor\":\"#2a3f5f\",\"arrowhead\":0,\"arrowwidth\":1},\"autotypenumbers\":\"strict\",\"coloraxis\":{\"colorbar\":{\"outlinewidth\":0,\"ticks\":\"\"}},\"colorscale\":{\"diverging\":[[0,\"#8e0152\"],[0.1,\"#c51b7d\"],[0.2,\"#de77ae\"],[0.3,\"#f1b6da\"],[0.4,\"#fde0ef\"],[0.5,\"#f7f7f7\"],[0.6,\"#e6f5d0\"],[0.7,\"#b8e186\"],[0.8,\"#7fbc41\"],[0.9,\"#4d9221\"],[1,\"#276419\"]],\"sequential\":[[0.0,\"#0d0887\"],[0.1111111111111111,\"#46039f\"],[0.2222222222222222,\"#7201a8\"],[0.3333333333333333,\"#9c179e\"],[0.4444444444444444,\"#bd3786\"],[0.5555555555555556,\"#d8576b\"],[0.6666666666666666,\"#ed7953\"],[0.7777777777777778,\"#fb9f3a\"],[0.8888888888888888,\"#fdca26\"],[1.0,\"#f0f921\"]],\"sequentialminus\":[[0.0,\"#0d0887\"],[0.1111111111111111,\"#46039f\"],[0.2222222222222222,\"#7201a8\"],[0.3333333333333333,\"#9c179e\"],[0.4444444444444444,\"#bd3786\"],[0.5555555555555556,\"#d8576b\"],[0.6666666666666666,\"#ed7953\"],[0.7777777777777778,\"#fb9f3a\"],[0.8888888888888888,\"#fdca26\"],[1.0,\"#f0f921\"]]},\"colorway\":[\"#636efa\",\"#EF553B\",\"#00cc96\",\"#ab63fa\",\"#FFA15A\",\"#19d3f3\",\"#FF6692\",\"#B6E880\",\"#FF97FF\",\"#FECB52\"],\"font\":{\"color\":\"#2a3f5f\"},\"geo\":{\"bgcolor\":\"white\",\"lakecolor\":\"white\",\"landcolor\":\"#E5ECF6\",\"showlakes\":true,\"showland\":true,\"subunitcolor\":\"white\"},\"hoverlabel\":{\"align\":\"left\"},\"hovermode\":\"closest\",\"mapbox\":{\"style\":\"light\"},\"paper_bgcolor\":\"white\",\"plot_bgcolor\":\"#E5ECF6\",\"polar\":{\"angularaxis\":{\"gridcolor\":\"white\",\"linecolor\":\"white\",\"ticks\":\"\"},\"bgcolor\":\"#E5ECF6\",\"radialaxis\":{\"gridcolor\":\"white\",\"linecolor\":\"white\",\"ticks\":\"\"}},\"scene\":{\"xaxis\":{\"backgroundcolor\":\"#E5ECF6\",\"gridcolor\":\"white\",\"gridwidth\":2,\"linecolor\":\"white\",\"showbackground\":true,\"ticks\":\"\",\"zerolinecolor\":\"white\"},\"yaxis\":{\"backgroundcolor\":\"#E5ECF6\",\"gridcolor\":\"white\",\"gridwidth\":2,\"linecolor\":\"white\",\"showbackground\":true,\"ticks\":\"\",\"zerolinecolor\":\"white\"},\"zaxis\":{\"backgroundcolor\":\"#E5ECF6\",\"gridcolor\":\"white\",\"gridwidth\":2,\"linecolor\":\"white\",\"showbackground\":true,\"ticks\":\"\",\"zerolinecolor\":\"white\"}},\"shapedefaults\":{\"line\":{\"color\":\"#2a3f5f\"}},\"ternary\":{\"aaxis\":{\"gridcolor\":\"white\",\"linecolor\":\"white\",\"ticks\":\"\"},\"baxis\":{\"gridcolor\":\"white\",\"linecolor\":\"white\",\"ticks\":\"\"},\"bgcolor\":\"#E5ECF6\",\"caxis\":{\"gridcolor\":\"white\",\"linecolor\":\"white\",\"ticks\":\"\"}},\"title\":{\"x\":0.05},\"xaxis\":{\"automargin\":true,\"gridcolor\":\"white\",\"linecolor\":\"white\",\"ticks\":\"\",\"title\":{\"standoff\":15},\"zerolinecolor\":\"white\",\"zerolinewidth\":2},\"yaxis\":{\"automargin\":true,\"gridcolor\":\"white\",\"linecolor\":\"white\",\"ticks\":\"\",\"title\":{\"standoff\":15},\"zerolinecolor\":\"white\",\"zerolinewidth\":2}}},\"geo\":{\"domain\":{\"x\":[0.0,1.0],\"y\":[0.0,1.0]},\"center\":{}},\"coloraxis\":{\"colorbar\":{\"title\":{\"text\":\"Produccion_Nuclear\"}},\"colorscale\":[[0.0,\"#0d0887\"],[0.1111111111111111,\"#46039f\"],[0.2222222222222222,\"#7201a8\"],[0.3333333333333333,\"#9c179e\"],[0.4444444444444444,\"#bd3786\"],[0.5555555555555556,\"#d8576b\"],[0.6666666666666666,\"#ed7953\"],[0.7777777777777778,\"#fb9f3a\"],[0.8888888888888888,\"#fdca26\"],[1.0,\"#f0f921\"]]},\"legend\":{\"tracegroupgap\":0},\"margin\":{\"t\":60}},                        {\"responsive\": true}                    ).then(function(){\n",
              "                            \n",
              "var gd = document.getElementById('0fe4bb20-6e66-4be8-a0a1-55583eeb1e42');\n",
              "var x = new MutationObserver(function (mutations, observer) {{\n",
              "        var display = window.getComputedStyle(gd).display;\n",
              "        if (!display || display === 'none') {{\n",
              "            console.log([gd, 'removed!']);\n",
              "            Plotly.purge(gd);\n",
              "            observer.disconnect();\n",
              "        }}\n",
              "}});\n",
              "\n",
              "// Listen for the removal of the full notebook cells\n",
              "var notebookContainer = gd.closest('#notebook-container');\n",
              "if (notebookContainer) {{\n",
              "    x.observe(notebookContainer, {childList: true});\n",
              "}}\n",
              "\n",
              "// Listen for the clearing of the current output cell\n",
              "var outputEl = gd.closest('.output');\n",
              "if (outputEl) {{\n",
              "    x.observe(outputEl, {childList: true});\n",
              "}}\n",
              "\n",
              "                        })                };                            </script>        </div>\n",
              "</body>\n",
              "</html>"
            ]
          },
          "metadata": {}
        }
      ]
    },
    {
      "cell_type": "code",
      "source": [],
      "metadata": {
        "id": "1ZaD092Cb6_l"
      },
      "execution_count": null,
      "outputs": []
    }
  ]
}