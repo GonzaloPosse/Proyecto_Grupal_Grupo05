{
 "cells": [
  {
   "cell_type": "code",
   "execution_count": 1,
   "metadata": {},
   "outputs": [],
   "source": [
    "from sqlalchemy import create_engine\n",
    "from sqlalchemy import MetaData\n",
    "from time import sleep\n",
    "from geopy.geocoders import Nominatim\n",
    "import pandas as pd\n",
    "import geopandas\n",
    "import folium\n",
    "import matplotlib.pyplot as plt\n",
    "import plotly.express as px\n",
    "import plotly.graph_objects as go\n",
    "import streamlit as st"
   ]
  },
  {
   "cell_type": "code",
   "execution_count": 24,
   "metadata": {},
   "outputs": [
    {
     "name": "stdout",
     "output_type": "stream",
     "text": [
      "conexion exitosa\n"
     ]
    }
   ],
   "source": [
    "conexion = create_engine(\"postgresql://{user}:{pw}@{host}:{port}/{db}\"\n",
    "                         .format(user=\"postgres\",\n",
    "                                 pw=\"postgres\",\n",
    "                                 host=\"database-grupo5.cgmzd7suyc4v.us-east-1.rds.amazonaws.com\",\n",
    "                                 port=\"5432\",\n",
    "                                 db=\"postgres\",\n",
    "                                 echo=False))\n",
    "if conexion.connect():\n",
    "  print(\"conexion exitosa\")"
   ]
  },
  {
   "cell_type": "code",
   "execution_count": 96,
   "metadata": {},
   "outputs": [
    {
     "data": {
      "text/html": [
       "<div>\n",
       "<style scoped>\n",
       "    .dataframe tbody tr th:only-of-type {\n",
       "        vertical-align: middle;\n",
       "    }\n",
       "\n",
       "    .dataframe tbody tr th {\n",
       "        vertical-align: top;\n",
       "    }\n",
       "\n",
       "    .dataframe thead th {\n",
       "        text-align: right;\n",
       "    }\n",
       "</style>\n",
       "<table border=\"1\" class=\"dataframe\">\n",
       "  <thead>\n",
       "    <tr style=\"text-align: right;\">\n",
       "      <th></th>\n",
       "      <th>Pais</th>\n",
       "      <th>1965</th>\n",
       "      <th>1966</th>\n",
       "      <th>1967</th>\n",
       "      <th>1968</th>\n",
       "      <th>1969</th>\n",
       "      <th>1970</th>\n",
       "      <th>1971</th>\n",
       "      <th>1972</th>\n",
       "      <th>1973</th>\n",
       "      <th>...</th>\n",
       "      <th>2012</th>\n",
       "      <th>2013</th>\n",
       "      <th>2014</th>\n",
       "      <th>2015</th>\n",
       "      <th>2016</th>\n",
       "      <th>2017</th>\n",
       "      <th>2018</th>\n",
       "      <th>2019</th>\n",
       "      <th>2020</th>\n",
       "      <th>2021</th>\n",
       "    </tr>\n",
       "  </thead>\n",
       "  <tbody>\n",
       "    <tr>\n",
       "      <th>0</th>\n",
       "      <td>Canada</td>\n",
       "      <td>0.78</td>\n",
       "      <td>0.85</td>\n",
       "      <td>0.91</td>\n",
       "      <td>1.01</td>\n",
       "      <td>1.13</td>\n",
       "      <td>1.25</td>\n",
       "      <td>1.33</td>\n",
       "      <td>1.50</td>\n",
       "      <td>1.59</td>\n",
       "      <td>...</td>\n",
       "      <td>3.58</td>\n",
       "      <td>3.80</td>\n",
       "      <td>3.95</td>\n",
       "      <td>3.97</td>\n",
       "      <td>3.78</td>\n",
       "      <td>3.96</td>\n",
       "      <td>4.16</td>\n",
       "      <td>4.22</td>\n",
       "      <td>4.08</td>\n",
       "      <td>4.29</td>\n",
       "    </tr>\n",
       "    <tr>\n",
       "      <th>1</th>\n",
       "      <td>Mexico</td>\n",
       "      <td>0.29</td>\n",
       "      <td>0.31</td>\n",
       "      <td>0.26</td>\n",
       "      <td>0.28</td>\n",
       "      <td>0.35</td>\n",
       "      <td>0.36</td>\n",
       "      <td>0.37</td>\n",
       "      <td>0.40</td>\n",
       "      <td>0.44</td>\n",
       "      <td>...</td>\n",
       "      <td>2.65</td>\n",
       "      <td>2.80</td>\n",
       "      <td>2.84</td>\n",
       "      <td>2.91</td>\n",
       "      <td>2.99</td>\n",
       "      <td>3.10</td>\n",
       "      <td>3.15</td>\n",
       "      <td>3.17</td>\n",
       "      <td>3.01</td>\n",
       "      <td>3.18</td>\n",
       "    </tr>\n",
       "    <tr>\n",
       "      <th>2</th>\n",
       "      <td>US</td>\n",
       "      <td>14.97</td>\n",
       "      <td>16.14</td>\n",
       "      <td>17.04</td>\n",
       "      <td>18.24</td>\n",
       "      <td>19.63</td>\n",
       "      <td>20.70</td>\n",
       "      <td>21.34</td>\n",
       "      <td>21.55</td>\n",
       "      <td>21.38</td>\n",
       "      <td>...</td>\n",
       "      <td>24.77</td>\n",
       "      <td>25.45</td>\n",
       "      <td>26.00</td>\n",
       "      <td>26.77</td>\n",
       "      <td>26.97</td>\n",
       "      <td>26.64</td>\n",
       "      <td>29.58</td>\n",
       "      <td>30.62</td>\n",
       "      <td>29.95</td>\n",
       "      <td>29.76</td>\n",
       "    </tr>\n",
       "    <tr>\n",
       "      <th>3</th>\n",
       "      <td>Argentina</td>\n",
       "      <td>0.15</td>\n",
       "      <td>0.16</td>\n",
       "      <td>0.17</td>\n",
       "      <td>0.19</td>\n",
       "      <td>0.19</td>\n",
       "      <td>0.21</td>\n",
       "      <td>0.23</td>\n",
       "      <td>0.26</td>\n",
       "      <td>0.29</td>\n",
       "      <td>...</td>\n",
       "      <td>1.64</td>\n",
       "      <td>1.66</td>\n",
       "      <td>1.66</td>\n",
       "      <td>1.68</td>\n",
       "      <td>1.74</td>\n",
       "      <td>1.74</td>\n",
       "      <td>1.75</td>\n",
       "      <td>1.68</td>\n",
       "      <td>1.58</td>\n",
       "      <td>1.65</td>\n",
       "    </tr>\n",
       "    <tr>\n",
       "      <th>4</th>\n",
       "      <td>Brazil</td>\n",
       "      <td>0</td>\n",
       "      <td>0</td>\n",
       "      <td>0</td>\n",
       "      <td>0</td>\n",
       "      <td>0</td>\n",
       "      <td>0</td>\n",
       "      <td>0</td>\n",
       "      <td>0.01</td>\n",
       "      <td>0.01</td>\n",
       "      <td>...</td>\n",
       "      <td>1.17</td>\n",
       "      <td>1.38</td>\n",
       "      <td>1.46</td>\n",
       "      <td>1.55</td>\n",
       "      <td>1.34</td>\n",
       "      <td>1.35</td>\n",
       "      <td>1.29</td>\n",
       "      <td>1.29</td>\n",
       "      <td>1.13</td>\n",
       "      <td>1.46</td>\n",
       "    </tr>\n",
       "    <tr>\n",
       "      <th>...</th>\n",
       "      <td>...</td>\n",
       "      <td>...</td>\n",
       "      <td>...</td>\n",
       "      <td>...</td>\n",
       "      <td>...</td>\n",
       "      <td>...</td>\n",
       "      <td>...</td>\n",
       "      <td>...</td>\n",
       "      <td>...</td>\n",
       "      <td>...</td>\n",
       "      <td>...</td>\n",
       "      <td>...</td>\n",
       "      <td>...</td>\n",
       "      <td>...</td>\n",
       "      <td>...</td>\n",
       "      <td>...</td>\n",
       "      <td>...</td>\n",
       "      <td>...</td>\n",
       "      <td>...</td>\n",
       "      <td>...</td>\n",
       "      <td>...</td>\n",
       "    </tr>\n",
       "    <tr>\n",
       "      <th>87</th>\n",
       "      <td>Sri Lanka</td>\n",
       "      <td>0</td>\n",
       "      <td>0</td>\n",
       "      <td>0</td>\n",
       "      <td>0</td>\n",
       "      <td>0</td>\n",
       "      <td>0</td>\n",
       "      <td>0</td>\n",
       "      <td>0</td>\n",
       "      <td>0</td>\n",
       "      <td>...</td>\n",
       "      <td>0</td>\n",
       "      <td>0</td>\n",
       "      <td>0</td>\n",
       "      <td>0</td>\n",
       "      <td>0</td>\n",
       "      <td>0</td>\n",
       "      <td>0</td>\n",
       "      <td>0</td>\n",
       "      <td>0</td>\n",
       "      <td>0</td>\n",
       "    </tr>\n",
       "    <tr>\n",
       "      <th>88</th>\n",
       "      <td>Taiwan</td>\n",
       "      <td>0.01</td>\n",
       "      <td>0.01</td>\n",
       "      <td>0.01</td>\n",
       "      <td>0.02</td>\n",
       "      <td>0.02</td>\n",
       "      <td>0.02</td>\n",
       "      <td>0.04</td>\n",
       "      <td>0.05</td>\n",
       "      <td>0.05</td>\n",
       "      <td>...</td>\n",
       "      <td>0.64</td>\n",
       "      <td>0.65</td>\n",
       "      <td>0.68</td>\n",
       "      <td>0.73</td>\n",
       "      <td>0.75</td>\n",
       "      <td>0.84</td>\n",
       "      <td>0.85</td>\n",
       "      <td>0.84</td>\n",
       "      <td>0.90</td>\n",
       "      <td>0.98</td>\n",
       "    </tr>\n",
       "    <tr>\n",
       "      <th>89</th>\n",
       "      <td>Thailand</td>\n",
       "      <td>0</td>\n",
       "      <td>0</td>\n",
       "      <td>0</td>\n",
       "      <td>0</td>\n",
       "      <td>0</td>\n",
       "      <td>0</td>\n",
       "      <td>0</td>\n",
       "      <td>0</td>\n",
       "      <td>0</td>\n",
       "      <td>...</td>\n",
       "      <td>1.75</td>\n",
       "      <td>1.76</td>\n",
       "      <td>1.80</td>\n",
       "      <td>1.83</td>\n",
       "      <td>1.82</td>\n",
       "      <td>1.80</td>\n",
       "      <td>1.80</td>\n",
       "      <td>1.83</td>\n",
       "      <td>1.69</td>\n",
       "      <td>1.69</td>\n",
       "    </tr>\n",
       "    <tr>\n",
       "      <th>90</th>\n",
       "      <td>Vietnam</td>\n",
       "      <td>0</td>\n",
       "      <td>0</td>\n",
       "      <td>0</td>\n",
       "      <td>0</td>\n",
       "      <td>0</td>\n",
       "      <td>0</td>\n",
       "      <td>0</td>\n",
       "      <td>0</td>\n",
       "      <td>0</td>\n",
       "      <td>...</td>\n",
       "      <td>0.32</td>\n",
       "      <td>0.34</td>\n",
       "      <td>0.35</td>\n",
       "      <td>0.37</td>\n",
       "      <td>0.37</td>\n",
       "      <td>0.34</td>\n",
       "      <td>0.35</td>\n",
       "      <td>0.35</td>\n",
       "      <td>0.32</td>\n",
       "      <td>0.26</td>\n",
       "    </tr>\n",
       "    <tr>\n",
       "      <th>91</th>\n",
       "      <td>Other Asia Pacific</td>\n",
       "      <td>0.01</td>\n",
       "      <td>0.01</td>\n",
       "      <td>0.02</td>\n",
       "      <td>0.02</td>\n",
       "      <td>0.02</td>\n",
       "      <td>0.02</td>\n",
       "      <td>0.02</td>\n",
       "      <td>0.02</td>\n",
       "      <td>0.04</td>\n",
       "      <td>...</td>\n",
       "      <td>0.31</td>\n",
       "      <td>0.30</td>\n",
       "      <td>0.35</td>\n",
       "      <td>0.39</td>\n",
       "      <td>0.38</td>\n",
       "      <td>0.38</td>\n",
       "      <td>0.39</td>\n",
       "      <td>0.41</td>\n",
       "      <td>0.42</td>\n",
       "      <td>0.40</td>\n",
       "    </tr>\n",
       "  </tbody>\n",
       "</table>\n",
       "<p>92 rows × 58 columns</p>\n",
       "</div>"
      ],
      "text/plain": [
       "                  Pais   1965   1966   1967   1968   1969   1970   1971  \\\n",
       "0               Canada   0.78   0.85   0.91   1.01   1.13   1.25   1.33   \n",
       "1               Mexico   0.29   0.31   0.26   0.28   0.35   0.36   0.37   \n",
       "2                   US  14.97  16.14  17.04  18.24  19.63  20.70  21.34   \n",
       "3            Argentina   0.15   0.16   0.17   0.19   0.19   0.21   0.23   \n",
       "4               Brazil      0      0      0      0      0      0      0   \n",
       "..                 ...    ...    ...    ...    ...    ...    ...    ...   \n",
       "87           Sri Lanka      0      0      0      0      0      0      0   \n",
       "88              Taiwan   0.01   0.01   0.01   0.02   0.02   0.02   0.04   \n",
       "89            Thailand      0      0      0      0      0      0      0   \n",
       "90             Vietnam      0      0      0      0      0      0      0   \n",
       "91  Other Asia Pacific   0.01   0.01   0.02   0.02   0.02   0.02   0.02   \n",
       "\n",
       "     1972   1973  ...   2012   2013   2014   2015   2016   2017   2018   2019  \\\n",
       "0    1.50   1.59  ...   3.58   3.80   3.95   3.97   3.78   3.96   4.16   4.22   \n",
       "1    0.40   0.44  ...   2.65   2.80   2.84   2.91   2.99   3.10   3.15   3.17   \n",
       "2   21.55  21.38  ...  24.77  25.45  26.00  26.77  26.97  26.64  29.58  30.62   \n",
       "3    0.26   0.29  ...   1.64   1.66   1.66   1.68   1.74   1.74   1.75   1.68   \n",
       "4    0.01   0.01  ...   1.17   1.38   1.46   1.55   1.34   1.35   1.29   1.29   \n",
       "..    ...    ...  ...    ...    ...    ...    ...    ...    ...    ...    ...   \n",
       "87      0      0  ...      0      0      0      0      0      0      0      0   \n",
       "88   0.05   0.05  ...   0.64   0.65   0.68   0.73   0.75   0.84   0.85   0.84   \n",
       "89      0      0  ...   1.75   1.76   1.80   1.83   1.82   1.80   1.80   1.83   \n",
       "90      0      0  ...   0.32   0.34   0.35   0.37   0.37   0.34   0.35   0.35   \n",
       "91   0.02   0.04  ...   0.31   0.30   0.35   0.39   0.38   0.38   0.39   0.41   \n",
       "\n",
       "     2020   2021  \n",
       "0    4.08   4.29  \n",
       "1    3.01   3.18  \n",
       "2   29.95  29.76  \n",
       "3    1.58   1.65  \n",
       "4    1.13   1.46  \n",
       "..    ...    ...  \n",
       "87      0      0  \n",
       "88   0.90   0.98  \n",
       "89   1.69   1.69  \n",
       "90   0.32   0.26  \n",
       "91   0.42   0.40  \n",
       "\n",
       "[92 rows x 58 columns]"
      ]
     },
     "execution_count": 96,
     "metadata": {},
     "output_type": "execute_result"
    }
   ],
   "source": [
    "g_n=pd.read_csv('https://raw.githubusercontent.com/MAKACT/proyectoConsumoEnergiaEquipo5/main/Consumo%20Gas%20Natural%20Exajoules.csv')\n",
    "g_n=g_n.drop(columns={'2021.1','2011-21','2021.2'})\n",
    "g_n.fillna(0, inplace=True)\n",
    "g_n.replace(\"-\", 0, inplace=True)\n",
    "g_n.replace(\"^\", 0, inplace=True)\n",
    "g_n.replace(\"♦\", 0, inplace=True)\n",
    "indexN=g_n[g_n['Pais']=='Other Europe (BP)'].index\n",
    "g_n.drop(indexN, inplace=True)\n",
    "indexN=g_n[g_n['Pais']=='Other CIS (BP)'].index\n",
    "g_n.drop(indexN, inplace=True)\n",
    "indexN=g_n[g_n['Pais']=='Other Middle East (BP)'].index\n",
    "g_n.drop(indexN, inplace=True)\n",
    "indexN=g_n[g_n['Pais']=='Other Western Africa (BP)'].index\n",
    "g_n.drop(indexN, inplace=True)\n",
    "indexN=g_n[g_n['Pais']=='Other Northern Africa (BP)'].index\n",
    "g_n.drop(indexN, inplace=True)\n",
    "indexN=g_n[g_n['Pais']=='Other Asia Pacific (BP)'].index\n",
    "g_n.drop(indexN, inplace=True)\n",
    "\n",
    "g_n"
   ]
  },
  {
   "cell_type": "code",
   "execution_count": 97,
   "metadata": {},
   "outputs": [
    {
     "data": {
      "text/plain": [
       "array(['Canada', 'Mexico', 'US', 'Argentina', 'Brazil', 'Chile',\n",
       "       'Colombia', 'Ecuador', 'Peru', 'Trinidad & Tobago', 'Venezuela',\n",
       "       'Central America', 'Other Caribbean', 'Other South America',\n",
       "       'Austria', 'Belgium', 'Bulgaria', 'Croatia', 'Cyprus',\n",
       "       'Czech Republic', 'Denmark', 'Estonia', 'Finland', 'France',\n",
       "       'Germany', 'Greece', 'Hungary', 'Iceland', 'Ireland', 'Italy',\n",
       "       'Latvia', 'Lithuania', 'Luxembourg', 'Netherlands',\n",
       "       'North Macedonia', 'Norway', 'Poland', 'Portugal', 'Romania',\n",
       "       'Slovakia', 'Slovenia', 'Spain', 'Sweden', 'Switzerland', 'Turkey',\n",
       "       'Ukraine', 'United Kingdom', 'Other Europe', 'Azerbaijan',\n",
       "       'Belarus', 'Kazakhstan', 'Russian Federation', 'Turkmenistan',\n",
       "       'USSR', 'Uzbekistan', 'Other CIS', 'Iran', 'Iraq', 'Israel',\n",
       "       'Kuwait', 'Oman', 'Qatar', 'Saudi Arabia', 'United Arab Emirates',\n",
       "       'Other Middle East', 'Algeria', 'Egypt', 'Morocco', 'South Africa',\n",
       "       'Eastern Africa', 'Middle Africa', 'Western Africa',\n",
       "       'Other Northern Africa', 'Other Southern Africa', 'Australia',\n",
       "       'Bangladesh', 'China', 'China Hong Kong SAR', 'India', 'Indonesia',\n",
       "       'Japan', 'Malaysia', 'New Zealand', 'Pakistan', 'Philippines',\n",
       "       'Singapore', 'South Korea', 'Sri Lanka', 'Taiwan', 'Thailand',\n",
       "       'Vietnam', 'Other Asia Pacific'], dtype=object)"
      ]
     },
     "execution_count": 97,
     "metadata": {},
     "output_type": "execute_result"
    }
   ],
   "source": [
    "g_n.Pais.unique()"
   ]
  },
  {
   "cell_type": "code",
   "execution_count": 24,
   "metadata": {},
   "outputs": [
    {
     "data": {
      "text/html": [
       "<div>\n",
       "<style scoped>\n",
       "    .dataframe tbody tr th:only-of-type {\n",
       "        vertical-align: middle;\n",
       "    }\n",
       "\n",
       "    .dataframe tbody tr th {\n",
       "        vertical-align: top;\n",
       "    }\n",
       "\n",
       "    .dataframe thead th {\n",
       "        text-align: right;\n",
       "    }\n",
       "</style>\n",
       "<table border=\"1\" class=\"dataframe\">\n",
       "  <thead>\n",
       "    <tr style=\"text-align: right;\">\n",
       "      <th></th>\n",
       "      <th>ID_Emisiones_CO2</th>\n",
       "      <th>Id_Pais</th>\n",
       "      <th>Id_anio</th>\n",
       "      <th>Emisiones_CO2</th>\n",
       "    </tr>\n",
       "  </thead>\n",
       "  <tbody>\n",
       "    <tr>\n",
       "      <th>0</th>\n",
       "      <td>1</td>\n",
       "      <td>44</td>\n",
       "      <td>26</td>\n",
       "      <td>480.4</td>\n",
       "    </tr>\n",
       "    <tr>\n",
       "      <th>1</th>\n",
       "      <td>2</td>\n",
       "      <td>160</td>\n",
       "      <td>26</td>\n",
       "      <td>315.9</td>\n",
       "    </tr>\n",
       "    <tr>\n",
       "      <th>2</th>\n",
       "      <td>3</td>\n",
       "      <td>297</td>\n",
       "      <td>26</td>\n",
       "      <td>5275.4</td>\n",
       "    </tr>\n",
       "    <tr>\n",
       "      <th>3</th>\n",
       "      <td>4</td>\n",
       "      <td>11</td>\n",
       "      <td>26</td>\n",
       "      <td>123.9</td>\n",
       "    </tr>\n",
       "    <tr>\n",
       "      <th>4</th>\n",
       "      <td>5</td>\n",
       "      <td>35</td>\n",
       "      <td>26</td>\n",
       "      <td>217.1</td>\n",
       "    </tr>\n",
       "    <tr>\n",
       "      <th>...</th>\n",
       "      <td>...</td>\n",
       "      <td>...</td>\n",
       "      <td>...</td>\n",
       "      <td>...</td>\n",
       "    </tr>\n",
       "    <tr>\n",
       "      <th>2619</th>\n",
       "      <td>2620</td>\n",
       "      <td>262</td>\n",
       "      <td>57</td>\n",
       "      <td>628.7</td>\n",
       "    </tr>\n",
       "    <tr>\n",
       "      <th>2620</th>\n",
       "      <td>2621</td>\n",
       "      <td>273</td>\n",
       "      <td>57</td>\n",
       "      <td>285.3</td>\n",
       "    </tr>\n",
       "    <tr>\n",
       "      <th>2621</th>\n",
       "      <td>2622</td>\n",
       "      <td>276</td>\n",
       "      <td>57</td>\n",
       "      <td>301.8</td>\n",
       "    </tr>\n",
       "    <tr>\n",
       "      <th>2622</th>\n",
       "      <td>2623</td>\n",
       "      <td>304</td>\n",
       "      <td>57</td>\n",
       "      <td>339.8</td>\n",
       "    </tr>\n",
       "    <tr>\n",
       "      <th>2623</th>\n",
       "      <td>2624</td>\n",
       "      <td>210</td>\n",
       "      <td>57</td>\n",
       "      <td>471.5</td>\n",
       "    </tr>\n",
       "  </tbody>\n",
       "</table>\n",
       "<p>2624 rows × 4 columns</p>\n",
       "</div>"
      ],
      "text/plain": [
       "      ID_Emisiones_CO2  Id_Pais  Id_anio  Emisiones_CO2\n",
       "0                    1       44       26          480.4\n",
       "1                    2      160       26          315.9\n",
       "2                    3      297       26         5275.4\n",
       "3                    4       11       26          123.9\n",
       "4                    5       35       26          217.1\n",
       "...                ...      ...      ...            ...\n",
       "2619              2620      262       57          628.7\n",
       "2620              2621      273       57          285.3\n",
       "2621              2622      276       57          301.8\n",
       "2622              2623      304       57          339.8\n",
       "2623              2624      210       57          471.5\n",
       "\n",
       "[2624 rows x 4 columns]"
      ]
     },
     "execution_count": 24,
     "metadata": {},
     "output_type": "execute_result"
    }
   ],
   "source": [
    "#query=('SELECT *FROM \"Emisiones_CO2\";')\n",
    "emisiones = pd.read_sql_query('SELECT *FROM \"Emisiones_CO2\";', con=conexion)\n",
    "emisiones"
   ]
  },
  {
   "cell_type": "code",
   "execution_count": 16,
   "metadata": {},
   "outputs": [
    {
     "data": {
      "text/html": [
       "<div>\n",
       "<style scoped>\n",
       "    .dataframe tbody tr th:only-of-type {\n",
       "        vertical-align: middle;\n",
       "    }\n",
       "\n",
       "    .dataframe tbody tr th {\n",
       "        vertical-align: top;\n",
       "    }\n",
       "\n",
       "    .dataframe thead th {\n",
       "        text-align: right;\n",
       "    }\n",
       "</style>\n",
       "<table border=\"1\" class=\"dataframe\">\n",
       "  <thead>\n",
       "    <tr style=\"text-align: right;\">\n",
       "      <th></th>\n",
       "      <th>Id_Pais</th>\n",
       "      <th>Codigo_pais</th>\n",
       "      <th>Pais</th>\n",
       "    </tr>\n",
       "  </thead>\n",
       "  <tbody>\n",
       "    <tr>\n",
       "      <th>0</th>\n",
       "      <td>1</td>\n",
       "      <td>AFG</td>\n",
       "      <td>Afghanistan</td>\n",
       "    </tr>\n",
       "    <tr>\n",
       "      <th>1</th>\n",
       "      <td>2</td>\n",
       "      <td>0</td>\n",
       "      <td>Africa</td>\n",
       "    </tr>\n",
       "    <tr>\n",
       "      <th>2</th>\n",
       "      <td>3</td>\n",
       "      <td>0</td>\n",
       "      <td>Africa (BP)</td>\n",
       "    </tr>\n",
       "    <tr>\n",
       "      <th>3</th>\n",
       "      <td>4</td>\n",
       "      <td>0</td>\n",
       "      <td>Africa (Shift)</td>\n",
       "    </tr>\n",
       "    <tr>\n",
       "      <th>4</th>\n",
       "      <td>5</td>\n",
       "      <td>ALB</td>\n",
       "      <td>Albania</td>\n",
       "    </tr>\n",
       "    <tr>\n",
       "      <th>...</th>\n",
       "      <td>...</td>\n",
       "      <td>...</td>\n",
       "      <td>...</td>\n",
       "    </tr>\n",
       "    <tr>\n",
       "      <th>309</th>\n",
       "      <td>310</td>\n",
       "      <td>0</td>\n",
       "      <td>World</td>\n",
       "    </tr>\n",
       "    <tr>\n",
       "      <th>310</th>\n",
       "      <td>311</td>\n",
       "      <td>YEM</td>\n",
       "      <td>Yemen</td>\n",
       "    </tr>\n",
       "    <tr>\n",
       "      <th>311</th>\n",
       "      <td>312</td>\n",
       "      <td>0</td>\n",
       "      <td>Yugoslavia</td>\n",
       "    </tr>\n",
       "    <tr>\n",
       "      <th>312</th>\n",
       "      <td>313</td>\n",
       "      <td>ZMB</td>\n",
       "      <td>Zambia</td>\n",
       "    </tr>\n",
       "    <tr>\n",
       "      <th>313</th>\n",
       "      <td>314</td>\n",
       "      <td>ZWE</td>\n",
       "      <td>Zimbabwe</td>\n",
       "    </tr>\n",
       "  </tbody>\n",
       "</table>\n",
       "<p>314 rows × 3 columns</p>\n",
       "</div>"
      ],
      "text/plain": [
       "     Id_Pais Codigo_pais            Pais\n",
       "0          1         AFG     Afghanistan\n",
       "1          2           0          Africa\n",
       "2          3           0     Africa (BP)\n",
       "3          4           0  Africa (Shift)\n",
       "4          5         ALB         Albania\n",
       "..       ...         ...             ...\n",
       "309      310           0           World\n",
       "310      311         YEM           Yemen\n",
       "311      312           0      Yugoslavia\n",
       "312      313         ZMB          Zambia\n",
       "313      314         ZWE        Zimbabwe\n",
       "\n",
       "[314 rows x 3 columns]"
      ]
     },
     "execution_count": 16,
     "metadata": {},
     "output_type": "execute_result"
    }
   ],
   "source": [
    "#query=('SELECT *FROM \"Paises\";')\n",
    "paises = pd.read_sql_query('SELECT *FROM \"Paises\";', con=conexion)\n",
    "paises"
   ]
  },
  {
   "cell_type": "code",
   "execution_count": 17,
   "metadata": {},
   "outputs": [
    {
     "data": {
      "text/html": [
       "<div>\n",
       "<style scoped>\n",
       "    .dataframe tbody tr th:only-of-type {\n",
       "        vertical-align: middle;\n",
       "    }\n",
       "\n",
       "    .dataframe tbody tr th {\n",
       "        vertical-align: top;\n",
       "    }\n",
       "\n",
       "    .dataframe thead th {\n",
       "        text-align: right;\n",
       "    }\n",
       "</style>\n",
       "<table border=\"1\" class=\"dataframe\">\n",
       "  <thead>\n",
       "    <tr style=\"text-align: right;\">\n",
       "      <th></th>\n",
       "      <th>Id_anio</th>\n",
       "      <th>Anio</th>\n",
       "    </tr>\n",
       "  </thead>\n",
       "  <tbody>\n",
       "    <tr>\n",
       "      <th>0</th>\n",
       "      <td>1</td>\n",
       "      <td>1965</td>\n",
       "    </tr>\n",
       "    <tr>\n",
       "      <th>1</th>\n",
       "      <td>2</td>\n",
       "      <td>1966</td>\n",
       "    </tr>\n",
       "    <tr>\n",
       "      <th>2</th>\n",
       "      <td>3</td>\n",
       "      <td>1967</td>\n",
       "    </tr>\n",
       "    <tr>\n",
       "      <th>3</th>\n",
       "      <td>4</td>\n",
       "      <td>1968</td>\n",
       "    </tr>\n",
       "    <tr>\n",
       "      <th>4</th>\n",
       "      <td>5</td>\n",
       "      <td>1969</td>\n",
       "    </tr>\n",
       "    <tr>\n",
       "      <th>5</th>\n",
       "      <td>6</td>\n",
       "      <td>1970</td>\n",
       "    </tr>\n",
       "    <tr>\n",
       "      <th>6</th>\n",
       "      <td>7</td>\n",
       "      <td>1971</td>\n",
       "    </tr>\n",
       "    <tr>\n",
       "      <th>7</th>\n",
       "      <td>8</td>\n",
       "      <td>1972</td>\n",
       "    </tr>\n",
       "    <tr>\n",
       "      <th>8</th>\n",
       "      <td>9</td>\n",
       "      <td>1973</td>\n",
       "    </tr>\n",
       "    <tr>\n",
       "      <th>9</th>\n",
       "      <td>10</td>\n",
       "      <td>1974</td>\n",
       "    </tr>\n",
       "    <tr>\n",
       "      <th>10</th>\n",
       "      <td>11</td>\n",
       "      <td>1975</td>\n",
       "    </tr>\n",
       "    <tr>\n",
       "      <th>11</th>\n",
       "      <td>12</td>\n",
       "      <td>1976</td>\n",
       "    </tr>\n",
       "    <tr>\n",
       "      <th>12</th>\n",
       "      <td>13</td>\n",
       "      <td>1977</td>\n",
       "    </tr>\n",
       "    <tr>\n",
       "      <th>13</th>\n",
       "      <td>14</td>\n",
       "      <td>1978</td>\n",
       "    </tr>\n",
       "    <tr>\n",
       "      <th>14</th>\n",
       "      <td>15</td>\n",
       "      <td>1979</td>\n",
       "    </tr>\n",
       "    <tr>\n",
       "      <th>15</th>\n",
       "      <td>16</td>\n",
       "      <td>1980</td>\n",
       "    </tr>\n",
       "    <tr>\n",
       "      <th>16</th>\n",
       "      <td>17</td>\n",
       "      <td>1981</td>\n",
       "    </tr>\n",
       "    <tr>\n",
       "      <th>17</th>\n",
       "      <td>18</td>\n",
       "      <td>1982</td>\n",
       "    </tr>\n",
       "    <tr>\n",
       "      <th>18</th>\n",
       "      <td>19</td>\n",
       "      <td>1983</td>\n",
       "    </tr>\n",
       "    <tr>\n",
       "      <th>19</th>\n",
       "      <td>20</td>\n",
       "      <td>1984</td>\n",
       "    </tr>\n",
       "    <tr>\n",
       "      <th>20</th>\n",
       "      <td>21</td>\n",
       "      <td>1985</td>\n",
       "    </tr>\n",
       "    <tr>\n",
       "      <th>21</th>\n",
       "      <td>22</td>\n",
       "      <td>1986</td>\n",
       "    </tr>\n",
       "    <tr>\n",
       "      <th>22</th>\n",
       "      <td>23</td>\n",
       "      <td>1987</td>\n",
       "    </tr>\n",
       "    <tr>\n",
       "      <th>23</th>\n",
       "      <td>24</td>\n",
       "      <td>1988</td>\n",
       "    </tr>\n",
       "    <tr>\n",
       "      <th>24</th>\n",
       "      <td>25</td>\n",
       "      <td>1989</td>\n",
       "    </tr>\n",
       "    <tr>\n",
       "      <th>25</th>\n",
       "      <td>26</td>\n",
       "      <td>1990</td>\n",
       "    </tr>\n",
       "    <tr>\n",
       "      <th>26</th>\n",
       "      <td>27</td>\n",
       "      <td>1991</td>\n",
       "    </tr>\n",
       "    <tr>\n",
       "      <th>27</th>\n",
       "      <td>28</td>\n",
       "      <td>1992</td>\n",
       "    </tr>\n",
       "    <tr>\n",
       "      <th>28</th>\n",
       "      <td>29</td>\n",
       "      <td>1993</td>\n",
       "    </tr>\n",
       "    <tr>\n",
       "      <th>29</th>\n",
       "      <td>30</td>\n",
       "      <td>1994</td>\n",
       "    </tr>\n",
       "    <tr>\n",
       "      <th>30</th>\n",
       "      <td>31</td>\n",
       "      <td>1995</td>\n",
       "    </tr>\n",
       "    <tr>\n",
       "      <th>31</th>\n",
       "      <td>32</td>\n",
       "      <td>1996</td>\n",
       "    </tr>\n",
       "    <tr>\n",
       "      <th>32</th>\n",
       "      <td>33</td>\n",
       "      <td>1997</td>\n",
       "    </tr>\n",
       "    <tr>\n",
       "      <th>33</th>\n",
       "      <td>34</td>\n",
       "      <td>1998</td>\n",
       "    </tr>\n",
       "    <tr>\n",
       "      <th>34</th>\n",
       "      <td>35</td>\n",
       "      <td>1999</td>\n",
       "    </tr>\n",
       "    <tr>\n",
       "      <th>35</th>\n",
       "      <td>36</td>\n",
       "      <td>2000</td>\n",
       "    </tr>\n",
       "    <tr>\n",
       "      <th>36</th>\n",
       "      <td>37</td>\n",
       "      <td>2001</td>\n",
       "    </tr>\n",
       "    <tr>\n",
       "      <th>37</th>\n",
       "      <td>38</td>\n",
       "      <td>2002</td>\n",
       "    </tr>\n",
       "    <tr>\n",
       "      <th>38</th>\n",
       "      <td>39</td>\n",
       "      <td>2003</td>\n",
       "    </tr>\n",
       "    <tr>\n",
       "      <th>39</th>\n",
       "      <td>40</td>\n",
       "      <td>2004</td>\n",
       "    </tr>\n",
       "    <tr>\n",
       "      <th>40</th>\n",
       "      <td>41</td>\n",
       "      <td>2005</td>\n",
       "    </tr>\n",
       "    <tr>\n",
       "      <th>41</th>\n",
       "      <td>42</td>\n",
       "      <td>2006</td>\n",
       "    </tr>\n",
       "    <tr>\n",
       "      <th>42</th>\n",
       "      <td>43</td>\n",
       "      <td>2007</td>\n",
       "    </tr>\n",
       "    <tr>\n",
       "      <th>43</th>\n",
       "      <td>44</td>\n",
       "      <td>2008</td>\n",
       "    </tr>\n",
       "    <tr>\n",
       "      <th>44</th>\n",
       "      <td>45</td>\n",
       "      <td>2009</td>\n",
       "    </tr>\n",
       "    <tr>\n",
       "      <th>45</th>\n",
       "      <td>46</td>\n",
       "      <td>2010</td>\n",
       "    </tr>\n",
       "    <tr>\n",
       "      <th>46</th>\n",
       "      <td>47</td>\n",
       "      <td>2011</td>\n",
       "    </tr>\n",
       "    <tr>\n",
       "      <th>47</th>\n",
       "      <td>48</td>\n",
       "      <td>2012</td>\n",
       "    </tr>\n",
       "    <tr>\n",
       "      <th>48</th>\n",
       "      <td>49</td>\n",
       "      <td>2013</td>\n",
       "    </tr>\n",
       "    <tr>\n",
       "      <th>49</th>\n",
       "      <td>50</td>\n",
       "      <td>2014</td>\n",
       "    </tr>\n",
       "    <tr>\n",
       "      <th>50</th>\n",
       "      <td>51</td>\n",
       "      <td>2015</td>\n",
       "    </tr>\n",
       "    <tr>\n",
       "      <th>51</th>\n",
       "      <td>52</td>\n",
       "      <td>2016</td>\n",
       "    </tr>\n",
       "    <tr>\n",
       "      <th>52</th>\n",
       "      <td>53</td>\n",
       "      <td>2017</td>\n",
       "    </tr>\n",
       "    <tr>\n",
       "      <th>53</th>\n",
       "      <td>54</td>\n",
       "      <td>2018</td>\n",
       "    </tr>\n",
       "    <tr>\n",
       "      <th>54</th>\n",
       "      <td>55</td>\n",
       "      <td>2019</td>\n",
       "    </tr>\n",
       "    <tr>\n",
       "      <th>55</th>\n",
       "      <td>56</td>\n",
       "      <td>2020</td>\n",
       "    </tr>\n",
       "    <tr>\n",
       "      <th>56</th>\n",
       "      <td>57</td>\n",
       "      <td>2021</td>\n",
       "    </tr>\n",
       "    <tr>\n",
       "      <th>57</th>\n",
       "      <td>58</td>\n",
       "      <td>2022</td>\n",
       "    </tr>\n",
       "  </tbody>\n",
       "</table>\n",
       "</div>"
      ],
      "text/plain": [
       "    Id_anio  Anio\n",
       "0         1  1965\n",
       "1         2  1966\n",
       "2         3  1967\n",
       "3         4  1968\n",
       "4         5  1969\n",
       "5         6  1970\n",
       "6         7  1971\n",
       "7         8  1972\n",
       "8         9  1973\n",
       "9        10  1974\n",
       "10       11  1975\n",
       "11       12  1976\n",
       "12       13  1977\n",
       "13       14  1978\n",
       "14       15  1979\n",
       "15       16  1980\n",
       "16       17  1981\n",
       "17       18  1982\n",
       "18       19  1983\n",
       "19       20  1984\n",
       "20       21  1985\n",
       "21       22  1986\n",
       "22       23  1987\n",
       "23       24  1988\n",
       "24       25  1989\n",
       "25       26  1990\n",
       "26       27  1991\n",
       "27       28  1992\n",
       "28       29  1993\n",
       "29       30  1994\n",
       "30       31  1995\n",
       "31       32  1996\n",
       "32       33  1997\n",
       "33       34  1998\n",
       "34       35  1999\n",
       "35       36  2000\n",
       "36       37  2001\n",
       "37       38  2002\n",
       "38       39  2003\n",
       "39       40  2004\n",
       "40       41  2005\n",
       "41       42  2006\n",
       "42       43  2007\n",
       "43       44  2008\n",
       "44       45  2009\n",
       "45       46  2010\n",
       "46       47  2011\n",
       "47       48  2012\n",
       "48       49  2013\n",
       "49       50  2014\n",
       "50       51  2015\n",
       "51       52  2016\n",
       "52       53  2017\n",
       "53       54  2018\n",
       "54       55  2019\n",
       "55       56  2020\n",
       "56       57  2021\n",
       "57       58  2022"
      ]
     },
     "execution_count": 17,
     "metadata": {},
     "output_type": "execute_result"
    }
   ],
   "source": [
    "query=('SELECT *FROM \"Años\";')\n",
    "años = pd.read_sql_query('SELECT *FROM \"Años\";', con=conexion)\n",
    "años"
   ]
  },
  {
   "cell_type": "code",
   "execution_count": 73,
   "metadata": {},
   "outputs": [
    {
     "ename": "NameError",
     "evalue": "name 'emisiones' is not defined",
     "output_type": "error",
     "traceback": [
      "\u001b[1;31m---------------------------------------------------------------------------\u001b[0m",
      "\u001b[1;31mNameError\u001b[0m                                 Traceback (most recent call last)",
      "\u001b[1;32mc:\\Users\\Usuario\\ProyectoEmisionesGit\\Proyecto_Grupal_Grupo05\\analisisEmisiones.ipynb Celda 6\u001b[0m in \u001b[0;36m<module>\u001b[1;34m\u001b[0m\n\u001b[1;32m----> <a href='vscode-notebook-cell:/c%3A/Users/Usuario/ProyectoEmisionesGit/Proyecto_Grupal_Grupo05/analisisEmisiones.ipynb#W5sZmlsZQ%3D%3D?line=0'>1</a>\u001b[0m emisiones80\u001b[39m=\u001b[39mpd\u001b[39m.\u001b[39mmerge(emisiones,paises,on\u001b[39m=\u001b[39m\u001b[39m'\u001b[39m\u001b[39mId_Pais\u001b[39m\u001b[39m'\u001b[39m)\n\u001b[0;32m      <a href='vscode-notebook-cell:/c%3A/Users/Usuario/ProyectoEmisionesGit/Proyecto_Grupal_Grupo05/analisisEmisiones.ipynb#W5sZmlsZQ%3D%3D?line=1'>2</a>\u001b[0m emisiones80\u001b[39m=\u001b[39mpd\u001b[39m.\u001b[39mmerge(emisiones80,años,on\u001b[39m=\u001b[39m\u001b[39m'\u001b[39m\u001b[39mId_anio\u001b[39m\u001b[39m'\u001b[39m)\n\u001b[0;32m      <a href='vscode-notebook-cell:/c%3A/Users/Usuario/ProyectoEmisionesGit/Proyecto_Grupal_Grupo05/analisisEmisiones.ipynb#W5sZmlsZQ%3D%3D?line=2'>3</a>\u001b[0m emisiones80\u001b[39m.\u001b[39mdrop(columns\u001b[39m=\u001b[39m{\u001b[39m'\u001b[39m\u001b[39mId_Pais\u001b[39m\u001b[39m'\u001b[39m,\u001b[39m'\u001b[39m\u001b[39mId_anio\u001b[39m\u001b[39m'\u001b[39m}, inplace\u001b[39m=\u001b[39m\u001b[39mTrue\u001b[39;00m)\n",
      "\u001b[1;31mNameError\u001b[0m: name 'emisiones' is not defined"
     ]
    }
   ],
   "source": [
    "emisiones80=pd.merge(emisiones,paises,on='Id_Pais')\n",
    "emisiones80=pd.merge(emisiones80,años,on='Id_anio')\n",
    "emisiones80.drop(columns={'Id_Pais','Id_anio'}, inplace=True)\n",
    "emisiones80"
   ]
  },
  {
   "cell_type": "code",
   "execution_count": 15,
   "metadata": {},
   "outputs": [
    {
     "data": {
      "text/plain": [
       "ID_Emisiones_CO2      int64\n",
       "Emisiones_CO2       float64\n",
       "Codigo_pais          object\n",
       "Pais                 object\n",
       "Anio                  int64\n",
       "dtype: object"
      ]
     },
     "execution_count": 15,
     "metadata": {},
     "output_type": "execute_result"
    }
   ],
   "source": [
    "emisiones80.dtypes"
   ]
  },
  {
   "cell_type": "code",
   "execution_count": 28,
   "metadata": {},
   "outputs": [
    {
     "data": {
      "text/html": [
       "<div>\n",
       "<style scoped>\n",
       "    .dataframe tbody tr th:only-of-type {\n",
       "        vertical-align: middle;\n",
       "    }\n",
       "\n",
       "    .dataframe tbody tr th {\n",
       "        vertical-align: top;\n",
       "    }\n",
       "\n",
       "    .dataframe thead th {\n",
       "        text-align: right;\n",
       "    }\n",
       "</style>\n",
       "<table border=\"1\" class=\"dataframe\">\n",
       "  <thead>\n",
       "    <tr style=\"text-align: right;\">\n",
       "      <th></th>\n",
       "      <th>ID_Emisiones_CO2</th>\n",
       "      <th>Emisiones_CO2</th>\n",
       "    </tr>\n",
       "    <tr>\n",
       "      <th>Anio</th>\n",
       "      <th></th>\n",
       "      <th></th>\n",
       "    </tr>\n",
       "  </thead>\n",
       "  <tbody>\n",
       "    <tr>\n",
       "      <th>1990</th>\n",
       "      <td>38.676923</td>\n",
       "      <td>349.035385</td>\n",
       "    </tr>\n",
       "    <tr>\n",
       "      <th>1991</th>\n",
       "      <td>120.676923</td>\n",
       "      <td>349.596923</td>\n",
       "    </tr>\n",
       "    <tr>\n",
       "      <th>1992</th>\n",
       "      <td>202.676923</td>\n",
       "      <td>350.026154</td>\n",
       "    </tr>\n",
       "    <tr>\n",
       "      <th>1993</th>\n",
       "      <td>284.676923</td>\n",
       "      <td>350.680000</td>\n",
       "    </tr>\n",
       "    <tr>\n",
       "      <th>1994</th>\n",
       "      <td>366.676923</td>\n",
       "      <td>354.147692</td>\n",
       "    </tr>\n",
       "    <tr>\n",
       "      <th>1995</th>\n",
       "      <td>448.676923</td>\n",
       "      <td>359.796923</td>\n",
       "    </tr>\n",
       "    <tr>\n",
       "      <th>1996</th>\n",
       "      <td>530.676923</td>\n",
       "      <td>369.423077</td>\n",
       "    </tr>\n",
       "    <tr>\n",
       "      <th>1997</th>\n",
       "      <td>612.676923</td>\n",
       "      <td>371.893846</td>\n",
       "    </tr>\n",
       "    <tr>\n",
       "      <th>1998</th>\n",
       "      <td>694.676923</td>\n",
       "      <td>372.772308</td>\n",
       "    </tr>\n",
       "    <tr>\n",
       "      <th>1999</th>\n",
       "      <td>776.676923</td>\n",
       "      <td>377.084615</td>\n",
       "    </tr>\n",
       "    <tr>\n",
       "      <th>2000</th>\n",
       "      <td>858.676923</td>\n",
       "      <td>385.916923</td>\n",
       "    </tr>\n",
       "    <tr>\n",
       "      <th>2001</th>\n",
       "      <td>940.676923</td>\n",
       "      <td>390.976923</td>\n",
       "    </tr>\n",
       "    <tr>\n",
       "      <th>2002</th>\n",
       "      <td>1022.676923</td>\n",
       "      <td>399.746154</td>\n",
       "    </tr>\n",
       "    <tr>\n",
       "      <th>2003</th>\n",
       "      <td>1104.676923</td>\n",
       "      <td>419.949231</td>\n",
       "    </tr>\n",
       "    <tr>\n",
       "      <th>2004</th>\n",
       "      <td>1186.676923</td>\n",
       "      <td>441.878462</td>\n",
       "    </tr>\n",
       "    <tr>\n",
       "      <th>2005</th>\n",
       "      <td>1268.676923</td>\n",
       "      <td>460.272308</td>\n",
       "    </tr>\n",
       "    <tr>\n",
       "      <th>2006</th>\n",
       "      <td>1350.676923</td>\n",
       "      <td>475.640000</td>\n",
       "    </tr>\n",
       "    <tr>\n",
       "      <th>2007</th>\n",
       "      <td>1432.676923</td>\n",
       "      <td>492.638462</td>\n",
       "    </tr>\n",
       "    <tr>\n",
       "      <th>2008</th>\n",
       "      <td>1514.676923</td>\n",
       "      <td>496.275385</td>\n",
       "    </tr>\n",
       "    <tr>\n",
       "      <th>2009</th>\n",
       "      <td>1596.676923</td>\n",
       "      <td>486.260000</td>\n",
       "    </tr>\n",
       "    <tr>\n",
       "      <th>2010</th>\n",
       "      <td>1678.676923</td>\n",
       "      <td>508.141538</td>\n",
       "    </tr>\n",
       "    <tr>\n",
       "      <th>2011</th>\n",
       "      <td>1760.676923</td>\n",
       "      <td>522.595385</td>\n",
       "    </tr>\n",
       "    <tr>\n",
       "      <th>2012</th>\n",
       "      <td>1842.676923</td>\n",
       "      <td>527.455385</td>\n",
       "    </tr>\n",
       "    <tr>\n",
       "      <th>2013</th>\n",
       "      <td>1924.676923</td>\n",
       "      <td>535.073846</td>\n",
       "    </tr>\n",
       "    <tr>\n",
       "      <th>2014</th>\n",
       "      <td>2006.676923</td>\n",
       "      <td>537.084615</td>\n",
       "    </tr>\n",
       "    <tr>\n",
       "      <th>2015</th>\n",
       "      <td>2088.676923</td>\n",
       "      <td>534.887692</td>\n",
       "    </tr>\n",
       "    <tr>\n",
       "      <th>2016</th>\n",
       "      <td>2170.676923</td>\n",
       "      <td>536.921538</td>\n",
       "    </tr>\n",
       "    <tr>\n",
       "      <th>2017</th>\n",
       "      <td>2252.676923</td>\n",
       "      <td>544.369231</td>\n",
       "    </tr>\n",
       "    <tr>\n",
       "      <th>2018</th>\n",
       "      <td>2334.676923</td>\n",
       "      <td>557.343077</td>\n",
       "    </tr>\n",
       "    <tr>\n",
       "      <th>2019</th>\n",
       "      <td>2416.676923</td>\n",
       "      <td>558.224615</td>\n",
       "    </tr>\n",
       "    <tr>\n",
       "      <th>2020</th>\n",
       "      <td>2498.676923</td>\n",
       "      <td>527.316923</td>\n",
       "    </tr>\n",
       "    <tr>\n",
       "      <th>2021</th>\n",
       "      <td>2580.676923</td>\n",
       "      <td>556.804615</td>\n",
       "    </tr>\n",
       "  </tbody>\n",
       "</table>\n",
       "</div>"
      ],
      "text/plain": [
       "      ID_Emisiones_CO2  Emisiones_CO2\n",
       "Anio                                 \n",
       "1990         38.676923     349.035385\n",
       "1991        120.676923     349.596923\n",
       "1992        202.676923     350.026154\n",
       "1993        284.676923     350.680000\n",
       "1994        366.676923     354.147692\n",
       "1995        448.676923     359.796923\n",
       "1996        530.676923     369.423077\n",
       "1997        612.676923     371.893846\n",
       "1998        694.676923     372.772308\n",
       "1999        776.676923     377.084615\n",
       "2000        858.676923     385.916923\n",
       "2001        940.676923     390.976923\n",
       "2002       1022.676923     399.746154\n",
       "2003       1104.676923     419.949231\n",
       "2004       1186.676923     441.878462\n",
       "2005       1268.676923     460.272308\n",
       "2006       1350.676923     475.640000\n",
       "2007       1432.676923     492.638462\n",
       "2008       1514.676923     496.275385\n",
       "2009       1596.676923     486.260000\n",
       "2010       1678.676923     508.141538\n",
       "2011       1760.676923     522.595385\n",
       "2012       1842.676923     527.455385\n",
       "2013       1924.676923     535.073846\n",
       "2014       2006.676923     537.084615\n",
       "2015       2088.676923     534.887692\n",
       "2016       2170.676923     536.921538\n",
       "2017       2252.676923     544.369231\n",
       "2018       2334.676923     557.343077\n",
       "2019       2416.676923     558.224615\n",
       "2020       2498.676923     527.316923\n",
       "2021       2580.676923     556.804615"
      ]
     },
     "execution_count": 28,
     "metadata": {},
     "output_type": "execute_result"
    }
   ],
   "source": [
    "emisiones_año=emisiones80.groupby(by=['Anio']).mean()\n",
    "emisiones_año\n",
    "\n"
   ]
  },
  {
   "cell_type": "code",
   "execution_count": 71,
   "metadata": {},
   "outputs": [
    {
     "data": {
      "text/html": [
       "<div>\n",
       "<style scoped>\n",
       "    .dataframe tbody tr th:only-of-type {\n",
       "        vertical-align: middle;\n",
       "    }\n",
       "\n",
       "    .dataframe tbody tr th {\n",
       "        vertical-align: top;\n",
       "    }\n",
       "\n",
       "    .dataframe thead th {\n",
       "        text-align: right;\n",
       "    }\n",
       "</style>\n",
       "<table border=\"1\" class=\"dataframe\">\n",
       "  <thead>\n",
       "    <tr style=\"text-align: right;\">\n",
       "      <th></th>\n",
       "      <th>ID_Emisiones_CO2</th>\n",
       "      <th>Emisiones_CO2</th>\n",
       "      <th>Variacion</th>\n",
       "    </tr>\n",
       "    <tr>\n",
       "      <th>Anio</th>\n",
       "      <th></th>\n",
       "      <th></th>\n",
       "      <th></th>\n",
       "    </tr>\n",
       "  </thead>\n",
       "  <tbody>\n",
       "    <tr>\n",
       "      <th>1990</th>\n",
       "      <td>38.676923</td>\n",
       "      <td>349.035385</td>\n",
       "      <td>NaN</td>\n",
       "    </tr>\n",
       "    <tr>\n",
       "      <th>1991</th>\n",
       "      <td>120.676923</td>\n",
       "      <td>349.596923</td>\n",
       "      <td>0.160883</td>\n",
       "    </tr>\n",
       "    <tr>\n",
       "      <th>1992</th>\n",
       "      <td>202.676923</td>\n",
       "      <td>350.026154</td>\n",
       "      <td>0.122779</td>\n",
       "    </tr>\n",
       "    <tr>\n",
       "      <th>1993</th>\n",
       "      <td>284.676923</td>\n",
       "      <td>350.680000</td>\n",
       "      <td>0.186799</td>\n",
       "    </tr>\n",
       "    <tr>\n",
       "      <th>1994</th>\n",
       "      <td>366.676923</td>\n",
       "      <td>354.147692</td>\n",
       "      <td>0.988848</td>\n",
       "    </tr>\n",
       "    <tr>\n",
       "      <th>1995</th>\n",
       "      <td>448.676923</td>\n",
       "      <td>359.796923</td>\n",
       "      <td>1.595162</td>\n",
       "    </tr>\n",
       "    <tr>\n",
       "      <th>1996</th>\n",
       "      <td>530.676923</td>\n",
       "      <td>369.423077</td>\n",
       "      <td>2.675441</td>\n",
       "    </tr>\n",
       "    <tr>\n",
       "      <th>1997</th>\n",
       "      <td>612.676923</td>\n",
       "      <td>371.893846</td>\n",
       "      <td>0.668818</td>\n",
       "    </tr>\n",
       "    <tr>\n",
       "      <th>1998</th>\n",
       "      <td>694.676923</td>\n",
       "      <td>372.772308</td>\n",
       "      <td>0.236213</td>\n",
       "    </tr>\n",
       "    <tr>\n",
       "      <th>1999</th>\n",
       "      <td>776.676923</td>\n",
       "      <td>377.084615</td>\n",
       "      <td>1.156821</td>\n",
       "    </tr>\n",
       "    <tr>\n",
       "      <th>2000</th>\n",
       "      <td>858.676923</td>\n",
       "      <td>385.916923</td>\n",
       "      <td>2.342261</td>\n",
       "    </tr>\n",
       "    <tr>\n",
       "      <th>2001</th>\n",
       "      <td>940.676923</td>\n",
       "      <td>390.976923</td>\n",
       "      <td>1.311163</td>\n",
       "    </tr>\n",
       "    <tr>\n",
       "      <th>2002</th>\n",
       "      <td>1022.676923</td>\n",
       "      <td>399.746154</td>\n",
       "      <td>2.242902</td>\n",
       "    </tr>\n",
       "    <tr>\n",
       "      <th>2003</th>\n",
       "      <td>1104.676923</td>\n",
       "      <td>419.949231</td>\n",
       "      <td>5.053977</td>\n",
       "    </tr>\n",
       "    <tr>\n",
       "      <th>2004</th>\n",
       "      <td>1186.676923</td>\n",
       "      <td>441.878462</td>\n",
       "      <td>5.221877</td>\n",
       "    </tr>\n",
       "    <tr>\n",
       "      <th>2005</th>\n",
       "      <td>1268.676923</td>\n",
       "      <td>460.272308</td>\n",
       "      <td>4.162648</td>\n",
       "    </tr>\n",
       "    <tr>\n",
       "      <th>2006</th>\n",
       "      <td>1350.676923</td>\n",
       "      <td>475.640000</td>\n",
       "      <td>3.338826</td>\n",
       "    </tr>\n",
       "    <tr>\n",
       "      <th>2007</th>\n",
       "      <td>1432.676923</td>\n",
       "      <td>492.638462</td>\n",
       "      <td>3.573808</td>\n",
       "    </tr>\n",
       "    <tr>\n",
       "      <th>2008</th>\n",
       "      <td>1514.676923</td>\n",
       "      <td>496.275385</td>\n",
       "      <td>0.738254</td>\n",
       "    </tr>\n",
       "    <tr>\n",
       "      <th>2009</th>\n",
       "      <td>1596.676923</td>\n",
       "      <td>486.260000</td>\n",
       "      <td>-2.018110</td>\n",
       "    </tr>\n",
       "    <tr>\n",
       "      <th>2010</th>\n",
       "      <td>1678.676923</td>\n",
       "      <td>508.141538</td>\n",
       "      <td>4.499967</td>\n",
       "    </tr>\n",
       "    <tr>\n",
       "      <th>2011</th>\n",
       "      <td>1760.676923</td>\n",
       "      <td>522.595385</td>\n",
       "      <td>2.844453</td>\n",
       "    </tr>\n",
       "    <tr>\n",
       "      <th>2012</th>\n",
       "      <td>1842.676923</td>\n",
       "      <td>527.455385</td>\n",
       "      <td>0.929974</td>\n",
       "    </tr>\n",
       "    <tr>\n",
       "      <th>2013</th>\n",
       "      <td>1924.676923</td>\n",
       "      <td>535.073846</td>\n",
       "      <td>1.444380</td>\n",
       "    </tr>\n",
       "    <tr>\n",
       "      <th>2014</th>\n",
       "      <td>2006.676923</td>\n",
       "      <td>537.084615</td>\n",
       "      <td>0.375793</td>\n",
       "    </tr>\n",
       "    <tr>\n",
       "      <th>2015</th>\n",
       "      <td>2088.676923</td>\n",
       "      <td>534.887692</td>\n",
       "      <td>-0.409046</td>\n",
       "    </tr>\n",
       "    <tr>\n",
       "      <th>2016</th>\n",
       "      <td>2170.676923</td>\n",
       "      <td>536.921538</td>\n",
       "      <td>0.380238</td>\n",
       "    </tr>\n",
       "    <tr>\n",
       "      <th>2017</th>\n",
       "      <td>2252.676923</td>\n",
       "      <td>544.369231</td>\n",
       "      <td>1.387110</td>\n",
       "    </tr>\n",
       "    <tr>\n",
       "      <th>2018</th>\n",
       "      <td>2334.676923</td>\n",
       "      <td>557.343077</td>\n",
       "      <td>2.383281</td>\n",
       "    </tr>\n",
       "    <tr>\n",
       "      <th>2019</th>\n",
       "      <td>2416.676923</td>\n",
       "      <td>558.224615</td>\n",
       "      <td>0.158168</td>\n",
       "    </tr>\n",
       "    <tr>\n",
       "      <th>2020</th>\n",
       "      <td>2498.676923</td>\n",
       "      <td>527.316923</td>\n",
       "      <td>-5.536784</td>\n",
       "    </tr>\n",
       "    <tr>\n",
       "      <th>2021</th>\n",
       "      <td>2580.676923</td>\n",
       "      <td>556.804615</td>\n",
       "      <td>5.592025</td>\n",
       "    </tr>\n",
       "  </tbody>\n",
       "</table>\n",
       "</div>"
      ],
      "text/plain": [
       "      ID_Emisiones_CO2  Emisiones_CO2  Variacion\n",
       "Anio                                            \n",
       "1990         38.676923     349.035385        NaN\n",
       "1991        120.676923     349.596923   0.160883\n",
       "1992        202.676923     350.026154   0.122779\n",
       "1993        284.676923     350.680000   0.186799\n",
       "1994        366.676923     354.147692   0.988848\n",
       "1995        448.676923     359.796923   1.595162\n",
       "1996        530.676923     369.423077   2.675441\n",
       "1997        612.676923     371.893846   0.668818\n",
       "1998        694.676923     372.772308   0.236213\n",
       "1999        776.676923     377.084615   1.156821\n",
       "2000        858.676923     385.916923   2.342261\n",
       "2001        940.676923     390.976923   1.311163\n",
       "2002       1022.676923     399.746154   2.242902\n",
       "2003       1104.676923     419.949231   5.053977\n",
       "2004       1186.676923     441.878462   5.221877\n",
       "2005       1268.676923     460.272308   4.162648\n",
       "2006       1350.676923     475.640000   3.338826\n",
       "2007       1432.676923     492.638462   3.573808\n",
       "2008       1514.676923     496.275385   0.738254\n",
       "2009       1596.676923     486.260000  -2.018110\n",
       "2010       1678.676923     508.141538   4.499967\n",
       "2011       1760.676923     522.595385   2.844453\n",
       "2012       1842.676923     527.455385   0.929974\n",
       "2013       1924.676923     535.073846   1.444380\n",
       "2014       2006.676923     537.084615   0.375793\n",
       "2015       2088.676923     534.887692  -0.409046\n",
       "2016       2170.676923     536.921538   0.380238\n",
       "2017       2252.676923     544.369231   1.387110\n",
       "2018       2334.676923     557.343077   2.383281\n",
       "2019       2416.676923     558.224615   0.158168\n",
       "2020       2498.676923     527.316923  -5.536784\n",
       "2021       2580.676923     556.804615   5.592025"
      ]
     },
     "execution_count": 71,
     "metadata": {},
     "output_type": "execute_result"
    }
   ],
   "source": [
    "emisiones_año['Variacion']=(emisiones_año['Emisiones_CO2'].pct_change())*100\n",
    "emisiones_año"
   ]
  },
  {
   "cell_type": "code",
   "execution_count": 85,
   "metadata": {},
   "outputs": [
    {
     "data": {
      "application/vnd.plotly.v1+json": {
       "config": {
        "plotlyServerURL": "https://plot.ly"
       },
       "data": [
        {
         "mode": "lines",
         "type": "scatter",
         "x": [
          1990,
          1991,
          1992,
          1993,
          1994,
          1995,
          1996,
          1997,
          1998,
          1999,
          2000,
          2001,
          2002,
          2003,
          2004,
          2005,
          2006,
          2007,
          2008,
          2009,
          2010,
          2011,
          2012,
          2013,
          2014,
          2015,
          2016,
          2017,
          2018,
          2019,
          2020,
          2021
         ],
         "y": [
          null,
          0.16088296095173593,
          0.12277876059463289,
          0.1867992281895381,
          0.988848040290935,
          1.5951623833602602,
          2.675440846973509,
          0.6688183237896883,
          0.23621298054450346,
          1.1568208269019609,
          2.3422614797739882,
          1.3111630243256567,
          2.242902394396684,
          5.053976562049001,
          5.2218766371026515,
          4.1626482743253534,
          3.338826179819976,
          3.573808245408605,
          0.738253985603432,
          -2.018110292362496,
          4.499966779405762,
          2.8444527872307113,
          0.9299737699705712,
          1.4443802756922919,
          0.3757928452722714,
          -0.40904598902908873,
          0.3802379795039723,
          1.3871099917191598,
          2.3832805787926903,
          0.1581680114167927,
          -5.536784200459699,
          5.592024647270932
         ]
        }
       ],
       "layout": {
        "template": {
         "data": {
          "bar": [
           {
            "error_x": {
             "color": "#2a3f5f"
            },
            "error_y": {
             "color": "#2a3f5f"
            },
            "marker": {
             "line": {
              "color": "#E5ECF6",
              "width": 0.5
             },
             "pattern": {
              "fillmode": "overlay",
              "size": 10,
              "solidity": 0.2
             }
            },
            "type": "bar"
           }
          ],
          "barpolar": [
           {
            "marker": {
             "line": {
              "color": "#E5ECF6",
              "width": 0.5
             },
             "pattern": {
              "fillmode": "overlay",
              "size": 10,
              "solidity": 0.2
             }
            },
            "type": "barpolar"
           }
          ],
          "carpet": [
           {
            "aaxis": {
             "endlinecolor": "#2a3f5f",
             "gridcolor": "white",
             "linecolor": "white",
             "minorgridcolor": "white",
             "startlinecolor": "#2a3f5f"
            },
            "baxis": {
             "endlinecolor": "#2a3f5f",
             "gridcolor": "white",
             "linecolor": "white",
             "minorgridcolor": "white",
             "startlinecolor": "#2a3f5f"
            },
            "type": "carpet"
           }
          ],
          "choropleth": [
           {
            "colorbar": {
             "outlinewidth": 0,
             "ticks": ""
            },
            "type": "choropleth"
           }
          ],
          "contour": [
           {
            "colorbar": {
             "outlinewidth": 0,
             "ticks": ""
            },
            "colorscale": [
             [
              0,
              "#0d0887"
             ],
             [
              0.1111111111111111,
              "#46039f"
             ],
             [
              0.2222222222222222,
              "#7201a8"
             ],
             [
              0.3333333333333333,
              "#9c179e"
             ],
             [
              0.4444444444444444,
              "#bd3786"
             ],
             [
              0.5555555555555556,
              "#d8576b"
             ],
             [
              0.6666666666666666,
              "#ed7953"
             ],
             [
              0.7777777777777778,
              "#fb9f3a"
             ],
             [
              0.8888888888888888,
              "#fdca26"
             ],
             [
              1,
              "#f0f921"
             ]
            ],
            "type": "contour"
           }
          ],
          "contourcarpet": [
           {
            "colorbar": {
             "outlinewidth": 0,
             "ticks": ""
            },
            "type": "contourcarpet"
           }
          ],
          "heatmap": [
           {
            "colorbar": {
             "outlinewidth": 0,
             "ticks": ""
            },
            "colorscale": [
             [
              0,
              "#0d0887"
             ],
             [
              0.1111111111111111,
              "#46039f"
             ],
             [
              0.2222222222222222,
              "#7201a8"
             ],
             [
              0.3333333333333333,
              "#9c179e"
             ],
             [
              0.4444444444444444,
              "#bd3786"
             ],
             [
              0.5555555555555556,
              "#d8576b"
             ],
             [
              0.6666666666666666,
              "#ed7953"
             ],
             [
              0.7777777777777778,
              "#fb9f3a"
             ],
             [
              0.8888888888888888,
              "#fdca26"
             ],
             [
              1,
              "#f0f921"
             ]
            ],
            "type": "heatmap"
           }
          ],
          "heatmapgl": [
           {
            "colorbar": {
             "outlinewidth": 0,
             "ticks": ""
            },
            "colorscale": [
             [
              0,
              "#0d0887"
             ],
             [
              0.1111111111111111,
              "#46039f"
             ],
             [
              0.2222222222222222,
              "#7201a8"
             ],
             [
              0.3333333333333333,
              "#9c179e"
             ],
             [
              0.4444444444444444,
              "#bd3786"
             ],
             [
              0.5555555555555556,
              "#d8576b"
             ],
             [
              0.6666666666666666,
              "#ed7953"
             ],
             [
              0.7777777777777778,
              "#fb9f3a"
             ],
             [
              0.8888888888888888,
              "#fdca26"
             ],
             [
              1,
              "#f0f921"
             ]
            ],
            "type": "heatmapgl"
           }
          ],
          "histogram": [
           {
            "marker": {
             "pattern": {
              "fillmode": "overlay",
              "size": 10,
              "solidity": 0.2
             }
            },
            "type": "histogram"
           }
          ],
          "histogram2d": [
           {
            "colorbar": {
             "outlinewidth": 0,
             "ticks": ""
            },
            "colorscale": [
             [
              0,
              "#0d0887"
             ],
             [
              0.1111111111111111,
              "#46039f"
             ],
             [
              0.2222222222222222,
              "#7201a8"
             ],
             [
              0.3333333333333333,
              "#9c179e"
             ],
             [
              0.4444444444444444,
              "#bd3786"
             ],
             [
              0.5555555555555556,
              "#d8576b"
             ],
             [
              0.6666666666666666,
              "#ed7953"
             ],
             [
              0.7777777777777778,
              "#fb9f3a"
             ],
             [
              0.8888888888888888,
              "#fdca26"
             ],
             [
              1,
              "#f0f921"
             ]
            ],
            "type": "histogram2d"
           }
          ],
          "histogram2dcontour": [
           {
            "colorbar": {
             "outlinewidth": 0,
             "ticks": ""
            },
            "colorscale": [
             [
              0,
              "#0d0887"
             ],
             [
              0.1111111111111111,
              "#46039f"
             ],
             [
              0.2222222222222222,
              "#7201a8"
             ],
             [
              0.3333333333333333,
              "#9c179e"
             ],
             [
              0.4444444444444444,
              "#bd3786"
             ],
             [
              0.5555555555555556,
              "#d8576b"
             ],
             [
              0.6666666666666666,
              "#ed7953"
             ],
             [
              0.7777777777777778,
              "#fb9f3a"
             ],
             [
              0.8888888888888888,
              "#fdca26"
             ],
             [
              1,
              "#f0f921"
             ]
            ],
            "type": "histogram2dcontour"
           }
          ],
          "mesh3d": [
           {
            "colorbar": {
             "outlinewidth": 0,
             "ticks": ""
            },
            "type": "mesh3d"
           }
          ],
          "parcoords": [
           {
            "line": {
             "colorbar": {
              "outlinewidth": 0,
              "ticks": ""
             }
            },
            "type": "parcoords"
           }
          ],
          "pie": [
           {
            "automargin": true,
            "type": "pie"
           }
          ],
          "scatter": [
           {
            "fillpattern": {
             "fillmode": "overlay",
             "size": 10,
             "solidity": 0.2
            },
            "type": "scatter"
           }
          ],
          "scatter3d": [
           {
            "line": {
             "colorbar": {
              "outlinewidth": 0,
              "ticks": ""
             }
            },
            "marker": {
             "colorbar": {
              "outlinewidth": 0,
              "ticks": ""
             }
            },
            "type": "scatter3d"
           }
          ],
          "scattercarpet": [
           {
            "marker": {
             "colorbar": {
              "outlinewidth": 0,
              "ticks": ""
             }
            },
            "type": "scattercarpet"
           }
          ],
          "scattergeo": [
           {
            "marker": {
             "colorbar": {
              "outlinewidth": 0,
              "ticks": ""
             }
            },
            "type": "scattergeo"
           }
          ],
          "scattergl": [
           {
            "marker": {
             "colorbar": {
              "outlinewidth": 0,
              "ticks": ""
             }
            },
            "type": "scattergl"
           }
          ],
          "scattermapbox": [
           {
            "marker": {
             "colorbar": {
              "outlinewidth": 0,
              "ticks": ""
             }
            },
            "type": "scattermapbox"
           }
          ],
          "scatterpolar": [
           {
            "marker": {
             "colorbar": {
              "outlinewidth": 0,
              "ticks": ""
             }
            },
            "type": "scatterpolar"
           }
          ],
          "scatterpolargl": [
           {
            "marker": {
             "colorbar": {
              "outlinewidth": 0,
              "ticks": ""
             }
            },
            "type": "scatterpolargl"
           }
          ],
          "scatterternary": [
           {
            "marker": {
             "colorbar": {
              "outlinewidth": 0,
              "ticks": ""
             }
            },
            "type": "scatterternary"
           }
          ],
          "surface": [
           {
            "colorbar": {
             "outlinewidth": 0,
             "ticks": ""
            },
            "colorscale": [
             [
              0,
              "#0d0887"
             ],
             [
              0.1111111111111111,
              "#46039f"
             ],
             [
              0.2222222222222222,
              "#7201a8"
             ],
             [
              0.3333333333333333,
              "#9c179e"
             ],
             [
              0.4444444444444444,
              "#bd3786"
             ],
             [
              0.5555555555555556,
              "#d8576b"
             ],
             [
              0.6666666666666666,
              "#ed7953"
             ],
             [
              0.7777777777777778,
              "#fb9f3a"
             ],
             [
              0.8888888888888888,
              "#fdca26"
             ],
             [
              1,
              "#f0f921"
             ]
            ],
            "type": "surface"
           }
          ],
          "table": [
           {
            "cells": {
             "fill": {
              "color": "#EBF0F8"
             },
             "line": {
              "color": "white"
             }
            },
            "header": {
             "fill": {
              "color": "#C8D4E3"
             },
             "line": {
              "color": "white"
             }
            },
            "type": "table"
           }
          ]
         },
         "layout": {
          "annotationdefaults": {
           "arrowcolor": "#2a3f5f",
           "arrowhead": 0,
           "arrowwidth": 1
          },
          "autotypenumbers": "strict",
          "coloraxis": {
           "colorbar": {
            "outlinewidth": 0,
            "ticks": ""
           }
          },
          "colorscale": {
           "diverging": [
            [
             0,
             "#8e0152"
            ],
            [
             0.1,
             "#c51b7d"
            ],
            [
             0.2,
             "#de77ae"
            ],
            [
             0.3,
             "#f1b6da"
            ],
            [
             0.4,
             "#fde0ef"
            ],
            [
             0.5,
             "#f7f7f7"
            ],
            [
             0.6,
             "#e6f5d0"
            ],
            [
             0.7,
             "#b8e186"
            ],
            [
             0.8,
             "#7fbc41"
            ],
            [
             0.9,
             "#4d9221"
            ],
            [
             1,
             "#276419"
            ]
           ],
           "sequential": [
            [
             0,
             "#0d0887"
            ],
            [
             0.1111111111111111,
             "#46039f"
            ],
            [
             0.2222222222222222,
             "#7201a8"
            ],
            [
             0.3333333333333333,
             "#9c179e"
            ],
            [
             0.4444444444444444,
             "#bd3786"
            ],
            [
             0.5555555555555556,
             "#d8576b"
            ],
            [
             0.6666666666666666,
             "#ed7953"
            ],
            [
             0.7777777777777778,
             "#fb9f3a"
            ],
            [
             0.8888888888888888,
             "#fdca26"
            ],
            [
             1,
             "#f0f921"
            ]
           ],
           "sequentialminus": [
            [
             0,
             "#0d0887"
            ],
            [
             0.1111111111111111,
             "#46039f"
            ],
            [
             0.2222222222222222,
             "#7201a8"
            ],
            [
             0.3333333333333333,
             "#9c179e"
            ],
            [
             0.4444444444444444,
             "#bd3786"
            ],
            [
             0.5555555555555556,
             "#d8576b"
            ],
            [
             0.6666666666666666,
             "#ed7953"
            ],
            [
             0.7777777777777778,
             "#fb9f3a"
            ],
            [
             0.8888888888888888,
             "#fdca26"
            ],
            [
             1,
             "#f0f921"
            ]
           ]
          },
          "colorway": [
           "#636efa",
           "#EF553B",
           "#00cc96",
           "#ab63fa",
           "#FFA15A",
           "#19d3f3",
           "#FF6692",
           "#B6E880",
           "#FF97FF",
           "#FECB52"
          ],
          "font": {
           "color": "#2a3f5f"
          },
          "geo": {
           "bgcolor": "white",
           "lakecolor": "white",
           "landcolor": "#E5ECF6",
           "showlakes": true,
           "showland": true,
           "subunitcolor": "white"
          },
          "hoverlabel": {
           "align": "left"
          },
          "hovermode": "closest",
          "mapbox": {
           "style": "light"
          },
          "paper_bgcolor": "white",
          "plot_bgcolor": "#E5ECF6",
          "polar": {
           "angularaxis": {
            "gridcolor": "white",
            "linecolor": "white",
            "ticks": ""
           },
           "bgcolor": "#E5ECF6",
           "radialaxis": {
            "gridcolor": "white",
            "linecolor": "white",
            "ticks": ""
           }
          },
          "scene": {
           "xaxis": {
            "backgroundcolor": "#E5ECF6",
            "gridcolor": "white",
            "gridwidth": 2,
            "linecolor": "white",
            "showbackground": true,
            "ticks": "",
            "zerolinecolor": "white"
           },
           "yaxis": {
            "backgroundcolor": "#E5ECF6",
            "gridcolor": "white",
            "gridwidth": 2,
            "linecolor": "white",
            "showbackground": true,
            "ticks": "",
            "zerolinecolor": "white"
           },
           "zaxis": {
            "backgroundcolor": "#E5ECF6",
            "gridcolor": "white",
            "gridwidth": 2,
            "linecolor": "white",
            "showbackground": true,
            "ticks": "",
            "zerolinecolor": "white"
           }
          },
          "shapedefaults": {
           "line": {
            "color": "#2a3f5f"
           }
          },
          "ternary": {
           "aaxis": {
            "gridcolor": "white",
            "linecolor": "white",
            "ticks": ""
           },
           "baxis": {
            "gridcolor": "white",
            "linecolor": "white",
            "ticks": ""
           },
           "bgcolor": "#E5ECF6",
           "caxis": {
            "gridcolor": "white",
            "linecolor": "white",
            "ticks": ""
           }
          },
          "title": {
           "x": 0.05
          },
          "xaxis": {
           "automargin": true,
           "gridcolor": "white",
           "linecolor": "white",
           "ticks": "",
           "title": {
            "standoff": 15
           },
           "zerolinecolor": "white",
           "zerolinewidth": 2
          },
          "yaxis": {
           "automargin": true,
           "gridcolor": "white",
           "linecolor": "white",
           "ticks": "",
           "title": {
            "standoff": 15
           },
           "zerolinecolor": "white",
           "zerolinewidth": 2
          }
         }
        },
        "title": {
         "text": "Porcentaje de incremento de Emisiones CO2 en el mundo por año de  1990 a 2021"
        },
        "xaxis": {
         "title": {
          "text": "Año"
         }
        },
        "yaxis": {
         "title": {
          "text": "Porcentaje de incremento"
         }
        }
       }
      }
     },
     "metadata": {},
     "output_type": "display_data"
    }
   ],
   "source": [
    "emisionesk = pd.read_sql_query('SELECT *FROM \"Emisiones_CO2\";', con=conexion)\n",
    "paisesk = pd.read_sql_query('SELECT *FROM \"Paises\";', con=conexion)\n",
    "añosk = pd.read_sql_query('SELECT *FROM \"Años\";', con=conexion)\n",
    "emisiones80k=pd.merge(emisionesk,paisesk,on='Id_Pais')\n",
    "emisiones80k=pd.merge(emisiones80k,añosk,on='Id_anio')\n",
    "emisiones80k.drop(columns={'Id_Pais','Id_anio'}, inplace=True)\n",
    "emisiones_añok=emisiones80k.groupby(by=['Anio']).mean()\n",
    "emisiones_añok['Variacion']=(emisiones_añok['Emisiones_CO2'].pct_change())*100\n",
    "fig = go.Figure()\n",
    "fig.add_trace(go.Scatter(x=emisiones_añok.index, y=emisiones_añok['Variacion'],\n",
    "                    mode='lines'\n",
    "                     ))\n",
    "fig.update_layout(title='Porcentaje de incremento de Emisiones CO2 en el mundo por año de  1990 a 2021',\n",
    "                   xaxis_title='Año',\n",
    "                   yaxis_title='Porcentaje de incremento')\n",
    "#st.plotly(fig, use_container_width=True)\n",
    "#fig.show()"
   ]
  },
  {
   "cell_type": "code",
   "execution_count": 42,
   "metadata": {},
   "outputs": [
    {
     "data": {
      "text/html": [
       "<div>\n",
       "<style scoped>\n",
       "    .dataframe tbody tr th:only-of-type {\n",
       "        vertical-align: middle;\n",
       "    }\n",
       "\n",
       "    .dataframe tbody tr th {\n",
       "        vertical-align: top;\n",
       "    }\n",
       "\n",
       "    .dataframe thead th {\n",
       "        text-align: right;\n",
       "    }\n",
       "</style>\n",
       "<table border=\"1\" class=\"dataframe\">\n",
       "  <thead>\n",
       "    <tr style=\"text-align: right;\">\n",
       "      <th></th>\n",
       "      <th>ID_Emisiones_CO2</th>\n",
       "      <th>Emisiones_CO2</th>\n",
       "    </tr>\n",
       "    <tr>\n",
       "      <th>Pais</th>\n",
       "      <th></th>\n",
       "      <th></th>\n",
       "    </tr>\n",
       "  </thead>\n",
       "  <tbody>\n",
       "    <tr>\n",
       "      <th>Argentina</th>\n",
       "      <td>1275.0</td>\n",
       "      <td>177.353125</td>\n",
       "    </tr>\n",
       "    <tr>\n",
       "      <th>Australia</th>\n",
       "      <td>1338.0</td>\n",
       "      <td>407.290625</td>\n",
       "    </tr>\n",
       "    <tr>\n",
       "      <th>Austria</th>\n",
       "      <td>1286.0</td>\n",
       "      <td>66.078125</td>\n",
       "    </tr>\n",
       "    <tr>\n",
       "      <th>Azerbaijan</th>\n",
       "      <td>1313.0</td>\n",
       "      <td>48.337500</td>\n",
       "    </tr>\n",
       "    <tr>\n",
       "      <th>Belarus</th>\n",
       "      <td>1314.0</td>\n",
       "      <td>64.087500</td>\n",
       "    </tr>\n",
       "    <tr>\n",
       "      <th>...</th>\n",
       "      <td>...</td>\n",
       "      <td>...</td>\n",
       "    </tr>\n",
       "    <tr>\n",
       "      <th>Ukraine</th>\n",
       "      <td>1310.0</td>\n",
       "      <td>352.534375</td>\n",
       "    </tr>\n",
       "    <tr>\n",
       "      <th>United Kingdom</th>\n",
       "      <td>1311.0</td>\n",
       "      <td>534.896875</td>\n",
       "    </tr>\n",
       "    <tr>\n",
       "      <th>United States</th>\n",
       "      <td>1274.0</td>\n",
       "      <td>5675.496875</td>\n",
       "    </tr>\n",
       "    <tr>\n",
       "      <th>Venezuela</th>\n",
       "      <td>1282.0</td>\n",
       "      <td>291.675000</td>\n",
       "    </tr>\n",
       "    <tr>\n",
       "      <th>Vietnam</th>\n",
       "      <td>1352.0</td>\n",
       "      <td>133.900000</td>\n",
       "    </tr>\n",
       "  </tbody>\n",
       "</table>\n",
       "<p>65 rows × 2 columns</p>\n",
       "</div>"
      ],
      "text/plain": [
       "                ID_Emisiones_CO2  Emisiones_CO2\n",
       "Pais                                           \n",
       "Argentina                 1275.0     177.353125\n",
       "Australia                 1338.0     407.290625\n",
       "Austria                   1286.0      66.078125\n",
       "Azerbaijan                1313.0      48.337500\n",
       "Belarus                   1314.0      64.087500\n",
       "...                          ...            ...\n",
       "Ukraine                   1310.0     352.534375\n",
       "United Kingdom            1311.0     534.896875\n",
       "United States             1274.0    5675.496875\n",
       "Venezuela                 1282.0     291.675000\n",
       "Vietnam                   1352.0     133.900000\n",
       "\n",
       "[65 rows x 2 columns]"
      ]
     },
     "execution_count": 42,
     "metadata": {},
     "output_type": "execute_result"
    }
   ],
   "source": [
    "emisiones80[emisiones80['Pais'].str.contains('Other')==True]\n",
    "emisiones80['Anio']=emisiones80['Anio'].astype(str)\n",
    "emisiones_pais=emisiones80.groupby(by=['Pais']).mean()\n",
    "\n",
    "emisiones_pais"
   ]
  },
  {
   "cell_type": "code",
   "execution_count": 49,
   "metadata": {},
   "outputs": [
    {
     "ename": "KeyError",
     "evalue": "\"['Other Asia Pacific (BP)', 'Other CIS (BP)', 'Other Caribbean (BP)', 'Other Europe (BP)', 'Other Middle East (BP)', 'Other Northern Africa (BP)', 'Other South America (BP)', 'Other South and Central America (BP)', 'Other Western Africa (BP)'] not found in axis\"",
     "output_type": "error",
     "traceback": [
      "\u001b[1;31m---------------------------------------------------------------------------\u001b[0m",
      "\u001b[1;31mKeyError\u001b[0m                                  Traceback (most recent call last)",
      "\u001b[1;32mc:\\Users\\Usuario\\ProyectoEmisionesGit\\Proyecto_Grupal_Grupo05\\analisisEmisiones.ipynb Celda 11\u001b[0m in \u001b[0;36m<module>\u001b[1;34m\u001b[0m\n\u001b[1;32m----> <a href='vscode-notebook-cell:/c%3A/Users/Usuario/ProyectoEmisionesGit/Proyecto_Grupal_Grupo05/analisisEmisiones.ipynb#X14sZmlsZQ%3D%3D?line=0'>1</a>\u001b[0m emisiones_pais\u001b[39m.\u001b[39;49mdrop([\u001b[39m'\u001b[39;49m\u001b[39mOther Asia Pacific (BP)\u001b[39;49m\u001b[39m'\u001b[39;49m,\n\u001b[0;32m      <a href='vscode-notebook-cell:/c%3A/Users/Usuario/ProyectoEmisionesGit/Proyecto_Grupal_Grupo05/analisisEmisiones.ipynb#X14sZmlsZQ%3D%3D?line=1'>2</a>\u001b[0m        \u001b[39m'\u001b[39;49m\u001b[39mOther CIS (BP)\u001b[39;49m\u001b[39m'\u001b[39;49m, \u001b[39m'\u001b[39;49m\u001b[39mOther Caribbean (BP)\u001b[39;49m\u001b[39m'\u001b[39;49m, \u001b[39m'\u001b[39;49m\u001b[39mOther Europe (BP)\u001b[39;49m\u001b[39m'\u001b[39;49m,\n\u001b[0;32m      <a href='vscode-notebook-cell:/c%3A/Users/Usuario/ProyectoEmisionesGit/Proyecto_Grupal_Grupo05/analisisEmisiones.ipynb#X14sZmlsZQ%3D%3D?line=2'>3</a>\u001b[0m        \u001b[39m'\u001b[39;49m\u001b[39mOther Middle East (BP)\u001b[39;49m\u001b[39m'\u001b[39;49m, \u001b[39m'\u001b[39;49m\u001b[39mOther Northern Africa (BP)\u001b[39;49m\u001b[39m'\u001b[39;49m,\n\u001b[0;32m      <a href='vscode-notebook-cell:/c%3A/Users/Usuario/ProyectoEmisionesGit/Proyecto_Grupal_Grupo05/analisisEmisiones.ipynb#X14sZmlsZQ%3D%3D?line=3'>4</a>\u001b[0m        \u001b[39m'\u001b[39;49m\u001b[39mOther South America (BP)\u001b[39;49m\u001b[39m'\u001b[39;49m, \u001b[39m'\u001b[39;49m\u001b[39mOther South and Central America (BP)\u001b[39;49m\u001b[39m'\u001b[39;49m,\n\u001b[0;32m      <a href='vscode-notebook-cell:/c%3A/Users/Usuario/ProyectoEmisionesGit/Proyecto_Grupal_Grupo05/analisisEmisiones.ipynb#X14sZmlsZQ%3D%3D?line=4'>5</a>\u001b[0m        \u001b[39m'\u001b[39;49m\u001b[39mOther Western Africa (BP)\u001b[39;49m\u001b[39m'\u001b[39;49m], axis\u001b[39m=\u001b[39;49m\u001b[39m0\u001b[39;49m, inplace\u001b[39m=\u001b[39;49m \u001b[39mTrue\u001b[39;49;00m)\n\u001b[0;32m      <a href='vscode-notebook-cell:/c%3A/Users/Usuario/ProyectoEmisionesGit/Proyecto_Grupal_Grupo05/analisisEmisiones.ipynb#X14sZmlsZQ%3D%3D?line=5'>6</a>\u001b[0m emisiones_pais\u001b[39m=\u001b[39memisiones_pais\u001b[39m.\u001b[39msort_values(\u001b[39m'\u001b[39m\u001b[39mEmisiones_CO2\u001b[39m\u001b[39m'\u001b[39m)\n",
      "File \u001b[1;32mc:\\Users\\Usuario\\AppData\\Local\\Programs\\Python\\Python310\\lib\\site-packages\\pandas\\util\\_decorators.py:311\u001b[0m, in \u001b[0;36mdeprecate_nonkeyword_arguments.<locals>.decorate.<locals>.wrapper\u001b[1;34m(*args, **kwargs)\u001b[0m\n\u001b[0;32m    305\u001b[0m \u001b[39mif\u001b[39;00m \u001b[39mlen\u001b[39m(args) \u001b[39m>\u001b[39m num_allow_args:\n\u001b[0;32m    306\u001b[0m     warnings\u001b[39m.\u001b[39mwarn(\n\u001b[0;32m    307\u001b[0m         msg\u001b[39m.\u001b[39mformat(arguments\u001b[39m=\u001b[39marguments),\n\u001b[0;32m    308\u001b[0m         \u001b[39mFutureWarning\u001b[39;00m,\n\u001b[0;32m    309\u001b[0m         stacklevel\u001b[39m=\u001b[39mstacklevel,\n\u001b[0;32m    310\u001b[0m     )\n\u001b[1;32m--> 311\u001b[0m \u001b[39mreturn\u001b[39;00m func(\u001b[39m*\u001b[39margs, \u001b[39m*\u001b[39m\u001b[39m*\u001b[39mkwargs)\n",
      "File \u001b[1;32mc:\\Users\\Usuario\\AppData\\Local\\Programs\\Python\\Python310\\lib\\site-packages\\pandas\\core\\frame.py:4948\u001b[0m, in \u001b[0;36mDataFrame.drop\u001b[1;34m(self, labels, axis, index, columns, level, inplace, errors)\u001b[0m\n\u001b[0;32m   4800\u001b[0m \u001b[39m@deprecate_nonkeyword_arguments\u001b[39m(version\u001b[39m=\u001b[39m\u001b[39mNone\u001b[39;00m, allowed_args\u001b[39m=\u001b[39m[\u001b[39m\"\u001b[39m\u001b[39mself\u001b[39m\u001b[39m\"\u001b[39m, \u001b[39m\"\u001b[39m\u001b[39mlabels\u001b[39m\u001b[39m\"\u001b[39m])\n\u001b[0;32m   4801\u001b[0m \u001b[39mdef\u001b[39;00m \u001b[39mdrop\u001b[39m(\n\u001b[0;32m   4802\u001b[0m     \u001b[39mself\u001b[39m,\n\u001b[1;32m   (...)\u001b[0m\n\u001b[0;32m   4809\u001b[0m     errors: \u001b[39mstr\u001b[39m \u001b[39m=\u001b[39m \u001b[39m\"\u001b[39m\u001b[39mraise\u001b[39m\u001b[39m\"\u001b[39m,\n\u001b[0;32m   4810\u001b[0m ):\n\u001b[0;32m   4811\u001b[0m     \u001b[39m\"\"\"\u001b[39;00m\n\u001b[0;32m   4812\u001b[0m \u001b[39m    Drop specified labels from rows or columns.\u001b[39;00m\n\u001b[0;32m   4813\u001b[0m \n\u001b[1;32m   (...)\u001b[0m\n\u001b[0;32m   4946\u001b[0m \u001b[39m            weight  1.0     0.8\u001b[39;00m\n\u001b[0;32m   4947\u001b[0m \u001b[39m    \"\"\"\u001b[39;00m\n\u001b[1;32m-> 4948\u001b[0m     \u001b[39mreturn\u001b[39;00m \u001b[39msuper\u001b[39;49m()\u001b[39m.\u001b[39;49mdrop(\n\u001b[0;32m   4949\u001b[0m         labels\u001b[39m=\u001b[39;49mlabels,\n\u001b[0;32m   4950\u001b[0m         axis\u001b[39m=\u001b[39;49maxis,\n\u001b[0;32m   4951\u001b[0m         index\u001b[39m=\u001b[39;49mindex,\n\u001b[0;32m   4952\u001b[0m         columns\u001b[39m=\u001b[39;49mcolumns,\n\u001b[0;32m   4953\u001b[0m         level\u001b[39m=\u001b[39;49mlevel,\n\u001b[0;32m   4954\u001b[0m         inplace\u001b[39m=\u001b[39;49minplace,\n\u001b[0;32m   4955\u001b[0m         errors\u001b[39m=\u001b[39;49merrors,\n\u001b[0;32m   4956\u001b[0m     )\n",
      "File \u001b[1;32mc:\\Users\\Usuario\\AppData\\Local\\Programs\\Python\\Python310\\lib\\site-packages\\pandas\\core\\generic.py:4279\u001b[0m, in \u001b[0;36mNDFrame.drop\u001b[1;34m(self, labels, axis, index, columns, level, inplace, errors)\u001b[0m\n\u001b[0;32m   4277\u001b[0m \u001b[39mfor\u001b[39;00m axis, labels \u001b[39min\u001b[39;00m axes\u001b[39m.\u001b[39mitems():\n\u001b[0;32m   4278\u001b[0m     \u001b[39mif\u001b[39;00m labels \u001b[39mis\u001b[39;00m \u001b[39mnot\u001b[39;00m \u001b[39mNone\u001b[39;00m:\n\u001b[1;32m-> 4279\u001b[0m         obj \u001b[39m=\u001b[39m obj\u001b[39m.\u001b[39;49m_drop_axis(labels, axis, level\u001b[39m=\u001b[39;49mlevel, errors\u001b[39m=\u001b[39;49merrors)\n\u001b[0;32m   4281\u001b[0m \u001b[39mif\u001b[39;00m inplace:\n\u001b[0;32m   4282\u001b[0m     \u001b[39mself\u001b[39m\u001b[39m.\u001b[39m_update_inplace(obj)\n",
      "File \u001b[1;32mc:\\Users\\Usuario\\AppData\\Local\\Programs\\Python\\Python310\\lib\\site-packages\\pandas\\core\\generic.py:4323\u001b[0m, in \u001b[0;36mNDFrame._drop_axis\u001b[1;34m(self, labels, axis, level, errors, consolidate, only_slice)\u001b[0m\n\u001b[0;32m   4321\u001b[0m         new_axis \u001b[39m=\u001b[39m axis\u001b[39m.\u001b[39mdrop(labels, level\u001b[39m=\u001b[39mlevel, errors\u001b[39m=\u001b[39merrors)\n\u001b[0;32m   4322\u001b[0m     \u001b[39melse\u001b[39;00m:\n\u001b[1;32m-> 4323\u001b[0m         new_axis \u001b[39m=\u001b[39m axis\u001b[39m.\u001b[39;49mdrop(labels, errors\u001b[39m=\u001b[39;49merrors)\n\u001b[0;32m   4324\u001b[0m     indexer \u001b[39m=\u001b[39m axis\u001b[39m.\u001b[39mget_indexer(new_axis)\n\u001b[0;32m   4326\u001b[0m \u001b[39m# Case for non-unique axis\u001b[39;00m\n\u001b[0;32m   4327\u001b[0m \u001b[39melse\u001b[39;00m:\n",
      "File \u001b[1;32mc:\\Users\\Usuario\\AppData\\Local\\Programs\\Python\\Python310\\lib\\site-packages\\pandas\\core\\indexes\\base.py:6644\u001b[0m, in \u001b[0;36mIndex.drop\u001b[1;34m(self, labels, errors)\u001b[0m\n\u001b[0;32m   6642\u001b[0m \u001b[39mif\u001b[39;00m mask\u001b[39m.\u001b[39many():\n\u001b[0;32m   6643\u001b[0m     \u001b[39mif\u001b[39;00m errors \u001b[39m!=\u001b[39m \u001b[39m\"\u001b[39m\u001b[39mignore\u001b[39m\u001b[39m\"\u001b[39m:\n\u001b[1;32m-> 6644\u001b[0m         \u001b[39mraise\u001b[39;00m \u001b[39mKeyError\u001b[39;00m(\u001b[39mf\u001b[39m\u001b[39m\"\u001b[39m\u001b[39m{\u001b[39;00m\u001b[39mlist\u001b[39m(labels[mask])\u001b[39m}\u001b[39;00m\u001b[39m not found in axis\u001b[39m\u001b[39m\"\u001b[39m)\n\u001b[0;32m   6645\u001b[0m     indexer \u001b[39m=\u001b[39m indexer[\u001b[39m~\u001b[39mmask]\n\u001b[0;32m   6646\u001b[0m \u001b[39mreturn\u001b[39;00m \u001b[39mself\u001b[39m\u001b[39m.\u001b[39mdelete(indexer)\n",
      "\u001b[1;31mKeyError\u001b[0m: \"['Other Asia Pacific (BP)', 'Other CIS (BP)', 'Other Caribbean (BP)', 'Other Europe (BP)', 'Other Middle East (BP)', 'Other Northern Africa (BP)', 'Other South America (BP)', 'Other South and Central America (BP)', 'Other Western Africa (BP)'] not found in axis\""
     ]
    }
   ],
   "source": [
    "emisiones_pais.drop(['Other Asia Pacific (BP)',\n",
    "       'Other CIS (BP)', 'Other Caribbean (BP)', 'Other Europe (BP)',\n",
    "       'Other Middle East (BP)', 'Other Northern Africa (BP)',\n",
    "       'Other South America (BP)', 'Other South and Central America (BP)',\n",
    "       'Other Western Africa (BP)'], axis=0, inplace= True)\n",
    "emisiones_pais"
   ]
  },
  {
   "cell_type": "code",
   "execution_count": 52,
   "metadata": {},
   "outputs": [
    {
     "data": {
      "text/html": [
       "<div>\n",
       "<style scoped>\n",
       "    .dataframe tbody tr th:only-of-type {\n",
       "        vertical-align: middle;\n",
       "    }\n",
       "\n",
       "    .dataframe tbody tr th {\n",
       "        vertical-align: top;\n",
       "    }\n",
       "\n",
       "    .dataframe thead th {\n",
       "        text-align: right;\n",
       "    }\n",
       "</style>\n",
       "<table border=\"1\" class=\"dataframe\">\n",
       "  <thead>\n",
       "    <tr style=\"text-align: right;\">\n",
       "      <th></th>\n",
       "      <th>ID_Emisiones_CO2</th>\n",
       "      <th>Emisiones_CO2</th>\n",
       "    </tr>\n",
       "    <tr>\n",
       "      <th>Pais</th>\n",
       "      <th></th>\n",
       "      <th></th>\n",
       "    </tr>\n",
       "  </thead>\n",
       "  <tbody>\n",
       "    <tr>\n",
       "      <th>North Macedonia</th>\n",
       "      <td>1301.0</td>\n",
       "      <td>11.750000</td>\n",
       "    </tr>\n",
       "    <tr>\n",
       "      <th>Lithuania</th>\n",
       "      <td>1299.0</td>\n",
       "      <td>15.046875</td>\n",
       "    </tr>\n",
       "    <tr>\n",
       "      <th>Croatia</th>\n",
       "      <td>1289.0</td>\n",
       "      <td>19.950000</td>\n",
       "    </tr>\n",
       "    <tr>\n",
       "      <th>Estonia</th>\n",
       "      <td>1292.0</td>\n",
       "      <td>22.650000</td>\n",
       "    </tr>\n",
       "    <tr>\n",
       "      <th>New Zealand</th>\n",
       "      <td>1346.0</td>\n",
       "      <td>35.318750</td>\n",
       "    </tr>\n",
       "    <tr>\n",
       "      <th>Ecuador</th>\n",
       "      <td>1279.0</td>\n",
       "      <td>36.468750</td>\n",
       "    </tr>\n",
       "    <tr>\n",
       "      <th>Norway</th>\n",
       "      <td>1302.0</td>\n",
       "      <td>37.068750</td>\n",
       "    </tr>\n",
       "    <tr>\n",
       "      <th>Peru</th>\n",
       "      <td>1280.0</td>\n",
       "      <td>39.712500</td>\n",
       "    </tr>\n",
       "    <tr>\n",
       "      <th>Ireland</th>\n",
       "      <td>1297.0</td>\n",
       "      <td>41.221875</td>\n",
       "    </tr>\n",
       "    <tr>\n",
       "      <th>Morocco</th>\n",
       "      <td>1331.0</td>\n",
       "      <td>47.050000</td>\n",
       "    </tr>\n",
       "    <tr>\n",
       "      <th>Azerbaijan</th>\n",
       "      <td>1313.0</td>\n",
       "      <td>48.337500</td>\n",
       "    </tr>\n",
       "    <tr>\n",
       "      <th>Hungary</th>\n",
       "      <td>1296.0</td>\n",
       "      <td>54.756250</td>\n",
       "    </tr>\n",
       "    <tr>\n",
       "      <th>Denmark</th>\n",
       "      <td>1291.0</td>\n",
       "      <td>55.418750</td>\n",
       "    </tr>\n",
       "    <tr>\n",
       "      <th>Oman</th>\n",
       "      <td>1324.0</td>\n",
       "      <td>57.212500</td>\n",
       "    </tr>\n",
       "    <tr>\n",
       "      <th>Sweden</th>\n",
       "      <td>1308.0</td>\n",
       "      <td>57.521875</td>\n",
       "    </tr>\n",
       "    <tr>\n",
       "      <th>Bulgaria</th>\n",
       "      <td>1288.0</td>\n",
       "      <td>62.384375</td>\n",
       "    </tr>\n",
       "    <tr>\n",
       "      <th>Belarus</th>\n",
       "      <td>1314.0</td>\n",
       "      <td>64.087500</td>\n",
       "    </tr>\n",
       "    <tr>\n",
       "      <th>Austria</th>\n",
       "      <td>1286.0</td>\n",
       "      <td>66.078125</td>\n",
       "    </tr>\n",
       "    <tr>\n",
       "      <th>Chile</th>\n",
       "      <td>1277.0</td>\n",
       "      <td>68.275000</td>\n",
       "    </tr>\n",
       "    <tr>\n",
       "      <th>Colombia</th>\n",
       "      <td>1278.0</td>\n",
       "      <td>81.618750</td>\n",
       "    </tr>\n",
       "    <tr>\n",
       "      <th>Eastern Africa (BP)</th>\n",
       "      <td>1333.0</td>\n",
       "      <td>83.681250</td>\n",
       "    </tr>\n",
       "    <tr>\n",
       "      <th>Philippines</th>\n",
       "      <td>1348.0</td>\n",
       "      <td>87.581250</td>\n",
       "    </tr>\n",
       "    <tr>\n",
       "      <th>Greece</th>\n",
       "      <td>1295.0</td>\n",
       "      <td>93.784375</td>\n",
       "    </tr>\n",
       "    <tr>\n",
       "      <th>Romania</th>\n",
       "      <td>1304.0</td>\n",
       "      <td>102.421875</td>\n",
       "    </tr>\n",
       "    <tr>\n",
       "      <th>Czechia</th>\n",
       "      <td>1290.0</td>\n",
       "      <td>120.243750</td>\n",
       "    </tr>\n",
       "    <tr>\n",
       "      <th>Belgium</th>\n",
       "      <td>1287.0</td>\n",
       "      <td>130.859375</td>\n",
       "    </tr>\n",
       "    <tr>\n",
       "      <th>Vietnam</th>\n",
       "      <td>1352.0</td>\n",
       "      <td>133.900000</td>\n",
       "    </tr>\n",
       "    <tr>\n",
       "      <th>Pakistan</th>\n",
       "      <td>1347.0</td>\n",
       "      <td>145.553125</td>\n",
       "    </tr>\n",
       "    <tr>\n",
       "      <th>Argentina</th>\n",
       "      <td>1275.0</td>\n",
       "      <td>177.353125</td>\n",
       "    </tr>\n",
       "    <tr>\n",
       "      <th>Egypt</th>\n",
       "      <td>1330.0</td>\n",
       "      <td>190.696875</td>\n",
       "    </tr>\n",
       "    <tr>\n",
       "      <th>Netherlands</th>\n",
       "      <td>1300.0</td>\n",
       "      <td>212.228125</td>\n",
       "    </tr>\n",
       "    <tr>\n",
       "      <th>Kazakhstan</th>\n",
       "      <td>1315.0</td>\n",
       "      <td>217.606250</td>\n",
       "    </tr>\n",
       "    <tr>\n",
       "      <th>Thailand</th>\n",
       "      <td>1351.0</td>\n",
       "      <td>237.628125</td>\n",
       "    </tr>\n",
       "    <tr>\n",
       "      <th>Taiwan</th>\n",
       "      <td>1350.0</td>\n",
       "      <td>242.665625</td>\n",
       "    </tr>\n",
       "    <tr>\n",
       "      <th>Turkey</th>\n",
       "      <td>1309.0</td>\n",
       "      <td>277.065625</td>\n",
       "    </tr>\n",
       "    <tr>\n",
       "      <th>Venezuela</th>\n",
       "      <td>1282.0</td>\n",
       "      <td>291.675000</td>\n",
       "    </tr>\n",
       "    <tr>\n",
       "      <th>Spain</th>\n",
       "      <td>1307.0</td>\n",
       "      <td>302.287500</td>\n",
       "    </tr>\n",
       "    <tr>\n",
       "      <th>Poland</th>\n",
       "      <td>1303.0</td>\n",
       "      <td>327.518750</td>\n",
       "    </tr>\n",
       "    <tr>\n",
       "      <th>Ukraine</th>\n",
       "      <td>1310.0</td>\n",
       "      <td>352.534375</td>\n",
       "    </tr>\n",
       "    <tr>\n",
       "      <th>France</th>\n",
       "      <td>1293.0</td>\n",
       "      <td>360.875000</td>\n",
       "    </tr>\n",
       "    <tr>\n",
       "      <th>Brazil</th>\n",
       "      <td>1276.0</td>\n",
       "      <td>386.278125</td>\n",
       "    </tr>\n",
       "    <tr>\n",
       "      <th>Australia</th>\n",
       "      <td>1338.0</td>\n",
       "      <td>407.290625</td>\n",
       "    </tr>\n",
       "    <tr>\n",
       "      <th>Italy</th>\n",
       "      <td>1298.0</td>\n",
       "      <td>412.368750</td>\n",
       "    </tr>\n",
       "    <tr>\n",
       "      <th>South Africa</th>\n",
       "      <td>1332.0</td>\n",
       "      <td>444.609375</td>\n",
       "    </tr>\n",
       "    <tr>\n",
       "      <th>Indonesia</th>\n",
       "      <td>1343.0</td>\n",
       "      <td>450.931250</td>\n",
       "    </tr>\n",
       "    <tr>\n",
       "      <th>Mexico</th>\n",
       "      <td>1273.0</td>\n",
       "      <td>452.493750</td>\n",
       "    </tr>\n",
       "    <tr>\n",
       "      <th>South Korea</th>\n",
       "      <td>1349.0</td>\n",
       "      <td>519.684375</td>\n",
       "    </tr>\n",
       "    <tr>\n",
       "      <th>United Kingdom</th>\n",
       "      <td>1311.0</td>\n",
       "      <td>534.896875</td>\n",
       "    </tr>\n",
       "    <tr>\n",
       "      <th>Canada</th>\n",
       "      <td>1272.0</td>\n",
       "      <td>577.196875</td>\n",
       "    </tr>\n",
       "    <tr>\n",
       "      <th>Iran</th>\n",
       "      <td>1320.0</td>\n",
       "      <td>584.515625</td>\n",
       "    </tr>\n",
       "    <tr>\n",
       "      <th>Germany</th>\n",
       "      <td>1294.0</td>\n",
       "      <td>840.168750</td>\n",
       "    </tr>\n",
       "    <tr>\n",
       "      <th>Japan</th>\n",
       "      <td>1344.0</td>\n",
       "      <td>1230.231250</td>\n",
       "    </tr>\n",
       "    <tr>\n",
       "      <th>India</th>\n",
       "      <td>1342.0</td>\n",
       "      <td>1554.503125</td>\n",
       "    </tr>\n",
       "    <tr>\n",
       "      <th>Russia</th>\n",
       "      <td>1316.0</td>\n",
       "      <td>2059.471875</td>\n",
       "    </tr>\n",
       "    <tr>\n",
       "      <th>United States</th>\n",
       "      <td>1274.0</td>\n",
       "      <td>5675.496875</td>\n",
       "    </tr>\n",
       "    <tr>\n",
       "      <th>China</th>\n",
       "      <td>1340.0</td>\n",
       "      <td>6990.700000</td>\n",
       "    </tr>\n",
       "  </tbody>\n",
       "</table>\n",
       "</div>"
      ],
      "text/plain": [
       "                     ID_Emisiones_CO2  Emisiones_CO2\n",
       "Pais                                                \n",
       "North Macedonia                1301.0      11.750000\n",
       "Lithuania                      1299.0      15.046875\n",
       "Croatia                        1289.0      19.950000\n",
       "Estonia                        1292.0      22.650000\n",
       "New Zealand                    1346.0      35.318750\n",
       "Ecuador                        1279.0      36.468750\n",
       "Norway                         1302.0      37.068750\n",
       "Peru                           1280.0      39.712500\n",
       "Ireland                        1297.0      41.221875\n",
       "Morocco                        1331.0      47.050000\n",
       "Azerbaijan                     1313.0      48.337500\n",
       "Hungary                        1296.0      54.756250\n",
       "Denmark                        1291.0      55.418750\n",
       "Oman                           1324.0      57.212500\n",
       "Sweden                         1308.0      57.521875\n",
       "Bulgaria                       1288.0      62.384375\n",
       "Belarus                        1314.0      64.087500\n",
       "Austria                        1286.0      66.078125\n",
       "Chile                          1277.0      68.275000\n",
       "Colombia                       1278.0      81.618750\n",
       "Eastern Africa (BP)            1333.0      83.681250\n",
       "Philippines                    1348.0      87.581250\n",
       "Greece                         1295.0      93.784375\n",
       "Romania                        1304.0     102.421875\n",
       "Czechia                        1290.0     120.243750\n",
       "Belgium                        1287.0     130.859375\n",
       "Vietnam                        1352.0     133.900000\n",
       "Pakistan                       1347.0     145.553125\n",
       "Argentina                      1275.0     177.353125\n",
       "Egypt                          1330.0     190.696875\n",
       "Netherlands                    1300.0     212.228125\n",
       "Kazakhstan                     1315.0     217.606250\n",
       "Thailand                       1351.0     237.628125\n",
       "Taiwan                         1350.0     242.665625\n",
       "Turkey                         1309.0     277.065625\n",
       "Venezuela                      1282.0     291.675000\n",
       "Spain                          1307.0     302.287500\n",
       "Poland                         1303.0     327.518750\n",
       "Ukraine                        1310.0     352.534375\n",
       "France                         1293.0     360.875000\n",
       "Brazil                         1276.0     386.278125\n",
       "Australia                      1338.0     407.290625\n",
       "Italy                          1298.0     412.368750\n",
       "South Africa                   1332.0     444.609375\n",
       "Indonesia                      1343.0     450.931250\n",
       "Mexico                         1273.0     452.493750\n",
       "South Korea                    1349.0     519.684375\n",
       "United Kingdom                 1311.0     534.896875\n",
       "Canada                         1272.0     577.196875\n",
       "Iran                           1320.0     584.515625\n",
       "Germany                        1294.0     840.168750\n",
       "Japan                          1344.0    1230.231250\n",
       "India                          1342.0    1554.503125\n",
       "Russia                         1316.0    2059.471875\n",
       "United States                  1274.0    5675.496875\n",
       "China                          1340.0    6990.700000"
      ]
     },
     "execution_count": 52,
     "metadata": {},
     "output_type": "execute_result"
    }
   ],
   "source": [
    "emisiones_pais=emisiones_pais.sort_values('Emisiones_CO2',ascending=True)\n",
    "emisiones_pais"
   ]
  },
  {
   "cell_type": "code",
   "execution_count": 56,
   "metadata": {},
   "outputs": [
    {
     "data": {
      "text/plain": [
       "56"
      ]
     },
     "execution_count": 56,
     "metadata": {},
     "output_type": "execute_result"
    }
   ],
   "source": [
    "len(emisiones_pais)"
   ]
  },
  {
   "cell_type": "code",
   "execution_count": 66,
   "metadata": {},
   "outputs": [
    {
     "data": {
      "application/vnd.plotly.v1+json": {
       "config": {
        "plotlyServerURL": "https://plot.ly"
       },
       "data": [
        {
         "type": "bar",
         "x": [
          "North Macedonia",
          "Lithuania",
          "Croatia",
          "Estonia",
          "New Zealand",
          "Ecuador",
          "Norway",
          "Peru",
          "Ireland",
          "Morocco",
          "Azerbaijan",
          "Hungary",
          "Denmark",
          "Oman",
          "Sweden",
          "Bulgaria",
          "Belarus",
          "Austria",
          "Chile",
          "Colombia",
          "Eastern Africa (BP)",
          "Philippines",
          "Greece",
          "Romania",
          "Czechia",
          "Belgium",
          "Vietnam",
          "Pakistan",
          "Argentina",
          "Egypt",
          "Netherlands",
          "Kazakhstan",
          "Thailand",
          "Taiwan",
          "Turkey",
          "Venezuela",
          "Spain",
          "Poland",
          "Ukraine",
          "France",
          "Brazil",
          "Australia",
          "Italy",
          "South Africa",
          "Indonesia",
          "Mexico",
          "South Korea",
          "United Kingdom",
          "Canada",
          "Iran",
          "Germany",
          "Japan",
          "India",
          "Russia",
          "United States",
          "China"
         ],
         "y": [
          11.75,
          15.046875,
          19.95,
          22.65,
          35.31875,
          36.46875,
          37.06875,
          39.7125,
          41.221875,
          47.05,
          48.3375,
          54.75625,
          55.41875,
          57.2125,
          57.521875,
          62.384375,
          64.0875,
          66.078125,
          68.275,
          81.61875,
          83.68125,
          87.58125,
          93.784375,
          102.421875,
          120.24375,
          130.859375,
          133.9,
          145.553125,
          177.353125,
          190.696875,
          212.228125,
          217.60625,
          237.628125,
          242.665625,
          277.065625,
          291.675,
          302.2875,
          327.51875,
          352.534375,
          360.875,
          386.278125,
          407.290625,
          412.36875,
          444.609375,
          450.93125,
          452.49375,
          519.684375,
          534.896875,
          577.196875,
          584.515625,
          840.16875,
          1230.23125,
          1554.503125,
          2059.471875,
          5675.496875,
          6990.7
         ]
        }
       ],
       "layout": {
        "template": {
         "data": {
          "bar": [
           {
            "error_x": {
             "color": "#2a3f5f"
            },
            "error_y": {
             "color": "#2a3f5f"
            },
            "marker": {
             "line": {
              "color": "#E5ECF6",
              "width": 0.5
             },
             "pattern": {
              "fillmode": "overlay",
              "size": 10,
              "solidity": 0.2
             }
            },
            "type": "bar"
           }
          ],
          "barpolar": [
           {
            "marker": {
             "line": {
              "color": "#E5ECF6",
              "width": 0.5
             },
             "pattern": {
              "fillmode": "overlay",
              "size": 10,
              "solidity": 0.2
             }
            },
            "type": "barpolar"
           }
          ],
          "carpet": [
           {
            "aaxis": {
             "endlinecolor": "#2a3f5f",
             "gridcolor": "white",
             "linecolor": "white",
             "minorgridcolor": "white",
             "startlinecolor": "#2a3f5f"
            },
            "baxis": {
             "endlinecolor": "#2a3f5f",
             "gridcolor": "white",
             "linecolor": "white",
             "minorgridcolor": "white",
             "startlinecolor": "#2a3f5f"
            },
            "type": "carpet"
           }
          ],
          "choropleth": [
           {
            "colorbar": {
             "outlinewidth": 0,
             "ticks": ""
            },
            "type": "choropleth"
           }
          ],
          "contour": [
           {
            "colorbar": {
             "outlinewidth": 0,
             "ticks": ""
            },
            "colorscale": [
             [
              0,
              "#0d0887"
             ],
             [
              0.1111111111111111,
              "#46039f"
             ],
             [
              0.2222222222222222,
              "#7201a8"
             ],
             [
              0.3333333333333333,
              "#9c179e"
             ],
             [
              0.4444444444444444,
              "#bd3786"
             ],
             [
              0.5555555555555556,
              "#d8576b"
             ],
             [
              0.6666666666666666,
              "#ed7953"
             ],
             [
              0.7777777777777778,
              "#fb9f3a"
             ],
             [
              0.8888888888888888,
              "#fdca26"
             ],
             [
              1,
              "#f0f921"
             ]
            ],
            "type": "contour"
           }
          ],
          "contourcarpet": [
           {
            "colorbar": {
             "outlinewidth": 0,
             "ticks": ""
            },
            "type": "contourcarpet"
           }
          ],
          "heatmap": [
           {
            "colorbar": {
             "outlinewidth": 0,
             "ticks": ""
            },
            "colorscale": [
             [
              0,
              "#0d0887"
             ],
             [
              0.1111111111111111,
              "#46039f"
             ],
             [
              0.2222222222222222,
              "#7201a8"
             ],
             [
              0.3333333333333333,
              "#9c179e"
             ],
             [
              0.4444444444444444,
              "#bd3786"
             ],
             [
              0.5555555555555556,
              "#d8576b"
             ],
             [
              0.6666666666666666,
              "#ed7953"
             ],
             [
              0.7777777777777778,
              "#fb9f3a"
             ],
             [
              0.8888888888888888,
              "#fdca26"
             ],
             [
              1,
              "#f0f921"
             ]
            ],
            "type": "heatmap"
           }
          ],
          "heatmapgl": [
           {
            "colorbar": {
             "outlinewidth": 0,
             "ticks": ""
            },
            "colorscale": [
             [
              0,
              "#0d0887"
             ],
             [
              0.1111111111111111,
              "#46039f"
             ],
             [
              0.2222222222222222,
              "#7201a8"
             ],
             [
              0.3333333333333333,
              "#9c179e"
             ],
             [
              0.4444444444444444,
              "#bd3786"
             ],
             [
              0.5555555555555556,
              "#d8576b"
             ],
             [
              0.6666666666666666,
              "#ed7953"
             ],
             [
              0.7777777777777778,
              "#fb9f3a"
             ],
             [
              0.8888888888888888,
              "#fdca26"
             ],
             [
              1,
              "#f0f921"
             ]
            ],
            "type": "heatmapgl"
           }
          ],
          "histogram": [
           {
            "marker": {
             "pattern": {
              "fillmode": "overlay",
              "size": 10,
              "solidity": 0.2
             }
            },
            "type": "histogram"
           }
          ],
          "histogram2d": [
           {
            "colorbar": {
             "outlinewidth": 0,
             "ticks": ""
            },
            "colorscale": [
             [
              0,
              "#0d0887"
             ],
             [
              0.1111111111111111,
              "#46039f"
             ],
             [
              0.2222222222222222,
              "#7201a8"
             ],
             [
              0.3333333333333333,
              "#9c179e"
             ],
             [
              0.4444444444444444,
              "#bd3786"
             ],
             [
              0.5555555555555556,
              "#d8576b"
             ],
             [
              0.6666666666666666,
              "#ed7953"
             ],
             [
              0.7777777777777778,
              "#fb9f3a"
             ],
             [
              0.8888888888888888,
              "#fdca26"
             ],
             [
              1,
              "#f0f921"
             ]
            ],
            "type": "histogram2d"
           }
          ],
          "histogram2dcontour": [
           {
            "colorbar": {
             "outlinewidth": 0,
             "ticks": ""
            },
            "colorscale": [
             [
              0,
              "#0d0887"
             ],
             [
              0.1111111111111111,
              "#46039f"
             ],
             [
              0.2222222222222222,
              "#7201a8"
             ],
             [
              0.3333333333333333,
              "#9c179e"
             ],
             [
              0.4444444444444444,
              "#bd3786"
             ],
             [
              0.5555555555555556,
              "#d8576b"
             ],
             [
              0.6666666666666666,
              "#ed7953"
             ],
             [
              0.7777777777777778,
              "#fb9f3a"
             ],
             [
              0.8888888888888888,
              "#fdca26"
             ],
             [
              1,
              "#f0f921"
             ]
            ],
            "type": "histogram2dcontour"
           }
          ],
          "mesh3d": [
           {
            "colorbar": {
             "outlinewidth": 0,
             "ticks": ""
            },
            "type": "mesh3d"
           }
          ],
          "parcoords": [
           {
            "line": {
             "colorbar": {
              "outlinewidth": 0,
              "ticks": ""
             }
            },
            "type": "parcoords"
           }
          ],
          "pie": [
           {
            "automargin": true,
            "type": "pie"
           }
          ],
          "scatter": [
           {
            "fillpattern": {
             "fillmode": "overlay",
             "size": 10,
             "solidity": 0.2
            },
            "type": "scatter"
           }
          ],
          "scatter3d": [
           {
            "line": {
             "colorbar": {
              "outlinewidth": 0,
              "ticks": ""
             }
            },
            "marker": {
             "colorbar": {
              "outlinewidth": 0,
              "ticks": ""
             }
            },
            "type": "scatter3d"
           }
          ],
          "scattercarpet": [
           {
            "marker": {
             "colorbar": {
              "outlinewidth": 0,
              "ticks": ""
             }
            },
            "type": "scattercarpet"
           }
          ],
          "scattergeo": [
           {
            "marker": {
             "colorbar": {
              "outlinewidth": 0,
              "ticks": ""
             }
            },
            "type": "scattergeo"
           }
          ],
          "scattergl": [
           {
            "marker": {
             "colorbar": {
              "outlinewidth": 0,
              "ticks": ""
             }
            },
            "type": "scattergl"
           }
          ],
          "scattermapbox": [
           {
            "marker": {
             "colorbar": {
              "outlinewidth": 0,
              "ticks": ""
             }
            },
            "type": "scattermapbox"
           }
          ],
          "scatterpolar": [
           {
            "marker": {
             "colorbar": {
              "outlinewidth": 0,
              "ticks": ""
             }
            },
            "type": "scatterpolar"
           }
          ],
          "scatterpolargl": [
           {
            "marker": {
             "colorbar": {
              "outlinewidth": 0,
              "ticks": ""
             }
            },
            "type": "scatterpolargl"
           }
          ],
          "scatterternary": [
           {
            "marker": {
             "colorbar": {
              "outlinewidth": 0,
              "ticks": ""
             }
            },
            "type": "scatterternary"
           }
          ],
          "surface": [
           {
            "colorbar": {
             "outlinewidth": 0,
             "ticks": ""
            },
            "colorscale": [
             [
              0,
              "#0d0887"
             ],
             [
              0.1111111111111111,
              "#46039f"
             ],
             [
              0.2222222222222222,
              "#7201a8"
             ],
             [
              0.3333333333333333,
              "#9c179e"
             ],
             [
              0.4444444444444444,
              "#bd3786"
             ],
             [
              0.5555555555555556,
              "#d8576b"
             ],
             [
              0.6666666666666666,
              "#ed7953"
             ],
             [
              0.7777777777777778,
              "#fb9f3a"
             ],
             [
              0.8888888888888888,
              "#fdca26"
             ],
             [
              1,
              "#f0f921"
             ]
            ],
            "type": "surface"
           }
          ],
          "table": [
           {
            "cells": {
             "fill": {
              "color": "#EBF0F8"
             },
             "line": {
              "color": "white"
             }
            },
            "header": {
             "fill": {
              "color": "#C8D4E3"
             },
             "line": {
              "color": "white"
             }
            },
            "type": "table"
           }
          ]
         },
         "layout": {
          "annotationdefaults": {
           "arrowcolor": "#2a3f5f",
           "arrowhead": 0,
           "arrowwidth": 1
          },
          "autotypenumbers": "strict",
          "coloraxis": {
           "colorbar": {
            "outlinewidth": 0,
            "ticks": ""
           }
          },
          "colorscale": {
           "diverging": [
            [
             0,
             "#8e0152"
            ],
            [
             0.1,
             "#c51b7d"
            ],
            [
             0.2,
             "#de77ae"
            ],
            [
             0.3,
             "#f1b6da"
            ],
            [
             0.4,
             "#fde0ef"
            ],
            [
             0.5,
             "#f7f7f7"
            ],
            [
             0.6,
             "#e6f5d0"
            ],
            [
             0.7,
             "#b8e186"
            ],
            [
             0.8,
             "#7fbc41"
            ],
            [
             0.9,
             "#4d9221"
            ],
            [
             1,
             "#276419"
            ]
           ],
           "sequential": [
            [
             0,
             "#0d0887"
            ],
            [
             0.1111111111111111,
             "#46039f"
            ],
            [
             0.2222222222222222,
             "#7201a8"
            ],
            [
             0.3333333333333333,
             "#9c179e"
            ],
            [
             0.4444444444444444,
             "#bd3786"
            ],
            [
             0.5555555555555556,
             "#d8576b"
            ],
            [
             0.6666666666666666,
             "#ed7953"
            ],
            [
             0.7777777777777778,
             "#fb9f3a"
            ],
            [
             0.8888888888888888,
             "#fdca26"
            ],
            [
             1,
             "#f0f921"
            ]
           ],
           "sequentialminus": [
            [
             0,
             "#0d0887"
            ],
            [
             0.1111111111111111,
             "#46039f"
            ],
            [
             0.2222222222222222,
             "#7201a8"
            ],
            [
             0.3333333333333333,
             "#9c179e"
            ],
            [
             0.4444444444444444,
             "#bd3786"
            ],
            [
             0.5555555555555556,
             "#d8576b"
            ],
            [
             0.6666666666666666,
             "#ed7953"
            ],
            [
             0.7777777777777778,
             "#fb9f3a"
            ],
            [
             0.8888888888888888,
             "#fdca26"
            ],
            [
             1,
             "#f0f921"
            ]
           ]
          },
          "colorway": [
           "#636efa",
           "#EF553B",
           "#00cc96",
           "#ab63fa",
           "#FFA15A",
           "#19d3f3",
           "#FF6692",
           "#B6E880",
           "#FF97FF",
           "#FECB52"
          ],
          "font": {
           "color": "#2a3f5f"
          },
          "geo": {
           "bgcolor": "white",
           "lakecolor": "white",
           "landcolor": "#E5ECF6",
           "showlakes": true,
           "showland": true,
           "subunitcolor": "white"
          },
          "hoverlabel": {
           "align": "left"
          },
          "hovermode": "closest",
          "mapbox": {
           "style": "light"
          },
          "paper_bgcolor": "white",
          "plot_bgcolor": "#E5ECF6",
          "polar": {
           "angularaxis": {
            "gridcolor": "white",
            "linecolor": "white",
            "ticks": ""
           },
           "bgcolor": "#E5ECF6",
           "radialaxis": {
            "gridcolor": "white",
            "linecolor": "white",
            "ticks": ""
           }
          },
          "scene": {
           "xaxis": {
            "backgroundcolor": "#E5ECF6",
            "gridcolor": "white",
            "gridwidth": 2,
            "linecolor": "white",
            "showbackground": true,
            "ticks": "",
            "zerolinecolor": "white"
           },
           "yaxis": {
            "backgroundcolor": "#E5ECF6",
            "gridcolor": "white",
            "gridwidth": 2,
            "linecolor": "white",
            "showbackground": true,
            "ticks": "",
            "zerolinecolor": "white"
           },
           "zaxis": {
            "backgroundcolor": "#E5ECF6",
            "gridcolor": "white",
            "gridwidth": 2,
            "linecolor": "white",
            "showbackground": true,
            "ticks": "",
            "zerolinecolor": "white"
           }
          },
          "shapedefaults": {
           "line": {
            "color": "#2a3f5f"
           }
          },
          "ternary": {
           "aaxis": {
            "gridcolor": "white",
            "linecolor": "white",
            "ticks": ""
           },
           "baxis": {
            "gridcolor": "white",
            "linecolor": "white",
            "ticks": ""
           },
           "bgcolor": "#E5ECF6",
           "caxis": {
            "gridcolor": "white",
            "linecolor": "white",
            "ticks": ""
           }
          },
          "title": {
           "x": 0.05
          },
          "xaxis": {
           "automargin": true,
           "gridcolor": "white",
           "linecolor": "white",
           "ticks": "",
           "title": {
            "standoff": 15
           },
           "zerolinecolor": "white",
           "zerolinewidth": 2
          },
          "yaxis": {
           "automargin": true,
           "gridcolor": "white",
           "linecolor": "white",
           "ticks": "",
           "title": {
            "standoff": 15
           },
           "zerolinecolor": "white",
           "zerolinewidth": 2
          }
         }
        },
        "title": {
         "text": "Promedio de Emisiones CO2 por país de 1980 a 2021"
        },
        "xaxis": {
         "tickfont": {
          "size": 14
         }
        },
        "yaxis": {
         "tickfont": {
          "size": 12
         },
         "title": {
          "font": {
           "size": 12
          },
          "text": "Emisones(Millones de Toneladas)"
         }
        }
       }
      }
     },
     "metadata": {},
     "output_type": "display_data"
    }
   ],
   "source": [
    "from turtle import title\n",
    "\n",
    "\n",
    "fig = go.Figure()\n",
    "fig.add_trace(go.Bar(x=emisiones_pais.index, y=emisiones_pais['Emisiones_CO2']))\n",
    "                    #mode='lines',\n",
    "                    #\"title='Producción Carbón'))\n",
    "fig.update_layout(title='Promedio de Emisiones CO2 por país de 1980 a 2021',\n",
    "                  xaxis_tickfont_size=14,\n",
    "                 yaxis=dict(\n",
    "                        title='Emisones(Millones de Toneladas)',\n",
    "                        titlefont_size=12,\n",
    "                        tickfont_size=12,\n",
    "    )\n",
    "                 )\n",
    "                  # xaxis_title='Pais',\n",
    "                  # yaxis_title='Emisones(Millones de Toneladas)')\n",
    "\n",
    "fig.show()"
   ]
  },
  {
   "cell_type": "code",
   "execution_count": 100,
   "metadata": {},
   "outputs": [
    {
     "data": {
      "text/html": [
       "<div>\n",
       "<style scoped>\n",
       "    .dataframe tbody tr th:only-of-type {\n",
       "        vertical-align: middle;\n",
       "    }\n",
       "\n",
       "    .dataframe tbody tr th {\n",
       "        vertical-align: top;\n",
       "    }\n",
       "\n",
       "    .dataframe thead th {\n",
       "        text-align: right;\n",
       "    }\n",
       "</style>\n",
       "<table border=\"1\" class=\"dataframe\">\n",
       "  <thead>\n",
       "    <tr style=\"text-align: right;\">\n",
       "      <th></th>\n",
       "      <th>Id_Irradianza</th>\n",
       "      <th>Irradianza</th>\n",
       "      <th>Codigo_pais</th>\n",
       "      <th>Pais</th>\n",
       "      <th>Anio</th>\n",
       "    </tr>\n",
       "  </thead>\n",
       "  <tbody>\n",
       "    <tr>\n",
       "      <th>121</th>\n",
       "      <td>121</td>\n",
       "      <td>330722.583333</td>\n",
       "      <td>FIN</td>\n",
       "      <td>Finland</td>\n",
       "      <td>2012</td>\n",
       "    </tr>\n",
       "    <tr>\n",
       "      <th>274</th>\n",
       "      <td>274</td>\n",
       "      <td>332896.750000</td>\n",
       "      <td>FIN</td>\n",
       "      <td>Finland</td>\n",
       "      <td>2015</td>\n",
       "    </tr>\n",
       "    <tr>\n",
       "      <th>325</th>\n",
       "      <td>325</td>\n",
       "      <td>333164.000000</td>\n",
       "      <td>FIN</td>\n",
       "      <td>Finland</td>\n",
       "      <td>2016</td>\n",
       "    </tr>\n",
       "    <tr>\n",
       "      <th>89</th>\n",
       "      <td>89</td>\n",
       "      <td>333900.666667</td>\n",
       "      <td>NOR</td>\n",
       "      <td>Norway</td>\n",
       "      <td>2011</td>\n",
       "    </tr>\n",
       "    <tr>\n",
       "      <th>376</th>\n",
       "      <td>376</td>\n",
       "      <td>338766.000000</td>\n",
       "      <td>FIN</td>\n",
       "      <td>Finland</td>\n",
       "      <td>2017</td>\n",
       "    </tr>\n",
       "    <tr>\n",
       "      <th>...</th>\n",
       "      <td>...</td>\n",
       "      <td>...</td>\n",
       "      <td>...</td>\n",
       "      <td>...</td>\n",
       "      <td>...</td>\n",
       "    </tr>\n",
       "    <tr>\n",
       "      <th>119</th>\n",
       "      <td>119</td>\n",
       "      <td>951469.416667</td>\n",
       "      <td>EGY</td>\n",
       "      <td>Egypt</td>\n",
       "      <td>2012</td>\n",
       "    </tr>\n",
       "    <tr>\n",
       "      <th>374</th>\n",
       "      <td>374</td>\n",
       "      <td>953696.000000</td>\n",
       "      <td>EGY</td>\n",
       "      <td>Egypt</td>\n",
       "      <td>2017</td>\n",
       "    </tr>\n",
       "    <tr>\n",
       "      <th>68</th>\n",
       "      <td>68</td>\n",
       "      <td>954180.416667</td>\n",
       "      <td>EGY</td>\n",
       "      <td>Egypt</td>\n",
       "      <td>2011</td>\n",
       "    </tr>\n",
       "    <tr>\n",
       "      <th>17</th>\n",
       "      <td>17</td>\n",
       "      <td>957870.333333</td>\n",
       "      <td>EGY</td>\n",
       "      <td>Egypt</td>\n",
       "      <td>2010</td>\n",
       "    </tr>\n",
       "    <tr>\n",
       "      <th>170</th>\n",
       "      <td>170</td>\n",
       "      <td>959218.833333</td>\n",
       "      <td>EGY</td>\n",
       "      <td>Egypt</td>\n",
       "      <td>2013</td>\n",
       "    </tr>\n",
       "  </tbody>\n",
       "</table>\n",
       "<p>561 rows × 5 columns</p>\n",
       "</div>"
      ],
      "text/plain": [
       "     Id_Irradianza     Irradianza Codigo_pais     Pais  Anio\n",
       "121            121  330722.583333         FIN  Finland  2012\n",
       "274            274  332896.750000         FIN  Finland  2015\n",
       "325            325  333164.000000         FIN  Finland  2016\n",
       "89              89  333900.666667         NOR   Norway  2011\n",
       "376            376  338766.000000         FIN  Finland  2017\n",
       "..             ...            ...         ...      ...   ...\n",
       "119            119  951469.416667         EGY    Egypt  2012\n",
       "374            374  953696.000000         EGY    Egypt  2017\n",
       "68              68  954180.416667         EGY    Egypt  2011\n",
       "17              17  957870.333333         EGY    Egypt  2010\n",
       "170            170  959218.833333         EGY    Egypt  2013\n",
       "\n",
       "[561 rows x 5 columns]"
      ]
     },
     "execution_count": 100,
     "metadata": {},
     "output_type": "execute_result"
    }
   ],
   "source": [
    "irradianzak = pd.read_sql_query('SELECT *FROM \"Irradianza\";', con=conexion)\n",
    "irradianzak.rename(columns={'Id_Anio':'Id_anio'}, inplace=True)\n",
    "irradianzak=pd.merge(irradianzak,paisesk,on='Id_Pais')\n",
    "irradianzak=pd.merge(irradianzak,añosk,on='Id_anio')\n",
    "irradianzak.drop(columns={'Id_Pais','Id_anio'}, inplace=True)\n",
    "irradianzak.sort_values('Irradianza',ascending=True)"
   ]
  },
  {
   "cell_type": "code",
   "execution_count": 103,
   "metadata": {},
   "outputs": [
    {
     "data": {
      "text/html": [
       "<div>\n",
       "<style scoped>\n",
       "    .dataframe tbody tr th:only-of-type {\n",
       "        vertical-align: middle;\n",
       "    }\n",
       "\n",
       "    .dataframe tbody tr th {\n",
       "        vertical-align: top;\n",
       "    }\n",
       "\n",
       "    .dataframe thead th {\n",
       "        text-align: right;\n",
       "    }\n",
       "</style>\n",
       "<table border=\"1\" class=\"dataframe\">\n",
       "  <thead>\n",
       "    <tr style=\"text-align: right;\">\n",
       "      <th></th>\n",
       "      <th>Id_Irradianza</th>\n",
       "      <th>Irradianza</th>\n",
       "      <th>Codigo_pais</th>\n",
       "      <th>Pais</th>\n",
       "      <th>Anio</th>\n",
       "    </tr>\n",
       "  </thead>\n",
       "  <tbody>\n",
       "    <tr>\n",
       "      <th>548</th>\n",
       "      <td>548</td>\n",
       "      <td>364215.000000</td>\n",
       "      <td>NOR</td>\n",
       "      <td>Norway</td>\n",
       "      <td>2020</td>\n",
       "    </tr>\n",
       "    <tr>\n",
       "      <th>529</th>\n",
       "      <td>529</td>\n",
       "      <td>370052.500000</td>\n",
       "      <td>FIN</td>\n",
       "      <td>Finland</td>\n",
       "      <td>2020</td>\n",
       "    </tr>\n",
       "    <tr>\n",
       "      <th>560</th>\n",
       "      <td>560</td>\n",
       "      <td>393738.000000</td>\n",
       "      <td>SWE</td>\n",
       "      <td>Sweden</td>\n",
       "      <td>2020</td>\n",
       "    </tr>\n",
       "    <tr>\n",
       "      <th>536</th>\n",
       "      <td>536</td>\n",
       "      <td>410909.583333</td>\n",
       "      <td>IRL</td>\n",
       "      <td>Ireland</td>\n",
       "      <td>2020</td>\n",
       "    </tr>\n",
       "    <tr>\n",
       "      <th>541</th>\n",
       "      <td>541</td>\n",
       "      <td>417900.083333</td>\n",
       "      <td>LVA</td>\n",
       "      <td>Latvia</td>\n",
       "      <td>2020</td>\n",
       "    </tr>\n",
       "    <tr>\n",
       "      <th>528</th>\n",
       "      <td>528</td>\n",
       "      <td>419725.750000</td>\n",
       "      <td>EST</td>\n",
       "      <td>Estonia</td>\n",
       "      <td>2020</td>\n",
       "    </tr>\n",
       "    <tr>\n",
       "      <th>556</th>\n",
       "      <td>556</td>\n",
       "      <td>419861.583333</td>\n",
       "      <td>RUS</td>\n",
       "      <td>Russia</td>\n",
       "      <td>2020</td>\n",
       "    </tr>\n",
       "    <tr>\n",
       "      <th>542</th>\n",
       "      <td>542</td>\n",
       "      <td>429099.250000</td>\n",
       "      <td>LTU</td>\n",
       "      <td>Lithuania</td>\n",
       "      <td>2020</td>\n",
       "    </tr>\n",
       "    <tr>\n",
       "      <th>514</th>\n",
       "      <td>514</td>\n",
       "      <td>430867.833333</td>\n",
       "      <td>BLR</td>\n",
       "      <td>Belarus</td>\n",
       "      <td>2020</td>\n",
       "    </tr>\n",
       "    <tr>\n",
       "      <th>518</th>\n",
       "      <td>518</td>\n",
       "      <td>446920.583333</td>\n",
       "      <td>CAN</td>\n",
       "      <td>Canada</td>\n",
       "      <td>2020</td>\n",
       "    </tr>\n",
       "    <tr>\n",
       "      <th>553</th>\n",
       "      <td>553</td>\n",
       "      <td>455589.000000</td>\n",
       "      <td>POL</td>\n",
       "      <td>Poland</td>\n",
       "      <td>2020</td>\n",
       "    </tr>\n",
       "    <tr>\n",
       "      <th>525</th>\n",
       "      <td>525</td>\n",
       "      <td>461200.000000</td>\n",
       "      <td>DNK</td>\n",
       "      <td>Denmark</td>\n",
       "      <td>2020</td>\n",
       "    </tr>\n",
       "    <tr>\n",
       "      <th>546</th>\n",
       "      <td>546</td>\n",
       "      <td>469731.166667</td>\n",
       "      <td>NLD</td>\n",
       "      <td>Netherlands</td>\n",
       "      <td>2020</td>\n",
       "    </tr>\n",
       "    <tr>\n",
       "      <th>531</th>\n",
       "      <td>531</td>\n",
       "      <td>475888.250000</td>\n",
       "      <td>DEU</td>\n",
       "      <td>Germany</td>\n",
       "      <td>2020</td>\n",
       "    </tr>\n",
       "    <tr>\n",
       "      <th>524</th>\n",
       "      <td>524</td>\n",
       "      <td>481810.916667</td>\n",
       "      <td>CZE</td>\n",
       "      <td>Czechia</td>\n",
       "      <td>2020</td>\n",
       "    </tr>\n",
       "    <tr>\n",
       "      <th>515</th>\n",
       "      <td>515</td>\n",
       "      <td>486717.333333</td>\n",
       "      <td>BEL</td>\n",
       "      <td>Belgium</td>\n",
       "      <td>2020</td>\n",
       "    </tr>\n",
       "    <tr>\n",
       "      <th>543</th>\n",
       "      <td>543</td>\n",
       "      <td>493801.416667</td>\n",
       "      <td>LUX</td>\n",
       "      <td>Luxembourg</td>\n",
       "      <td>2020</td>\n",
       "    </tr>\n",
       "    <tr>\n",
       "      <th>512</th>\n",
       "      <td>512</td>\n",
       "      <td>520737.750000</td>\n",
       "      <td>AUT</td>\n",
       "      <td>Austria</td>\n",
       "      <td>2020</td>\n",
       "    </tr>\n",
       "    <tr>\n",
       "      <th>533</th>\n",
       "      <td>533</td>\n",
       "      <td>536442.083333</td>\n",
       "      <td>HUN</td>\n",
       "      <td>Hungary</td>\n",
       "      <td>2020</td>\n",
       "    </tr>\n",
       "    <tr>\n",
       "      <th>555</th>\n",
       "      <td>555</td>\n",
       "      <td>557746.916667</td>\n",
       "      <td>ROU</td>\n",
       "      <td>Romania</td>\n",
       "      <td>2020</td>\n",
       "    </tr>\n",
       "    <tr>\n",
       "      <th>530</th>\n",
       "      <td>530</td>\n",
       "      <td>558638.333333</td>\n",
       "      <td>FRA</td>\n",
       "      <td>France</td>\n",
       "      <td>2020</td>\n",
       "    </tr>\n",
       "    <tr>\n",
       "      <th>538</th>\n",
       "      <td>538</td>\n",
       "      <td>581313.333333</td>\n",
       "      <td>JPN</td>\n",
       "      <td>Japan</td>\n",
       "      <td>2020</td>\n",
       "    </tr>\n",
       "    <tr>\n",
       "      <th>540</th>\n",
       "      <td>540</td>\n",
       "      <td>607541.500000</td>\n",
       "      <td>KAZ</td>\n",
       "      <td>Kazakhstan</td>\n",
       "      <td>2020</td>\n",
       "    </tr>\n",
       "    <tr>\n",
       "      <th>522</th>\n",
       "      <td>522</td>\n",
       "      <td>610761.083333</td>\n",
       "      <td>HRV</td>\n",
       "      <td>Croatia</td>\n",
       "      <td>2020</td>\n",
       "    </tr>\n",
       "    <tr>\n",
       "      <th>547</th>\n",
       "      <td>547</td>\n",
       "      <td>610889.083333</td>\n",
       "      <td>NZL</td>\n",
       "      <td>New Zealand</td>\n",
       "      <td>2020</td>\n",
       "    </tr>\n",
       "    <tr>\n",
       "      <th>517</th>\n",
       "      <td>517</td>\n",
       "      <td>618860.916667</td>\n",
       "      <td>BGR</td>\n",
       "      <td>Bulgaria</td>\n",
       "      <td>2020</td>\n",
       "    </tr>\n",
       "    <tr>\n",
       "      <th>513</th>\n",
       "      <td>513</td>\n",
       "      <td>650667.166667</td>\n",
       "      <td>AZE</td>\n",
       "      <td>Azerbaijan</td>\n",
       "      <td>2020</td>\n",
       "    </tr>\n",
       "    <tr>\n",
       "      <th>537</th>\n",
       "      <td>537</td>\n",
       "      <td>655404.750000</td>\n",
       "      <td>ITA</td>\n",
       "      <td>Italy</td>\n",
       "      <td>2020</td>\n",
       "    </tr>\n",
       "    <tr>\n",
       "      <th>554</th>\n",
       "      <td>554</td>\n",
       "      <td>692399.833333</td>\n",
       "      <td>PRT</td>\n",
       "      <td>Portugal</td>\n",
       "      <td>2020</td>\n",
       "    </tr>\n",
       "    <tr>\n",
       "      <th>558</th>\n",
       "      <td>558</td>\n",
       "      <td>696953.000000</td>\n",
       "      <td>ESP</td>\n",
       "      <td>Spain</td>\n",
       "      <td>2020</td>\n",
       "    </tr>\n",
       "    <tr>\n",
       "      <th>526</th>\n",
       "      <td>526</td>\n",
       "      <td>703354.416667</td>\n",
       "      <td>ECU</td>\n",
       "      <td>Ecuador</td>\n",
       "      <td>2020</td>\n",
       "    </tr>\n",
       "    <tr>\n",
       "      <th>521</th>\n",
       "      <td>521</td>\n",
       "      <td>712276.333333</td>\n",
       "      <td>CRI</td>\n",
       "      <td>Costa Rica</td>\n",
       "      <td>2020</td>\n",
       "    </tr>\n",
       "    <tr>\n",
       "      <th>519</th>\n",
       "      <td>519</td>\n",
       "      <td>722664.166667</td>\n",
       "      <td>CHL</td>\n",
       "      <td>Chile</td>\n",
       "      <td>2020</td>\n",
       "    </tr>\n",
       "    <tr>\n",
       "      <th>532</th>\n",
       "      <td>532</td>\n",
       "      <td>723298.000000</td>\n",
       "      <td>GRC</td>\n",
       "      <td>Greece</td>\n",
       "      <td>2020</td>\n",
       "    </tr>\n",
       "    <tr>\n",
       "      <th>535</th>\n",
       "      <td>535</td>\n",
       "      <td>729090.833333</td>\n",
       "      <td>IDN</td>\n",
       "      <td>Indonesia</td>\n",
       "      <td>2020</td>\n",
       "    </tr>\n",
       "    <tr>\n",
       "      <th>520</th>\n",
       "      <td>520</td>\n",
       "      <td>731795.333333</td>\n",
       "      <td>COL</td>\n",
       "      <td>Colombia</td>\n",
       "      <td>2020</td>\n",
       "    </tr>\n",
       "    <tr>\n",
       "      <th>534</th>\n",
       "      <td>534</td>\n",
       "      <td>750241.916667</td>\n",
       "      <td>IND</td>\n",
       "      <td>India</td>\n",
       "      <td>2020</td>\n",
       "    </tr>\n",
       "    <tr>\n",
       "      <th>516</th>\n",
       "      <td>516</td>\n",
       "      <td>772668.833333</td>\n",
       "      <td>BRA</td>\n",
       "      <td>Brazil</td>\n",
       "      <td>2020</td>\n",
       "    </tr>\n",
       "    <tr>\n",
       "      <th>552</th>\n",
       "      <td>552</td>\n",
       "      <td>776653.500000</td>\n",
       "      <td>PHL</td>\n",
       "      <td>Philippines</td>\n",
       "      <td>2020</td>\n",
       "    </tr>\n",
       "    <tr>\n",
       "      <th>551</th>\n",
       "      <td>551</td>\n",
       "      <td>789468.666667</td>\n",
       "      <td>PER</td>\n",
       "      <td>Peru</td>\n",
       "      <td>2020</td>\n",
       "    </tr>\n",
       "    <tr>\n",
       "      <th>510</th>\n",
       "      <td>510</td>\n",
       "      <td>791237.416667</td>\n",
       "      <td>ARG</td>\n",
       "      <td>Argentina</td>\n",
       "      <td>2020</td>\n",
       "    </tr>\n",
       "    <tr>\n",
       "      <th>523</th>\n",
       "      <td>523</td>\n",
       "      <td>800227.250000</td>\n",
       "      <td>CYP</td>\n",
       "      <td>Cyprus</td>\n",
       "      <td>2020</td>\n",
       "    </tr>\n",
       "    <tr>\n",
       "      <th>559</th>\n",
       "      <td>559</td>\n",
       "      <td>808045.000000</td>\n",
       "      <td>LKA</td>\n",
       "      <td>Sri Lanka</td>\n",
       "      <td>2020</td>\n",
       "    </tr>\n",
       "    <tr>\n",
       "      <th>557</th>\n",
       "      <td>557</td>\n",
       "      <td>834739.916667</td>\n",
       "      <td>ZAF</td>\n",
       "      <td>South Africa</td>\n",
       "      <td>2020</td>\n",
       "    </tr>\n",
       "    <tr>\n",
       "      <th>550</th>\n",
       "      <td>550</td>\n",
       "      <td>845582.750000</td>\n",
       "      <td>PAK</td>\n",
       "      <td>Pakistan</td>\n",
       "      <td>2020</td>\n",
       "    </tr>\n",
       "    <tr>\n",
       "      <th>511</th>\n",
       "      <td>511</td>\n",
       "      <td>852565.416667</td>\n",
       "      <td>AUS</td>\n",
       "      <td>Australia</td>\n",
       "      <td>2020</td>\n",
       "    </tr>\n",
       "    <tr>\n",
       "      <th>545</th>\n",
       "      <td>545</td>\n",
       "      <td>862969.416667</td>\n",
       "      <td>MAR</td>\n",
       "      <td>Morocco</td>\n",
       "      <td>2020</td>\n",
       "    </tr>\n",
       "    <tr>\n",
       "      <th>544</th>\n",
       "      <td>544</td>\n",
       "      <td>869334.666667</td>\n",
       "      <td>MEX</td>\n",
       "      <td>Mexico</td>\n",
       "      <td>2020</td>\n",
       "    </tr>\n",
       "    <tr>\n",
       "      <th>539</th>\n",
       "      <td>539</td>\n",
       "      <td>882743.833333</td>\n",
       "      <td>JOR</td>\n",
       "      <td>Jordan</td>\n",
       "      <td>2020</td>\n",
       "    </tr>\n",
       "    <tr>\n",
       "      <th>549</th>\n",
       "      <td>549</td>\n",
       "      <td>924209.166667</td>\n",
       "      <td>OMN</td>\n",
       "      <td>Oman</td>\n",
       "      <td>2020</td>\n",
       "    </tr>\n",
       "    <tr>\n",
       "      <th>527</th>\n",
       "      <td>527</td>\n",
       "      <td>948329.833333</td>\n",
       "      <td>EGY</td>\n",
       "      <td>Egypt</td>\n",
       "      <td>2020</td>\n",
       "    </tr>\n",
       "  </tbody>\n",
       "</table>\n",
       "</div>"
      ],
      "text/plain": [
       "     Id_Irradianza     Irradianza Codigo_pais          Pais  Anio\n",
       "548            548  364215.000000         NOR        Norway  2020\n",
       "529            529  370052.500000         FIN       Finland  2020\n",
       "560            560  393738.000000         SWE        Sweden  2020\n",
       "536            536  410909.583333         IRL       Ireland  2020\n",
       "541            541  417900.083333         LVA        Latvia  2020\n",
       "528            528  419725.750000         EST       Estonia  2020\n",
       "556            556  419861.583333         RUS        Russia  2020\n",
       "542            542  429099.250000         LTU     Lithuania  2020\n",
       "514            514  430867.833333         BLR       Belarus  2020\n",
       "518            518  446920.583333         CAN        Canada  2020\n",
       "553            553  455589.000000         POL        Poland  2020\n",
       "525            525  461200.000000         DNK       Denmark  2020\n",
       "546            546  469731.166667         NLD   Netherlands  2020\n",
       "531            531  475888.250000         DEU       Germany  2020\n",
       "524            524  481810.916667         CZE       Czechia  2020\n",
       "515            515  486717.333333         BEL       Belgium  2020\n",
       "543            543  493801.416667         LUX    Luxembourg  2020\n",
       "512            512  520737.750000         AUT       Austria  2020\n",
       "533            533  536442.083333         HUN       Hungary  2020\n",
       "555            555  557746.916667         ROU       Romania  2020\n",
       "530            530  558638.333333         FRA        France  2020\n",
       "538            538  581313.333333         JPN         Japan  2020\n",
       "540            540  607541.500000         KAZ    Kazakhstan  2020\n",
       "522            522  610761.083333         HRV       Croatia  2020\n",
       "547            547  610889.083333         NZL   New Zealand  2020\n",
       "517            517  618860.916667         BGR      Bulgaria  2020\n",
       "513            513  650667.166667         AZE    Azerbaijan  2020\n",
       "537            537  655404.750000         ITA         Italy  2020\n",
       "554            554  692399.833333         PRT      Portugal  2020\n",
       "558            558  696953.000000         ESP         Spain  2020\n",
       "526            526  703354.416667         ECU       Ecuador  2020\n",
       "521            521  712276.333333         CRI    Costa Rica  2020\n",
       "519            519  722664.166667         CHL         Chile  2020\n",
       "532            532  723298.000000         GRC        Greece  2020\n",
       "535            535  729090.833333         IDN     Indonesia  2020\n",
       "520            520  731795.333333         COL      Colombia  2020\n",
       "534            534  750241.916667         IND         India  2020\n",
       "516            516  772668.833333         BRA        Brazil  2020\n",
       "552            552  776653.500000         PHL   Philippines  2020\n",
       "551            551  789468.666667         PER          Peru  2020\n",
       "510            510  791237.416667         ARG     Argentina  2020\n",
       "523            523  800227.250000         CYP        Cyprus  2020\n",
       "559            559  808045.000000         LKA     Sri Lanka  2020\n",
       "557            557  834739.916667         ZAF  South Africa  2020\n",
       "550            550  845582.750000         PAK      Pakistan  2020\n",
       "511            511  852565.416667         AUS     Australia  2020\n",
       "545            545  862969.416667         MAR       Morocco  2020\n",
       "544            544  869334.666667         MEX        Mexico  2020\n",
       "539            539  882743.833333         JOR        Jordan  2020\n",
       "549            549  924209.166667         OMN          Oman  2020\n",
       "527            527  948329.833333         EGY         Egypt  2020"
      ]
     },
     "execution_count": 103,
     "metadata": {},
     "output_type": "execute_result"
    }
   ],
   "source": [
    "irra20=irradianzak[irradianzak['Anio']==2020]\n",
    "irra20.sort_values('Irradianza',ascending=True)"
   ]
  },
  {
   "cell_type": "code",
   "execution_count": 105,
   "metadata": {},
   "outputs": [],
   "source": [
    "queryFranco='SELECT a.\"Anio\", pa.\"Pais\", pa.\"Codigo_pais\", (er.\"Consumo_renovables\"+en.\"Consumo_Nuclear\")/et.\"Consumo_total\" as \"Energia_Limpia\" FROM \"Energia_renovables\" er JOIN \"Energia_nuclear_con_ceros\" en ON  er.\"Id_Pais\" = en.\"Id_Pais\" AND er.\"Id_anio\" = en.\"Id_anio\" JOIN \"Energia_total\" et ON er.\"Id_Pais\" = et.\"Id_Pais\" AND er.\"Id_anio\" = et.\"Id_anio\" JOIN \"Paises\" pa ON er.\"Id_Pais\" = pa.\"Id_Pais\" JOIN \"Años\" a ON er.\"Id_anio\"=a.\"Id_anio\";'\n",
    "FR_Energias_limpias = pd.read_sql_query(queryFranco, con=conexion)\n",
    "FR_Energias_limpias.drop(FR_Energias_limpias[FR_Energias_limpias.Pais == \"Other CIS (BP)\"].index, inplace=True)\n",
    "FR_Energias_limpias.drop(FR_Energias_limpias[FR_Energias_limpias.Pais == \"Other Northern Africa (BP)\"].index, inplace=True)\n",
    "FR_Energias_limpias.drop(FR_Energias_limpias[FR_Energias_limpias.Pais == \"Other Western Africa (BP)\"].index, inplace=True)\n",
    "FR_Energias_limpias.drop(FR_Energias_limpias[FR_Energias_limpias.Pais == \"Other Asia Pacific (BP)\"].index, inplace=True)\n",
    "FR_Energias_limpias.drop(FR_Energias_limpias[FR_Energias_limpias.Pais == \"Other South America (BP)\"].index, inplace=True)\n",
    "FR_Energias_limpias.drop(FR_Energias_limpias[FR_Energias_limpias.Pais == \"Eastern Africa (BP)\"].index, inplace=True)\n",
    "FR_Energias_limpias.drop(FR_Energias_limpias[FR_Energias_limpias.Pais == \"Other Caribbean (BP)\"].index, inplace=True)\n",
    "FR_Energias_limpias.drop(FR_Energias_limpias[FR_Energias_limpias.Pais == \"Other Europe (BP)\"].index, inplace=True)\n",
    "FR_Energias_limpias.drop(FR_Energias_limpias[FR_Energias_limpias.Pais == \"Other Middle East (BP)\"].index, inplace=True)\n",
    "FR_Energias_limpias.drop(FR_Energias_limpias[FR_Energias_limpias.Pais == \"Other South and Central America (BP)\"].index, inplace=True)"
   ]
  },
  {
   "cell_type": "code",
   "execution_count": 106,
   "metadata": {},
   "outputs": [
    {
     "data": {
      "text/html": [
       "<div>\n",
       "<style scoped>\n",
       "    .dataframe tbody tr th:only-of-type {\n",
       "        vertical-align: middle;\n",
       "    }\n",
       "\n",
       "    .dataframe tbody tr th {\n",
       "        vertical-align: top;\n",
       "    }\n",
       "\n",
       "    .dataframe thead th {\n",
       "        text-align: right;\n",
       "    }\n",
       "</style>\n",
       "<table border=\"1\" class=\"dataframe\">\n",
       "  <thead>\n",
       "    <tr style=\"text-align: right;\">\n",
       "      <th></th>\n",
       "      <th>Anio</th>\n",
       "      <th>Pais</th>\n",
       "      <th>Codigo_pais</th>\n",
       "      <th>Energia_Limpia</th>\n",
       "    </tr>\n",
       "  </thead>\n",
       "  <tbody>\n",
       "    <tr>\n",
       "      <th>0</th>\n",
       "      <td>1995</td>\n",
       "      <td>Argentina</td>\n",
       "      <td>ARG</td>\n",
       "      <td>0.031556</td>\n",
       "    </tr>\n",
       "    <tr>\n",
       "      <th>1</th>\n",
       "      <td>1995</td>\n",
       "      <td>Australia</td>\n",
       "      <td>AUS</td>\n",
       "      <td>0.002355</td>\n",
       "    </tr>\n",
       "    <tr>\n",
       "      <th>2</th>\n",
       "      <td>1995</td>\n",
       "      <td>Austria</td>\n",
       "      <td>AUT</td>\n",
       "      <td>0.016527</td>\n",
       "    </tr>\n",
       "    <tr>\n",
       "      <th>3</th>\n",
       "      <td>1995</td>\n",
       "      <td>Azerbaijan</td>\n",
       "      <td>AZE</td>\n",
       "      <td>0.000000</td>\n",
       "    </tr>\n",
       "    <tr>\n",
       "      <th>4</th>\n",
       "      <td>1995</td>\n",
       "      <td>Belarus</td>\n",
       "      <td>BLR</td>\n",
       "      <td>0.000000</td>\n",
       "    </tr>\n",
       "    <tr>\n",
       "      <th>...</th>\n",
       "      <td>...</td>\n",
       "      <td>...</td>\n",
       "      <td>...</td>\n",
       "      <td>...</td>\n",
       "    </tr>\n",
       "    <tr>\n",
       "      <th>1939</th>\n",
       "      <td>2021</td>\n",
       "      <td>Ukraine</td>\n",
       "      <td>UKR</td>\n",
       "      <td>0.266153</td>\n",
       "    </tr>\n",
       "    <tr>\n",
       "      <th>1940</th>\n",
       "      <td>2021</td>\n",
       "      <td>United Kingdom</td>\n",
       "      <td>GBR</td>\n",
       "      <td>0.229993</td>\n",
       "    </tr>\n",
       "    <tr>\n",
       "      <th>1941</th>\n",
       "      <td>2021</td>\n",
       "      <td>United States</td>\n",
       "      <td>USA</td>\n",
       "      <td>0.160044</td>\n",
       "    </tr>\n",
       "    <tr>\n",
       "      <th>1942</th>\n",
       "      <td>2021</td>\n",
       "      <td>Venezuela</td>\n",
       "      <td>VEN</td>\n",
       "      <td>0.000463</td>\n",
       "    </tr>\n",
       "    <tr>\n",
       "      <th>1943</th>\n",
       "      <td>2021</td>\n",
       "      <td>Vietnam</td>\n",
       "      <td>VNM</td>\n",
       "      <td>0.061832</td>\n",
       "    </tr>\n",
       "  </tbody>\n",
       "</table>\n",
       "<p>1674 rows × 4 columns</p>\n",
       "</div>"
      ],
      "text/plain": [
       "      Anio            Pais Codigo_pais  Energia_Limpia\n",
       "0     1995       Argentina         ARG        0.031556\n",
       "1     1995       Australia         AUS        0.002355\n",
       "2     1995         Austria         AUT        0.016527\n",
       "3     1995      Azerbaijan         AZE        0.000000\n",
       "4     1995         Belarus         BLR        0.000000\n",
       "...    ...             ...         ...             ...\n",
       "1939  2021         Ukraine         UKR        0.266153\n",
       "1940  2021  United Kingdom         GBR        0.229993\n",
       "1941  2021   United States         USA        0.160044\n",
       "1942  2021       Venezuela         VEN        0.000463\n",
       "1943  2021         Vietnam         VNM        0.061832\n",
       "\n",
       "[1674 rows x 4 columns]"
      ]
     },
     "execution_count": 106,
     "metadata": {},
     "output_type": "execute_result"
    }
   ],
   "source": [
    "FR_Energias_limpias"
   ]
  },
  {
   "cell_type": "code",
   "execution_count": 74,
   "metadata": {},
   "outputs": [
    {
     "data": {
      "text/html": [
       "<div>\n",
       "<style scoped>\n",
       "    .dataframe tbody tr th:only-of-type {\n",
       "        vertical-align: middle;\n",
       "    }\n",
       "\n",
       "    .dataframe tbody tr th {\n",
       "        vertical-align: top;\n",
       "    }\n",
       "\n",
       "    .dataframe thead th {\n",
       "        text-align: right;\n",
       "    }\n",
       "</style>\n",
       "<table border=\"1\" class=\"dataframe\">\n",
       "  <thead>\n",
       "    <tr style=\"text-align: right;\">\n",
       "      <th></th>\n",
       "      <th>Id_Energia_Carbon</th>\n",
       "      <th>Id_Pais</th>\n",
       "      <th>Id_anio</th>\n",
       "      <th>Consumo_Carbon</th>\n",
       "      <th>Produccion_Carbono</th>\n",
       "    </tr>\n",
       "  </thead>\n",
       "  <tbody>\n",
       "    <tr>\n",
       "      <th>0</th>\n",
       "      <td>1</td>\n",
       "      <td>44</td>\n",
       "      <td>17</td>\n",
       "      <td>0.95</td>\n",
       "      <td>0.97</td>\n",
       "    </tr>\n",
       "    <tr>\n",
       "      <th>1</th>\n",
       "      <td>2</td>\n",
       "      <td>160</td>\n",
       "      <td>17</td>\n",
       "      <td>0.09</td>\n",
       "      <td>0.07</td>\n",
       "    </tr>\n",
       "    <tr>\n",
       "      <th>2</th>\n",
       "      <td>3</td>\n",
       "      <td>297</td>\n",
       "      <td>17</td>\n",
       "      <td>15.94</td>\n",
       "      <td>18.42</td>\n",
       "    </tr>\n",
       "    <tr>\n",
       "      <th>3</th>\n",
       "      <td>4</td>\n",
       "      <td>35</td>\n",
       "      <td>17</td>\n",
       "      <td>0.24</td>\n",
       "      <td>0.12</td>\n",
       "    </tr>\n",
       "    <tr>\n",
       "      <th>4</th>\n",
       "      <td>5</td>\n",
       "      <td>54</td>\n",
       "      <td>17</td>\n",
       "      <td>0.10</td>\n",
       "      <td>0.12</td>\n",
       "    </tr>\n",
       "    <tr>\n",
       "      <th>...</th>\n",
       "      <td>...</td>\n",
       "      <td>...</td>\n",
       "      <td>...</td>\n",
       "      <td>...</td>\n",
       "      <td>...</td>\n",
       "    </tr>\n",
       "    <tr>\n",
       "      <th>1430</th>\n",
       "      <td>1431</td>\n",
       "      <td>225</td>\n",
       "      <td>57</td>\n",
       "      <td>0.67</td>\n",
       "      <td>0.14</td>\n",
       "    </tr>\n",
       "    <tr>\n",
       "      <th>1431</th>\n",
       "      <td>1432</td>\n",
       "      <td>262</td>\n",
       "      <td>57</td>\n",
       "      <td>3.04</td>\n",
       "      <td>0.02</td>\n",
       "    </tr>\n",
       "    <tr>\n",
       "      <th>1432</th>\n",
       "      <td>1433</td>\n",
       "      <td>276</td>\n",
       "      <td>57</td>\n",
       "      <td>0.81</td>\n",
       "      <td>0.15</td>\n",
       "    </tr>\n",
       "    <tr>\n",
       "      <th>1433</th>\n",
       "      <td>1434</td>\n",
       "      <td>304</td>\n",
       "      <td>57</td>\n",
       "      <td>2.15</td>\n",
       "      <td>1.12</td>\n",
       "    </tr>\n",
       "    <tr>\n",
       "      <th>1434</th>\n",
       "      <td>1435</td>\n",
       "      <td>210</td>\n",
       "      <td>57</td>\n",
       "      <td>1.19</td>\n",
       "      <td>1.16</td>\n",
       "    </tr>\n",
       "  </tbody>\n",
       "</table>\n",
       "<p>1435 rows × 5 columns</p>\n",
       "</div>"
      ],
      "text/plain": [
       "      Id_Energia_Carbon  Id_Pais  Id_anio  Consumo_Carbon Produccion_Carbono\n",
       "0                     1       44       17            0.95               0.97\n",
       "1                     2      160       17            0.09               0.07\n",
       "2                     3      297       17           15.94              18.42\n",
       "3                     4       35       17            0.24               0.12\n",
       "4                     5       54       17            0.10               0.12\n",
       "...                 ...      ...      ...             ...                ...\n",
       "1430               1431      225       57            0.67               0.14\n",
       "1431               1432      262       57            3.04               0.02\n",
       "1432               1433      276       57            0.81               0.15\n",
       "1433               1434      304       57            2.15               1.12\n",
       "1434               1435      210       57            1.19               1.16\n",
       "\n",
       "[1435 rows x 5 columns]"
      ]
     },
     "execution_count": 74,
     "metadata": {},
     "output_type": "execute_result"
    }
   ],
   "source": [
    "carbon=pd.read_sql_query('SELECT *FROM \"Energia_Carbon\";', con=conexion)\n",
    "carbon.rename(columns={'Id_Anio':'Id_anio'},inplace=True)\n",
    "carbon"
   ]
  },
  {
   "cell_type": "code",
   "execution_count": 75,
   "metadata": {},
   "outputs": [
    {
     "data": {
      "text/html": [
       "<div>\n",
       "<style scoped>\n",
       "    .dataframe tbody tr th:only-of-type {\n",
       "        vertical-align: middle;\n",
       "    }\n",
       "\n",
       "    .dataframe tbody tr th {\n",
       "        vertical-align: top;\n",
       "    }\n",
       "\n",
       "    .dataframe thead th {\n",
       "        text-align: right;\n",
       "    }\n",
       "</style>\n",
       "<table border=\"1\" class=\"dataframe\">\n",
       "  <thead>\n",
       "    <tr style=\"text-align: right;\">\n",
       "      <th></th>\n",
       "      <th>ID_Energia_petroleo</th>\n",
       "      <th>Id_Pais</th>\n",
       "      <th>Id_anio</th>\n",
       "      <th>Consumo_Petroleo</th>\n",
       "      <th>Produccion_Petroleo</th>\n",
       "      <th>Reservas_Petroleo</th>\n",
       "    </tr>\n",
       "  </thead>\n",
       "  <tbody>\n",
       "    <tr>\n",
       "      <th>0</th>\n",
       "      <td>1</td>\n",
       "      <td>44</td>\n",
       "      <td>1</td>\n",
       "      <td>2.474186</td>\n",
       "      <td>2.054378</td>\n",
       "      <td>0.0</td>\n",
       "    </tr>\n",
       "    <tr>\n",
       "      <th>1</th>\n",
       "      <td>2</td>\n",
       "      <td>160</td>\n",
       "      <td>1</td>\n",
       "      <td>0.705634</td>\n",
       "      <td>0.808353</td>\n",
       "      <td>0.0</td>\n",
       "    </tr>\n",
       "    <tr>\n",
       "      <th>2</th>\n",
       "      <td>3</td>\n",
       "      <td>297</td>\n",
       "      <td>1</td>\n",
       "      <td>25.706527</td>\n",
       "      <td>20.128443</td>\n",
       "      <td>0.0</td>\n",
       "    </tr>\n",
       "    <tr>\n",
       "      <th>3</th>\n",
       "      <td>4</td>\n",
       "      <td>11</td>\n",
       "      <td>1</td>\n",
       "      <td>1.018257</td>\n",
       "      <td>0.616314</td>\n",
       "      <td>0.0</td>\n",
       "    </tr>\n",
       "    <tr>\n",
       "      <th>4</th>\n",
       "      <td>5</td>\n",
       "      <td>35</td>\n",
       "      <td>1</td>\n",
       "      <td>0.683304</td>\n",
       "      <td>0.214370</td>\n",
       "      <td>0.0</td>\n",
       "    </tr>\n",
       "    <tr>\n",
       "      <th>...</th>\n",
       "      <td>...</td>\n",
       "      <td>...</td>\n",
       "      <td>...</td>\n",
       "      <td>...</td>\n",
       "      <td>...</td>\n",
       "      <td>...</td>\n",
       "    </tr>\n",
       "    <tr>\n",
       "      <th>2275</th>\n",
       "      <td>2276</td>\n",
       "      <td>124</td>\n",
       "      <td>57</td>\n",
       "      <td>3.284773</td>\n",
       "      <td>1.545250</td>\n",
       "      <td>0.0</td>\n",
       "    </tr>\n",
       "    <tr>\n",
       "      <th>2276</th>\n",
       "      <td>2277</td>\n",
       "      <td>0</td>\n",
       "      <td>57</td>\n",
       "      <td>1.703794</td>\n",
       "      <td>1.279520</td>\n",
       "      <td>0.0</td>\n",
       "    </tr>\n",
       "    <tr>\n",
       "      <th>2277</th>\n",
       "      <td>2278</td>\n",
       "      <td>276</td>\n",
       "      <td>57</td>\n",
       "      <td>2.710886</td>\n",
       "      <td>0.888742</td>\n",
       "      <td>0.0</td>\n",
       "    </tr>\n",
       "    <tr>\n",
       "      <th>2278</th>\n",
       "      <td>2279</td>\n",
       "      <td>304</td>\n",
       "      <td>57</td>\n",
       "      <td>1.036121</td>\n",
       "      <td>0.428740</td>\n",
       "      <td>0.0</td>\n",
       "    </tr>\n",
       "    <tr>\n",
       "      <th>2279</th>\n",
       "      <td>2280</td>\n",
       "      <td>210</td>\n",
       "      <td>57</td>\n",
       "      <td>1.219229</td>\n",
       "      <td>0.444371</td>\n",
       "      <td>0.0</td>\n",
       "    </tr>\n",
       "  </tbody>\n",
       "</table>\n",
       "<p>2280 rows × 6 columns</p>\n",
       "</div>"
      ],
      "text/plain": [
       "      ID_Energia_petroleo  Id_Pais  Id_anio  Consumo_Petroleo  \\\n",
       "0                       1       44        1          2.474186   \n",
       "1                       2      160        1          0.705634   \n",
       "2                       3      297        1         25.706527   \n",
       "3                       4       11        1          1.018257   \n",
       "4                       5       35        1          0.683304   \n",
       "...                   ...      ...      ...               ...   \n",
       "2275                 2276      124       57          3.284773   \n",
       "2276                 2277        0       57          1.703794   \n",
       "2277                 2278      276       57          2.710886   \n",
       "2278                 2279      304       57          1.036121   \n",
       "2279                 2280      210       57          1.219229   \n",
       "\n",
       "      Produccion_Petroleo  Reservas_Petroleo  \n",
       "0                2.054378                0.0  \n",
       "1                0.808353                0.0  \n",
       "2               20.128443                0.0  \n",
       "3                0.616314                0.0  \n",
       "4                0.214370                0.0  \n",
       "...                   ...                ...  \n",
       "2275             1.545250                0.0  \n",
       "2276             1.279520                0.0  \n",
       "2277             0.888742                0.0  \n",
       "2278             0.428740                0.0  \n",
       "2279             0.444371                0.0  \n",
       "\n",
       "[2280 rows x 6 columns]"
      ]
     },
     "execution_count": 75,
     "metadata": {},
     "output_type": "execute_result"
    }
   ],
   "source": [
    "petroleo=pd.read_sql_query('SELECT *FROM \"Energia_petroleo\";', con=conexion)\n",
    "\n",
    "petroleo"
   ]
  },
  {
   "cell_type": "code",
   "execution_count": 76,
   "metadata": {},
   "outputs": [
    {
     "data": {
      "text/html": [
       "<div>\n",
       "<style scoped>\n",
       "    .dataframe tbody tr th:only-of-type {\n",
       "        vertical-align: middle;\n",
       "    }\n",
       "\n",
       "    .dataframe tbody tr th {\n",
       "        vertical-align: top;\n",
       "    }\n",
       "\n",
       "    .dataframe thead th {\n",
       "        text-align: right;\n",
       "    }\n",
       "</style>\n",
       "<table border=\"1\" class=\"dataframe\">\n",
       "  <thead>\n",
       "    <tr style=\"text-align: right;\">\n",
       "      <th></th>\n",
       "      <th>ID_Gas_Natural</th>\n",
       "      <th>Id_Pais</th>\n",
       "      <th>Id_anio</th>\n",
       "      <th>Reserva_Gas</th>\n",
       "      <th>Produccion_gas</th>\n",
       "      <th>Consumo_gas</th>\n",
       "    </tr>\n",
       "  </thead>\n",
       "  <tbody>\n",
       "    <tr>\n",
       "      <th>0</th>\n",
       "      <td>1</td>\n",
       "      <td>44</td>\n",
       "      <td>16</td>\n",
       "      <td>2.4</td>\n",
       "      <td>2.4</td>\n",
       "      <td>1.79</td>\n",
       "    </tr>\n",
       "    <tr>\n",
       "      <th>1</th>\n",
       "      <td>2</td>\n",
       "      <td>160</td>\n",
       "      <td>16</td>\n",
       "      <td>1.8</td>\n",
       "      <td>1.8</td>\n",
       "      <td>0.80</td>\n",
       "    </tr>\n",
       "    <tr>\n",
       "      <th>2</th>\n",
       "      <td>3</td>\n",
       "      <td>297</td>\n",
       "      <td>16</td>\n",
       "      <td>5.4</td>\n",
       "      <td>5.4</td>\n",
       "      <td>19.21</td>\n",
       "    </tr>\n",
       "    <tr>\n",
       "      <th>3</th>\n",
       "      <td>4</td>\n",
       "      <td>11</td>\n",
       "      <td>16</td>\n",
       "      <td>0.6</td>\n",
       "      <td>0.6</td>\n",
       "      <td>0.40</td>\n",
       "    </tr>\n",
       "    <tr>\n",
       "      <th>4</th>\n",
       "      <td>5</td>\n",
       "      <td>35</td>\n",
       "      <td>16</td>\n",
       "      <td>0.1</td>\n",
       "      <td>0.1</td>\n",
       "      <td>0.04</td>\n",
       "    </tr>\n",
       "    <tr>\n",
       "      <th>...</th>\n",
       "      <td>...</td>\n",
       "      <td>...</td>\n",
       "      <td>...</td>\n",
       "      <td>...</td>\n",
       "      <td>...</td>\n",
       "      <td>...</td>\n",
       "    </tr>\n",
       "    <tr>\n",
       "      <th>1922</th>\n",
       "      <td>1923</td>\n",
       "      <td>0</td>\n",
       "      <td>56</td>\n",
       "      <td>0.9</td>\n",
       "      <td>0.9</td>\n",
       "      <td>1.38</td>\n",
       "    </tr>\n",
       "    <tr>\n",
       "      <th>1923</th>\n",
       "      <td>1924</td>\n",
       "      <td>225</td>\n",
       "      <td>56</td>\n",
       "      <td>0.4</td>\n",
       "      <td>0.4</td>\n",
       "      <td>1.48</td>\n",
       "    </tr>\n",
       "    <tr>\n",
       "      <th>1924</th>\n",
       "      <td>1925</td>\n",
       "      <td>276</td>\n",
       "      <td>56</td>\n",
       "      <td>0.1</td>\n",
       "      <td>0.1</td>\n",
       "      <td>1.69</td>\n",
       "    </tr>\n",
       "    <tr>\n",
       "      <th>1925</th>\n",
       "      <td>1926</td>\n",
       "      <td>304</td>\n",
       "      <td>56</td>\n",
       "      <td>0.6</td>\n",
       "      <td>0.6</td>\n",
       "      <td>0.32</td>\n",
       "    </tr>\n",
       "    <tr>\n",
       "      <th>1926</th>\n",
       "      <td>1927</td>\n",
       "      <td>210</td>\n",
       "      <td>56</td>\n",
       "      <td>0.2</td>\n",
       "      <td>0.2</td>\n",
       "      <td>0.42</td>\n",
       "    </tr>\n",
       "  </tbody>\n",
       "</table>\n",
       "<p>1927 rows × 6 columns</p>\n",
       "</div>"
      ],
      "text/plain": [
       "      ID_Gas_Natural  Id_Pais  Id_anio  Reserva_Gas  Produccion_gas  \\\n",
       "0                  1       44       16          2.4             2.4   \n",
       "1                  2      160       16          1.8             1.8   \n",
       "2                  3      297       16          5.4             5.4   \n",
       "3                  4       11       16          0.6             0.6   \n",
       "4                  5       35       16          0.1             0.1   \n",
       "...              ...      ...      ...          ...             ...   \n",
       "1922            1923        0       56          0.9             0.9   \n",
       "1923            1924      225       56          0.4             0.4   \n",
       "1924            1925      276       56          0.1             0.1   \n",
       "1925            1926      304       56          0.6             0.6   \n",
       "1926            1927      210       56          0.2             0.2   \n",
       "\n",
       "      Consumo_gas  \n",
       "0            1.79  \n",
       "1            0.80  \n",
       "2           19.21  \n",
       "3            0.40  \n",
       "4            0.04  \n",
       "...           ...  \n",
       "1922         1.38  \n",
       "1923         1.48  \n",
       "1924         1.69  \n",
       "1925         0.32  \n",
       "1926         0.42  \n",
       "\n",
       "[1927 rows x 6 columns]"
      ]
     },
     "execution_count": 76,
     "metadata": {},
     "output_type": "execute_result"
    }
   ],
   "source": [
    "gas=pd.read_sql_query('SELECT *FROM \"Gas_Natural\";', con=conexion)\n",
    "gas"
   ]
  },
  {
   "cell_type": "code",
   "execution_count": 77,
   "metadata": {},
   "outputs": [
    {
     "data": {
      "text/html": [
       "<div>\n",
       "<style scoped>\n",
       "    .dataframe tbody tr th:only-of-type {\n",
       "        vertical-align: middle;\n",
       "    }\n",
       "\n",
       "    .dataframe tbody tr th {\n",
       "        vertical-align: top;\n",
       "    }\n",
       "\n",
       "    .dataframe thead th {\n",
       "        text-align: right;\n",
       "    }\n",
       "</style>\n",
       "<table border=\"1\" class=\"dataframe\">\n",
       "  <thead>\n",
       "    <tr style=\"text-align: right;\">\n",
       "      <th></th>\n",
       "      <th>Id_Energia_Carbon</th>\n",
       "      <th>Id_anio</th>\n",
       "      <th>Consumo_Carbon</th>\n",
       "      <th>Produccion_Carbono</th>\n",
       "      <th>Consumo_Petroleo</th>\n",
       "      <th>Produccion_Petroleo</th>\n",
       "      <th>Reservas_Petroleo</th>\n",
       "      <th>Id_Pais</th>\n",
       "      <th>Reserva_Gas</th>\n",
       "      <th>Produccion_gas</th>\n",
       "      <th>Consumo_gas</th>\n",
       "    </tr>\n",
       "  </thead>\n",
       "  <tbody>\n",
       "    <tr>\n",
       "      <th>0</th>\n",
       "      <td>1</td>\n",
       "      <td>17</td>\n",
       "      <td>0.95</td>\n",
       "      <td>0.97</td>\n",
       "      <td>4.189146</td>\n",
       "      <td>3.595162</td>\n",
       "      <td>245.938101</td>\n",
       "      <td>44</td>\n",
       "      <td>2.5</td>\n",
       "      <td>2.5</td>\n",
       "      <td>1.74</td>\n",
       "    </tr>\n",
       "    <tr>\n",
       "      <th>1</th>\n",
       "      <td>1</td>\n",
       "      <td>17</td>\n",
       "      <td>0.95</td>\n",
       "      <td>0.97</td>\n",
       "      <td>4.189146</td>\n",
       "      <td>3.595162</td>\n",
       "      <td>245.938101</td>\n",
       "      <td>160</td>\n",
       "      <td>2.1</td>\n",
       "      <td>2.1</td>\n",
       "      <td>0.87</td>\n",
       "    </tr>\n",
       "    <tr>\n",
       "      <th>2</th>\n",
       "      <td>1</td>\n",
       "      <td>17</td>\n",
       "      <td>0.95</td>\n",
       "      <td>0.97</td>\n",
       "      <td>4.189146</td>\n",
       "      <td>3.595162</td>\n",
       "      <td>245.938101</td>\n",
       "      <td>297</td>\n",
       "      <td>5.5</td>\n",
       "      <td>5.5</td>\n",
       "      <td>18.75</td>\n",
       "    </tr>\n",
       "    <tr>\n",
       "      <th>3</th>\n",
       "      <td>1</td>\n",
       "      <td>17</td>\n",
       "      <td>0.95</td>\n",
       "      <td>0.97</td>\n",
       "      <td>4.189146</td>\n",
       "      <td>3.595162</td>\n",
       "      <td>245.938101</td>\n",
       "      <td>11</td>\n",
       "      <td>0.6</td>\n",
       "      <td>0.6</td>\n",
       "      <td>0.42</td>\n",
       "    </tr>\n",
       "    <tr>\n",
       "      <th>4</th>\n",
       "      <td>1</td>\n",
       "      <td>17</td>\n",
       "      <td>0.95</td>\n",
       "      <td>0.97</td>\n",
       "      <td>4.189146</td>\n",
       "      <td>3.595162</td>\n",
       "      <td>245.938101</td>\n",
       "      <td>35</td>\n",
       "      <td>0.1</td>\n",
       "      <td>0.1</td>\n",
       "      <td>0.03</td>\n",
       "    </tr>\n",
       "    <tr>\n",
       "      <th>...</th>\n",
       "      <td>...</td>\n",
       "      <td>...</td>\n",
       "      <td>...</td>\n",
       "      <td>...</td>\n",
       "      <td>...</td>\n",
       "      <td>...</td>\n",
       "      <td>...</td>\n",
       "      <td>...</td>\n",
       "      <td>...</td>\n",
       "      <td>...</td>\n",
       "      <td>...</td>\n",
       "    </tr>\n",
       "    <tr>\n",
       "      <th>2631995</th>\n",
       "      <td>1400</td>\n",
       "      <td>56</td>\n",
       "      <td>1.17</td>\n",
       "      <td>1.11</td>\n",
       "      <td>1.170103</td>\n",
       "      <td>0.464468</td>\n",
       "      <td>7.953222</td>\n",
       "      <td>0</td>\n",
       "      <td>0.9</td>\n",
       "      <td>0.9</td>\n",
       "      <td>1.38</td>\n",
       "    </tr>\n",
       "    <tr>\n",
       "      <th>2631996</th>\n",
       "      <td>1400</td>\n",
       "      <td>56</td>\n",
       "      <td>1.17</td>\n",
       "      <td>1.11</td>\n",
       "      <td>1.170103</td>\n",
       "      <td>0.464468</td>\n",
       "      <td>7.953222</td>\n",
       "      <td>225</td>\n",
       "      <td>0.4</td>\n",
       "      <td>0.4</td>\n",
       "      <td>1.48</td>\n",
       "    </tr>\n",
       "    <tr>\n",
       "      <th>2631997</th>\n",
       "      <td>1400</td>\n",
       "      <td>56</td>\n",
       "      <td>1.17</td>\n",
       "      <td>1.11</td>\n",
       "      <td>1.170103</td>\n",
       "      <td>0.464468</td>\n",
       "      <td>7.953222</td>\n",
       "      <td>276</td>\n",
       "      <td>0.1</td>\n",
       "      <td>0.1</td>\n",
       "      <td>1.69</td>\n",
       "    </tr>\n",
       "    <tr>\n",
       "      <th>2631998</th>\n",
       "      <td>1400</td>\n",
       "      <td>56</td>\n",
       "      <td>1.17</td>\n",
       "      <td>1.11</td>\n",
       "      <td>1.170103</td>\n",
       "      <td>0.464468</td>\n",
       "      <td>7.953222</td>\n",
       "      <td>304</td>\n",
       "      <td>0.6</td>\n",
       "      <td>0.6</td>\n",
       "      <td>0.32</td>\n",
       "    </tr>\n",
       "    <tr>\n",
       "      <th>2631999</th>\n",
       "      <td>1400</td>\n",
       "      <td>56</td>\n",
       "      <td>1.17</td>\n",
       "      <td>1.11</td>\n",
       "      <td>1.170103</td>\n",
       "      <td>0.464468</td>\n",
       "      <td>7.953222</td>\n",
       "      <td>210</td>\n",
       "      <td>0.2</td>\n",
       "      <td>0.2</td>\n",
       "      <td>0.42</td>\n",
       "    </tr>\n",
       "  </tbody>\n",
       "</table>\n",
       "<p>2632000 rows × 11 columns</p>\n",
       "</div>"
      ],
      "text/plain": [
       "         Id_Energia_Carbon  Id_anio  Consumo_Carbon Produccion_Carbono  \\\n",
       "0                        1       17            0.95               0.97   \n",
       "1                        1       17            0.95               0.97   \n",
       "2                        1       17            0.95               0.97   \n",
       "3                        1       17            0.95               0.97   \n",
       "4                        1       17            0.95               0.97   \n",
       "...                    ...      ...             ...                ...   \n",
       "2631995               1400       56            1.17               1.11   \n",
       "2631996               1400       56            1.17               1.11   \n",
       "2631997               1400       56            1.17               1.11   \n",
       "2631998               1400       56            1.17               1.11   \n",
       "2631999               1400       56            1.17               1.11   \n",
       "\n",
       "         Consumo_Petroleo  Produccion_Petroleo  Reservas_Petroleo  Id_Pais  \\\n",
       "0                4.189146             3.595162         245.938101       44   \n",
       "1                4.189146             3.595162         245.938101      160   \n",
       "2                4.189146             3.595162         245.938101      297   \n",
       "3                4.189146             3.595162         245.938101       11   \n",
       "4                4.189146             3.595162         245.938101       35   \n",
       "...                   ...                  ...                ...      ...   \n",
       "2631995          1.170103             0.464468           7.953222        0   \n",
       "2631996          1.170103             0.464468           7.953222      225   \n",
       "2631997          1.170103             0.464468           7.953222      276   \n",
       "2631998          1.170103             0.464468           7.953222      304   \n",
       "2631999          1.170103             0.464468           7.953222      210   \n",
       "\n",
       "         Reserva_Gas  Produccion_gas  Consumo_gas  \n",
       "0                2.5             2.5         1.74  \n",
       "1                2.1             2.1         0.87  \n",
       "2                5.5             5.5        18.75  \n",
       "3                0.6             0.6         0.42  \n",
       "4                0.1             0.1         0.03  \n",
       "...              ...             ...          ...  \n",
       "2631995          0.9             0.9         1.38  \n",
       "2631996          0.4             0.4         1.48  \n",
       "2631997          0.1             0.1         1.69  \n",
       "2631998          0.6             0.6         0.32  \n",
       "2631999          0.2             0.2         0.42  \n",
       "\n",
       "[2632000 rows x 11 columns]"
      ]
     },
     "execution_count": 77,
     "metadata": {},
     "output_type": "execute_result"
    }
   ],
   "source": [
    "ene_fosil=pd.merge(carbon,petroleo, on='Id_anio')\n",
    "ene_fosil=pd.merge(ene_fosil,gas, on='Id_anio')\n",
    "ene_fosil.drop(columns={'Id_Pais_x','ID_Energia_petroleo','Id_Pais_y','ID_Gas_Natural'},inplace=True)\n",
    "ene_fosil"
   ]
  },
  {
   "cell_type": "code",
   "execution_count": 78,
   "metadata": {},
   "outputs": [
    {
     "data": {
      "text/html": [
       "<div>\n",
       "<style scoped>\n",
       "    .dataframe tbody tr th:only-of-type {\n",
       "        vertical-align: middle;\n",
       "    }\n",
       "\n",
       "    .dataframe tbody tr th {\n",
       "        vertical-align: top;\n",
       "    }\n",
       "\n",
       "    .dataframe thead th {\n",
       "        text-align: right;\n",
       "    }\n",
       "</style>\n",
       "<table border=\"1\" class=\"dataframe\">\n",
       "  <thead>\n",
       "    <tr style=\"text-align: right;\">\n",
       "      <th></th>\n",
       "      <th>Id_anio</th>\n",
       "      <th>Id_Pais</th>\n",
       "      <th>Consumo_Carbon</th>\n",
       "      <th>Consumo_Petroleo</th>\n",
       "      <th>Consumo_gas</th>\n",
       "      <th>Total_Consumo</th>\n",
       "    </tr>\n",
       "  </thead>\n",
       "  <tbody>\n",
       "    <tr>\n",
       "      <th>0</th>\n",
       "      <td>17</td>\n",
       "      <td>44</td>\n",
       "      <td>0.95</td>\n",
       "      <td>4.189146</td>\n",
       "      <td>1.74</td>\n",
       "      <td>6.879146</td>\n",
       "    </tr>\n",
       "    <tr>\n",
       "      <th>1</th>\n",
       "      <td>17</td>\n",
       "      <td>160</td>\n",
       "      <td>0.95</td>\n",
       "      <td>4.189146</td>\n",
       "      <td>0.87</td>\n",
       "      <td>6.009146</td>\n",
       "    </tr>\n",
       "    <tr>\n",
       "      <th>2</th>\n",
       "      <td>17</td>\n",
       "      <td>297</td>\n",
       "      <td>0.95</td>\n",
       "      <td>4.189146</td>\n",
       "      <td>18.75</td>\n",
       "      <td>23.889146</td>\n",
       "    </tr>\n",
       "    <tr>\n",
       "      <th>3</th>\n",
       "      <td>17</td>\n",
       "      <td>11</td>\n",
       "      <td>0.95</td>\n",
       "      <td>4.189146</td>\n",
       "      <td>0.42</td>\n",
       "      <td>5.559146</td>\n",
       "    </tr>\n",
       "    <tr>\n",
       "      <th>4</th>\n",
       "      <td>17</td>\n",
       "      <td>35</td>\n",
       "      <td>0.95</td>\n",
       "      <td>4.189146</td>\n",
       "      <td>0.03</td>\n",
       "      <td>5.169146</td>\n",
       "    </tr>\n",
       "    <tr>\n",
       "      <th>...</th>\n",
       "      <td>...</td>\n",
       "      <td>...</td>\n",
       "      <td>...</td>\n",
       "      <td>...</td>\n",
       "      <td>...</td>\n",
       "      <td>...</td>\n",
       "    </tr>\n",
       "    <tr>\n",
       "      <th>2631995</th>\n",
       "      <td>56</td>\n",
       "      <td>0</td>\n",
       "      <td>1.17</td>\n",
       "      <td>1.170103</td>\n",
       "      <td>1.38</td>\n",
       "      <td>3.720103</td>\n",
       "    </tr>\n",
       "    <tr>\n",
       "      <th>2631996</th>\n",
       "      <td>56</td>\n",
       "      <td>225</td>\n",
       "      <td>1.17</td>\n",
       "      <td>1.170103</td>\n",
       "      <td>1.48</td>\n",
       "      <td>3.820103</td>\n",
       "    </tr>\n",
       "    <tr>\n",
       "      <th>2631997</th>\n",
       "      <td>56</td>\n",
       "      <td>276</td>\n",
       "      <td>1.17</td>\n",
       "      <td>1.170103</td>\n",
       "      <td>1.69</td>\n",
       "      <td>4.030103</td>\n",
       "    </tr>\n",
       "    <tr>\n",
       "      <th>2631998</th>\n",
       "      <td>56</td>\n",
       "      <td>304</td>\n",
       "      <td>1.17</td>\n",
       "      <td>1.170103</td>\n",
       "      <td>0.32</td>\n",
       "      <td>2.660103</td>\n",
       "    </tr>\n",
       "    <tr>\n",
       "      <th>2631999</th>\n",
       "      <td>56</td>\n",
       "      <td>210</td>\n",
       "      <td>1.17</td>\n",
       "      <td>1.170103</td>\n",
       "      <td>0.42</td>\n",
       "      <td>2.760103</td>\n",
       "    </tr>\n",
       "  </tbody>\n",
       "</table>\n",
       "<p>2632000 rows × 6 columns</p>\n",
       "</div>"
      ],
      "text/plain": [
       "         Id_anio  Id_Pais  Consumo_Carbon  Consumo_Petroleo  Consumo_gas  \\\n",
       "0             17       44            0.95          4.189146         1.74   \n",
       "1             17      160            0.95          4.189146         0.87   \n",
       "2             17      297            0.95          4.189146        18.75   \n",
       "3             17       11            0.95          4.189146         0.42   \n",
       "4             17       35            0.95          4.189146         0.03   \n",
       "...          ...      ...             ...               ...          ...   \n",
       "2631995       56        0            1.17          1.170103         1.38   \n",
       "2631996       56      225            1.17          1.170103         1.48   \n",
       "2631997       56      276            1.17          1.170103         1.69   \n",
       "2631998       56      304            1.17          1.170103         0.32   \n",
       "2631999       56      210            1.17          1.170103         0.42   \n",
       "\n",
       "         Total_Consumo  \n",
       "0             6.879146  \n",
       "1             6.009146  \n",
       "2            23.889146  \n",
       "3             5.559146  \n",
       "4             5.169146  \n",
       "...                ...  \n",
       "2631995       3.720103  \n",
       "2631996       3.820103  \n",
       "2631997       4.030103  \n",
       "2631998       2.660103  \n",
       "2631999       2.760103  \n",
       "\n",
       "[2632000 rows x 6 columns]"
      ]
     },
     "execution_count": 78,
     "metadata": {},
     "output_type": "execute_result"
    }
   ],
   "source": [
    "ene_fosil_consumo=ene_fosil.loc[:,('Id_anio','Id_Pais','Consumo_Carbon','Consumo_Petroleo','Consumo_gas')]\n",
    "ene_fosil_consumo['Total_Consumo']=ene_fosil_consumo['Consumo_Carbon']+ene_fosil_consumo['Consumo_Petroleo']+ene_fosil_consumo['Consumo_gas']\n",
    "ene_fosil_consumo"
   ]
  },
  {
   "cell_type": "code",
   "execution_count": 79,
   "metadata": {},
   "outputs": [
    {
     "data": {
      "text/html": [
       "<div>\n",
       "<style scoped>\n",
       "    .dataframe tbody tr th:only-of-type {\n",
       "        vertical-align: middle;\n",
       "    }\n",
       "\n",
       "    .dataframe tbody tr th {\n",
       "        vertical-align: top;\n",
       "    }\n",
       "\n",
       "    .dataframe thead th {\n",
       "        text-align: right;\n",
       "    }\n",
       "</style>\n",
       "<table border=\"1\" class=\"dataframe\">\n",
       "  <thead>\n",
       "    <tr style=\"text-align: right;\">\n",
       "      <th></th>\n",
       "      <th>Id_anio</th>\n",
       "      <th>Id_Pais</th>\n",
       "      <th>Consumo_Carbon</th>\n",
       "      <th>Consumo_Petroleo</th>\n",
       "      <th>Consumo_gas</th>\n",
       "      <th>Total_Consumo</th>\n",
       "      <th>Codigo_pais</th>\n",
       "      <th>Pais</th>\n",
       "      <th>Anio</th>\n",
       "    </tr>\n",
       "  </thead>\n",
       "  <tbody>\n",
       "    <tr>\n",
       "      <th>0</th>\n",
       "      <td>17</td>\n",
       "      <td>44</td>\n",
       "      <td>0.95</td>\n",
       "      <td>4.189146</td>\n",
       "      <td>1.74</td>\n",
       "      <td>6.879146</td>\n",
       "      <td>CAN</td>\n",
       "      <td>Canada</td>\n",
       "      <td>1981</td>\n",
       "    </tr>\n",
       "    <tr>\n",
       "      <th>1</th>\n",
       "      <td>17</td>\n",
       "      <td>44</td>\n",
       "      <td>0.95</td>\n",
       "      <td>2.670692</td>\n",
       "      <td>1.74</td>\n",
       "      <td>5.360692</td>\n",
       "      <td>CAN</td>\n",
       "      <td>Canada</td>\n",
       "      <td>1981</td>\n",
       "    </tr>\n",
       "    <tr>\n",
       "      <th>2</th>\n",
       "      <td>17</td>\n",
       "      <td>44</td>\n",
       "      <td>0.95</td>\n",
       "      <td>35.857836</td>\n",
       "      <td>1.74</td>\n",
       "      <td>38.547836</td>\n",
       "      <td>CAN</td>\n",
       "      <td>Canada</td>\n",
       "      <td>1981</td>\n",
       "    </tr>\n",
       "    <tr>\n",
       "      <th>3</th>\n",
       "      <td>17</td>\n",
       "      <td>44</td>\n",
       "      <td>0.95</td>\n",
       "      <td>1.062918</td>\n",
       "      <td>1.74</td>\n",
       "      <td>3.752918</td>\n",
       "      <td>CAN</td>\n",
       "      <td>Canada</td>\n",
       "      <td>1981</td>\n",
       "    </tr>\n",
       "    <tr>\n",
       "      <th>4</th>\n",
       "      <td>17</td>\n",
       "      <td>44</td>\n",
       "      <td>0.95</td>\n",
       "      <td>2.324574</td>\n",
       "      <td>1.74</td>\n",
       "      <td>5.014574</td>\n",
       "      <td>CAN</td>\n",
       "      <td>Canada</td>\n",
       "      <td>1981</td>\n",
       "    </tr>\n",
       "    <tr>\n",
       "      <th>...</th>\n",
       "      <td>...</td>\n",
       "      <td>...</td>\n",
       "      <td>...</td>\n",
       "      <td>...</td>\n",
       "      <td>...</td>\n",
       "      <td>...</td>\n",
       "      <td>...</td>\n",
       "      <td>...</td>\n",
       "      <td>...</td>\n",
       "    </tr>\n",
       "    <tr>\n",
       "      <th>1903995</th>\n",
       "      <td>56</td>\n",
       "      <td>210</td>\n",
       "      <td>1.17</td>\n",
       "      <td>3.121762</td>\n",
       "      <td>0.42</td>\n",
       "      <td>4.711762</td>\n",
       "      <td>0</td>\n",
       "      <td>Other Asia Pacific (BP)</td>\n",
       "      <td>2020</td>\n",
       "    </tr>\n",
       "    <tr>\n",
       "      <th>1903996</th>\n",
       "      <td>56</td>\n",
       "      <td>210</td>\n",
       "      <td>1.17</td>\n",
       "      <td>1.672532</td>\n",
       "      <td>0.42</td>\n",
       "      <td>3.262532</td>\n",
       "      <td>0</td>\n",
       "      <td>Other Asia Pacific (BP)</td>\n",
       "      <td>2020</td>\n",
       "    </tr>\n",
       "    <tr>\n",
       "      <th>1903997</th>\n",
       "      <td>56</td>\n",
       "      <td>210</td>\n",
       "      <td>1.17</td>\n",
       "      <td>2.710886</td>\n",
       "      <td>0.42</td>\n",
       "      <td>4.300886</td>\n",
       "      <td>0</td>\n",
       "      <td>Other Asia Pacific (BP)</td>\n",
       "      <td>2020</td>\n",
       "    </tr>\n",
       "    <tr>\n",
       "      <th>1903998</th>\n",
       "      <td>56</td>\n",
       "      <td>210</td>\n",
       "      <td>1.17</td>\n",
       "      <td>1.100879</td>\n",
       "      <td>0.42</td>\n",
       "      <td>2.690879</td>\n",
       "      <td>0</td>\n",
       "      <td>Other Asia Pacific (BP)</td>\n",
       "      <td>2020</td>\n",
       "    </tr>\n",
       "    <tr>\n",
       "      <th>1903999</th>\n",
       "      <td>56</td>\n",
       "      <td>210</td>\n",
       "      <td>1.17</td>\n",
       "      <td>1.170103</td>\n",
       "      <td>0.42</td>\n",
       "      <td>2.760103</td>\n",
       "      <td>0</td>\n",
       "      <td>Other Asia Pacific (BP)</td>\n",
       "      <td>2020</td>\n",
       "    </tr>\n",
       "  </tbody>\n",
       "</table>\n",
       "<p>1904000 rows × 9 columns</p>\n",
       "</div>"
      ],
      "text/plain": [
       "         Id_anio  Id_Pais  Consumo_Carbon  Consumo_Petroleo  Consumo_gas  \\\n",
       "0             17       44            0.95          4.189146         1.74   \n",
       "1             17       44            0.95          2.670692         1.74   \n",
       "2             17       44            0.95         35.857836         1.74   \n",
       "3             17       44            0.95          1.062918         1.74   \n",
       "4             17       44            0.95          2.324574         1.74   \n",
       "...          ...      ...             ...               ...          ...   \n",
       "1903995       56      210            1.17          3.121762         0.42   \n",
       "1903996       56      210            1.17          1.672532         0.42   \n",
       "1903997       56      210            1.17          2.710886         0.42   \n",
       "1903998       56      210            1.17          1.100879         0.42   \n",
       "1903999       56      210            1.17          1.170103         0.42   \n",
       "\n",
       "         Total_Consumo Codigo_pais                     Pais  Anio  \n",
       "0             6.879146         CAN                   Canada  1981  \n",
       "1             5.360692         CAN                   Canada  1981  \n",
       "2            38.547836         CAN                   Canada  1981  \n",
       "3             3.752918         CAN                   Canada  1981  \n",
       "4             5.014574         CAN                   Canada  1981  \n",
       "...                ...         ...                      ...   ...  \n",
       "1903995       4.711762           0  Other Asia Pacific (BP)  2020  \n",
       "1903996       3.262532           0  Other Asia Pacific (BP)  2020  \n",
       "1903997       4.300886           0  Other Asia Pacific (BP)  2020  \n",
       "1903998       2.690879           0  Other Asia Pacific (BP)  2020  \n",
       "1903999       2.760103           0  Other Asia Pacific (BP)  2020  \n",
       "\n",
       "[1904000 rows x 9 columns]"
      ]
     },
     "execution_count": 79,
     "metadata": {},
     "output_type": "execute_result"
    }
   ],
   "source": [
    "ene_fosil_consumo_total=pd.merge(ene_fosil_consumo,paises, on='Id_Pais')\n",
    "ene_fosil_consumo_total=pd.merge(ene_fosil_consumo_total,años, on='Id_anio')\n",
    "\n",
    "ene_fosil_consumo_total"
   ]
  },
  {
   "cell_type": "code",
   "execution_count": 80,
   "metadata": {},
   "outputs": [
    {
     "data": {
      "text/html": [
       "<div>\n",
       "<style scoped>\n",
       "    .dataframe tbody tr th:only-of-type {\n",
       "        vertical-align: middle;\n",
       "    }\n",
       "\n",
       "    .dataframe tbody tr th {\n",
       "        vertical-align: top;\n",
       "    }\n",
       "\n",
       "    .dataframe thead th {\n",
       "        text-align: right;\n",
       "    }\n",
       "</style>\n",
       "<table border=\"1\" class=\"dataframe\">\n",
       "  <thead>\n",
       "    <tr style=\"text-align: right;\">\n",
       "      <th></th>\n",
       "      <th>Id_anio</th>\n",
       "      <th>Id_Pais</th>\n",
       "      <th>Consumo_Carbon</th>\n",
       "      <th>Consumo_Petroleo</th>\n",
       "      <th>Consumo_gas</th>\n",
       "      <th>Total_Consumo</th>\n",
       "      <th>Codigo_pais</th>\n",
       "      <th>Pais</th>\n",
       "      <th>Anio</th>\n",
       "    </tr>\n",
       "  </thead>\n",
       "  <tbody>\n",
       "    <tr>\n",
       "      <th>0</th>\n",
       "      <td>17</td>\n",
       "      <td>44</td>\n",
       "      <td>0.95</td>\n",
       "      <td>4.189146</td>\n",
       "      <td>1.74</td>\n",
       "      <td>6.879146</td>\n",
       "      <td>CAN</td>\n",
       "      <td>Canada</td>\n",
       "      <td>1981</td>\n",
       "    </tr>\n",
       "    <tr>\n",
       "      <th>1</th>\n",
       "      <td>17</td>\n",
       "      <td>44</td>\n",
       "      <td>0.95</td>\n",
       "      <td>2.670692</td>\n",
       "      <td>1.74</td>\n",
       "      <td>5.360692</td>\n",
       "      <td>CAN</td>\n",
       "      <td>Canada</td>\n",
       "      <td>1981</td>\n",
       "    </tr>\n",
       "    <tr>\n",
       "      <th>2</th>\n",
       "      <td>17</td>\n",
       "      <td>44</td>\n",
       "      <td>0.95</td>\n",
       "      <td>35.857836</td>\n",
       "      <td>1.74</td>\n",
       "      <td>38.547836</td>\n",
       "      <td>CAN</td>\n",
       "      <td>Canada</td>\n",
       "      <td>1981</td>\n",
       "    </tr>\n",
       "    <tr>\n",
       "      <th>3</th>\n",
       "      <td>17</td>\n",
       "      <td>44</td>\n",
       "      <td>0.95</td>\n",
       "      <td>1.062918</td>\n",
       "      <td>1.74</td>\n",
       "      <td>3.752918</td>\n",
       "      <td>CAN</td>\n",
       "      <td>Canada</td>\n",
       "      <td>1981</td>\n",
       "    </tr>\n",
       "    <tr>\n",
       "      <th>4</th>\n",
       "      <td>17</td>\n",
       "      <td>44</td>\n",
       "      <td>0.95</td>\n",
       "      <td>2.324574</td>\n",
       "      <td>1.74</td>\n",
       "      <td>5.014574</td>\n",
       "      <td>CAN</td>\n",
       "      <td>Canada</td>\n",
       "      <td>1981</td>\n",
       "    </tr>\n",
       "    <tr>\n",
       "      <th>...</th>\n",
       "      <td>...</td>\n",
       "      <td>...</td>\n",
       "      <td>...</td>\n",
       "      <td>...</td>\n",
       "      <td>...</td>\n",
       "      <td>...</td>\n",
       "      <td>...</td>\n",
       "      <td>...</td>\n",
       "      <td>...</td>\n",
       "    </tr>\n",
       "    <tr>\n",
       "      <th>1902595</th>\n",
       "      <td>56</td>\n",
       "      <td>304</td>\n",
       "      <td>1.17</td>\n",
       "      <td>3.121762</td>\n",
       "      <td>0.32</td>\n",
       "      <td>4.611762</td>\n",
       "      <td>VNM</td>\n",
       "      <td>Vietnam</td>\n",
       "      <td>2020</td>\n",
       "    </tr>\n",
       "    <tr>\n",
       "      <th>1902596</th>\n",
       "      <td>56</td>\n",
       "      <td>304</td>\n",
       "      <td>1.17</td>\n",
       "      <td>1.672532</td>\n",
       "      <td>0.32</td>\n",
       "      <td>3.162532</td>\n",
       "      <td>VNM</td>\n",
       "      <td>Vietnam</td>\n",
       "      <td>2020</td>\n",
       "    </tr>\n",
       "    <tr>\n",
       "      <th>1902597</th>\n",
       "      <td>56</td>\n",
       "      <td>304</td>\n",
       "      <td>1.17</td>\n",
       "      <td>2.710886</td>\n",
       "      <td>0.32</td>\n",
       "      <td>4.200886</td>\n",
       "      <td>VNM</td>\n",
       "      <td>Vietnam</td>\n",
       "      <td>2020</td>\n",
       "    </tr>\n",
       "    <tr>\n",
       "      <th>1902598</th>\n",
       "      <td>56</td>\n",
       "      <td>304</td>\n",
       "      <td>1.17</td>\n",
       "      <td>1.100879</td>\n",
       "      <td>0.32</td>\n",
       "      <td>2.590879</td>\n",
       "      <td>VNM</td>\n",
       "      <td>Vietnam</td>\n",
       "      <td>2020</td>\n",
       "    </tr>\n",
       "    <tr>\n",
       "      <th>1902599</th>\n",
       "      <td>56</td>\n",
       "      <td>304</td>\n",
       "      <td>1.17</td>\n",
       "      <td>1.170103</td>\n",
       "      <td>0.32</td>\n",
       "      <td>2.660103</td>\n",
       "      <td>VNM</td>\n",
       "      <td>Vietnam</td>\n",
       "      <td>2020</td>\n",
       "    </tr>\n",
       "  </tbody>\n",
       "</table>\n",
       "<p>1680000 rows × 9 columns</p>\n",
       "</div>"
      ],
      "text/plain": [
       "         Id_anio  Id_Pais  Consumo_Carbon  Consumo_Petroleo  Consumo_gas  \\\n",
       "0             17       44            0.95          4.189146         1.74   \n",
       "1             17       44            0.95          2.670692         1.74   \n",
       "2             17       44            0.95         35.857836         1.74   \n",
       "3             17       44            0.95          1.062918         1.74   \n",
       "4             17       44            0.95          2.324574         1.74   \n",
       "...          ...      ...             ...               ...          ...   \n",
       "1902595       56      304            1.17          3.121762         0.32   \n",
       "1902596       56      304            1.17          1.672532         0.32   \n",
       "1902597       56      304            1.17          2.710886         0.32   \n",
       "1902598       56      304            1.17          1.100879         0.32   \n",
       "1902599       56      304            1.17          1.170103         0.32   \n",
       "\n",
       "         Total_Consumo Codigo_pais     Pais  Anio  \n",
       "0             6.879146         CAN   Canada  1981  \n",
       "1             5.360692         CAN   Canada  1981  \n",
       "2            38.547836         CAN   Canada  1981  \n",
       "3             3.752918         CAN   Canada  1981  \n",
       "4             5.014574         CAN   Canada  1981  \n",
       "...                ...         ...      ...   ...  \n",
       "1902595       4.611762         VNM  Vietnam  2020  \n",
       "1902596       3.162532         VNM  Vietnam  2020  \n",
       "1902597       4.200886         VNM  Vietnam  2020  \n",
       "1902598       2.590879         VNM  Vietnam  2020  \n",
       "1902599       2.660103         VNM  Vietnam  2020  \n",
       "\n",
       "[1680000 rows x 9 columns]"
      ]
     },
     "execution_count": 80,
     "metadata": {},
     "output_type": "execute_result"
    }
   ],
   "source": [
    "indexN=ene_fosil_consumo_total[ene_fosil_consumo_total['Pais']=='Other Europe (BP)'].index\n",
    "ene_fosil_consumo_total.drop(indexN, inplace=True)\n",
    "indexN=ene_fosil_consumo_total[ene_fosil_consumo_total['Pais']=='Other CIS (BP)'].index\n",
    "ene_fosil_consumo_total.drop(indexN, inplace=True)\n",
    "indexN=ene_fosil_consumo_total[ene_fosil_consumo_total['Pais']=='Other Middle East (BP)'].index\n",
    "ene_fosil_consumo_total.drop(indexN, inplace=True)\n",
    "indexN=ene_fosil_consumo_total[ene_fosil_consumo_total['Pais']=='Other Western Africa (BP)'].index\n",
    "ene_fosil_consumo_total.drop(indexN, inplace=True)\n",
    "indexN=ene_fosil_consumo_total[ene_fosil_consumo_total['Pais']=='Other Northern Africa (BP)'].index\n",
    "ene_fosil_consumo_total.drop(indexN, inplace=True)\n",
    "indexN=ene_fosil_consumo_total[ene_fosil_consumo_total['Pais']=='Other Asia Pacific (BP)'].index\n",
    "ene_fosil_consumo_total.drop(indexN, inplace=True)\n",
    "#ene_fosil_consumo_total['Id_Pais']=ene_fosil_consumo_total['Id_Pais'].astype()\n",
    "ene_fosil_consumo_total"
   ]
  },
  {
   "cell_type": "code",
   "execution_count": 81,
   "metadata": {},
   "outputs": [
    {
     "data": {
      "text/html": [
       "<div>\n",
       "<style scoped>\n",
       "    .dataframe tbody tr th:only-of-type {\n",
       "        vertical-align: middle;\n",
       "    }\n",
       "\n",
       "    .dataframe tbody tr th {\n",
       "        vertical-align: top;\n",
       "    }\n",
       "\n",
       "    .dataframe thead th {\n",
       "        text-align: right;\n",
       "    }\n",
       "</style>\n",
       "<table border=\"1\" class=\"dataframe\">\n",
       "  <thead>\n",
       "    <tr style=\"text-align: right;\">\n",
       "      <th></th>\n",
       "      <th>Id_anio</th>\n",
       "      <th>Id_Pais</th>\n",
       "      <th>Consumo_Carbon</th>\n",
       "      <th>Consumo_Petroleo</th>\n",
       "      <th>Consumo_gas</th>\n",
       "      <th>Total_Consumo</th>\n",
       "      <th>Codigo_pais</th>\n",
       "      <th>Pais</th>\n",
       "      <th>Anio</th>\n",
       "    </tr>\n",
       "  </thead>\n",
       "  <tbody>\n",
       "    <tr>\n",
       "      <th>0</th>\n",
       "      <td>17</td>\n",
       "      <td>44</td>\n",
       "      <td>0.95</td>\n",
       "      <td>4.189146</td>\n",
       "      <td>1.74</td>\n",
       "      <td>6.879146</td>\n",
       "      <td>CAN</td>\n",
       "      <td>Canada</td>\n",
       "      <td>1981</td>\n",
       "    </tr>\n",
       "    <tr>\n",
       "      <th>1</th>\n",
       "      <td>17</td>\n",
       "      <td>44</td>\n",
       "      <td>0.95</td>\n",
       "      <td>2.670692</td>\n",
       "      <td>1.74</td>\n",
       "      <td>5.360692</td>\n",
       "      <td>CAN</td>\n",
       "      <td>Canada</td>\n",
       "      <td>1981</td>\n",
       "    </tr>\n",
       "    <tr>\n",
       "      <th>2</th>\n",
       "      <td>17</td>\n",
       "      <td>44</td>\n",
       "      <td>0.95</td>\n",
       "      <td>35.857836</td>\n",
       "      <td>1.74</td>\n",
       "      <td>38.547836</td>\n",
       "      <td>CAN</td>\n",
       "      <td>Canada</td>\n",
       "      <td>1981</td>\n",
       "    </tr>\n",
       "    <tr>\n",
       "      <th>3</th>\n",
       "      <td>17</td>\n",
       "      <td>44</td>\n",
       "      <td>0.95</td>\n",
       "      <td>1.062918</td>\n",
       "      <td>1.74</td>\n",
       "      <td>3.752918</td>\n",
       "      <td>CAN</td>\n",
       "      <td>Canada</td>\n",
       "      <td>1981</td>\n",
       "    </tr>\n",
       "    <tr>\n",
       "      <th>4</th>\n",
       "      <td>17</td>\n",
       "      <td>44</td>\n",
       "      <td>0.95</td>\n",
       "      <td>2.324574</td>\n",
       "      <td>1.74</td>\n",
       "      <td>5.014574</td>\n",
       "      <td>CAN</td>\n",
       "      <td>Canada</td>\n",
       "      <td>1981</td>\n",
       "    </tr>\n",
       "    <tr>\n",
       "      <th>...</th>\n",
       "      <td>...</td>\n",
       "      <td>...</td>\n",
       "      <td>...</td>\n",
       "      <td>...</td>\n",
       "      <td>...</td>\n",
       "      <td>...</td>\n",
       "      <td>...</td>\n",
       "      <td>...</td>\n",
       "      <td>...</td>\n",
       "    </tr>\n",
       "    <tr>\n",
       "      <th>1395</th>\n",
       "      <td>17</td>\n",
       "      <td>44</td>\n",
       "      <td>1.21</td>\n",
       "      <td>0.966898</td>\n",
       "      <td>1.74</td>\n",
       "      <td>3.916898</td>\n",
       "      <td>CAN</td>\n",
       "      <td>Canada</td>\n",
       "      <td>1981</td>\n",
       "    </tr>\n",
       "    <tr>\n",
       "      <th>1396</th>\n",
       "      <td>17</td>\n",
       "      <td>44</td>\n",
       "      <td>1.21</td>\n",
       "      <td>0.390779</td>\n",
       "      <td>1.74</td>\n",
       "      <td>3.340779</td>\n",
       "      <td>CAN</td>\n",
       "      <td>Canada</td>\n",
       "      <td>1981</td>\n",
       "    </tr>\n",
       "    <tr>\n",
       "      <th>1397</th>\n",
       "      <td>17</td>\n",
       "      <td>44</td>\n",
       "      <td>1.21</td>\n",
       "      <td>0.489031</td>\n",
       "      <td>1.74</td>\n",
       "      <td>3.439031</td>\n",
       "      <td>CAN</td>\n",
       "      <td>Canada</td>\n",
       "      <td>1981</td>\n",
       "    </tr>\n",
       "    <tr>\n",
       "      <th>1398</th>\n",
       "      <td>17</td>\n",
       "      <td>44</td>\n",
       "      <td>1.21</td>\n",
       "      <td>0.078156</td>\n",
       "      <td>1.74</td>\n",
       "      <td>3.028156</td>\n",
       "      <td>CAN</td>\n",
       "      <td>Canada</td>\n",
       "      <td>1981</td>\n",
       "    </tr>\n",
       "    <tr>\n",
       "      <th>1399</th>\n",
       "      <td>17</td>\n",
       "      <td>44</td>\n",
       "      <td>1.21</td>\n",
       "      <td>0.363982</td>\n",
       "      <td>1.74</td>\n",
       "      <td>3.313982</td>\n",
       "      <td>CAN</td>\n",
       "      <td>Canada</td>\n",
       "      <td>1981</td>\n",
       "    </tr>\n",
       "  </tbody>\n",
       "</table>\n",
       "<p>1400 rows × 9 columns</p>\n",
       "</div>"
      ],
      "text/plain": [
       "      Id_anio  Id_Pais  Consumo_Carbon  Consumo_Petroleo  Consumo_gas  \\\n",
       "0          17       44            0.95          4.189146         1.74   \n",
       "1          17       44            0.95          2.670692         1.74   \n",
       "2          17       44            0.95         35.857836         1.74   \n",
       "3          17       44            0.95          1.062918         1.74   \n",
       "4          17       44            0.95          2.324574         1.74   \n",
       "...       ...      ...             ...               ...          ...   \n",
       "1395       17       44            1.21          0.966898         1.74   \n",
       "1396       17       44            1.21          0.390779         1.74   \n",
       "1397       17       44            1.21          0.489031         1.74   \n",
       "1398       17       44            1.21          0.078156         1.74   \n",
       "1399       17       44            1.21          0.363982         1.74   \n",
       "\n",
       "      Total_Consumo Codigo_pais    Pais  Anio  \n",
       "0          6.879146         CAN  Canada  1981  \n",
       "1          5.360692         CAN  Canada  1981  \n",
       "2         38.547836         CAN  Canada  1981  \n",
       "3          3.752918         CAN  Canada  1981  \n",
       "4          5.014574         CAN  Canada  1981  \n",
       "...             ...         ...     ...   ...  \n",
       "1395       3.916898         CAN  Canada  1981  \n",
       "1396       3.340779         CAN  Canada  1981  \n",
       "1397       3.439031         CAN  Canada  1981  \n",
       "1398       3.028156         CAN  Canada  1981  \n",
       "1399       3.313982         CAN  Canada  1981  \n",
       "\n",
       "[1400 rows x 9 columns]"
      ]
     },
     "execution_count": 81,
     "metadata": {},
     "output_type": "execute_result"
    }
   ],
   "source": [
    "ene_fosil_consumo_total[(ene_fosil_consumo_total.Pais=='Canada') & (ene_fosil_consumo_total.Anio ==1981)]\n"
   ]
  },
  {
   "cell_type": "code",
   "execution_count": 82,
   "metadata": {},
   "outputs": [
    {
     "data": {
      "text/html": [
       "<div>\n",
       "<style scoped>\n",
       "    .dataframe tbody tr th:only-of-type {\n",
       "        vertical-align: middle;\n",
       "    }\n",
       "\n",
       "    .dataframe tbody tr th {\n",
       "        vertical-align: top;\n",
       "    }\n",
       "\n",
       "    .dataframe thead th {\n",
       "        text-align: right;\n",
       "    }\n",
       "</style>\n",
       "<table border=\"1\" class=\"dataframe\">\n",
       "  <thead>\n",
       "    <tr style=\"text-align: right;\">\n",
       "      <th></th>\n",
       "      <th>Id_anio</th>\n",
       "      <th>Id_Pais</th>\n",
       "      <th>Consumo_Carbon</th>\n",
       "      <th>Consumo_Petroleo</th>\n",
       "      <th>Consumo_gas</th>\n",
       "      <th>Total_Consumo</th>\n",
       "    </tr>\n",
       "    <tr>\n",
       "      <th>Anio</th>\n",
       "      <th></th>\n",
       "      <th></th>\n",
       "      <th></th>\n",
       "      <th></th>\n",
       "      <th></th>\n",
       "      <th></th>\n",
       "    </tr>\n",
       "  </thead>\n",
       "  <tbody>\n",
       "    <tr>\n",
       "      <th>1990</th>\n",
       "      <td>26.0</td>\n",
       "      <td>44.0</td>\n",
       "      <td>2.501429</td>\n",
       "      <td>2.405912</td>\n",
       "      <td>2.30</td>\n",
       "      <td>7.207340</td>\n",
       "    </tr>\n",
       "    <tr>\n",
       "      <th>1991</th>\n",
       "      <td>27.0</td>\n",
       "      <td>44.0</td>\n",
       "      <td>2.475143</td>\n",
       "      <td>2.396477</td>\n",
       "      <td>2.31</td>\n",
       "      <td>7.181620</td>\n",
       "    </tr>\n",
       "    <tr>\n",
       "      <th>1992</th>\n",
       "      <td>28.0</td>\n",
       "      <td>44.0</td>\n",
       "      <td>2.476000</td>\n",
       "      <td>2.443650</td>\n",
       "      <td>2.45</td>\n",
       "      <td>7.369650</td>\n",
       "    </tr>\n",
       "    <tr>\n",
       "      <th>1993</th>\n",
       "      <td>29.0</td>\n",
       "      <td>44.0</td>\n",
       "      <td>2.491714</td>\n",
       "      <td>2.445492</td>\n",
       "      <td>2.60</td>\n",
       "      <td>7.537206</td>\n",
       "    </tr>\n",
       "    <tr>\n",
       "      <th>1994</th>\n",
       "      <td>30.0</td>\n",
       "      <td>44.0</td>\n",
       "      <td>2.500857</td>\n",
       "      <td>2.494283</td>\n",
       "      <td>2.69</td>\n",
       "      <td>7.685141</td>\n",
       "    </tr>\n",
       "    <tr>\n",
       "      <th>1995</th>\n",
       "      <td>31.0</td>\n",
       "      <td>44.0</td>\n",
       "      <td>2.517143</td>\n",
       "      <td>2.517898</td>\n",
       "      <td>2.78</td>\n",
       "      <td>7.815040</td>\n",
       "    </tr>\n",
       "    <tr>\n",
       "      <th>1996</th>\n",
       "      <td>32.0</td>\n",
       "      <td>44.0</td>\n",
       "      <td>2.573714</td>\n",
       "      <td>2.576235</td>\n",
       "      <td>2.83</td>\n",
       "      <td>7.979950</td>\n",
       "    </tr>\n",
       "    <tr>\n",
       "      <th>1997</th>\n",
       "      <td>33.0</td>\n",
       "      <td>44.0</td>\n",
       "      <td>2.571143</td>\n",
       "      <td>2.664272</td>\n",
       "      <td>2.88</td>\n",
       "      <td>8.115415</td>\n",
       "    </tr>\n",
       "    <tr>\n",
       "      <th>1998</th>\n",
       "      <td>34.0</td>\n",
       "      <td>44.0</td>\n",
       "      <td>2.550857</td>\n",
       "      <td>2.691403</td>\n",
       "      <td>2.84</td>\n",
       "      <td>8.082260</td>\n",
       "    </tr>\n",
       "    <tr>\n",
       "      <th>1999</th>\n",
       "      <td>35.0</td>\n",
       "      <td>44.0</td>\n",
       "      <td>2.569429</td>\n",
       "      <td>2.762748</td>\n",
       "      <td>3.03</td>\n",
       "      <td>8.362177</td>\n",
       "    </tr>\n",
       "    <tr>\n",
       "      <th>2000</th>\n",
       "      <td>36.0</td>\n",
       "      <td>44.0</td>\n",
       "      <td>2.657143</td>\n",
       "      <td>2.813940</td>\n",
       "      <td>3.21</td>\n",
       "      <td>8.681083</td>\n",
       "    </tr>\n",
       "    <tr>\n",
       "      <th>2001</th>\n",
       "      <td>37.0</td>\n",
       "      <td>44.0</td>\n",
       "      <td>2.694571</td>\n",
       "      <td>2.845593</td>\n",
       "      <td>3.03</td>\n",
       "      <td>8.570165</td>\n",
       "    </tr>\n",
       "    <tr>\n",
       "      <th>2002</th>\n",
       "      <td>38.0</td>\n",
       "      <td>44.0</td>\n",
       "      <td>2.804857</td>\n",
       "      <td>2.888300</td>\n",
       "      <td>3.15</td>\n",
       "      <td>8.843157</td>\n",
       "    </tr>\n",
       "    <tr>\n",
       "      <th>2003</th>\n",
       "      <td>39.0</td>\n",
       "      <td>44.0</td>\n",
       "      <td>3.051714</td>\n",
       "      <td>2.966567</td>\n",
       "      <td>3.23</td>\n",
       "      <td>9.248281</td>\n",
       "    </tr>\n",
       "    <tr>\n",
       "      <th>2004</th>\n",
       "      <td>40.0</td>\n",
       "      <td>44.0</td>\n",
       "      <td>3.271714</td>\n",
       "      <td>3.116459</td>\n",
       "      <td>3.16</td>\n",
       "      <td>9.548173</td>\n",
       "    </tr>\n",
       "    <tr>\n",
       "      <th>2005</th>\n",
       "      <td>41.0</td>\n",
       "      <td>44.0</td>\n",
       "      <td>3.531429</td>\n",
       "      <td>3.159500</td>\n",
       "      <td>3.15</td>\n",
       "      <td>9.840929</td>\n",
       "    </tr>\n",
       "    <tr>\n",
       "      <th>2006</th>\n",
       "      <td>42.0</td>\n",
       "      <td>44.0</td>\n",
       "      <td>3.718286</td>\n",
       "      <td>3.208738</td>\n",
       "      <td>3.13</td>\n",
       "      <td>10.057024</td>\n",
       "    </tr>\n",
       "    <tr>\n",
       "      <th>2007</th>\n",
       "      <td>43.0</td>\n",
       "      <td>44.0</td>\n",
       "      <td>3.935429</td>\n",
       "      <td>3.271988</td>\n",
       "      <td>3.37</td>\n",
       "      <td>10.577417</td>\n",
       "    </tr>\n",
       "    <tr>\n",
       "      <th>2008</th>\n",
       "      <td>44.0</td>\n",
       "      <td>44.0</td>\n",
       "      <td>3.999143</td>\n",
       "      <td>3.237823</td>\n",
       "      <td>3.33</td>\n",
       "      <td>10.566966</td>\n",
       "    </tr>\n",
       "    <tr>\n",
       "      <th>2009</th>\n",
       "      <td>45.0</td>\n",
       "      <td>44.0</td>\n",
       "      <td>3.953143</td>\n",
       "      <td>3.213037</td>\n",
       "      <td>3.23</td>\n",
       "      <td>10.396180</td>\n",
       "    </tr>\n",
       "    <tr>\n",
       "      <th>2010</th>\n",
       "      <td>46.0</td>\n",
       "      <td>44.0</td>\n",
       "      <td>4.123714</td>\n",
       "      <td>3.361030</td>\n",
       "      <td>3.30</td>\n",
       "      <td>10.784744</td>\n",
       "    </tr>\n",
       "    <tr>\n",
       "      <th>2011</th>\n",
       "      <td>47.0</td>\n",
       "      <td>44.0</td>\n",
       "      <td>4.326286</td>\n",
       "      <td>3.428132</td>\n",
       "      <td>3.62</td>\n",
       "      <td>11.374418</td>\n",
       "    </tr>\n",
       "    <tr>\n",
       "      <th>2012</th>\n",
       "      <td>48.0</td>\n",
       "      <td>44.0</td>\n",
       "      <td>4.339714</td>\n",
       "      <td>3.480385</td>\n",
       "      <td>3.58</td>\n",
       "      <td>11.400099</td>\n",
       "    </tr>\n",
       "    <tr>\n",
       "      <th>2013</th>\n",
       "      <td>49.0</td>\n",
       "      <td>44.0</td>\n",
       "      <td>4.401429</td>\n",
       "      <td>3.562728</td>\n",
       "      <td>3.80</td>\n",
       "      <td>11.764156</td>\n",
       "    </tr>\n",
       "    <tr>\n",
       "      <th>2014</th>\n",
       "      <td>50.0</td>\n",
       "      <td>44.0</td>\n",
       "      <td>4.433714</td>\n",
       "      <td>3.619446</td>\n",
       "      <td>3.95</td>\n",
       "      <td>12.003161</td>\n",
       "    </tr>\n",
       "    <tr>\n",
       "      <th>2015</th>\n",
       "      <td>51.0</td>\n",
       "      <td>44.0</td>\n",
       "      <td>4.318857</td>\n",
       "      <td>3.695257</td>\n",
       "      <td>3.97</td>\n",
       "      <td>11.984115</td>\n",
       "    </tr>\n",
       "    <tr>\n",
       "      <th>2016</th>\n",
       "      <td>52.0</td>\n",
       "      <td>44.0</td>\n",
       "      <td>4.262857</td>\n",
       "      <td>3.754991</td>\n",
       "      <td>3.78</td>\n",
       "      <td>11.797848</td>\n",
       "    </tr>\n",
       "    <tr>\n",
       "      <th>2017</th>\n",
       "      <td>53.0</td>\n",
       "      <td>44.0</td>\n",
       "      <td>4.283143</td>\n",
       "      <td>3.826950</td>\n",
       "      <td>3.96</td>\n",
       "      <td>12.070093</td>\n",
       "    </tr>\n",
       "    <tr>\n",
       "      <th>2018</th>\n",
       "      <td>54.0</td>\n",
       "      <td>44.0</td>\n",
       "      <td>4.339143</td>\n",
       "      <td>3.916550</td>\n",
       "      <td>4.16</td>\n",
       "      <td>12.415693</td>\n",
       "    </tr>\n",
       "    <tr>\n",
       "      <th>2019</th>\n",
       "      <td>55.0</td>\n",
       "      <td>44.0</td>\n",
       "      <td>4.286571</td>\n",
       "      <td>3.941504</td>\n",
       "      <td>4.22</td>\n",
       "      <td>12.448075</td>\n",
       "    </tr>\n",
       "    <tr>\n",
       "      <th>2020</th>\n",
       "      <td>56.0</td>\n",
       "      <td>44.0</td>\n",
       "      <td>4.127429</td>\n",
       "      <td>3.600019</td>\n",
       "      <td>4.08</td>\n",
       "      <td>11.807448</td>\n",
       "    </tr>\n",
       "  </tbody>\n",
       "</table>\n",
       "</div>"
      ],
      "text/plain": [
       "      Id_anio  Id_Pais  Consumo_Carbon  Consumo_Petroleo  Consumo_gas  \\\n",
       "Anio                                                                    \n",
       "1990     26.0     44.0        2.501429          2.405912         2.30   \n",
       "1991     27.0     44.0        2.475143          2.396477         2.31   \n",
       "1992     28.0     44.0        2.476000          2.443650         2.45   \n",
       "1993     29.0     44.0        2.491714          2.445492         2.60   \n",
       "1994     30.0     44.0        2.500857          2.494283         2.69   \n",
       "1995     31.0     44.0        2.517143          2.517898         2.78   \n",
       "1996     32.0     44.0        2.573714          2.576235         2.83   \n",
       "1997     33.0     44.0        2.571143          2.664272         2.88   \n",
       "1998     34.0     44.0        2.550857          2.691403         2.84   \n",
       "1999     35.0     44.0        2.569429          2.762748         3.03   \n",
       "2000     36.0     44.0        2.657143          2.813940         3.21   \n",
       "2001     37.0     44.0        2.694571          2.845593         3.03   \n",
       "2002     38.0     44.0        2.804857          2.888300         3.15   \n",
       "2003     39.0     44.0        3.051714          2.966567         3.23   \n",
       "2004     40.0     44.0        3.271714          3.116459         3.16   \n",
       "2005     41.0     44.0        3.531429          3.159500         3.15   \n",
       "2006     42.0     44.0        3.718286          3.208738         3.13   \n",
       "2007     43.0     44.0        3.935429          3.271988         3.37   \n",
       "2008     44.0     44.0        3.999143          3.237823         3.33   \n",
       "2009     45.0     44.0        3.953143          3.213037         3.23   \n",
       "2010     46.0     44.0        4.123714          3.361030         3.30   \n",
       "2011     47.0     44.0        4.326286          3.428132         3.62   \n",
       "2012     48.0     44.0        4.339714          3.480385         3.58   \n",
       "2013     49.0     44.0        4.401429          3.562728         3.80   \n",
       "2014     50.0     44.0        4.433714          3.619446         3.95   \n",
       "2015     51.0     44.0        4.318857          3.695257         3.97   \n",
       "2016     52.0     44.0        4.262857          3.754991         3.78   \n",
       "2017     53.0     44.0        4.283143          3.826950         3.96   \n",
       "2018     54.0     44.0        4.339143          3.916550         4.16   \n",
       "2019     55.0     44.0        4.286571          3.941504         4.22   \n",
       "2020     56.0     44.0        4.127429          3.600019         4.08   \n",
       "\n",
       "      Total_Consumo  \n",
       "Anio                 \n",
       "1990       7.207340  \n",
       "1991       7.181620  \n",
       "1992       7.369650  \n",
       "1993       7.537206  \n",
       "1994       7.685141  \n",
       "1995       7.815040  \n",
       "1996       7.979950  \n",
       "1997       8.115415  \n",
       "1998       8.082260  \n",
       "1999       8.362177  \n",
       "2000       8.681083  \n",
       "2001       8.570165  \n",
       "2002       8.843157  \n",
       "2003       9.248281  \n",
       "2004       9.548173  \n",
       "2005       9.840929  \n",
       "2006      10.057024  \n",
       "2007      10.577417  \n",
       "2008      10.566966  \n",
       "2009      10.396180  \n",
       "2010      10.784744  \n",
       "2011      11.374418  \n",
       "2012      11.400099  \n",
       "2013      11.764156  \n",
       "2014      12.003161  \n",
       "2015      11.984115  \n",
       "2016      11.797848  \n",
       "2017      12.070093  \n",
       "2018      12.415693  \n",
       "2019      12.448075  \n",
       "2020      11.807448  "
      ]
     },
     "execution_count": 82,
     "metadata": {},
     "output_type": "execute_result"
    }
   ],
   "source": [
    "año90=ene_fosil_consumo_total[ene_fosil_consumo_total.Anio>=1990]\n",
    "canada=año90[(año90.Pais=='Canada')].groupby(by=['Anio']).mean()\n",
    "\n",
    "\n",
    "canada"
   ]
  },
  {
   "cell_type": "code",
   "execution_count": 83,
   "metadata": {},
   "outputs": [
    {
     "data": {
      "application/vnd.plotly.v1+json": {
       "config": {
        "plotlyServerURL": "https://plot.ly"
       },
       "data": [
        {
         "marker": {
          "color": "lightslategray"
         },
         "name": "Carbon",
         "type": "bar",
         "x": [
          1990,
          1991,
          1992,
          1993,
          1994,
          1995,
          1996,
          1997,
          1998,
          1999,
          2000,
          2001,
          2002,
          2003,
          2004,
          2005,
          2006,
          2007,
          2008,
          2009,
          2010,
          2011,
          2012,
          2013,
          2014,
          2015,
          2016,
          2017,
          2018,
          2019,
          2020
         ],
         "y": [
          2.5014285714285713,
          2.475142857142857,
          2.476,
          2.491714285714286,
          2.500857142857143,
          2.5171428571428573,
          2.573714285714286,
          2.571142857142857,
          2.5508571428571427,
          2.569428571428572,
          2.657142857142857,
          2.694571428571429,
          2.8048571428571427,
          3.0517142857142856,
          3.2717142857142854,
          3.5314285714285716,
          3.718285714285714,
          3.9354285714285715,
          3.999142857142857,
          3.953142857142857,
          4.123714285714286,
          4.326285714285714,
          4.339714285714285,
          4.401428571428571,
          4.433714285714285,
          4.318857142857143,
          4.2628571428571425,
          4.283142857142857,
          4.339142857142857,
          4.2865714285714285,
          4.127428571428571
         ]
        },
        {
         "marker": {
          "color": "indianred"
         },
         "name": "Petroleo",
         "type": "bar",
         "x": [
          1990,
          1991,
          1992,
          1993,
          1994,
          1995,
          1996,
          1997,
          1998,
          1999,
          2000,
          2001,
          2002,
          2003,
          2004,
          2005,
          2006,
          2007,
          2008,
          2009,
          2010,
          2011,
          2012,
          2013,
          2014,
          2015,
          2016,
          2017,
          2018,
          2019,
          2020
         ],
         "y": [
          2.4059116467649,
          2.3964771369776,
          2.4436496859141,
          2.4454919274702,
          2.494283415956,
          2.5178976031750997,
          2.5762352524515997,
          2.6642720686324997,
          2.6914032624587,
          2.7627482536312997,
          2.8139402386901997,
          2.8455932981540997,
          2.8882998069546,
          2.9665671603379997,
          3.1164586324025003,
          3.1595000942132,
          3.2087381867126,
          3.2719884801387,
          3.2378232730982996,
          3.2130367503434996,
          3.3610301553501993,
          3.4281324083936,
          3.4803850779847996,
          3.5627276929923,
          3.6194464027195,
          3.6952574340281004,
          3.7549907208471,
          3.8269497925383997,
          3.9165497227669,
          3.9415037220267997,
          3.6000191281279
         ]
        },
        {
         "marker": {
          "color": "lightsalmon"
         },
         "name": "Gas Natural",
         "type": "bar",
         "x": [
          1990,
          1991,
          1992,
          1993,
          1994,
          1995,
          1996,
          1997,
          1998,
          1999,
          2000,
          2001,
          2002,
          2003,
          2004,
          2005,
          2006,
          2007,
          2008,
          2009,
          2010,
          2011,
          2012,
          2013,
          2014,
          2015,
          2016,
          2017,
          2018,
          2019,
          2020
         ],
         "y": [
          2.3,
          2.31,
          2.45,
          2.6,
          2.69,
          2.78,
          2.83,
          2.88,
          2.84,
          3.03,
          3.21,
          3.03,
          3.15,
          3.23,
          3.16,
          3.15,
          3.13,
          3.37,
          3.33,
          3.23,
          3.3,
          3.62,
          3.58,
          3.8,
          3.95,
          3.97,
          3.78,
          3.96,
          4.16,
          4.22,
          4.08
         ]
        }
       ],
       "layout": {
        "template": {
         "data": {
          "bar": [
           {
            "error_x": {
             "color": "#2a3f5f"
            },
            "error_y": {
             "color": "#2a3f5f"
            },
            "marker": {
             "line": {
              "color": "#E5ECF6",
              "width": 0.5
             },
             "pattern": {
              "fillmode": "overlay",
              "size": 10,
              "solidity": 0.2
             }
            },
            "type": "bar"
           }
          ],
          "barpolar": [
           {
            "marker": {
             "line": {
              "color": "#E5ECF6",
              "width": 0.5
             },
             "pattern": {
              "fillmode": "overlay",
              "size": 10,
              "solidity": 0.2
             }
            },
            "type": "barpolar"
           }
          ],
          "carpet": [
           {
            "aaxis": {
             "endlinecolor": "#2a3f5f",
             "gridcolor": "white",
             "linecolor": "white",
             "minorgridcolor": "white",
             "startlinecolor": "#2a3f5f"
            },
            "baxis": {
             "endlinecolor": "#2a3f5f",
             "gridcolor": "white",
             "linecolor": "white",
             "minorgridcolor": "white",
             "startlinecolor": "#2a3f5f"
            },
            "type": "carpet"
           }
          ],
          "choropleth": [
           {
            "colorbar": {
             "outlinewidth": 0,
             "ticks": ""
            },
            "type": "choropleth"
           }
          ],
          "contour": [
           {
            "colorbar": {
             "outlinewidth": 0,
             "ticks": ""
            },
            "colorscale": [
             [
              0,
              "#0d0887"
             ],
             [
              0.1111111111111111,
              "#46039f"
             ],
             [
              0.2222222222222222,
              "#7201a8"
             ],
             [
              0.3333333333333333,
              "#9c179e"
             ],
             [
              0.4444444444444444,
              "#bd3786"
             ],
             [
              0.5555555555555556,
              "#d8576b"
             ],
             [
              0.6666666666666666,
              "#ed7953"
             ],
             [
              0.7777777777777778,
              "#fb9f3a"
             ],
             [
              0.8888888888888888,
              "#fdca26"
             ],
             [
              1,
              "#f0f921"
             ]
            ],
            "type": "contour"
           }
          ],
          "contourcarpet": [
           {
            "colorbar": {
             "outlinewidth": 0,
             "ticks": ""
            },
            "type": "contourcarpet"
           }
          ],
          "heatmap": [
           {
            "colorbar": {
             "outlinewidth": 0,
             "ticks": ""
            },
            "colorscale": [
             [
              0,
              "#0d0887"
             ],
             [
              0.1111111111111111,
              "#46039f"
             ],
             [
              0.2222222222222222,
              "#7201a8"
             ],
             [
              0.3333333333333333,
              "#9c179e"
             ],
             [
              0.4444444444444444,
              "#bd3786"
             ],
             [
              0.5555555555555556,
              "#d8576b"
             ],
             [
              0.6666666666666666,
              "#ed7953"
             ],
             [
              0.7777777777777778,
              "#fb9f3a"
             ],
             [
              0.8888888888888888,
              "#fdca26"
             ],
             [
              1,
              "#f0f921"
             ]
            ],
            "type": "heatmap"
           }
          ],
          "heatmapgl": [
           {
            "colorbar": {
             "outlinewidth": 0,
             "ticks": ""
            },
            "colorscale": [
             [
              0,
              "#0d0887"
             ],
             [
              0.1111111111111111,
              "#46039f"
             ],
             [
              0.2222222222222222,
              "#7201a8"
             ],
             [
              0.3333333333333333,
              "#9c179e"
             ],
             [
              0.4444444444444444,
              "#bd3786"
             ],
             [
              0.5555555555555556,
              "#d8576b"
             ],
             [
              0.6666666666666666,
              "#ed7953"
             ],
             [
              0.7777777777777778,
              "#fb9f3a"
             ],
             [
              0.8888888888888888,
              "#fdca26"
             ],
             [
              1,
              "#f0f921"
             ]
            ],
            "type": "heatmapgl"
           }
          ],
          "histogram": [
           {
            "marker": {
             "pattern": {
              "fillmode": "overlay",
              "size": 10,
              "solidity": 0.2
             }
            },
            "type": "histogram"
           }
          ],
          "histogram2d": [
           {
            "colorbar": {
             "outlinewidth": 0,
             "ticks": ""
            },
            "colorscale": [
             [
              0,
              "#0d0887"
             ],
             [
              0.1111111111111111,
              "#46039f"
             ],
             [
              0.2222222222222222,
              "#7201a8"
             ],
             [
              0.3333333333333333,
              "#9c179e"
             ],
             [
              0.4444444444444444,
              "#bd3786"
             ],
             [
              0.5555555555555556,
              "#d8576b"
             ],
             [
              0.6666666666666666,
              "#ed7953"
             ],
             [
              0.7777777777777778,
              "#fb9f3a"
             ],
             [
              0.8888888888888888,
              "#fdca26"
             ],
             [
              1,
              "#f0f921"
             ]
            ],
            "type": "histogram2d"
           }
          ],
          "histogram2dcontour": [
           {
            "colorbar": {
             "outlinewidth": 0,
             "ticks": ""
            },
            "colorscale": [
             [
              0,
              "#0d0887"
             ],
             [
              0.1111111111111111,
              "#46039f"
             ],
             [
              0.2222222222222222,
              "#7201a8"
             ],
             [
              0.3333333333333333,
              "#9c179e"
             ],
             [
              0.4444444444444444,
              "#bd3786"
             ],
             [
              0.5555555555555556,
              "#d8576b"
             ],
             [
              0.6666666666666666,
              "#ed7953"
             ],
             [
              0.7777777777777778,
              "#fb9f3a"
             ],
             [
              0.8888888888888888,
              "#fdca26"
             ],
             [
              1,
              "#f0f921"
             ]
            ],
            "type": "histogram2dcontour"
           }
          ],
          "mesh3d": [
           {
            "colorbar": {
             "outlinewidth": 0,
             "ticks": ""
            },
            "type": "mesh3d"
           }
          ],
          "parcoords": [
           {
            "line": {
             "colorbar": {
              "outlinewidth": 0,
              "ticks": ""
             }
            },
            "type": "parcoords"
           }
          ],
          "pie": [
           {
            "automargin": true,
            "type": "pie"
           }
          ],
          "scatter": [
           {
            "fillpattern": {
             "fillmode": "overlay",
             "size": 10,
             "solidity": 0.2
            },
            "type": "scatter"
           }
          ],
          "scatter3d": [
           {
            "line": {
             "colorbar": {
              "outlinewidth": 0,
              "ticks": ""
             }
            },
            "marker": {
             "colorbar": {
              "outlinewidth": 0,
              "ticks": ""
             }
            },
            "type": "scatter3d"
           }
          ],
          "scattercarpet": [
           {
            "marker": {
             "colorbar": {
              "outlinewidth": 0,
              "ticks": ""
             }
            },
            "type": "scattercarpet"
           }
          ],
          "scattergeo": [
           {
            "marker": {
             "colorbar": {
              "outlinewidth": 0,
              "ticks": ""
             }
            },
            "type": "scattergeo"
           }
          ],
          "scattergl": [
           {
            "marker": {
             "colorbar": {
              "outlinewidth": 0,
              "ticks": ""
             }
            },
            "type": "scattergl"
           }
          ],
          "scattermapbox": [
           {
            "marker": {
             "colorbar": {
              "outlinewidth": 0,
              "ticks": ""
             }
            },
            "type": "scattermapbox"
           }
          ],
          "scatterpolar": [
           {
            "marker": {
             "colorbar": {
              "outlinewidth": 0,
              "ticks": ""
             }
            },
            "type": "scatterpolar"
           }
          ],
          "scatterpolargl": [
           {
            "marker": {
             "colorbar": {
              "outlinewidth": 0,
              "ticks": ""
             }
            },
            "type": "scatterpolargl"
           }
          ],
          "scatterternary": [
           {
            "marker": {
             "colorbar": {
              "outlinewidth": 0,
              "ticks": ""
             }
            },
            "type": "scatterternary"
           }
          ],
          "surface": [
           {
            "colorbar": {
             "outlinewidth": 0,
             "ticks": ""
            },
            "colorscale": [
             [
              0,
              "#0d0887"
             ],
             [
              0.1111111111111111,
              "#46039f"
             ],
             [
              0.2222222222222222,
              "#7201a8"
             ],
             [
              0.3333333333333333,
              "#9c179e"
             ],
             [
              0.4444444444444444,
              "#bd3786"
             ],
             [
              0.5555555555555556,
              "#d8576b"
             ],
             [
              0.6666666666666666,
              "#ed7953"
             ],
             [
              0.7777777777777778,
              "#fb9f3a"
             ],
             [
              0.8888888888888888,
              "#fdca26"
             ],
             [
              1,
              "#f0f921"
             ]
            ],
            "type": "surface"
           }
          ],
          "table": [
           {
            "cells": {
             "fill": {
              "color": "#EBF0F8"
             },
             "line": {
              "color": "white"
             }
            },
            "header": {
             "fill": {
              "color": "#C8D4E3"
             },
             "line": {
              "color": "white"
             }
            },
            "type": "table"
           }
          ]
         },
         "layout": {
          "annotationdefaults": {
           "arrowcolor": "#2a3f5f",
           "arrowhead": 0,
           "arrowwidth": 1
          },
          "autotypenumbers": "strict",
          "coloraxis": {
           "colorbar": {
            "outlinewidth": 0,
            "ticks": ""
           }
          },
          "colorscale": {
           "diverging": [
            [
             0,
             "#8e0152"
            ],
            [
             0.1,
             "#c51b7d"
            ],
            [
             0.2,
             "#de77ae"
            ],
            [
             0.3,
             "#f1b6da"
            ],
            [
             0.4,
             "#fde0ef"
            ],
            [
             0.5,
             "#f7f7f7"
            ],
            [
             0.6,
             "#e6f5d0"
            ],
            [
             0.7,
             "#b8e186"
            ],
            [
             0.8,
             "#7fbc41"
            ],
            [
             0.9,
             "#4d9221"
            ],
            [
             1,
             "#276419"
            ]
           ],
           "sequential": [
            [
             0,
             "#0d0887"
            ],
            [
             0.1111111111111111,
             "#46039f"
            ],
            [
             0.2222222222222222,
             "#7201a8"
            ],
            [
             0.3333333333333333,
             "#9c179e"
            ],
            [
             0.4444444444444444,
             "#bd3786"
            ],
            [
             0.5555555555555556,
             "#d8576b"
            ],
            [
             0.6666666666666666,
             "#ed7953"
            ],
            [
             0.7777777777777778,
             "#fb9f3a"
            ],
            [
             0.8888888888888888,
             "#fdca26"
            ],
            [
             1,
             "#f0f921"
            ]
           ],
           "sequentialminus": [
            [
             0,
             "#0d0887"
            ],
            [
             0.1111111111111111,
             "#46039f"
            ],
            [
             0.2222222222222222,
             "#7201a8"
            ],
            [
             0.3333333333333333,
             "#9c179e"
            ],
            [
             0.4444444444444444,
             "#bd3786"
            ],
            [
             0.5555555555555556,
             "#d8576b"
            ],
            [
             0.6666666666666666,
             "#ed7953"
            ],
            [
             0.7777777777777778,
             "#fb9f3a"
            ],
            [
             0.8888888888888888,
             "#fdca26"
            ],
            [
             1,
             "#f0f921"
            ]
           ]
          },
          "colorway": [
           "#636efa",
           "#EF553B",
           "#00cc96",
           "#ab63fa",
           "#FFA15A",
           "#19d3f3",
           "#FF6692",
           "#B6E880",
           "#FF97FF",
           "#FECB52"
          ],
          "font": {
           "color": "#2a3f5f"
          },
          "geo": {
           "bgcolor": "white",
           "lakecolor": "white",
           "landcolor": "#E5ECF6",
           "showlakes": true,
           "showland": true,
           "subunitcolor": "white"
          },
          "hoverlabel": {
           "align": "left"
          },
          "hovermode": "closest",
          "mapbox": {
           "style": "light"
          },
          "paper_bgcolor": "white",
          "plot_bgcolor": "#E5ECF6",
          "polar": {
           "angularaxis": {
            "gridcolor": "white",
            "linecolor": "white",
            "ticks": ""
           },
           "bgcolor": "#E5ECF6",
           "radialaxis": {
            "gridcolor": "white",
            "linecolor": "white",
            "ticks": ""
           }
          },
          "scene": {
           "xaxis": {
            "backgroundcolor": "#E5ECF6",
            "gridcolor": "white",
            "gridwidth": 2,
            "linecolor": "white",
            "showbackground": true,
            "ticks": "",
            "zerolinecolor": "white"
           },
           "yaxis": {
            "backgroundcolor": "#E5ECF6",
            "gridcolor": "white",
            "gridwidth": 2,
            "linecolor": "white",
            "showbackground": true,
            "ticks": "",
            "zerolinecolor": "white"
           },
           "zaxis": {
            "backgroundcolor": "#E5ECF6",
            "gridcolor": "white",
            "gridwidth": 2,
            "linecolor": "white",
            "showbackground": true,
            "ticks": "",
            "zerolinecolor": "white"
           }
          },
          "shapedefaults": {
           "line": {
            "color": "#2a3f5f"
           }
          },
          "ternary": {
           "aaxis": {
            "gridcolor": "white",
            "linecolor": "white",
            "ticks": ""
           },
           "baxis": {
            "gridcolor": "white",
            "linecolor": "white",
            "ticks": ""
           },
           "bgcolor": "#E5ECF6",
           "caxis": {
            "gridcolor": "white",
            "linecolor": "white",
            "ticks": ""
           }
          },
          "title": {
           "x": 0.05
          },
          "xaxis": {
           "automargin": true,
           "gridcolor": "white",
           "linecolor": "white",
           "ticks": "",
           "title": {
            "standoff": 15
           },
           "zerolinecolor": "white",
           "zerolinewidth": 2
          },
          "yaxis": {
           "automargin": true,
           "gridcolor": "white",
           "linecolor": "white",
           "ticks": "",
           "title": {
            "standoff": 15
           },
           "zerolinecolor": "white",
           "zerolinewidth": 2
          }
         }
        }
       }
      }
     },
     "metadata": {},
     "output_type": "display_data"
    }
   ],
   "source": [
    "fig = go.Figure()\n",
    "fig.add_trace(go.Bar(\n",
    "    x=canada.index,\n",
    "    y=canada['Consumo_Carbon'],\n",
    "    name='Carbon',\n",
    "    marker_color= 'lightslategray'\n",
    "))\n",
    "fig.add_trace(go.Bar(\n",
    "    x=canada.index,\n",
    "    y=canada['Consumo_Petroleo'],\n",
    "    name='Petroleo',\n",
    "    marker_color='indianred'\n",
    "))\n",
    "fig.add_trace(go.Bar(\n",
    "    x=canada.index,\n",
    "    y=canada['Consumo_gas'],\n",
    "    name='Gas Natural',\n",
    "    marker_color='lightsalmon'\n",
    "))\n",
    "fig.show()"
   ]
  },
  {
   "cell_type": "code",
   "execution_count": 84,
   "metadata": {},
   "outputs": [
    {
     "data": {
      "text/html": [
       "<div>\n",
       "<style scoped>\n",
       "    .dataframe tbody tr th:only-of-type {\n",
       "        vertical-align: middle;\n",
       "    }\n",
       "\n",
       "    .dataframe tbody tr th {\n",
       "        vertical-align: top;\n",
       "    }\n",
       "\n",
       "    .dataframe thead th {\n",
       "        text-align: right;\n",
       "    }\n",
       "</style>\n",
       "<table border=\"1\" class=\"dataframe\">\n",
       "  <thead>\n",
       "    <tr style=\"text-align: right;\">\n",
       "      <th></th>\n",
       "      <th>Id_anio</th>\n",
       "      <th>Id_Pais</th>\n",
       "      <th>Consumo_Carbon</th>\n",
       "      <th>Consumo_Petroleo</th>\n",
       "      <th>Consumo_gas</th>\n",
       "      <th>Total_Consumo</th>\n",
       "    </tr>\n",
       "    <tr>\n",
       "      <th>Anio</th>\n",
       "      <th></th>\n",
       "      <th></th>\n",
       "      <th></th>\n",
       "      <th></th>\n",
       "      <th></th>\n",
       "      <th></th>\n",
       "    </tr>\n",
       "  </thead>\n",
       "  <tbody>\n",
       "    <tr>\n",
       "      <th>1981</th>\n",
       "      <td>17.0</td>\n",
       "      <td>159.7</td>\n",
       "      <td>2.062571</td>\n",
       "      <td>2.256858</td>\n",
       "      <td>1.062667</td>\n",
       "      <td>5.382096</td>\n",
       "    </tr>\n",
       "    <tr>\n",
       "      <th>1982</th>\n",
       "      <td>18.0</td>\n",
       "      <td>159.7</td>\n",
       "      <td>2.079429</td>\n",
       "      <td>2.215714</td>\n",
       "      <td>1.024667</td>\n",
       "      <td>5.319809</td>\n",
       "    </tr>\n",
       "    <tr>\n",
       "      <th>1983</th>\n",
       "      <td>19.0</td>\n",
       "      <td>159.7</td>\n",
       "      <td>2.147429</td>\n",
       "      <td>2.212030</td>\n",
       "      <td>1.004333</td>\n",
       "      <td>5.363792</td>\n",
       "    </tr>\n",
       "    <tr>\n",
       "      <th>1984</th>\n",
       "      <td>20.0</td>\n",
       "      <td>159.7</td>\n",
       "      <td>2.236000</td>\n",
       "      <td>2.280137</td>\n",
       "      <td>1.071333</td>\n",
       "      <td>5.587470</td>\n",
       "    </tr>\n",
       "    <tr>\n",
       "      <th>1985</th>\n",
       "      <td>21.0</td>\n",
       "      <td>159.7</td>\n",
       "      <td>2.320286</td>\n",
       "      <td>2.174850</td>\n",
       "      <td>1.623000</td>\n",
       "      <td>6.118136</td>\n",
       "    </tr>\n",
       "    <tr>\n",
       "      <th>1986</th>\n",
       "      <td>22.0</td>\n",
       "      <td>159.7</td>\n",
       "      <td>2.351714</td>\n",
       "      <td>2.235700</td>\n",
       "      <td>1.614333</td>\n",
       "      <td>6.201747</td>\n",
       "    </tr>\n",
       "    <tr>\n",
       "      <th>1987</th>\n",
       "      <td>23.0</td>\n",
       "      <td>159.7</td>\n",
       "      <td>2.445143</td>\n",
       "      <td>2.292865</td>\n",
       "      <td>1.697333</td>\n",
       "      <td>6.435341</td>\n",
       "    </tr>\n",
       "    <tr>\n",
       "      <th>1988</th>\n",
       "      <td>24.0</td>\n",
       "      <td>159.7</td>\n",
       "      <td>2.520571</td>\n",
       "      <td>2.362033</td>\n",
       "      <td>1.769667</td>\n",
       "      <td>6.652271</td>\n",
       "    </tr>\n",
       "    <tr>\n",
       "      <th>1989</th>\n",
       "      <td>25.0</td>\n",
       "      <td>159.7</td>\n",
       "      <td>2.542000</td>\n",
       "      <td>2.407642</td>\n",
       "      <td>1.839333</td>\n",
       "      <td>6.788976</td>\n",
       "    </tr>\n",
       "    <tr>\n",
       "      <th>1990</th>\n",
       "      <td>26.0</td>\n",
       "      <td>159.7</td>\n",
       "      <td>2.501429</td>\n",
       "      <td>2.405912</td>\n",
       "      <td>1.899333</td>\n",
       "      <td>6.806674</td>\n",
       "    </tr>\n",
       "    <tr>\n",
       "      <th>1991</th>\n",
       "      <td>27.0</td>\n",
       "      <td>159.7</td>\n",
       "      <td>2.475143</td>\n",
       "      <td>2.396477</td>\n",
       "      <td>1.944000</td>\n",
       "      <td>6.815620</td>\n",
       "    </tr>\n",
       "    <tr>\n",
       "      <th>1992</th>\n",
       "      <td>28.0</td>\n",
       "      <td>159.7</td>\n",
       "      <td>2.476000</td>\n",
       "      <td>2.443650</td>\n",
       "      <td>1.936000</td>\n",
       "      <td>6.855650</td>\n",
       "    </tr>\n",
       "    <tr>\n",
       "      <th>1993</th>\n",
       "      <td>29.0</td>\n",
       "      <td>159.7</td>\n",
       "      <td>2.491714</td>\n",
       "      <td>2.445492</td>\n",
       "      <td>1.953000</td>\n",
       "      <td>6.890206</td>\n",
       "    </tr>\n",
       "    <tr>\n",
       "      <th>1994</th>\n",
       "      <td>30.0</td>\n",
       "      <td>159.7</td>\n",
       "      <td>2.500857</td>\n",
       "      <td>2.494283</td>\n",
       "      <td>1.951667</td>\n",
       "      <td>6.946807</td>\n",
       "    </tr>\n",
       "    <tr>\n",
       "      <th>1995</th>\n",
       "      <td>31.0</td>\n",
       "      <td>159.7</td>\n",
       "      <td>2.517143</td>\n",
       "      <td>2.517898</td>\n",
       "      <td>2.010667</td>\n",
       "      <td>7.045707</td>\n",
       "    </tr>\n",
       "    <tr>\n",
       "      <th>1996</th>\n",
       "      <td>32.0</td>\n",
       "      <td>159.7</td>\n",
       "      <td>2.573714</td>\n",
       "      <td>2.576235</td>\n",
       "      <td>2.096333</td>\n",
       "      <td>7.246283</td>\n",
       "    </tr>\n",
       "    <tr>\n",
       "      <th>1997</th>\n",
       "      <td>33.0</td>\n",
       "      <td>159.7</td>\n",
       "      <td>2.571143</td>\n",
       "      <td>2.664272</td>\n",
       "      <td>2.060667</td>\n",
       "      <td>7.296082</td>\n",
       "    </tr>\n",
       "    <tr>\n",
       "      <th>1998</th>\n",
       "      <td>34.0</td>\n",
       "      <td>159.7</td>\n",
       "      <td>2.550857</td>\n",
       "      <td>2.691403</td>\n",
       "      <td>2.088333</td>\n",
       "      <td>7.330594</td>\n",
       "    </tr>\n",
       "    <tr>\n",
       "      <th>1999</th>\n",
       "      <td>35.0</td>\n",
       "      <td>159.7</td>\n",
       "      <td>2.569429</td>\n",
       "      <td>2.762748</td>\n",
       "      <td>2.133667</td>\n",
       "      <td>7.465843</td>\n",
       "    </tr>\n",
       "    <tr>\n",
       "      <th>2000</th>\n",
       "      <td>36.0</td>\n",
       "      <td>159.7</td>\n",
       "      <td>2.657143</td>\n",
       "      <td>2.813940</td>\n",
       "      <td>2.212333</td>\n",
       "      <td>7.683416</td>\n",
       "    </tr>\n",
       "    <tr>\n",
       "      <th>2001</th>\n",
       "      <td>37.0</td>\n",
       "      <td>159.7</td>\n",
       "      <td>2.694571</td>\n",
       "      <td>2.845593</td>\n",
       "      <td>2.215667</td>\n",
       "      <td>7.755831</td>\n",
       "    </tr>\n",
       "    <tr>\n",
       "      <th>2002</th>\n",
       "      <td>38.0</td>\n",
       "      <td>159.7</td>\n",
       "      <td>2.804857</td>\n",
       "      <td>2.888300</td>\n",
       "      <td>2.281000</td>\n",
       "      <td>7.974157</td>\n",
       "    </tr>\n",
       "    <tr>\n",
       "      <th>2003</th>\n",
       "      <td>39.0</td>\n",
       "      <td>159.7</td>\n",
       "      <td>3.051714</td>\n",
       "      <td>2.966567</td>\n",
       "      <td>2.321667</td>\n",
       "      <td>8.339948</td>\n",
       "    </tr>\n",
       "    <tr>\n",
       "      <th>2004</th>\n",
       "      <td>40.0</td>\n",
       "      <td>159.7</td>\n",
       "      <td>3.271714</td>\n",
       "      <td>3.116459</td>\n",
       "      <td>2.393667</td>\n",
       "      <td>8.781840</td>\n",
       "    </tr>\n",
       "    <tr>\n",
       "      <th>2005</th>\n",
       "      <td>41.0</td>\n",
       "      <td>159.7</td>\n",
       "      <td>3.531429</td>\n",
       "      <td>3.159500</td>\n",
       "      <td>2.429667</td>\n",
       "      <td>9.120595</td>\n",
       "    </tr>\n",
       "    <tr>\n",
       "      <th>2006</th>\n",
       "      <td>42.0</td>\n",
       "      <td>159.7</td>\n",
       "      <td>3.718286</td>\n",
       "      <td>3.208738</td>\n",
       "      <td>2.490333</td>\n",
       "      <td>9.417357</td>\n",
       "    </tr>\n",
       "    <tr>\n",
       "      <th>2007</th>\n",
       "      <td>43.0</td>\n",
       "      <td>159.7</td>\n",
       "      <td>3.935429</td>\n",
       "      <td>3.271988</td>\n",
       "      <td>2.589333</td>\n",
       "      <td>9.796750</td>\n",
       "    </tr>\n",
       "    <tr>\n",
       "      <th>2008</th>\n",
       "      <td>44.0</td>\n",
       "      <td>159.7</td>\n",
       "      <td>3.999143</td>\n",
       "      <td>3.237823</td>\n",
       "      <td>2.633333</td>\n",
       "      <td>9.870299</td>\n",
       "    </tr>\n",
       "    <tr>\n",
       "      <th>2009</th>\n",
       "      <td>45.0</td>\n",
       "      <td>159.7</td>\n",
       "      <td>3.953143</td>\n",
       "      <td>3.213037</td>\n",
       "      <td>2.582333</td>\n",
       "      <td>9.748513</td>\n",
       "    </tr>\n",
       "    <tr>\n",
       "      <th>2010</th>\n",
       "      <td>46.0</td>\n",
       "      <td>159.7</td>\n",
       "      <td>4.123714</td>\n",
       "      <td>3.361030</td>\n",
       "      <td>2.763000</td>\n",
       "      <td>10.247744</td>\n",
       "    </tr>\n",
       "    <tr>\n",
       "      <th>2011</th>\n",
       "      <td>47.0</td>\n",
       "      <td>159.7</td>\n",
       "      <td>4.326286</td>\n",
       "      <td>3.428132</td>\n",
       "      <td>2.824000</td>\n",
       "      <td>10.578418</td>\n",
       "    </tr>\n",
       "    <tr>\n",
       "      <th>2012</th>\n",
       "      <td>48.0</td>\n",
       "      <td>159.7</td>\n",
       "      <td>4.339714</td>\n",
       "      <td>3.480385</td>\n",
       "      <td>2.877000</td>\n",
       "      <td>10.697099</td>\n",
       "    </tr>\n",
       "    <tr>\n",
       "      <th>2013</th>\n",
       "      <td>49.0</td>\n",
       "      <td>159.7</td>\n",
       "      <td>4.401429</td>\n",
       "      <td>3.562728</td>\n",
       "      <td>2.928333</td>\n",
       "      <td>10.892490</td>\n",
       "    </tr>\n",
       "    <tr>\n",
       "      <th>2014</th>\n",
       "      <td>50.0</td>\n",
       "      <td>159.7</td>\n",
       "      <td>4.433714</td>\n",
       "      <td>3.619446</td>\n",
       "      <td>2.954000</td>\n",
       "      <td>11.007161</td>\n",
       "    </tr>\n",
       "    <tr>\n",
       "      <th>2015</th>\n",
       "      <td>51.0</td>\n",
       "      <td>159.7</td>\n",
       "      <td>4.318857</td>\n",
       "      <td>3.695257</td>\n",
       "      <td>3.006667</td>\n",
       "      <td>11.020781</td>\n",
       "    </tr>\n",
       "    <tr>\n",
       "      <th>2016</th>\n",
       "      <td>52.0</td>\n",
       "      <td>159.7</td>\n",
       "      <td>4.262857</td>\n",
       "      <td>3.754991</td>\n",
       "      <td>3.087000</td>\n",
       "      <td>11.104848</td>\n",
       "    </tr>\n",
       "    <tr>\n",
       "      <th>2017</th>\n",
       "      <td>53.0</td>\n",
       "      <td>159.7</td>\n",
       "      <td>4.283143</td>\n",
       "      <td>3.826950</td>\n",
       "      <td>3.166667</td>\n",
       "      <td>11.276759</td>\n",
       "    </tr>\n",
       "    <tr>\n",
       "      <th>2018</th>\n",
       "      <td>54.0</td>\n",
       "      <td>159.7</td>\n",
       "      <td>4.339143</td>\n",
       "      <td>3.916550</td>\n",
       "      <td>3.367333</td>\n",
       "      <td>11.623026</td>\n",
       "    </tr>\n",
       "    <tr>\n",
       "      <th>2019</th>\n",
       "      <td>55.0</td>\n",
       "      <td>159.7</td>\n",
       "      <td>4.286571</td>\n",
       "      <td>3.941504</td>\n",
       "      <td>3.435000</td>\n",
       "      <td>11.663075</td>\n",
       "    </tr>\n",
       "    <tr>\n",
       "      <th>2020</th>\n",
       "      <td>56.0</td>\n",
       "      <td>159.7</td>\n",
       "      <td>4.127429</td>\n",
       "      <td>3.600019</td>\n",
       "      <td>3.390333</td>\n",
       "      <td>11.117781</td>\n",
       "    </tr>\n",
       "  </tbody>\n",
       "</table>\n",
       "</div>"
      ],
      "text/plain": [
       "      Id_anio  Id_Pais  Consumo_Carbon  Consumo_Petroleo  Consumo_gas  \\\n",
       "Anio                                                                    \n",
       "1981     17.0    159.7        2.062571          2.256858     1.062667   \n",
       "1982     18.0    159.7        2.079429          2.215714     1.024667   \n",
       "1983     19.0    159.7        2.147429          2.212030     1.004333   \n",
       "1984     20.0    159.7        2.236000          2.280137     1.071333   \n",
       "1985     21.0    159.7        2.320286          2.174850     1.623000   \n",
       "1986     22.0    159.7        2.351714          2.235700     1.614333   \n",
       "1987     23.0    159.7        2.445143          2.292865     1.697333   \n",
       "1988     24.0    159.7        2.520571          2.362033     1.769667   \n",
       "1989     25.0    159.7        2.542000          2.407642     1.839333   \n",
       "1990     26.0    159.7        2.501429          2.405912     1.899333   \n",
       "1991     27.0    159.7        2.475143          2.396477     1.944000   \n",
       "1992     28.0    159.7        2.476000          2.443650     1.936000   \n",
       "1993     29.0    159.7        2.491714          2.445492     1.953000   \n",
       "1994     30.0    159.7        2.500857          2.494283     1.951667   \n",
       "1995     31.0    159.7        2.517143          2.517898     2.010667   \n",
       "1996     32.0    159.7        2.573714          2.576235     2.096333   \n",
       "1997     33.0    159.7        2.571143          2.664272     2.060667   \n",
       "1998     34.0    159.7        2.550857          2.691403     2.088333   \n",
       "1999     35.0    159.7        2.569429          2.762748     2.133667   \n",
       "2000     36.0    159.7        2.657143          2.813940     2.212333   \n",
       "2001     37.0    159.7        2.694571          2.845593     2.215667   \n",
       "2002     38.0    159.7        2.804857          2.888300     2.281000   \n",
       "2003     39.0    159.7        3.051714          2.966567     2.321667   \n",
       "2004     40.0    159.7        3.271714          3.116459     2.393667   \n",
       "2005     41.0    159.7        3.531429          3.159500     2.429667   \n",
       "2006     42.0    159.7        3.718286          3.208738     2.490333   \n",
       "2007     43.0    159.7        3.935429          3.271988     2.589333   \n",
       "2008     44.0    159.7        3.999143          3.237823     2.633333   \n",
       "2009     45.0    159.7        3.953143          3.213037     2.582333   \n",
       "2010     46.0    159.7        4.123714          3.361030     2.763000   \n",
       "2011     47.0    159.7        4.326286          3.428132     2.824000   \n",
       "2012     48.0    159.7        4.339714          3.480385     2.877000   \n",
       "2013     49.0    159.7        4.401429          3.562728     2.928333   \n",
       "2014     50.0    159.7        4.433714          3.619446     2.954000   \n",
       "2015     51.0    159.7        4.318857          3.695257     3.006667   \n",
       "2016     52.0    159.7        4.262857          3.754991     3.087000   \n",
       "2017     53.0    159.7        4.283143          3.826950     3.166667   \n",
       "2018     54.0    159.7        4.339143          3.916550     3.367333   \n",
       "2019     55.0    159.7        4.286571          3.941504     3.435000   \n",
       "2020     56.0    159.7        4.127429          3.600019     3.390333   \n",
       "\n",
       "      Total_Consumo  \n",
       "Anio                 \n",
       "1981       5.382096  \n",
       "1982       5.319809  \n",
       "1983       5.363792  \n",
       "1984       5.587470  \n",
       "1985       6.118136  \n",
       "1986       6.201747  \n",
       "1987       6.435341  \n",
       "1988       6.652271  \n",
       "1989       6.788976  \n",
       "1990       6.806674  \n",
       "1991       6.815620  \n",
       "1992       6.855650  \n",
       "1993       6.890206  \n",
       "1994       6.946807  \n",
       "1995       7.045707  \n",
       "1996       7.246283  \n",
       "1997       7.296082  \n",
       "1998       7.330594  \n",
       "1999       7.465843  \n",
       "2000       7.683416  \n",
       "2001       7.755831  \n",
       "2002       7.974157  \n",
       "2003       8.339948  \n",
       "2004       8.781840  \n",
       "2005       9.120595  \n",
       "2006       9.417357  \n",
       "2007       9.796750  \n",
       "2008       9.870299  \n",
       "2009       9.748513  \n",
       "2010      10.247744  \n",
       "2011      10.578418  \n",
       "2012      10.697099  \n",
       "2013      10.892490  \n",
       "2014      11.007161  \n",
       "2015      11.020781  \n",
       "2016      11.104848  \n",
       "2017      11.276759  \n",
       "2018      11.623026  \n",
       "2019      11.663075  \n",
       "2020      11.117781  "
      ]
     },
     "execution_count": 84,
     "metadata": {},
     "output_type": "execute_result"
    }
   ],
   "source": [
    "ene_fosil_consumo_total_año=ene_fosil_consumo_total.groupby(by=['Anio']).mean()\n",
    "ene_fosil_consumo_total_año"
   ]
  },
  {
   "cell_type": "code",
   "execution_count": 85,
   "metadata": {},
   "outputs": [
    {
     "data": {
      "text/html": [
       "<div>\n",
       "<style scoped>\n",
       "    .dataframe tbody tr th:only-of-type {\n",
       "        vertical-align: middle;\n",
       "    }\n",
       "\n",
       "    .dataframe tbody tr th {\n",
       "        vertical-align: top;\n",
       "    }\n",
       "\n",
       "    .dataframe thead th {\n",
       "        text-align: right;\n",
       "    }\n",
       "</style>\n",
       "<table border=\"1\" class=\"dataframe\">\n",
       "  <thead>\n",
       "    <tr style=\"text-align: right;\">\n",
       "      <th></th>\n",
       "      <th>Id_anio</th>\n",
       "      <th>Id_Pais</th>\n",
       "      <th>Consumo_Carbon</th>\n",
       "      <th>Consumo_Petroleo</th>\n",
       "      <th>Consumo_gas</th>\n",
       "      <th>Total_Consumo</th>\n",
       "      <th>Anio</th>\n",
       "    </tr>\n",
       "    <tr>\n",
       "      <th>Pais</th>\n",
       "      <th></th>\n",
       "      <th></th>\n",
       "      <th></th>\n",
       "      <th></th>\n",
       "      <th></th>\n",
       "      <th></th>\n",
       "      <th></th>\n",
       "    </tr>\n",
       "  </thead>\n",
       "  <tbody>\n",
       "    <tr>\n",
       "      <th>Argentina</th>\n",
       "      <td>36.5</td>\n",
       "      <td>11.0</td>\n",
       "      <td>3.169821</td>\n",
       "      <td>2.918628</td>\n",
       "      <td>1.14650</td>\n",
       "      <td>7.23495</td>\n",
       "      <td>2000.5</td>\n",
       "    </tr>\n",
       "    <tr>\n",
       "      <th>Australia</th>\n",
       "      <td>36.5</td>\n",
       "      <td>18.0</td>\n",
       "      <td>3.169821</td>\n",
       "      <td>2.918628</td>\n",
       "      <td>0.86625</td>\n",
       "      <td>6.95470</td>\n",
       "      <td>2000.5</td>\n",
       "    </tr>\n",
       "    <tr>\n",
       "      <th>Azerbaijan</th>\n",
       "      <td>36.5</td>\n",
       "      <td>21.0</td>\n",
       "      <td>3.169821</td>\n",
       "      <td>2.918628</td>\n",
       "      <td>0.32125</td>\n",
       "      <td>6.40970</td>\n",
       "      <td>2000.5</td>\n",
       "    </tr>\n",
       "    <tr>\n",
       "      <th>Brazil</th>\n",
       "      <td>36.5</td>\n",
       "      <td>35.0</td>\n",
       "      <td>3.169821</td>\n",
       "      <td>2.918628</td>\n",
       "      <td>0.57650</td>\n",
       "      <td>6.66495</td>\n",
       "      <td>2000.5</td>\n",
       "    </tr>\n",
       "    <tr>\n",
       "      <th>Canada</th>\n",
       "      <td>36.5</td>\n",
       "      <td>44.0</td>\n",
       "      <td>3.169821</td>\n",
       "      <td>2.918628</td>\n",
       "      <td>2.97400</td>\n",
       "      <td>9.06245</td>\n",
       "      <td>2000.5</td>\n",
       "    </tr>\n",
       "    <tr>\n",
       "      <th>China</th>\n",
       "      <td>36.5</td>\n",
       "      <td>53.0</td>\n",
       "      <td>3.169821</td>\n",
       "      <td>2.918628</td>\n",
       "      <td>2.82025</td>\n",
       "      <td>8.90870</td>\n",
       "      <td>2000.5</td>\n",
       "    </tr>\n",
       "    <tr>\n",
       "      <th>Colombia</th>\n",
       "      <td>36.5</td>\n",
       "      <td>54.0</td>\n",
       "      <td>3.169821</td>\n",
       "      <td>2.918628</td>\n",
       "      <td>0.23900</td>\n",
       "      <td>6.32745</td>\n",
       "      <td>2000.5</td>\n",
       "    </tr>\n",
       "    <tr>\n",
       "      <th>Denmark</th>\n",
       "      <td>36.5</td>\n",
       "      <td>66.0</td>\n",
       "      <td>3.169821</td>\n",
       "      <td>2.918628</td>\n",
       "      <td>0.11975</td>\n",
       "      <td>6.20820</td>\n",
       "      <td>2000.5</td>\n",
       "    </tr>\n",
       "    <tr>\n",
       "      <th>Egypt</th>\n",
       "      <td>36.5</td>\n",
       "      <td>74.0</td>\n",
       "      <td>3.169821</td>\n",
       "      <td>2.918628</td>\n",
       "      <td>0.92950</td>\n",
       "      <td>7.01795</td>\n",
       "      <td>2000.5</td>\n",
       "    </tr>\n",
       "    <tr>\n",
       "      <th>Germany</th>\n",
       "      <td>36.5</td>\n",
       "      <td>100.0</td>\n",
       "      <td>3.169821</td>\n",
       "      <td>2.918628</td>\n",
       "      <td>2.77725</td>\n",
       "      <td>8.86570</td>\n",
       "      <td>2000.5</td>\n",
       "    </tr>\n",
       "    <tr>\n",
       "      <th>India</th>\n",
       "      <td>36.5</td>\n",
       "      <td>123.0</td>\n",
       "      <td>3.169821</td>\n",
       "      <td>2.918628</td>\n",
       "      <td>1.04400</td>\n",
       "      <td>7.13245</td>\n",
       "      <td>2000.5</td>\n",
       "    </tr>\n",
       "    <tr>\n",
       "      <th>Indonesia</th>\n",
       "      <td>36.5</td>\n",
       "      <td>124.0</td>\n",
       "      <td>3.169821</td>\n",
       "      <td>2.918628</td>\n",
       "      <td>1.09250</td>\n",
       "      <td>7.18095</td>\n",
       "      <td>2000.5</td>\n",
       "    </tr>\n",
       "    <tr>\n",
       "      <th>Iran</th>\n",
       "      <td>36.5</td>\n",
       "      <td>125.0</td>\n",
       "      <td>3.169821</td>\n",
       "      <td>2.918628</td>\n",
       "      <td>3.06650</td>\n",
       "      <td>9.15495</td>\n",
       "      <td>2000.5</td>\n",
       "    </tr>\n",
       "    <tr>\n",
       "      <th>Italy</th>\n",
       "      <td>36.5</td>\n",
       "      <td>129.0</td>\n",
       "      <td>3.169821</td>\n",
       "      <td>2.918628</td>\n",
       "      <td>2.09875</td>\n",
       "      <td>8.18720</td>\n",
       "      <td>2000.5</td>\n",
       "    </tr>\n",
       "    <tr>\n",
       "      <th>Kazakhstan</th>\n",
       "      <td>36.5</td>\n",
       "      <td>133.0</td>\n",
       "      <td>3.169821</td>\n",
       "      <td>2.918628</td>\n",
       "      <td>0.33200</td>\n",
       "      <td>6.42045</td>\n",
       "      <td>2000.5</td>\n",
       "    </tr>\n",
       "    <tr>\n",
       "      <th>Mexico</th>\n",
       "      <td>36.5</td>\n",
       "      <td>160.0</td>\n",
       "      <td>3.169821</td>\n",
       "      <td>2.918628</td>\n",
       "      <td>1.71825</td>\n",
       "      <td>7.80670</td>\n",
       "      <td>2000.5</td>\n",
       "    </tr>\n",
       "    <tr>\n",
       "      <th>Netherlands</th>\n",
       "      <td>36.5</td>\n",
       "      <td>178.0</td>\n",
       "      <td>3.169821</td>\n",
       "      <td>2.918628</td>\n",
       "      <td>1.40375</td>\n",
       "      <td>7.49220</td>\n",
       "      <td>2000.5</td>\n",
       "    </tr>\n",
       "    <tr>\n",
       "      <th>Norway</th>\n",
       "      <td>36.5</td>\n",
       "      <td>195.0</td>\n",
       "      <td>3.169821</td>\n",
       "      <td>2.918628</td>\n",
       "      <td>0.12050</td>\n",
       "      <td>6.20895</td>\n",
       "      <td>2000.5</td>\n",
       "    </tr>\n",
       "    <tr>\n",
       "      <th>Oman</th>\n",
       "      <td>36.5</td>\n",
       "      <td>208.0</td>\n",
       "      <td>3.169821</td>\n",
       "      <td>2.918628</td>\n",
       "      <td>0.35550</td>\n",
       "      <td>6.44395</td>\n",
       "      <td>2000.5</td>\n",
       "    </tr>\n",
       "    <tr>\n",
       "      <th>Pakistan</th>\n",
       "      <td>36.5</td>\n",
       "      <td>225.0</td>\n",
       "      <td>3.169821</td>\n",
       "      <td>2.918628</td>\n",
       "      <td>0.81600</td>\n",
       "      <td>6.90445</td>\n",
       "      <td>2000.5</td>\n",
       "    </tr>\n",
       "    <tr>\n",
       "      <th>Peru</th>\n",
       "      <td>36.5</td>\n",
       "      <td>232.0</td>\n",
       "      <td>3.169821</td>\n",
       "      <td>2.918628</td>\n",
       "      <td>0.09350</td>\n",
       "      <td>6.18195</td>\n",
       "      <td>2000.5</td>\n",
       "    </tr>\n",
       "    <tr>\n",
       "      <th>Poland</th>\n",
       "      <td>36.5</td>\n",
       "      <td>234.0</td>\n",
       "      <td>3.169821</td>\n",
       "      <td>2.918628</td>\n",
       "      <td>0.48050</td>\n",
       "      <td>6.56895</td>\n",
       "      <td>2000.5</td>\n",
       "    </tr>\n",
       "    <tr>\n",
       "      <th>Romania</th>\n",
       "      <td>36.5</td>\n",
       "      <td>239.0</td>\n",
       "      <td>3.169821</td>\n",
       "      <td>2.918628</td>\n",
       "      <td>0.73150</td>\n",
       "      <td>6.81995</td>\n",
       "      <td>2000.5</td>\n",
       "    </tr>\n",
       "    <tr>\n",
       "      <th>Russia</th>\n",
       "      <td>36.5</td>\n",
       "      <td>240.0</td>\n",
       "      <td>3.169821</td>\n",
       "      <td>2.918628</td>\n",
       "      <td>13.00425</td>\n",
       "      <td>19.09270</td>\n",
       "      <td>2000.5</td>\n",
       "    </tr>\n",
       "    <tr>\n",
       "      <th>Thailand</th>\n",
       "      <td>36.5</td>\n",
       "      <td>276.0</td>\n",
       "      <td>3.169821</td>\n",
       "      <td>2.918628</td>\n",
       "      <td>0.88475</td>\n",
       "      <td>6.97320</td>\n",
       "      <td>2000.5</td>\n",
       "    </tr>\n",
       "    <tr>\n",
       "      <th>Ukraine</th>\n",
       "      <td>36.5</td>\n",
       "      <td>294.0</td>\n",
       "      <td>3.169821</td>\n",
       "      <td>2.918628</td>\n",
       "      <td>2.20400</td>\n",
       "      <td>8.29245</td>\n",
       "      <td>2000.5</td>\n",
       "    </tr>\n",
       "    <tr>\n",
       "      <th>United Kingdom</th>\n",
       "      <td>36.5</td>\n",
       "      <td>296.0</td>\n",
       "      <td>3.169821</td>\n",
       "      <td>2.918628</td>\n",
       "      <td>2.75400</td>\n",
       "      <td>8.84245</td>\n",
       "      <td>2000.5</td>\n",
       "    </tr>\n",
       "    <tr>\n",
       "      <th>United States</th>\n",
       "      <td>36.5</td>\n",
       "      <td>297.0</td>\n",
       "      <td>3.169821</td>\n",
       "      <td>2.918628</td>\n",
       "      <td>21.90350</td>\n",
       "      <td>27.99195</td>\n",
       "      <td>2000.5</td>\n",
       "    </tr>\n",
       "    <tr>\n",
       "      <th>Venezuela</th>\n",
       "      <td>36.5</td>\n",
       "      <td>303.0</td>\n",
       "      <td>3.169821</td>\n",
       "      <td>2.918628</td>\n",
       "      <td>1.03375</td>\n",
       "      <td>7.12220</td>\n",
       "      <td>2000.5</td>\n",
       "    </tr>\n",
       "    <tr>\n",
       "      <th>Vietnam</th>\n",
       "      <td>36.5</td>\n",
       "      <td>304.0</td>\n",
       "      <td>3.169821</td>\n",
       "      <td>2.918628</td>\n",
       "      <td>0.13900</td>\n",
       "      <td>6.22745</td>\n",
       "      <td>2000.5</td>\n",
       "    </tr>\n",
       "  </tbody>\n",
       "</table>\n",
       "</div>"
      ],
      "text/plain": [
       "                Id_anio  Id_Pais  Consumo_Carbon  Consumo_Petroleo  \\\n",
       "Pais                                                                 \n",
       "Argentina          36.5     11.0        3.169821          2.918628   \n",
       "Australia          36.5     18.0        3.169821          2.918628   \n",
       "Azerbaijan         36.5     21.0        3.169821          2.918628   \n",
       "Brazil             36.5     35.0        3.169821          2.918628   \n",
       "Canada             36.5     44.0        3.169821          2.918628   \n",
       "China              36.5     53.0        3.169821          2.918628   \n",
       "Colombia           36.5     54.0        3.169821          2.918628   \n",
       "Denmark            36.5     66.0        3.169821          2.918628   \n",
       "Egypt              36.5     74.0        3.169821          2.918628   \n",
       "Germany            36.5    100.0        3.169821          2.918628   \n",
       "India              36.5    123.0        3.169821          2.918628   \n",
       "Indonesia          36.5    124.0        3.169821          2.918628   \n",
       "Iran               36.5    125.0        3.169821          2.918628   \n",
       "Italy              36.5    129.0        3.169821          2.918628   \n",
       "Kazakhstan         36.5    133.0        3.169821          2.918628   \n",
       "Mexico             36.5    160.0        3.169821          2.918628   \n",
       "Netherlands        36.5    178.0        3.169821          2.918628   \n",
       "Norway             36.5    195.0        3.169821          2.918628   \n",
       "Oman               36.5    208.0        3.169821          2.918628   \n",
       "Pakistan           36.5    225.0        3.169821          2.918628   \n",
       "Peru               36.5    232.0        3.169821          2.918628   \n",
       "Poland             36.5    234.0        3.169821          2.918628   \n",
       "Romania            36.5    239.0        3.169821          2.918628   \n",
       "Russia             36.5    240.0        3.169821          2.918628   \n",
       "Thailand           36.5    276.0        3.169821          2.918628   \n",
       "Ukraine            36.5    294.0        3.169821          2.918628   \n",
       "United Kingdom     36.5    296.0        3.169821          2.918628   \n",
       "United States      36.5    297.0        3.169821          2.918628   \n",
       "Venezuela          36.5    303.0        3.169821          2.918628   \n",
       "Vietnam            36.5    304.0        3.169821          2.918628   \n",
       "\n",
       "                Consumo_gas  Total_Consumo    Anio  \n",
       "Pais                                                \n",
       "Argentina           1.14650        7.23495  2000.5  \n",
       "Australia           0.86625        6.95470  2000.5  \n",
       "Azerbaijan          0.32125        6.40970  2000.5  \n",
       "Brazil              0.57650        6.66495  2000.5  \n",
       "Canada              2.97400        9.06245  2000.5  \n",
       "China               2.82025        8.90870  2000.5  \n",
       "Colombia            0.23900        6.32745  2000.5  \n",
       "Denmark             0.11975        6.20820  2000.5  \n",
       "Egypt               0.92950        7.01795  2000.5  \n",
       "Germany             2.77725        8.86570  2000.5  \n",
       "India               1.04400        7.13245  2000.5  \n",
       "Indonesia           1.09250        7.18095  2000.5  \n",
       "Iran                3.06650        9.15495  2000.5  \n",
       "Italy               2.09875        8.18720  2000.5  \n",
       "Kazakhstan          0.33200        6.42045  2000.5  \n",
       "Mexico              1.71825        7.80670  2000.5  \n",
       "Netherlands         1.40375        7.49220  2000.5  \n",
       "Norway              0.12050        6.20895  2000.5  \n",
       "Oman                0.35550        6.44395  2000.5  \n",
       "Pakistan            0.81600        6.90445  2000.5  \n",
       "Peru                0.09350        6.18195  2000.5  \n",
       "Poland              0.48050        6.56895  2000.5  \n",
       "Romania             0.73150        6.81995  2000.5  \n",
       "Russia             13.00425       19.09270  2000.5  \n",
       "Thailand            0.88475        6.97320  2000.5  \n",
       "Ukraine             2.20400        8.29245  2000.5  \n",
       "United Kingdom      2.75400        8.84245  2000.5  \n",
       "United States      21.90350       27.99195  2000.5  \n",
       "Venezuela           1.03375        7.12220  2000.5  \n",
       "Vietnam             0.13900        6.22745  2000.5  "
      ]
     },
     "execution_count": 85,
     "metadata": {},
     "output_type": "execute_result"
    }
   ],
   "source": [
    "ene_fosil_consumo_total_pais=ene_fosil_consumo_total.groupby(by=['Pais']).mean()\n",
    "ene_fosil_consumo_total_pais"
   ]
  },
  {
   "cell_type": "code",
   "execution_count": 86,
   "metadata": {},
   "outputs": [
    {
     "data": {
      "text/plain": [
       "30"
      ]
     },
     "execution_count": 86,
     "metadata": {},
     "output_type": "execute_result"
    }
   ],
   "source": [
    "len(ene_fosil_consumo_total_pais.index)"
   ]
  },
  {
   "cell_type": "code",
   "execution_count": 250,
   "metadata": {},
   "outputs": [
    {
     "data": {
      "text/html": [
       "<div>\n",
       "<style scoped>\n",
       "    .dataframe tbody tr th:only-of-type {\n",
       "        vertical-align: middle;\n",
       "    }\n",
       "\n",
       "    .dataframe tbody tr th {\n",
       "        vertical-align: top;\n",
       "    }\n",
       "\n",
       "    .dataframe thead th {\n",
       "        text-align: right;\n",
       "    }\n",
       "</style>\n",
       "<table border=\"1\" class=\"dataframe\">\n",
       "  <thead>\n",
       "    <tr style=\"text-align: right;\">\n",
       "      <th></th>\n",
       "      <th>Id_Energia_Eolica</th>\n",
       "      <th>Id_Pais</th>\n",
       "      <th>Id_anio</th>\n",
       "      <th>Consumo_Eolica</th>\n",
       "      <th>Produccion_Eolica</th>\n",
       "      <th>Capacidad_instalada_Eolica</th>\n",
       "    </tr>\n",
       "  </thead>\n",
       "  <tbody>\n",
       "    <tr>\n",
       "      <th>0</th>\n",
       "      <td>1</td>\n",
       "      <td>66</td>\n",
       "      <td>21</td>\n",
       "      <td>0</td>\n",
       "      <td>0.1</td>\n",
       "      <td>0</td>\n",
       "    </tr>\n",
       "    <tr>\n",
       "      <th>1</th>\n",
       "      <td>2</td>\n",
       "      <td>66</td>\n",
       "      <td>22</td>\n",
       "      <td>0</td>\n",
       "      <td>0.1</td>\n",
       "      <td>0</td>\n",
       "    </tr>\n",
       "    <tr>\n",
       "      <th>2</th>\n",
       "      <td>3</td>\n",
       "      <td>66</td>\n",
       "      <td>23</td>\n",
       "      <td>0</td>\n",
       "      <td>0.2</td>\n",
       "      <td>0</td>\n",
       "    </tr>\n",
       "    <tr>\n",
       "      <th>3</th>\n",
       "      <td>4</td>\n",
       "      <td>66</td>\n",
       "      <td>24</td>\n",
       "      <td>0</td>\n",
       "      <td>0.3</td>\n",
       "      <td>0</td>\n",
       "    </tr>\n",
       "    <tr>\n",
       "      <th>4</th>\n",
       "      <td>5</td>\n",
       "      <td>297</td>\n",
       "      <td>25</td>\n",
       "      <td>0.02</td>\n",
       "      <td>2.1</td>\n",
       "      <td>0</td>\n",
       "    </tr>\n",
       "    <tr>\n",
       "      <th>...</th>\n",
       "      <td>...</td>\n",
       "      <td>...</td>\n",
       "      <td>...</td>\n",
       "      <td>...</td>\n",
       "      <td>...</td>\n",
       "      <td>...</td>\n",
       "    </tr>\n",
       "    <tr>\n",
       "      <th>1550</th>\n",
       "      <td>1551</td>\n",
       "      <td>300</td>\n",
       "      <td>57</td>\n",
       "      <td>0</td>\n",
       "      <td>0</td>\n",
       "      <td>1514</td>\n",
       "    </tr>\n",
       "    <tr>\n",
       "      <th>1551</th>\n",
       "      <td>1552</td>\n",
       "      <td>222</td>\n",
       "      <td>57</td>\n",
       "      <td>0</td>\n",
       "      <td>0</td>\n",
       "      <td>2258</td>\n",
       "    </tr>\n",
       "    <tr>\n",
       "      <th>1552</th>\n",
       "      <td>1553</td>\n",
       "      <td>132</td>\n",
       "      <td>57</td>\n",
       "      <td>0</td>\n",
       "      <td>0</td>\n",
       "      <td>622</td>\n",
       "    </tr>\n",
       "    <tr>\n",
       "      <th>1553</th>\n",
       "      <td>1554</td>\n",
       "      <td>283</td>\n",
       "      <td>57</td>\n",
       "      <td>0</td>\n",
       "      <td>0</td>\n",
       "      <td>245</td>\n",
       "    </tr>\n",
       "    <tr>\n",
       "      <th>1554</th>\n",
       "      <td>1555</td>\n",
       "      <td>209</td>\n",
       "      <td>57</td>\n",
       "      <td>0</td>\n",
       "      <td>0</td>\n",
       "      <td>1059</td>\n",
       "    </tr>\n",
       "  </tbody>\n",
       "</table>\n",
       "<p>1555 rows × 6 columns</p>\n",
       "</div>"
      ],
      "text/plain": [
       "      Id_Energia_Eolica  Id_Pais  Id_anio Consumo_Eolica Produccion_Eolica  \\\n",
       "0                     1       66       21              0               0.1   \n",
       "1                     2       66       22              0               0.1   \n",
       "2                     3       66       23              0               0.2   \n",
       "3                     4       66       24              0               0.3   \n",
       "4                     5      297       25           0.02               2.1   \n",
       "...                 ...      ...      ...            ...               ...   \n",
       "1550               1551      300       57              0                 0   \n",
       "1551               1552      222       57              0                 0   \n",
       "1552               1553      132       57              0                 0   \n",
       "1553               1554      283       57              0                 0   \n",
       "1554               1555      209       57              0                 0   \n",
       "\n",
       "     Capacidad_instalada_Eolica  \n",
       "0                             0  \n",
       "1                             0  \n",
       "2                             0  \n",
       "3                             0  \n",
       "4                             0  \n",
       "...                         ...  \n",
       "1550                       1514  \n",
       "1551                       2258  \n",
       "1552                        622  \n",
       "1553                        245  \n",
       "1554                       1059  \n",
       "\n",
       "[1555 rows x 6 columns]"
      ]
     },
     "execution_count": 250,
     "metadata": {},
     "output_type": "execute_result"
    }
   ],
   "source": [
    "eoil=pd.read_sql_query('SELECT *FROM \"Energia_Eolica\";', con=conexion)\n",
    "eoil"
   ]
  },
  {
   "cell_type": "code",
   "execution_count": 251,
   "metadata": {},
   "outputs": [
    {
     "data": {
      "text/html": [
       "<div>\n",
       "<style scoped>\n",
       "    .dataframe tbody tr th:only-of-type {\n",
       "        vertical-align: middle;\n",
       "    }\n",
       "\n",
       "    .dataframe tbody tr th {\n",
       "        vertical-align: top;\n",
       "    }\n",
       "\n",
       "    .dataframe thead th {\n",
       "        text-align: right;\n",
       "    }\n",
       "</style>\n",
       "<table border=\"1\" class=\"dataframe\">\n",
       "  <thead>\n",
       "    <tr style=\"text-align: right;\">\n",
       "      <th></th>\n",
       "      <th>Id_Energia_solar</th>\n",
       "      <th>Id_Pais</th>\n",
       "      <th>Id_anio</th>\n",
       "      <th>Consumo_solar</th>\n",
       "      <th>Produccion_solar</th>\n",
       "      <th>Instalada_solar</th>\n",
       "    </tr>\n",
       "  </thead>\n",
       "  <tbody>\n",
       "    <tr>\n",
       "      <th>0</th>\n",
       "      <td>1</td>\n",
       "      <td>297</td>\n",
       "      <td>25</td>\n",
       "      <td>0.00</td>\n",
       "      <td>0.3</td>\n",
       "      <td>0</td>\n",
       "    </tr>\n",
       "    <tr>\n",
       "      <th>1</th>\n",
       "      <td>2</td>\n",
       "      <td>297</td>\n",
       "      <td>26</td>\n",
       "      <td>0.00</td>\n",
       "      <td>0.4</td>\n",
       "      <td>0</td>\n",
       "    </tr>\n",
       "    <tr>\n",
       "      <th>2</th>\n",
       "      <td>3</td>\n",
       "      <td>297</td>\n",
       "      <td>27</td>\n",
       "      <td>0.01</td>\n",
       "      <td>0.5</td>\n",
       "      <td>0</td>\n",
       "    </tr>\n",
       "    <tr>\n",
       "      <th>3</th>\n",
       "      <td>4</td>\n",
       "      <td>297</td>\n",
       "      <td>28</td>\n",
       "      <td>0.00</td>\n",
       "      <td>0.4</td>\n",
       "      <td>0</td>\n",
       "    </tr>\n",
       "    <tr>\n",
       "      <th>4</th>\n",
       "      <td>5</td>\n",
       "      <td>297</td>\n",
       "      <td>29</td>\n",
       "      <td>0.01</td>\n",
       "      <td>0.5</td>\n",
       "      <td>0</td>\n",
       "    </tr>\n",
       "    <tr>\n",
       "      <th>...</th>\n",
       "      <td>...</td>\n",
       "      <td>...</td>\n",
       "      <td>...</td>\n",
       "      <td>...</td>\n",
       "      <td>...</td>\n",
       "      <td>...</td>\n",
       "    </tr>\n",
       "    <tr>\n",
       "      <th>1238</th>\n",
       "      <td>1239</td>\n",
       "      <td>0</td>\n",
       "      <td>57</td>\n",
       "      <td>0.00</td>\n",
       "      <td>0.0</td>\n",
       "      <td>514</td>\n",
       "    </tr>\n",
       "    <tr>\n",
       "      <th>1239</th>\n",
       "      <td>1240</td>\n",
       "      <td>222</td>\n",
       "      <td>57</td>\n",
       "      <td>0.00</td>\n",
       "      <td>0.0</td>\n",
       "      <td>3816</td>\n",
       "    </tr>\n",
       "    <tr>\n",
       "      <th>1240</th>\n",
       "      <td>1241</td>\n",
       "      <td>132</td>\n",
       "      <td>57</td>\n",
       "      <td>0.00</td>\n",
       "      <td>0.0</td>\n",
       "      <td>1521</td>\n",
       "    </tr>\n",
       "    <tr>\n",
       "      <th>1241</th>\n",
       "      <td>1242</td>\n",
       "      <td>209</td>\n",
       "      <td>57</td>\n",
       "      <td>0.00</td>\n",
       "      <td>0.0</td>\n",
       "      <td>2268</td>\n",
       "    </tr>\n",
       "    <tr>\n",
       "      <th>1242</th>\n",
       "      <td>1243</td>\n",
       "      <td>0</td>\n",
       "      <td>57</td>\n",
       "      <td>0.00</td>\n",
       "      <td>0.0</td>\n",
       "      <td>16660</td>\n",
       "    </tr>\n",
       "  </tbody>\n",
       "</table>\n",
       "<p>1243 rows × 6 columns</p>\n",
       "</div>"
      ],
      "text/plain": [
       "      Id_Energia_solar  Id_Pais  Id_anio  Consumo_solar  Produccion_solar  \\\n",
       "0                    1      297       25           0.00               0.3   \n",
       "1                    2      297       26           0.00               0.4   \n",
       "2                    3      297       27           0.01               0.5   \n",
       "3                    4      297       28           0.00               0.4   \n",
       "4                    5      297       29           0.01               0.5   \n",
       "...                ...      ...      ...            ...               ...   \n",
       "1238              1239        0       57           0.00               0.0   \n",
       "1239              1240      222       57           0.00               0.0   \n",
       "1240              1241      132       57           0.00               0.0   \n",
       "1241              1242      209       57           0.00               0.0   \n",
       "1242              1243        0       57           0.00               0.0   \n",
       "\n",
       "      Instalada_solar  \n",
       "0                   0  \n",
       "1                   0  \n",
       "2                   0  \n",
       "3                   0  \n",
       "4                   0  \n",
       "...               ...  \n",
       "1238              514  \n",
       "1239             3816  \n",
       "1240             1521  \n",
       "1241             2268  \n",
       "1242            16660  \n",
       "\n",
       "[1243 rows x 6 columns]"
      ]
     },
     "execution_count": 251,
     "metadata": {},
     "output_type": "execute_result"
    }
   ],
   "source": [
    "solar=pd.read_sql_query('SELECT *FROM \"Energia_solar\";', con=conexion)\n",
    "solar\n"
   ]
  },
  {
   "cell_type": "code",
   "execution_count": 252,
   "metadata": {},
   "outputs": [
    {
     "data": {
      "text/html": [
       "<div>\n",
       "<style scoped>\n",
       "    .dataframe tbody tr th:only-of-type {\n",
       "        vertical-align: middle;\n",
       "    }\n",
       "\n",
       "    .dataframe tbody tr th {\n",
       "        vertical-align: top;\n",
       "    }\n",
       "\n",
       "    .dataframe thead th {\n",
       "        text-align: right;\n",
       "    }\n",
       "</style>\n",
       "<table border=\"1\" class=\"dataframe\">\n",
       "  <thead>\n",
       "    <tr style=\"text-align: right;\">\n",
       "      <th></th>\n",
       "      <th>Id_Energia_Hidroelectrica</th>\n",
       "      <th>Id_Pais</th>\n",
       "      <th>Id_anio</th>\n",
       "      <th>Produccion_Hidroelectrica</th>\n",
       "      <th>Consumo_Hidroelectrica</th>\n",
       "    </tr>\n",
       "  </thead>\n",
       "  <tbody>\n",
       "    <tr>\n",
       "      <th>0</th>\n",
       "      <td>0</td>\n",
       "      <td>44</td>\n",
       "      <td>1.0</td>\n",
       "      <td>0.425157</td>\n",
       "      <td>1.26</td>\n",
       "    </tr>\n",
       "    <tr>\n",
       "      <th>1</th>\n",
       "      <td>1</td>\n",
       "      <td>160</td>\n",
       "      <td>1.0</td>\n",
       "      <td>0.032040</td>\n",
       "      <td>0.09</td>\n",
       "    </tr>\n",
       "    <tr>\n",
       "      <th>2</th>\n",
       "      <td>2</td>\n",
       "      <td>297</td>\n",
       "      <td>1.0</td>\n",
       "      <td>0.716394</td>\n",
       "      <td>2.12</td>\n",
       "    </tr>\n",
       "    <tr>\n",
       "      <th>3</th>\n",
       "      <td>3</td>\n",
       "      <td>11</td>\n",
       "      <td>1.0</td>\n",
       "      <td>0.004320</td>\n",
       "      <td>0.01</td>\n",
       "    </tr>\n",
       "    <tr>\n",
       "      <th>4</th>\n",
       "      <td>4</td>\n",
       "      <td>35</td>\n",
       "      <td>1.0</td>\n",
       "      <td>0.091799</td>\n",
       "      <td>0.27</td>\n",
       "    </tr>\n",
       "    <tr>\n",
       "      <th>...</th>\n",
       "      <td>...</td>\n",
       "      <td>...</td>\n",
       "      <td>...</td>\n",
       "      <td>...</td>\n",
       "      <td>...</td>\n",
       "    </tr>\n",
       "    <tr>\n",
       "      <th>4099</th>\n",
       "      <td>4099</td>\n",
       "      <td>267</td>\n",
       "      <td>57.0</td>\n",
       "      <td>0.025560</td>\n",
       "      <td>0.07</td>\n",
       "    </tr>\n",
       "    <tr>\n",
       "      <th>4100</th>\n",
       "      <td>4100</td>\n",
       "      <td>273</td>\n",
       "      <td>57.0</td>\n",
       "      <td>0.012600</td>\n",
       "      <td>0.03</td>\n",
       "    </tr>\n",
       "    <tr>\n",
       "      <th>4101</th>\n",
       "      <td>4101</td>\n",
       "      <td>276</td>\n",
       "      <td>57.0</td>\n",
       "      <td>0.016200</td>\n",
       "      <td>0.04</td>\n",
       "    </tr>\n",
       "    <tr>\n",
       "      <th>4102</th>\n",
       "      <td>4102</td>\n",
       "      <td>304</td>\n",
       "      <td>57.0</td>\n",
       "      <td>0.273238</td>\n",
       "      <td>0.71</td>\n",
       "    </tr>\n",
       "    <tr>\n",
       "      <th>4103</th>\n",
       "      <td>4103</td>\n",
       "      <td>210</td>\n",
       "      <td>57.0</td>\n",
       "      <td>0.268558</td>\n",
       "      <td>0.70</td>\n",
       "    </tr>\n",
       "  </tbody>\n",
       "</table>\n",
       "<p>4104 rows × 5 columns</p>\n",
       "</div>"
      ],
      "text/plain": [
       "      Id_Energia_Hidroelectrica  Id_Pais  Id_anio  Produccion_Hidroelectrica  \\\n",
       "0                             0       44      1.0                   0.425157   \n",
       "1                             1      160      1.0                   0.032040   \n",
       "2                             2      297      1.0                   0.716394   \n",
       "3                             3       11      1.0                   0.004320   \n",
       "4                             4       35      1.0                   0.091799   \n",
       "...                         ...      ...      ...                        ...   \n",
       "4099                       4099      267     57.0                   0.025560   \n",
       "4100                       4100      273     57.0                   0.012600   \n",
       "4101                       4101      276     57.0                   0.016200   \n",
       "4102                       4102      304     57.0                   0.273238   \n",
       "4103                       4103      210     57.0                   0.268558   \n",
       "\n",
       "     Consumo_Hidroelectrica  \n",
       "0                      1.26  \n",
       "1                      0.09  \n",
       "2                      2.12  \n",
       "3                      0.01  \n",
       "4                      0.27  \n",
       "...                     ...  \n",
       "4099                   0.07  \n",
       "4100                   0.03  \n",
       "4101                   0.04  \n",
       "4102                   0.71  \n",
       "4103                   0.70  \n",
       "\n",
       "[4104 rows x 5 columns]"
      ]
     },
     "execution_count": 252,
     "metadata": {},
     "output_type": "execute_result"
    }
   ],
   "source": [
    "hidro=pd.read_sql_query('SELECT *FROM \"Energia_Hidroelectrica\";', con=conexion)\n",
    "hidro.rename(columns={'Id_Anio':'Id_anio'}, inplace=True)\n",
    "hidro\n"
   ]
  },
  {
   "cell_type": "code",
   "execution_count": 253,
   "metadata": {},
   "outputs": [
    {
     "data": {
      "text/html": [
       "<div>\n",
       "<style scoped>\n",
       "    .dataframe tbody tr th:only-of-type {\n",
       "        vertical-align: middle;\n",
       "    }\n",
       "\n",
       "    .dataframe tbody tr th {\n",
       "        vertical-align: top;\n",
       "    }\n",
       "\n",
       "    .dataframe thead th {\n",
       "        text-align: right;\n",
       "    }\n",
       "</style>\n",
       "<table border=\"1\" class=\"dataframe\">\n",
       "  <thead>\n",
       "    <tr style=\"text-align: right;\">\n",
       "      <th></th>\n",
       "      <th>Id_Energia_Geotermica</th>\n",
       "      <th>Id_Pais</th>\n",
       "      <th>Id_anio</th>\n",
       "      <th>Produccion_Geotermica</th>\n",
       "      <th>Consumo_Geotermica</th>\n",
       "    </tr>\n",
       "  </thead>\n",
       "  <tbody>\n",
       "    <tr>\n",
       "      <th>0</th>\n",
       "      <td>0</td>\n",
       "      <td>44</td>\n",
       "      <td>1.0</td>\n",
       "      <td>0.00000</td>\n",
       "      <td>0</td>\n",
       "    </tr>\n",
       "    <tr>\n",
       "      <th>1</th>\n",
       "      <td>1</td>\n",
       "      <td>160</td>\n",
       "      <td>1.0</td>\n",
       "      <td>0.00000</td>\n",
       "      <td>0</td>\n",
       "    </tr>\n",
       "    <tr>\n",
       "      <th>2</th>\n",
       "      <td>2</td>\n",
       "      <td>297</td>\n",
       "      <td>1.0</td>\n",
       "      <td>0.04788</td>\n",
       "      <td>0.15</td>\n",
       "    </tr>\n",
       "    <tr>\n",
       "      <th>3</th>\n",
       "      <td>3</td>\n",
       "      <td>11</td>\n",
       "      <td>1.0</td>\n",
       "      <td>0.00000</td>\n",
       "      <td>0</td>\n",
       "    </tr>\n",
       "    <tr>\n",
       "      <th>4</th>\n",
       "      <td>4</td>\n",
       "      <td>35</td>\n",
       "      <td>1.0</td>\n",
       "      <td>0.00000</td>\n",
       "      <td>0</td>\n",
       "    </tr>\n",
       "    <tr>\n",
       "      <th>...</th>\n",
       "      <td>...</td>\n",
       "      <td>...</td>\n",
       "      <td>...</td>\n",
       "      <td>...</td>\n",
       "      <td>...</td>\n",
       "    </tr>\n",
       "    <tr>\n",
       "      <th>4042</th>\n",
       "      <td>4042</td>\n",
       "      <td>267</td>\n",
       "      <td>57.0</td>\n",
       "      <td>0.00036</td>\n",
       "      <td>0</td>\n",
       "    </tr>\n",
       "    <tr>\n",
       "      <th>4043</th>\n",
       "      <td>4043</td>\n",
       "      <td>273</td>\n",
       "      <td>57.0</td>\n",
       "      <td>0.00720</td>\n",
       "      <td>0.02</td>\n",
       "    </tr>\n",
       "    <tr>\n",
       "      <th>4044</th>\n",
       "      <td>4044</td>\n",
       "      <td>276</td>\n",
       "      <td>57.0</td>\n",
       "      <td>0.04680</td>\n",
       "      <td>0.15</td>\n",
       "    </tr>\n",
       "    <tr>\n",
       "      <th>4045</th>\n",
       "      <td>4045</td>\n",
       "      <td>304</td>\n",
       "      <td>57.0</td>\n",
       "      <td>0.00072</td>\n",
       "      <td>0</td>\n",
       "    </tr>\n",
       "    <tr>\n",
       "      <th>4046</th>\n",
       "      <td>4046</td>\n",
       "      <td>210</td>\n",
       "      <td>57.0</td>\n",
       "      <td>0.00216</td>\n",
       "      <td>0.01</td>\n",
       "    </tr>\n",
       "  </tbody>\n",
       "</table>\n",
       "<p>4047 rows × 5 columns</p>\n",
       "</div>"
      ],
      "text/plain": [
       "      Id_Energia_Geotermica  Id_Pais  Id_anio  Produccion_Geotermica  \\\n",
       "0                         0       44      1.0                0.00000   \n",
       "1                         1      160      1.0                0.00000   \n",
       "2                         2      297      1.0                0.04788   \n",
       "3                         3       11      1.0                0.00000   \n",
       "4                         4       35      1.0                0.00000   \n",
       "...                     ...      ...      ...                    ...   \n",
       "4042                   4042      267     57.0                0.00036   \n",
       "4043                   4043      273     57.0                0.00720   \n",
       "4044                   4044      276     57.0                0.04680   \n",
       "4045                   4045      304     57.0                0.00072   \n",
       "4046                   4046      210     57.0                0.00216   \n",
       "\n",
       "     Consumo_Geotermica  \n",
       "0                     0  \n",
       "1                     0  \n",
       "2                  0.15  \n",
       "3                     0  \n",
       "4                     0  \n",
       "...                 ...  \n",
       "4042                  0  \n",
       "4043               0.02  \n",
       "4044               0.15  \n",
       "4045                  0  \n",
       "4046               0.01  \n",
       "\n",
       "[4047 rows x 5 columns]"
      ]
     },
     "execution_count": 253,
     "metadata": {},
     "output_type": "execute_result"
    }
   ],
   "source": [
    "geo=pd.read_sql_query('SELECT *FROM \"Energia_Geotermica\";', con=conexion)\n",
    "geo.rename(columns={'Id_Anio':'Id_anio'}, inplace=True)\n",
    "geo\n"
   ]
  },
  {
   "cell_type": "code",
   "execution_count": 254,
   "metadata": {},
   "outputs": [
    {
     "data": {
      "text/html": [
       "<div>\n",
       "<style scoped>\n",
       "    .dataframe tbody tr th:only-of-type {\n",
       "        vertical-align: middle;\n",
       "    }\n",
       "\n",
       "    .dataframe tbody tr th {\n",
       "        vertical-align: top;\n",
       "    }\n",
       "\n",
       "    .dataframe thead th {\n",
       "        text-align: right;\n",
       "    }\n",
       "</style>\n",
       "<table border=\"1\" class=\"dataframe\">\n",
       "  <thead>\n",
       "    <tr style=\"text-align: right;\">\n",
       "      <th></th>\n",
       "      <th>ID_Energia_nuclear</th>\n",
       "      <th>Id_Pais</th>\n",
       "      <th>Id_anio</th>\n",
       "      <th>Consumo_Nuclear</th>\n",
       "      <th>Produccion_Nuclear</th>\n",
       "    </tr>\n",
       "  </thead>\n",
       "  <tbody>\n",
       "    <tr>\n",
       "      <th>0</th>\n",
       "      <td>1</td>\n",
       "      <td>44</td>\n",
       "      <td>31</td>\n",
       "      <td>0.99</td>\n",
       "      <td>97.2</td>\n",
       "    </tr>\n",
       "    <tr>\n",
       "      <th>1</th>\n",
       "      <td>2</td>\n",
       "      <td>160</td>\n",
       "      <td>31</td>\n",
       "      <td>0.09</td>\n",
       "      <td>8.4</td>\n",
       "    </tr>\n",
       "    <tr>\n",
       "      <th>2</th>\n",
       "      <td>3</td>\n",
       "      <td>297</td>\n",
       "      <td>31</td>\n",
       "      <td>7.24</td>\n",
       "      <td>708.8</td>\n",
       "    </tr>\n",
       "    <tr>\n",
       "      <th>3</th>\n",
       "      <td>4</td>\n",
       "      <td>11</td>\n",
       "      <td>31</td>\n",
       "      <td>0.07</td>\n",
       "      <td>7.1</td>\n",
       "    </tr>\n",
       "    <tr>\n",
       "      <th>4</th>\n",
       "      <td>5</td>\n",
       "      <td>35</td>\n",
       "      <td>31</td>\n",
       "      <td>0.03</td>\n",
       "      <td>2.5</td>\n",
       "    </tr>\n",
       "    <tr>\n",
       "      <th>...</th>\n",
       "      <td>...</td>\n",
       "      <td>...</td>\n",
       "      <td>...</td>\n",
       "      <td>...</td>\n",
       "      <td>...</td>\n",
       "    </tr>\n",
       "    <tr>\n",
       "      <th>2479</th>\n",
       "      <td>2480</td>\n",
       "      <td>267</td>\n",
       "      <td>57</td>\n",
       "      <td>0.00</td>\n",
       "      <td>0.0</td>\n",
       "    </tr>\n",
       "    <tr>\n",
       "      <th>2480</th>\n",
       "      <td>2481</td>\n",
       "      <td>273</td>\n",
       "      <td>57</td>\n",
       "      <td>0.25</td>\n",
       "      <td>27.8</td>\n",
       "    </tr>\n",
       "    <tr>\n",
       "      <th>2481</th>\n",
       "      <td>2482</td>\n",
       "      <td>276</td>\n",
       "      <td>57</td>\n",
       "      <td>0.00</td>\n",
       "      <td>0.0</td>\n",
       "    </tr>\n",
       "    <tr>\n",
       "      <th>2482</th>\n",
       "      <td>2483</td>\n",
       "      <td>304</td>\n",
       "      <td>57</td>\n",
       "      <td>0.00</td>\n",
       "      <td>0.0</td>\n",
       "    </tr>\n",
       "    <tr>\n",
       "      <th>2483</th>\n",
       "      <td>2484</td>\n",
       "      <td>210</td>\n",
       "      <td>57</td>\n",
       "      <td>0.00</td>\n",
       "      <td>0.0</td>\n",
       "    </tr>\n",
       "  </tbody>\n",
       "</table>\n",
       "<p>2484 rows × 5 columns</p>\n",
       "</div>"
      ],
      "text/plain": [
       "      ID_Energia_nuclear  Id_Pais  Id_anio  Consumo_Nuclear  \\\n",
       "0                      1       44       31             0.99   \n",
       "1                      2      160       31             0.09   \n",
       "2                      3      297       31             7.24   \n",
       "3                      4       11       31             0.07   \n",
       "4                      5       35       31             0.03   \n",
       "...                  ...      ...      ...              ...   \n",
       "2479                2480      267       57             0.00   \n",
       "2480                2481      273       57             0.25   \n",
       "2481                2482      276       57             0.00   \n",
       "2482                2483      304       57             0.00   \n",
       "2483                2484      210       57             0.00   \n",
       "\n",
       "      Produccion_Nuclear  \n",
       "0                   97.2  \n",
       "1                    8.4  \n",
       "2                  708.8  \n",
       "3                    7.1  \n",
       "4                    2.5  \n",
       "...                  ...  \n",
       "2479                 0.0  \n",
       "2480                27.8  \n",
       "2481                 0.0  \n",
       "2482                 0.0  \n",
       "2483                 0.0  \n",
       "\n",
       "[2484 rows x 5 columns]"
      ]
     },
     "execution_count": 254,
     "metadata": {},
     "output_type": "execute_result"
    }
   ],
   "source": [
    "nuclear=pd.read_sql_query('SELECT *FROM \"Energia_nuclear_con_ceros\";', con=conexion)\n",
    "nuclear"
   ]
  },
  {
   "cell_type": "code",
   "execution_count": 188,
   "metadata": {},
   "outputs": [],
   "source": [
    "todas=pd.merge(solar,eoil, on='Id_anio')\n",
    "todas=pd.merge(todas,hidro, on='Id_anio')\n",
    "todas.drop(columns={'Id_Pais_x','Id_Pais_y','Id_Energia_Eolica','Id_Energia_Hidroelectrica'},inplace=True)\n",
    "todas=pd.merge(todas, años, on='Id_anio')\n",
    "#todas.drop(columns={'Id_anio'},inplace=True)\n",
    "todas80=todas[todas['Anio']>=1980]"
   ]
  },
  {
   "cell_type": "code",
   "execution_count": 189,
   "metadata": {},
   "outputs": [
    {
     "data": {
      "text/html": [
       "<div>\n",
       "<style scoped>\n",
       "    .dataframe tbody tr th:only-of-type {\n",
       "        vertical-align: middle;\n",
       "    }\n",
       "\n",
       "    .dataframe tbody tr th {\n",
       "        vertical-align: top;\n",
       "    }\n",
       "\n",
       "    .dataframe thead th {\n",
       "        text-align: right;\n",
       "    }\n",
       "</style>\n",
       "<table border=\"1\" class=\"dataframe\">\n",
       "  <thead>\n",
       "    <tr style=\"text-align: right;\">\n",
       "      <th></th>\n",
       "      <th>Id_Energia_solar</th>\n",
       "      <th>Id_anio</th>\n",
       "      <th>Consumo_solar</th>\n",
       "      <th>Produccion_solar</th>\n",
       "      <th>Instalada_solar</th>\n",
       "      <th>Consumo_Eolica</th>\n",
       "      <th>Produccion_Eolica</th>\n",
       "      <th>Capacidad_instalada_Eolica</th>\n",
       "      <th>Id_Pais</th>\n",
       "      <th>Produccion_Hidroelectrica</th>\n",
       "      <th>Consumo_Hidroelectrica</th>\n",
       "      <th>Anio</th>\n",
       "      <th>Codigo_pais</th>\n",
       "      <th>Pais</th>\n",
       "    </tr>\n",
       "  </thead>\n",
       "  <tbody>\n",
       "    <tr>\n",
       "      <th>0</th>\n",
       "      <td>1</td>\n",
       "      <td>25</td>\n",
       "      <td>0.0</td>\n",
       "      <td>0.3</td>\n",
       "      <td>0</td>\n",
       "      <td>0.02</td>\n",
       "      <td>2.1</td>\n",
       "      <td>0</td>\n",
       "      <td>44</td>\n",
       "      <td>1.045432</td>\n",
       "      <td>3.09</td>\n",
       "      <td>1989</td>\n",
       "      <td>CAN</td>\n",
       "      <td>Canada</td>\n",
       "    </tr>\n",
       "    <tr>\n",
       "      <th>1</th>\n",
       "      <td>1</td>\n",
       "      <td>25</td>\n",
       "      <td>0.0</td>\n",
       "      <td>0.3</td>\n",
       "      <td>0</td>\n",
       "      <td>0</td>\n",
       "      <td>0.4</td>\n",
       "      <td>0</td>\n",
       "      <td>44</td>\n",
       "      <td>1.045432</td>\n",
       "      <td>3.09</td>\n",
       "      <td>1989</td>\n",
       "      <td>CAN</td>\n",
       "      <td>Canada</td>\n",
       "    </tr>\n",
       "    <tr>\n",
       "      <th>2</th>\n",
       "      <td>2</td>\n",
       "      <td>26</td>\n",
       "      <td>0.0</td>\n",
       "      <td>0.4</td>\n",
       "      <td>0</td>\n",
       "      <td>0.03</td>\n",
       "      <td>2.8</td>\n",
       "      <td>0</td>\n",
       "      <td>44</td>\n",
       "      <td>1.064511</td>\n",
       "      <td>3.15</td>\n",
       "      <td>1990</td>\n",
       "      <td>CAN</td>\n",
       "      <td>Canada</td>\n",
       "    </tr>\n",
       "    <tr>\n",
       "      <th>3</th>\n",
       "      <td>2</td>\n",
       "      <td>26</td>\n",
       "      <td>0.0</td>\n",
       "      <td>0.4</td>\n",
       "      <td>0</td>\n",
       "      <td>0.01</td>\n",
       "      <td>0.6</td>\n",
       "      <td>0</td>\n",
       "      <td>44</td>\n",
       "      <td>1.064511</td>\n",
       "      <td>3.15</td>\n",
       "      <td>1990</td>\n",
       "      <td>CAN</td>\n",
       "      <td>Canada</td>\n",
       "    </tr>\n",
       "    <tr>\n",
       "      <th>4</th>\n",
       "      <td>2</td>\n",
       "      <td>26</td>\n",
       "      <td>0.0</td>\n",
       "      <td>0.4</td>\n",
       "      <td>0</td>\n",
       "      <td>0</td>\n",
       "      <td>0.1</td>\n",
       "      <td>0</td>\n",
       "      <td>44</td>\n",
       "      <td>1.064511</td>\n",
       "      <td>3.15</td>\n",
       "      <td>1990</td>\n",
       "      <td>CAN</td>\n",
       "      <td>Canada</td>\n",
       "    </tr>\n",
       "    <tr>\n",
       "      <th>...</th>\n",
       "      <td>...</td>\n",
       "      <td>...</td>\n",
       "      <td>...</td>\n",
       "      <td>...</td>\n",
       "      <td>...</td>\n",
       "      <td>...</td>\n",
       "      <td>...</td>\n",
       "      <td>...</td>\n",
       "      <td>...</td>\n",
       "      <td>...</td>\n",
       "      <td>...</td>\n",
       "      <td>...</td>\n",
       "      <td>...</td>\n",
       "      <td>...</td>\n",
       "    </tr>\n",
       "    <tr>\n",
       "      <th>5797579</th>\n",
       "      <td>1243</td>\n",
       "      <td>57</td>\n",
       "      <td>0.0</td>\n",
       "      <td>0.0</td>\n",
       "      <td>16660</td>\n",
       "      <td>0</td>\n",
       "      <td>0</td>\n",
       "      <td>1514</td>\n",
       "      <td>210</td>\n",
       "      <td>0.268558</td>\n",
       "      <td>0.70</td>\n",
       "      <td>2021</td>\n",
       "      <td>0</td>\n",
       "      <td>Other Asia Pacific (BP)</td>\n",
       "    </tr>\n",
       "    <tr>\n",
       "      <th>5797580</th>\n",
       "      <td>1243</td>\n",
       "      <td>57</td>\n",
       "      <td>0.0</td>\n",
       "      <td>0.0</td>\n",
       "      <td>16660</td>\n",
       "      <td>0</td>\n",
       "      <td>0</td>\n",
       "      <td>2258</td>\n",
       "      <td>210</td>\n",
       "      <td>0.268558</td>\n",
       "      <td>0.70</td>\n",
       "      <td>2021</td>\n",
       "      <td>0</td>\n",
       "      <td>Other Asia Pacific (BP)</td>\n",
       "    </tr>\n",
       "    <tr>\n",
       "      <th>5797581</th>\n",
       "      <td>1243</td>\n",
       "      <td>57</td>\n",
       "      <td>0.0</td>\n",
       "      <td>0.0</td>\n",
       "      <td>16660</td>\n",
       "      <td>0</td>\n",
       "      <td>0</td>\n",
       "      <td>622</td>\n",
       "      <td>210</td>\n",
       "      <td>0.268558</td>\n",
       "      <td>0.70</td>\n",
       "      <td>2021</td>\n",
       "      <td>0</td>\n",
       "      <td>Other Asia Pacific (BP)</td>\n",
       "    </tr>\n",
       "    <tr>\n",
       "      <th>5797582</th>\n",
       "      <td>1243</td>\n",
       "      <td>57</td>\n",
       "      <td>0.0</td>\n",
       "      <td>0.0</td>\n",
       "      <td>16660</td>\n",
       "      <td>0</td>\n",
       "      <td>0</td>\n",
       "      <td>245</td>\n",
       "      <td>210</td>\n",
       "      <td>0.268558</td>\n",
       "      <td>0.70</td>\n",
       "      <td>2021</td>\n",
       "      <td>0</td>\n",
       "      <td>Other Asia Pacific (BP)</td>\n",
       "    </tr>\n",
       "    <tr>\n",
       "      <th>5797583</th>\n",
       "      <td>1243</td>\n",
       "      <td>57</td>\n",
       "      <td>0.0</td>\n",
       "      <td>0.0</td>\n",
       "      <td>16660</td>\n",
       "      <td>0</td>\n",
       "      <td>0</td>\n",
       "      <td>1059</td>\n",
       "      <td>210</td>\n",
       "      <td>0.268558</td>\n",
       "      <td>0.70</td>\n",
       "      <td>2021</td>\n",
       "      <td>0</td>\n",
       "      <td>Other Asia Pacific (BP)</td>\n",
       "    </tr>\n",
       "  </tbody>\n",
       "</table>\n",
       "<p>5797584 rows × 14 columns</p>\n",
       "</div>"
      ],
      "text/plain": [
       "         Id_Energia_solar  Id_anio  Consumo_solar  Produccion_solar  \\\n",
       "0                       1       25            0.0               0.3   \n",
       "1                       1       25            0.0               0.3   \n",
       "2                       2       26            0.0               0.4   \n",
       "3                       2       26            0.0               0.4   \n",
       "4                       2       26            0.0               0.4   \n",
       "...                   ...      ...            ...               ...   \n",
       "5797579              1243       57            0.0               0.0   \n",
       "5797580              1243       57            0.0               0.0   \n",
       "5797581              1243       57            0.0               0.0   \n",
       "5797582              1243       57            0.0               0.0   \n",
       "5797583              1243       57            0.0               0.0   \n",
       "\n",
       "         Instalada_solar Consumo_Eolica Produccion_Eolica  \\\n",
       "0                      0           0.02               2.1   \n",
       "1                      0              0               0.4   \n",
       "2                      0           0.03               2.8   \n",
       "3                      0           0.01               0.6   \n",
       "4                      0              0               0.1   \n",
       "...                  ...            ...               ...   \n",
       "5797579            16660              0                 0   \n",
       "5797580            16660              0                 0   \n",
       "5797581            16660              0                 0   \n",
       "5797582            16660              0                 0   \n",
       "5797583            16660              0                 0   \n",
       "\n",
       "        Capacidad_instalada_Eolica  Id_Pais  Produccion_Hidroelectrica  \\\n",
       "0                                0       44                   1.045432   \n",
       "1                                0       44                   1.045432   \n",
       "2                                0       44                   1.064511   \n",
       "3                                0       44                   1.064511   \n",
       "4                                0       44                   1.064511   \n",
       "...                            ...      ...                        ...   \n",
       "5797579                       1514      210                   0.268558   \n",
       "5797580                       2258      210                   0.268558   \n",
       "5797581                        622      210                   0.268558   \n",
       "5797582                        245      210                   0.268558   \n",
       "5797583                       1059      210                   0.268558   \n",
       "\n",
       "        Consumo_Hidroelectrica  Anio Codigo_pais                     Pais  \n",
       "0                         3.09  1989         CAN                   Canada  \n",
       "1                         3.09  1989         CAN                   Canada  \n",
       "2                         3.15  1990         CAN                   Canada  \n",
       "3                         3.15  1990         CAN                   Canada  \n",
       "4                         3.15  1990         CAN                   Canada  \n",
       "...                        ...   ...         ...                      ...  \n",
       "5797579                   0.70  2021           0  Other Asia Pacific (BP)  \n",
       "5797580                   0.70  2021           0  Other Asia Pacific (BP)  \n",
       "5797581                   0.70  2021           0  Other Asia Pacific (BP)  \n",
       "5797582                   0.70  2021           0  Other Asia Pacific (BP)  \n",
       "5797583                   0.70  2021           0  Other Asia Pacific (BP)  \n",
       "\n",
       "[5797584 rows x 14 columns]"
      ]
     },
     "execution_count": 189,
     "metadata": {},
     "output_type": "execute_result"
    }
   ],
   "source": [
    "todas80=pd.merge(todas80,paises, on='Id_Pais')\n",
    "todas80\n"
   ]
  },
  {
   "cell_type": "code",
   "execution_count": 171,
   "metadata": {},
   "outputs": [
    {
     "ename": "KeyError",
     "evalue": "\"['Codigo_pais', 'Id_Pais'] not found in axis\"",
     "output_type": "error",
     "traceback": [
      "\u001b[1;31m---------------------------------------------------------------------------\u001b[0m",
      "\u001b[1;31mKeyError\u001b[0m                                  Traceback (most recent call last)",
      "\u001b[1;32mc:\\Users\\Usuario\\ProyectoEmisionesGit\\Proyecto_Grupal_Grupo05\\analisisEmisiones.ipynb Celda 35\u001b[0m in \u001b[0;36m<module>\u001b[1;34m\u001b[0m\n\u001b[1;32m----> <a href='vscode-notebook-cell:/c%3A/Users/Usuario/ProyectoEmisionesGit/Proyecto_Grupal_Grupo05/analisisEmisiones.ipynb#X50sZmlsZQ%3D%3D?line=0'>1</a>\u001b[0m todas80\u001b[39m.\u001b[39;49mdrop(columns\u001b[39m=\u001b[39;49m{\u001b[39m'\u001b[39;49m\u001b[39mId_Pais\u001b[39;49m\u001b[39m'\u001b[39;49m,\u001b[39m'\u001b[39;49m\u001b[39mCodigo_pais\u001b[39;49m\u001b[39m'\u001b[39;49m},inplace\u001b[39m=\u001b[39;49m\u001b[39mTrue\u001b[39;49;00m)\n\u001b[0;32m      <a href='vscode-notebook-cell:/c%3A/Users/Usuario/ProyectoEmisionesGit/Proyecto_Grupal_Grupo05/analisisEmisiones.ipynb#X50sZmlsZQ%3D%3D?line=1'>2</a>\u001b[0m \u001b[39m\"\"\"todas80.drop(['Other Asia Pacific (BP)',\u001b[39;00m\n\u001b[0;32m      <a href='vscode-notebook-cell:/c%3A/Users/Usuario/ProyectoEmisionesGit/Proyecto_Grupal_Grupo05/analisisEmisiones.ipynb#X50sZmlsZQ%3D%3D?line=2'>3</a>\u001b[0m \u001b[39m       'Other CIS (BP)', 'Other Caribbean (BP)', 'Other Europe (BP)',\u001b[39;00m\n\u001b[0;32m      <a href='vscode-notebook-cell:/c%3A/Users/Usuario/ProyectoEmisionesGit/Proyecto_Grupal_Grupo05/analisisEmisiones.ipynb#X50sZmlsZQ%3D%3D?line=3'>4</a>\u001b[0m \u001b[39m       'Other Middle East (BP)', 'Other Northern Africa (BP)',\u001b[39;00m\n\u001b[0;32m      <a href='vscode-notebook-cell:/c%3A/Users/Usuario/ProyectoEmisionesGit/Proyecto_Grupal_Grupo05/analisisEmisiones.ipynb#X50sZmlsZQ%3D%3D?line=4'>5</a>\u001b[0m \u001b[39m       'Other South America (BP)', 'Other South and Central America (BP)',\u001b[39;00m\n\u001b[0;32m      <a href='vscode-notebook-cell:/c%3A/Users/Usuario/ProyectoEmisionesGit/Proyecto_Grupal_Grupo05/analisisEmisiones.ipynb#X50sZmlsZQ%3D%3D?line=5'>6</a>\u001b[0m \u001b[39m       'Other Western Africa (BP)'], axis=0, inplace= True)\"\"\"\u001b[39;00m\n\u001b[0;32m      <a href='vscode-notebook-cell:/c%3A/Users/Usuario/ProyectoEmisionesGit/Proyecto_Grupal_Grupo05/analisisEmisiones.ipynb#X50sZmlsZQ%3D%3D?line=6'>7</a>\u001b[0m todas80\n",
      "File \u001b[1;32mc:\\Users\\Usuario\\AppData\\Local\\Programs\\Python\\Python310\\lib\\site-packages\\pandas\\util\\_decorators.py:311\u001b[0m, in \u001b[0;36mdeprecate_nonkeyword_arguments.<locals>.decorate.<locals>.wrapper\u001b[1;34m(*args, **kwargs)\u001b[0m\n\u001b[0;32m    305\u001b[0m \u001b[39mif\u001b[39;00m \u001b[39mlen\u001b[39m(args) \u001b[39m>\u001b[39m num_allow_args:\n\u001b[0;32m    306\u001b[0m     warnings\u001b[39m.\u001b[39mwarn(\n\u001b[0;32m    307\u001b[0m         msg\u001b[39m.\u001b[39mformat(arguments\u001b[39m=\u001b[39marguments),\n\u001b[0;32m    308\u001b[0m         \u001b[39mFutureWarning\u001b[39;00m,\n\u001b[0;32m    309\u001b[0m         stacklevel\u001b[39m=\u001b[39mstacklevel,\n\u001b[0;32m    310\u001b[0m     )\n\u001b[1;32m--> 311\u001b[0m \u001b[39mreturn\u001b[39;00m func(\u001b[39m*\u001b[39margs, \u001b[39m*\u001b[39m\u001b[39m*\u001b[39mkwargs)\n",
      "File \u001b[1;32mc:\\Users\\Usuario\\AppData\\Local\\Programs\\Python\\Python310\\lib\\site-packages\\pandas\\core\\frame.py:4948\u001b[0m, in \u001b[0;36mDataFrame.drop\u001b[1;34m(self, labels, axis, index, columns, level, inplace, errors)\u001b[0m\n\u001b[0;32m   4800\u001b[0m \u001b[39m@deprecate_nonkeyword_arguments\u001b[39m(version\u001b[39m=\u001b[39m\u001b[39mNone\u001b[39;00m, allowed_args\u001b[39m=\u001b[39m[\u001b[39m\"\u001b[39m\u001b[39mself\u001b[39m\u001b[39m\"\u001b[39m, \u001b[39m\"\u001b[39m\u001b[39mlabels\u001b[39m\u001b[39m\"\u001b[39m])\n\u001b[0;32m   4801\u001b[0m \u001b[39mdef\u001b[39;00m \u001b[39mdrop\u001b[39m(\n\u001b[0;32m   4802\u001b[0m     \u001b[39mself\u001b[39m,\n\u001b[1;32m   (...)\u001b[0m\n\u001b[0;32m   4809\u001b[0m     errors: \u001b[39mstr\u001b[39m \u001b[39m=\u001b[39m \u001b[39m\"\u001b[39m\u001b[39mraise\u001b[39m\u001b[39m\"\u001b[39m,\n\u001b[0;32m   4810\u001b[0m ):\n\u001b[0;32m   4811\u001b[0m     \u001b[39m\"\"\"\u001b[39;00m\n\u001b[0;32m   4812\u001b[0m \u001b[39m    Drop specified labels from rows or columns.\u001b[39;00m\n\u001b[0;32m   4813\u001b[0m \n\u001b[1;32m   (...)\u001b[0m\n\u001b[0;32m   4946\u001b[0m \u001b[39m            weight  1.0     0.8\u001b[39;00m\n\u001b[0;32m   4947\u001b[0m \u001b[39m    \"\"\"\u001b[39;00m\n\u001b[1;32m-> 4948\u001b[0m     \u001b[39mreturn\u001b[39;00m \u001b[39msuper\u001b[39;49m()\u001b[39m.\u001b[39;49mdrop(\n\u001b[0;32m   4949\u001b[0m         labels\u001b[39m=\u001b[39;49mlabels,\n\u001b[0;32m   4950\u001b[0m         axis\u001b[39m=\u001b[39;49maxis,\n\u001b[0;32m   4951\u001b[0m         index\u001b[39m=\u001b[39;49mindex,\n\u001b[0;32m   4952\u001b[0m         columns\u001b[39m=\u001b[39;49mcolumns,\n\u001b[0;32m   4953\u001b[0m         level\u001b[39m=\u001b[39;49mlevel,\n\u001b[0;32m   4954\u001b[0m         inplace\u001b[39m=\u001b[39;49minplace,\n\u001b[0;32m   4955\u001b[0m         errors\u001b[39m=\u001b[39;49merrors,\n\u001b[0;32m   4956\u001b[0m     )\n",
      "File \u001b[1;32mc:\\Users\\Usuario\\AppData\\Local\\Programs\\Python\\Python310\\lib\\site-packages\\pandas\\core\\generic.py:4279\u001b[0m, in \u001b[0;36mNDFrame.drop\u001b[1;34m(self, labels, axis, index, columns, level, inplace, errors)\u001b[0m\n\u001b[0;32m   4277\u001b[0m \u001b[39mfor\u001b[39;00m axis, labels \u001b[39min\u001b[39;00m axes\u001b[39m.\u001b[39mitems():\n\u001b[0;32m   4278\u001b[0m     \u001b[39mif\u001b[39;00m labels \u001b[39mis\u001b[39;00m \u001b[39mnot\u001b[39;00m \u001b[39mNone\u001b[39;00m:\n\u001b[1;32m-> 4279\u001b[0m         obj \u001b[39m=\u001b[39m obj\u001b[39m.\u001b[39;49m_drop_axis(labels, axis, level\u001b[39m=\u001b[39;49mlevel, errors\u001b[39m=\u001b[39;49merrors)\n\u001b[0;32m   4281\u001b[0m \u001b[39mif\u001b[39;00m inplace:\n\u001b[0;32m   4282\u001b[0m     \u001b[39mself\u001b[39m\u001b[39m.\u001b[39m_update_inplace(obj)\n",
      "File \u001b[1;32mc:\\Users\\Usuario\\AppData\\Local\\Programs\\Python\\Python310\\lib\\site-packages\\pandas\\core\\generic.py:4323\u001b[0m, in \u001b[0;36mNDFrame._drop_axis\u001b[1;34m(self, labels, axis, level, errors, consolidate, only_slice)\u001b[0m\n\u001b[0;32m   4321\u001b[0m         new_axis \u001b[39m=\u001b[39m axis\u001b[39m.\u001b[39mdrop(labels, level\u001b[39m=\u001b[39mlevel, errors\u001b[39m=\u001b[39merrors)\n\u001b[0;32m   4322\u001b[0m     \u001b[39melse\u001b[39;00m:\n\u001b[1;32m-> 4323\u001b[0m         new_axis \u001b[39m=\u001b[39m axis\u001b[39m.\u001b[39;49mdrop(labels, errors\u001b[39m=\u001b[39;49merrors)\n\u001b[0;32m   4324\u001b[0m     indexer \u001b[39m=\u001b[39m axis\u001b[39m.\u001b[39mget_indexer(new_axis)\n\u001b[0;32m   4326\u001b[0m \u001b[39m# Case for non-unique axis\u001b[39;00m\n\u001b[0;32m   4327\u001b[0m \u001b[39melse\u001b[39;00m:\n",
      "File \u001b[1;32mc:\\Users\\Usuario\\AppData\\Local\\Programs\\Python\\Python310\\lib\\site-packages\\pandas\\core\\indexes\\base.py:6644\u001b[0m, in \u001b[0;36mIndex.drop\u001b[1;34m(self, labels, errors)\u001b[0m\n\u001b[0;32m   6642\u001b[0m \u001b[39mif\u001b[39;00m mask\u001b[39m.\u001b[39many():\n\u001b[0;32m   6643\u001b[0m     \u001b[39mif\u001b[39;00m errors \u001b[39m!=\u001b[39m \u001b[39m\"\u001b[39m\u001b[39mignore\u001b[39m\u001b[39m\"\u001b[39m:\n\u001b[1;32m-> 6644\u001b[0m         \u001b[39mraise\u001b[39;00m \u001b[39mKeyError\u001b[39;00m(\u001b[39mf\u001b[39m\u001b[39m\"\u001b[39m\u001b[39m{\u001b[39;00m\u001b[39mlist\u001b[39m(labels[mask])\u001b[39m}\u001b[39;00m\u001b[39m not found in axis\u001b[39m\u001b[39m\"\u001b[39m)\n\u001b[0;32m   6645\u001b[0m     indexer \u001b[39m=\u001b[39m indexer[\u001b[39m~\u001b[39mmask]\n\u001b[0;32m   6646\u001b[0m \u001b[39mreturn\u001b[39;00m \u001b[39mself\u001b[39m\u001b[39m.\u001b[39mdelete(indexer)\n",
      "\u001b[1;31mKeyError\u001b[0m: \"['Codigo_pais', 'Id_Pais'] not found in axis\""
     ]
    }
   ],
   "source": [
    "todas80.drop(columns={'Id_Pais','Codigo_pais'},inplace=True)\n",
    "\"\"\"todas80.drop(['Other Asia Pacific (BP)',\n",
    "       'Other CIS (BP)', 'Other Caribbean (BP)', 'Other Europe (BP)',\n",
    "       'Other Middle East (BP)', 'Other Northern Africa (BP)',\n",
    "       'Other South America (BP)', 'Other South and Central America (BP)',\n",
    "       'Other Western Africa (BP)'], axis=0, inplace= True)\"\"\"\n",
    "todas80"
   ]
  },
  {
   "cell_type": "code",
   "execution_count": 190,
   "metadata": {},
   "outputs": [
    {
     "data": {
      "text/html": [
       "<div>\n",
       "<style scoped>\n",
       "    .dataframe tbody tr th:only-of-type {\n",
       "        vertical-align: middle;\n",
       "    }\n",
       "\n",
       "    .dataframe tbody tr th {\n",
       "        vertical-align: top;\n",
       "    }\n",
       "\n",
       "    .dataframe thead th {\n",
       "        text-align: right;\n",
       "    }\n",
       "</style>\n",
       "<table border=\"1\" class=\"dataframe\">\n",
       "  <thead>\n",
       "    <tr style=\"text-align: right;\">\n",
       "      <th></th>\n",
       "      <th>Id_Energia_solar</th>\n",
       "      <th>Id_anio</th>\n",
       "      <th>Consumo_solar</th>\n",
       "      <th>Produccion_solar</th>\n",
       "      <th>Instalada_solar</th>\n",
       "      <th>Consumo_Eolica</th>\n",
       "      <th>Produccion_Eolica</th>\n",
       "      <th>Capacidad_instalada_Eolica</th>\n",
       "      <th>Id_Pais</th>\n",
       "      <th>Produccion_Hidroelectrica</th>\n",
       "      <th>Consumo_Hidroelectrica</th>\n",
       "      <th>Anio</th>\n",
       "      <th>Codigo_pais</th>\n",
       "      <th>Pais</th>\n",
       "    </tr>\n",
       "  </thead>\n",
       "  <tbody>\n",
       "    <tr>\n",
       "      <th>0</th>\n",
       "      <td>1</td>\n",
       "      <td>25</td>\n",
       "      <td>0.0</td>\n",
       "      <td>0.3</td>\n",
       "      <td>0</td>\n",
       "      <td>0.02</td>\n",
       "      <td>2.1</td>\n",
       "      <td>0</td>\n",
       "      <td>44</td>\n",
       "      <td>1.045432</td>\n",
       "      <td>3.09</td>\n",
       "      <td>1989</td>\n",
       "      <td>CAN</td>\n",
       "      <td>Canada</td>\n",
       "    </tr>\n",
       "    <tr>\n",
       "      <th>1</th>\n",
       "      <td>1</td>\n",
       "      <td>25</td>\n",
       "      <td>0.0</td>\n",
       "      <td>0.3</td>\n",
       "      <td>0</td>\n",
       "      <td>0</td>\n",
       "      <td>0.4</td>\n",
       "      <td>0</td>\n",
       "      <td>44</td>\n",
       "      <td>1.045432</td>\n",
       "      <td>3.09</td>\n",
       "      <td>1989</td>\n",
       "      <td>CAN</td>\n",
       "      <td>Canada</td>\n",
       "    </tr>\n",
       "    <tr>\n",
       "      <th>2</th>\n",
       "      <td>2</td>\n",
       "      <td>26</td>\n",
       "      <td>0.0</td>\n",
       "      <td>0.4</td>\n",
       "      <td>0</td>\n",
       "      <td>0.03</td>\n",
       "      <td>2.8</td>\n",
       "      <td>0</td>\n",
       "      <td>44</td>\n",
       "      <td>1.064511</td>\n",
       "      <td>3.15</td>\n",
       "      <td>1990</td>\n",
       "      <td>CAN</td>\n",
       "      <td>Canada</td>\n",
       "    </tr>\n",
       "    <tr>\n",
       "      <th>3</th>\n",
       "      <td>2</td>\n",
       "      <td>26</td>\n",
       "      <td>0.0</td>\n",
       "      <td>0.4</td>\n",
       "      <td>0</td>\n",
       "      <td>0.01</td>\n",
       "      <td>0.6</td>\n",
       "      <td>0</td>\n",
       "      <td>44</td>\n",
       "      <td>1.064511</td>\n",
       "      <td>3.15</td>\n",
       "      <td>1990</td>\n",
       "      <td>CAN</td>\n",
       "      <td>Canada</td>\n",
       "    </tr>\n",
       "    <tr>\n",
       "      <th>4</th>\n",
       "      <td>2</td>\n",
       "      <td>26</td>\n",
       "      <td>0.0</td>\n",
       "      <td>0.4</td>\n",
       "      <td>0</td>\n",
       "      <td>0</td>\n",
       "      <td>0.1</td>\n",
       "      <td>0</td>\n",
       "      <td>44</td>\n",
       "      <td>1.064511</td>\n",
       "      <td>3.15</td>\n",
       "      <td>1990</td>\n",
       "      <td>CAN</td>\n",
       "      <td>Canada</td>\n",
       "    </tr>\n",
       "    <tr>\n",
       "      <th>...</th>\n",
       "      <td>...</td>\n",
       "      <td>...</td>\n",
       "      <td>...</td>\n",
       "      <td>...</td>\n",
       "      <td>...</td>\n",
       "      <td>...</td>\n",
       "      <td>...</td>\n",
       "      <td>...</td>\n",
       "      <td>...</td>\n",
       "      <td>...</td>\n",
       "      <td>...</td>\n",
       "      <td>...</td>\n",
       "      <td>...</td>\n",
       "      <td>...</td>\n",
       "    </tr>\n",
       "    <tr>\n",
       "      <th>5797579</th>\n",
       "      <td>1243</td>\n",
       "      <td>57</td>\n",
       "      <td>0.0</td>\n",
       "      <td>0.0</td>\n",
       "      <td>16660</td>\n",
       "      <td>0</td>\n",
       "      <td>0</td>\n",
       "      <td>1514</td>\n",
       "      <td>210</td>\n",
       "      <td>0.268558</td>\n",
       "      <td>0.70</td>\n",
       "      <td>2021</td>\n",
       "      <td>0</td>\n",
       "      <td>Other Asia Pacific (BP)</td>\n",
       "    </tr>\n",
       "    <tr>\n",
       "      <th>5797580</th>\n",
       "      <td>1243</td>\n",
       "      <td>57</td>\n",
       "      <td>0.0</td>\n",
       "      <td>0.0</td>\n",
       "      <td>16660</td>\n",
       "      <td>0</td>\n",
       "      <td>0</td>\n",
       "      <td>2258</td>\n",
       "      <td>210</td>\n",
       "      <td>0.268558</td>\n",
       "      <td>0.70</td>\n",
       "      <td>2021</td>\n",
       "      <td>0</td>\n",
       "      <td>Other Asia Pacific (BP)</td>\n",
       "    </tr>\n",
       "    <tr>\n",
       "      <th>5797581</th>\n",
       "      <td>1243</td>\n",
       "      <td>57</td>\n",
       "      <td>0.0</td>\n",
       "      <td>0.0</td>\n",
       "      <td>16660</td>\n",
       "      <td>0</td>\n",
       "      <td>0</td>\n",
       "      <td>622</td>\n",
       "      <td>210</td>\n",
       "      <td>0.268558</td>\n",
       "      <td>0.70</td>\n",
       "      <td>2021</td>\n",
       "      <td>0</td>\n",
       "      <td>Other Asia Pacific (BP)</td>\n",
       "    </tr>\n",
       "    <tr>\n",
       "      <th>5797582</th>\n",
       "      <td>1243</td>\n",
       "      <td>57</td>\n",
       "      <td>0.0</td>\n",
       "      <td>0.0</td>\n",
       "      <td>16660</td>\n",
       "      <td>0</td>\n",
       "      <td>0</td>\n",
       "      <td>245</td>\n",
       "      <td>210</td>\n",
       "      <td>0.268558</td>\n",
       "      <td>0.70</td>\n",
       "      <td>2021</td>\n",
       "      <td>0</td>\n",
       "      <td>Other Asia Pacific (BP)</td>\n",
       "    </tr>\n",
       "    <tr>\n",
       "      <th>5797583</th>\n",
       "      <td>1243</td>\n",
       "      <td>57</td>\n",
       "      <td>0.0</td>\n",
       "      <td>0.0</td>\n",
       "      <td>16660</td>\n",
       "      <td>0</td>\n",
       "      <td>0</td>\n",
       "      <td>1059</td>\n",
       "      <td>210</td>\n",
       "      <td>0.268558</td>\n",
       "      <td>0.70</td>\n",
       "      <td>2021</td>\n",
       "      <td>0</td>\n",
       "      <td>Other Asia Pacific (BP)</td>\n",
       "    </tr>\n",
       "  </tbody>\n",
       "</table>\n",
       "<p>5797584 rows × 14 columns</p>\n",
       "</div>"
      ],
      "text/plain": [
       "         Id_Energia_solar  Id_anio  Consumo_solar  Produccion_solar  \\\n",
       "0                       1       25            0.0               0.3   \n",
       "1                       1       25            0.0               0.3   \n",
       "2                       2       26            0.0               0.4   \n",
       "3                       2       26            0.0               0.4   \n",
       "4                       2       26            0.0               0.4   \n",
       "...                   ...      ...            ...               ...   \n",
       "5797579              1243       57            0.0               0.0   \n",
       "5797580              1243       57            0.0               0.0   \n",
       "5797581              1243       57            0.0               0.0   \n",
       "5797582              1243       57            0.0               0.0   \n",
       "5797583              1243       57            0.0               0.0   \n",
       "\n",
       "         Instalada_solar Consumo_Eolica Produccion_Eolica  \\\n",
       "0                      0           0.02               2.1   \n",
       "1                      0              0               0.4   \n",
       "2                      0           0.03               2.8   \n",
       "3                      0           0.01               0.6   \n",
       "4                      0              0               0.1   \n",
       "...                  ...            ...               ...   \n",
       "5797579            16660              0                 0   \n",
       "5797580            16660              0                 0   \n",
       "5797581            16660              0                 0   \n",
       "5797582            16660              0                 0   \n",
       "5797583            16660              0                 0   \n",
       "\n",
       "        Capacidad_instalada_Eolica  Id_Pais  Produccion_Hidroelectrica  \\\n",
       "0                                0       44                   1.045432   \n",
       "1                                0       44                   1.045432   \n",
       "2                                0       44                   1.064511   \n",
       "3                                0       44                   1.064511   \n",
       "4                                0       44                   1.064511   \n",
       "...                            ...      ...                        ...   \n",
       "5797579                       1514      210                   0.268558   \n",
       "5797580                       2258      210                   0.268558   \n",
       "5797581                        622      210                   0.268558   \n",
       "5797582                        245      210                   0.268558   \n",
       "5797583                       1059      210                   0.268558   \n",
       "\n",
       "        Consumo_Hidroelectrica  Anio Codigo_pais                     Pais  \n",
       "0                         3.09  1989         CAN                   Canada  \n",
       "1                         3.09  1989         CAN                   Canada  \n",
       "2                         3.15  1990         CAN                   Canada  \n",
       "3                         3.15  1990         CAN                   Canada  \n",
       "4                         3.15  1990         CAN                   Canada  \n",
       "...                        ...   ...         ...                      ...  \n",
       "5797579                   0.70  2021           0  Other Asia Pacific (BP)  \n",
       "5797580                   0.70  2021           0  Other Asia Pacific (BP)  \n",
       "5797581                   0.70  2021           0  Other Asia Pacific (BP)  \n",
       "5797582                   0.70  2021           0  Other Asia Pacific (BP)  \n",
       "5797583                   0.70  2021           0  Other Asia Pacific (BP)  \n",
       "\n",
       "[5797584 rows x 14 columns]"
      ]
     },
     "execution_count": 190,
     "metadata": {},
     "output_type": "execute_result"
    }
   ],
   "source": [
    "todas80"
   ]
  },
  {
   "cell_type": "code",
   "execution_count": 191,
   "metadata": {},
   "outputs": [
    {
     "data": {
      "text/html": [
       "<div>\n",
       "<style scoped>\n",
       "    .dataframe tbody tr th:only-of-type {\n",
       "        vertical-align: middle;\n",
       "    }\n",
       "\n",
       "    .dataframe tbody tr th {\n",
       "        vertical-align: top;\n",
       "    }\n",
       "\n",
       "    .dataframe thead th {\n",
       "        text-align: right;\n",
       "    }\n",
       "</style>\n",
       "<table border=\"1\" class=\"dataframe\">\n",
       "  <thead>\n",
       "    <tr style=\"text-align: right;\">\n",
       "      <th></th>\n",
       "      <th>Id_Energia_solar</th>\n",
       "      <th>Id_anio</th>\n",
       "      <th>Consumo_solar</th>\n",
       "      <th>Produccion_solar</th>\n",
       "      <th>Instalada_solar</th>\n",
       "      <th>Consumo_Eolica</th>\n",
       "      <th>Produccion_Eolica</th>\n",
       "      <th>Capacidad_instalada_Eolica</th>\n",
       "      <th>Id_Pais</th>\n",
       "      <th>Produccion_Hidroelectrica</th>\n",
       "      <th>Consumo_Hidroelectrica</th>\n",
       "      <th>Anio</th>\n",
       "      <th>Codigo_pais</th>\n",
       "      <th>Pais</th>\n",
       "    </tr>\n",
       "  </thead>\n",
       "  <tbody>\n",
       "    <tr>\n",
       "      <th>0</th>\n",
       "      <td>1</td>\n",
       "      <td>25</td>\n",
       "      <td>0.0</td>\n",
       "      <td>0.3</td>\n",
       "      <td>0</td>\n",
       "      <td>0.02</td>\n",
       "      <td>2.1</td>\n",
       "      <td>0</td>\n",
       "      <td>44</td>\n",
       "      <td>1.045432</td>\n",
       "      <td>3.09</td>\n",
       "      <td>1989</td>\n",
       "      <td>CAN</td>\n",
       "      <td>Canada</td>\n",
       "    </tr>\n",
       "    <tr>\n",
       "      <th>1</th>\n",
       "      <td>1</td>\n",
       "      <td>25</td>\n",
       "      <td>0.0</td>\n",
       "      <td>0.3</td>\n",
       "      <td>0</td>\n",
       "      <td>0</td>\n",
       "      <td>0.4</td>\n",
       "      <td>0</td>\n",
       "      <td>44</td>\n",
       "      <td>1.045432</td>\n",
       "      <td>3.09</td>\n",
       "      <td>1989</td>\n",
       "      <td>CAN</td>\n",
       "      <td>Canada</td>\n",
       "    </tr>\n",
       "    <tr>\n",
       "      <th>2</th>\n",
       "      <td>2</td>\n",
       "      <td>26</td>\n",
       "      <td>0.0</td>\n",
       "      <td>0.4</td>\n",
       "      <td>0</td>\n",
       "      <td>0.03</td>\n",
       "      <td>2.8</td>\n",
       "      <td>0</td>\n",
       "      <td>44</td>\n",
       "      <td>1.064511</td>\n",
       "      <td>3.15</td>\n",
       "      <td>1990</td>\n",
       "      <td>CAN</td>\n",
       "      <td>Canada</td>\n",
       "    </tr>\n",
       "    <tr>\n",
       "      <th>3</th>\n",
       "      <td>2</td>\n",
       "      <td>26</td>\n",
       "      <td>0.0</td>\n",
       "      <td>0.4</td>\n",
       "      <td>0</td>\n",
       "      <td>0.01</td>\n",
       "      <td>0.6</td>\n",
       "      <td>0</td>\n",
       "      <td>44</td>\n",
       "      <td>1.064511</td>\n",
       "      <td>3.15</td>\n",
       "      <td>1990</td>\n",
       "      <td>CAN</td>\n",
       "      <td>Canada</td>\n",
       "    </tr>\n",
       "    <tr>\n",
       "      <th>4</th>\n",
       "      <td>2</td>\n",
       "      <td>26</td>\n",
       "      <td>0.0</td>\n",
       "      <td>0.4</td>\n",
       "      <td>0</td>\n",
       "      <td>0</td>\n",
       "      <td>0.1</td>\n",
       "      <td>0</td>\n",
       "      <td>44</td>\n",
       "      <td>1.064511</td>\n",
       "      <td>3.15</td>\n",
       "      <td>1990</td>\n",
       "      <td>CAN</td>\n",
       "      <td>Canada</td>\n",
       "    </tr>\n",
       "    <tr>\n",
       "      <th>...</th>\n",
       "      <td>...</td>\n",
       "      <td>...</td>\n",
       "      <td>...</td>\n",
       "      <td>...</td>\n",
       "      <td>...</td>\n",
       "      <td>...</td>\n",
       "      <td>...</td>\n",
       "      <td>...</td>\n",
       "      <td>...</td>\n",
       "      <td>...</td>\n",
       "      <td>...</td>\n",
       "      <td>...</td>\n",
       "      <td>...</td>\n",
       "      <td>...</td>\n",
       "    </tr>\n",
       "    <tr>\n",
       "      <th>5717057</th>\n",
       "      <td>1243</td>\n",
       "      <td>57</td>\n",
       "      <td>0.0</td>\n",
       "      <td>0.0</td>\n",
       "      <td>16660</td>\n",
       "      <td>0</td>\n",
       "      <td>0</td>\n",
       "      <td>1514</td>\n",
       "      <td>304</td>\n",
       "      <td>0.273238</td>\n",
       "      <td>0.71</td>\n",
       "      <td>2021</td>\n",
       "      <td>VNM</td>\n",
       "      <td>Vietnam</td>\n",
       "    </tr>\n",
       "    <tr>\n",
       "      <th>5717058</th>\n",
       "      <td>1243</td>\n",
       "      <td>57</td>\n",
       "      <td>0.0</td>\n",
       "      <td>0.0</td>\n",
       "      <td>16660</td>\n",
       "      <td>0</td>\n",
       "      <td>0</td>\n",
       "      <td>2258</td>\n",
       "      <td>304</td>\n",
       "      <td>0.273238</td>\n",
       "      <td>0.71</td>\n",
       "      <td>2021</td>\n",
       "      <td>VNM</td>\n",
       "      <td>Vietnam</td>\n",
       "    </tr>\n",
       "    <tr>\n",
       "      <th>5717059</th>\n",
       "      <td>1243</td>\n",
       "      <td>57</td>\n",
       "      <td>0.0</td>\n",
       "      <td>0.0</td>\n",
       "      <td>16660</td>\n",
       "      <td>0</td>\n",
       "      <td>0</td>\n",
       "      <td>622</td>\n",
       "      <td>304</td>\n",
       "      <td>0.273238</td>\n",
       "      <td>0.71</td>\n",
       "      <td>2021</td>\n",
       "      <td>VNM</td>\n",
       "      <td>Vietnam</td>\n",
       "    </tr>\n",
       "    <tr>\n",
       "      <th>5717060</th>\n",
       "      <td>1243</td>\n",
       "      <td>57</td>\n",
       "      <td>0.0</td>\n",
       "      <td>0.0</td>\n",
       "      <td>16660</td>\n",
       "      <td>0</td>\n",
       "      <td>0</td>\n",
       "      <td>245</td>\n",
       "      <td>304</td>\n",
       "      <td>0.273238</td>\n",
       "      <td>0.71</td>\n",
       "      <td>2021</td>\n",
       "      <td>VNM</td>\n",
       "      <td>Vietnam</td>\n",
       "    </tr>\n",
       "    <tr>\n",
       "      <th>5717061</th>\n",
       "      <td>1243</td>\n",
       "      <td>57</td>\n",
       "      <td>0.0</td>\n",
       "      <td>0.0</td>\n",
       "      <td>16660</td>\n",
       "      <td>0</td>\n",
       "      <td>0</td>\n",
       "      <td>1059</td>\n",
       "      <td>304</td>\n",
       "      <td>0.273238</td>\n",
       "      <td>0.71</td>\n",
       "      <td>2021</td>\n",
       "      <td>VNM</td>\n",
       "      <td>Vietnam</td>\n",
       "    </tr>\n",
       "  </tbody>\n",
       "</table>\n",
       "<p>5717062 rows × 14 columns</p>\n",
       "</div>"
      ],
      "text/plain": [
       "         Id_Energia_solar  Id_anio  Consumo_solar  Produccion_solar  \\\n",
       "0                       1       25            0.0               0.3   \n",
       "1                       1       25            0.0               0.3   \n",
       "2                       2       26            0.0               0.4   \n",
       "3                       2       26            0.0               0.4   \n",
       "4                       2       26            0.0               0.4   \n",
       "...                   ...      ...            ...               ...   \n",
       "5717057              1243       57            0.0               0.0   \n",
       "5717058              1243       57            0.0               0.0   \n",
       "5717059              1243       57            0.0               0.0   \n",
       "5717060              1243       57            0.0               0.0   \n",
       "5717061              1243       57            0.0               0.0   \n",
       "\n",
       "         Instalada_solar Consumo_Eolica Produccion_Eolica  \\\n",
       "0                      0           0.02               2.1   \n",
       "1                      0              0               0.4   \n",
       "2                      0           0.03               2.8   \n",
       "3                      0           0.01               0.6   \n",
       "4                      0              0               0.1   \n",
       "...                  ...            ...               ...   \n",
       "5717057            16660              0                 0   \n",
       "5717058            16660              0                 0   \n",
       "5717059            16660              0                 0   \n",
       "5717060            16660              0                 0   \n",
       "5717061            16660              0                 0   \n",
       "\n",
       "        Capacidad_instalada_Eolica  Id_Pais  Produccion_Hidroelectrica  \\\n",
       "0                                0       44                   1.045432   \n",
       "1                                0       44                   1.045432   \n",
       "2                                0       44                   1.064511   \n",
       "3                                0       44                   1.064511   \n",
       "4                                0       44                   1.064511   \n",
       "...                            ...      ...                        ...   \n",
       "5717057                       1514      304                   0.273238   \n",
       "5717058                       2258      304                   0.273238   \n",
       "5717059                        622      304                   0.273238   \n",
       "5717060                        245      304                   0.273238   \n",
       "5717061                       1059      304                   0.273238   \n",
       "\n",
       "        Consumo_Hidroelectrica  Anio Codigo_pais     Pais  \n",
       "0                         3.09  1989         CAN   Canada  \n",
       "1                         3.09  1989         CAN   Canada  \n",
       "2                         3.15  1990         CAN   Canada  \n",
       "3                         3.15  1990         CAN   Canada  \n",
       "4                         3.15  1990         CAN   Canada  \n",
       "...                        ...   ...         ...      ...  \n",
       "5717057                   0.71  2021         VNM  Vietnam  \n",
       "5717058                   0.71  2021         VNM  Vietnam  \n",
       "5717059                   0.71  2021         VNM  Vietnam  \n",
       "5717060                   0.71  2021         VNM  Vietnam  \n",
       "5717061                   0.71  2021         VNM  Vietnam  \n",
       "\n",
       "[5717062 rows x 14 columns]"
      ]
     },
     "execution_count": 191,
     "metadata": {},
     "output_type": "execute_result"
    }
   ],
   "source": [
    "indexN=todas80[todas80['Pais']=='Other Asia Pacific (BP)'].index\n",
    "todas80.drop(indexN, inplace=True)\n",
    "todas80"
   ]
  },
  {
   "cell_type": "code",
   "execution_count": 180,
   "metadata": {},
   "outputs": [
    {
     "data": {
      "text/plain": [
       "array(['Canada', 'Mexico', 'United States', 'Argentina', 'Brazil',\n",
       "       'Chile', 'Colombia', 'Ecuador', 'Peru', 'Venezuela',\n",
       "       'Other South and Central America (BP)', 'Other Caribbean (BP)',\n",
       "       'Other South America (BP)', 'Austria', 'Belgium', 'Bulgaria',\n",
       "       'Croatia', 'Cyprus', 'Czechia', 'Denmark', 'Estonia', 'Finland',\n",
       "       'France', 'Germany', 'Greece', 'Hungary', 'Ireland', 'Italy',\n",
       "       'Latvia', 'Lithuania', 'Luxembourg', 'Netherlands',\n",
       "       'North Macedonia', 'Norway', 'Poland', 'Portugal', 'Romania',\n",
       "       'Spain', 'Sweden', 'Switzerland', 'Turkey', 'Ukraine',\n",
       "       'United Kingdom', 'Other Europe (BP)', 'Azerbaijan', 'Belarus',\n",
       "       'Kazakhstan', 'Russia', 'Other CIS (BP)', 'Iran', 'Oman',\n",
       "       'Other Middle East (BP)', 'Egypt', 'Morocco', 'South Africa',\n",
       "       'Eastern Africa (BP)', 'Other Western Africa (BP)',\n",
       "       'Other Northern Africa (BP)', 'Australia', 'China', 'India',\n",
       "       'Indonesia', 'Japan', 'New Zealand', 'Pakistan', 'Philippines',\n",
       "       'South Korea', 'Sri Lanka', 'Taiwan', 'Thailand', 'Vietnam'],\n",
       "      dtype=object)"
      ]
     },
     "execution_count": 180,
     "metadata": {},
     "output_type": "execute_result"
    }
   ],
   "source": [
    "todas80['Pais'].unique()"
   ]
  },
  {
   "cell_type": "code",
   "execution_count": 192,
   "metadata": {},
   "outputs": [
    {
     "data": {
      "text/html": [
       "<div>\n",
       "<style scoped>\n",
       "    .dataframe tbody tr th:only-of-type {\n",
       "        vertical-align: middle;\n",
       "    }\n",
       "\n",
       "    .dataframe tbody tr th {\n",
       "        vertical-align: top;\n",
       "    }\n",
       "\n",
       "    .dataframe thead th {\n",
       "        text-align: right;\n",
       "    }\n",
       "</style>\n",
       "<table border=\"1\" class=\"dataframe\">\n",
       "  <thead>\n",
       "    <tr style=\"text-align: right;\">\n",
       "      <th></th>\n",
       "      <th>Id_Energia_solar</th>\n",
       "      <th>Id_anio</th>\n",
       "      <th>Consumo_solar</th>\n",
       "      <th>Produccion_solar</th>\n",
       "      <th>Instalada_solar</th>\n",
       "      <th>Consumo_Eolica</th>\n",
       "      <th>Produccion_Eolica</th>\n",
       "      <th>Capacidad_instalada_Eolica</th>\n",
       "      <th>Id_Pais</th>\n",
       "      <th>Produccion_Hidroelectrica</th>\n",
       "      <th>Consumo_Hidroelectrica</th>\n",
       "      <th>Anio</th>\n",
       "      <th>Codigo_pais</th>\n",
       "      <th>Pais</th>\n",
       "    </tr>\n",
       "  </thead>\n",
       "  <tbody>\n",
       "    <tr>\n",
       "      <th>0</th>\n",
       "      <td>1</td>\n",
       "      <td>25</td>\n",
       "      <td>0.0</td>\n",
       "      <td>0.3</td>\n",
       "      <td>0</td>\n",
       "      <td>0.02</td>\n",
       "      <td>2.1</td>\n",
       "      <td>0</td>\n",
       "      <td>44</td>\n",
       "      <td>1.045432</td>\n",
       "      <td>3.09</td>\n",
       "      <td>1989</td>\n",
       "      <td>CAN</td>\n",
       "      <td>Canada</td>\n",
       "    </tr>\n",
       "    <tr>\n",
       "      <th>1</th>\n",
       "      <td>1</td>\n",
       "      <td>25</td>\n",
       "      <td>0.0</td>\n",
       "      <td>0.3</td>\n",
       "      <td>0</td>\n",
       "      <td>0</td>\n",
       "      <td>0.4</td>\n",
       "      <td>0</td>\n",
       "      <td>44</td>\n",
       "      <td>1.045432</td>\n",
       "      <td>3.09</td>\n",
       "      <td>1989</td>\n",
       "      <td>CAN</td>\n",
       "      <td>Canada</td>\n",
       "    </tr>\n",
       "    <tr>\n",
       "      <th>2</th>\n",
       "      <td>2</td>\n",
       "      <td>26</td>\n",
       "      <td>0.0</td>\n",
       "      <td>0.4</td>\n",
       "      <td>0</td>\n",
       "      <td>0.03</td>\n",
       "      <td>2.8</td>\n",
       "      <td>0</td>\n",
       "      <td>44</td>\n",
       "      <td>1.064511</td>\n",
       "      <td>3.15</td>\n",
       "      <td>1990</td>\n",
       "      <td>CAN</td>\n",
       "      <td>Canada</td>\n",
       "    </tr>\n",
       "    <tr>\n",
       "      <th>3</th>\n",
       "      <td>2</td>\n",
       "      <td>26</td>\n",
       "      <td>0.0</td>\n",
       "      <td>0.4</td>\n",
       "      <td>0</td>\n",
       "      <td>0.01</td>\n",
       "      <td>0.6</td>\n",
       "      <td>0</td>\n",
       "      <td>44</td>\n",
       "      <td>1.064511</td>\n",
       "      <td>3.15</td>\n",
       "      <td>1990</td>\n",
       "      <td>CAN</td>\n",
       "      <td>Canada</td>\n",
       "    </tr>\n",
       "    <tr>\n",
       "      <th>4</th>\n",
       "      <td>2</td>\n",
       "      <td>26</td>\n",
       "      <td>0.0</td>\n",
       "      <td>0.4</td>\n",
       "      <td>0</td>\n",
       "      <td>0</td>\n",
       "      <td>0.1</td>\n",
       "      <td>0</td>\n",
       "      <td>44</td>\n",
       "      <td>1.064511</td>\n",
       "      <td>3.15</td>\n",
       "      <td>1990</td>\n",
       "      <td>CAN</td>\n",
       "      <td>Canada</td>\n",
       "    </tr>\n",
       "    <tr>\n",
       "      <th>...</th>\n",
       "      <td>...</td>\n",
       "      <td>...</td>\n",
       "      <td>...</td>\n",
       "      <td>...</td>\n",
       "      <td>...</td>\n",
       "      <td>...</td>\n",
       "      <td>...</td>\n",
       "      <td>...</td>\n",
       "      <td>...</td>\n",
       "      <td>...</td>\n",
       "      <td>...</td>\n",
       "      <td>...</td>\n",
       "      <td>...</td>\n",
       "      <td>...</td>\n",
       "    </tr>\n",
       "    <tr>\n",
       "      <th>5717057</th>\n",
       "      <td>1243</td>\n",
       "      <td>57</td>\n",
       "      <td>0.0</td>\n",
       "      <td>0.0</td>\n",
       "      <td>16660</td>\n",
       "      <td>0</td>\n",
       "      <td>0</td>\n",
       "      <td>1514</td>\n",
       "      <td>304</td>\n",
       "      <td>0.273238</td>\n",
       "      <td>0.71</td>\n",
       "      <td>2021</td>\n",
       "      <td>VNM</td>\n",
       "      <td>Vietnam</td>\n",
       "    </tr>\n",
       "    <tr>\n",
       "      <th>5717058</th>\n",
       "      <td>1243</td>\n",
       "      <td>57</td>\n",
       "      <td>0.0</td>\n",
       "      <td>0.0</td>\n",
       "      <td>16660</td>\n",
       "      <td>0</td>\n",
       "      <td>0</td>\n",
       "      <td>2258</td>\n",
       "      <td>304</td>\n",
       "      <td>0.273238</td>\n",
       "      <td>0.71</td>\n",
       "      <td>2021</td>\n",
       "      <td>VNM</td>\n",
       "      <td>Vietnam</td>\n",
       "    </tr>\n",
       "    <tr>\n",
       "      <th>5717059</th>\n",
       "      <td>1243</td>\n",
       "      <td>57</td>\n",
       "      <td>0.0</td>\n",
       "      <td>0.0</td>\n",
       "      <td>16660</td>\n",
       "      <td>0</td>\n",
       "      <td>0</td>\n",
       "      <td>622</td>\n",
       "      <td>304</td>\n",
       "      <td>0.273238</td>\n",
       "      <td>0.71</td>\n",
       "      <td>2021</td>\n",
       "      <td>VNM</td>\n",
       "      <td>Vietnam</td>\n",
       "    </tr>\n",
       "    <tr>\n",
       "      <th>5717060</th>\n",
       "      <td>1243</td>\n",
       "      <td>57</td>\n",
       "      <td>0.0</td>\n",
       "      <td>0.0</td>\n",
       "      <td>16660</td>\n",
       "      <td>0</td>\n",
       "      <td>0</td>\n",
       "      <td>245</td>\n",
       "      <td>304</td>\n",
       "      <td>0.273238</td>\n",
       "      <td>0.71</td>\n",
       "      <td>2021</td>\n",
       "      <td>VNM</td>\n",
       "      <td>Vietnam</td>\n",
       "    </tr>\n",
       "    <tr>\n",
       "      <th>5717061</th>\n",
       "      <td>1243</td>\n",
       "      <td>57</td>\n",
       "      <td>0.0</td>\n",
       "      <td>0.0</td>\n",
       "      <td>16660</td>\n",
       "      <td>0</td>\n",
       "      <td>0</td>\n",
       "      <td>1059</td>\n",
       "      <td>304</td>\n",
       "      <td>0.273238</td>\n",
       "      <td>0.71</td>\n",
       "      <td>2021</td>\n",
       "      <td>VNM</td>\n",
       "      <td>Vietnam</td>\n",
       "    </tr>\n",
       "  </tbody>\n",
       "</table>\n",
       "<p>5636540 rows × 14 columns</p>\n",
       "</div>"
      ],
      "text/plain": [
       "         Id_Energia_solar  Id_anio  Consumo_solar  Produccion_solar  \\\n",
       "0                       1       25            0.0               0.3   \n",
       "1                       1       25            0.0               0.3   \n",
       "2                       2       26            0.0               0.4   \n",
       "3                       2       26            0.0               0.4   \n",
       "4                       2       26            0.0               0.4   \n",
       "...                   ...      ...            ...               ...   \n",
       "5717057              1243       57            0.0               0.0   \n",
       "5717058              1243       57            0.0               0.0   \n",
       "5717059              1243       57            0.0               0.0   \n",
       "5717060              1243       57            0.0               0.0   \n",
       "5717061              1243       57            0.0               0.0   \n",
       "\n",
       "         Instalada_solar Consumo_Eolica Produccion_Eolica  \\\n",
       "0                      0           0.02               2.1   \n",
       "1                      0              0               0.4   \n",
       "2                      0           0.03               2.8   \n",
       "3                      0           0.01               0.6   \n",
       "4                      0              0               0.1   \n",
       "...                  ...            ...               ...   \n",
       "5717057            16660              0                 0   \n",
       "5717058            16660              0                 0   \n",
       "5717059            16660              0                 0   \n",
       "5717060            16660              0                 0   \n",
       "5717061            16660              0                 0   \n",
       "\n",
       "        Capacidad_instalada_Eolica  Id_Pais  Produccion_Hidroelectrica  \\\n",
       "0                                0       44                   1.045432   \n",
       "1                                0       44                   1.045432   \n",
       "2                                0       44                   1.064511   \n",
       "3                                0       44                   1.064511   \n",
       "4                                0       44                   1.064511   \n",
       "...                            ...      ...                        ...   \n",
       "5717057                       1514      304                   0.273238   \n",
       "5717058                       2258      304                   0.273238   \n",
       "5717059                        622      304                   0.273238   \n",
       "5717060                        245      304                   0.273238   \n",
       "5717061                       1059      304                   0.273238   \n",
       "\n",
       "        Consumo_Hidroelectrica  Anio Codigo_pais     Pais  \n",
       "0                         3.09  1989         CAN   Canada  \n",
       "1                         3.09  1989         CAN   Canada  \n",
       "2                         3.15  1990         CAN   Canada  \n",
       "3                         3.15  1990         CAN   Canada  \n",
       "4                         3.15  1990         CAN   Canada  \n",
       "...                        ...   ...         ...      ...  \n",
       "5717057                   0.71  2021         VNM  Vietnam  \n",
       "5717058                   0.71  2021         VNM  Vietnam  \n",
       "5717059                   0.71  2021         VNM  Vietnam  \n",
       "5717060                   0.71  2021         VNM  Vietnam  \n",
       "5717061                   0.71  2021         VNM  Vietnam  \n",
       "\n",
       "[5636540 rows x 14 columns]"
      ]
     },
     "execution_count": 192,
     "metadata": {},
     "output_type": "execute_result"
    }
   ],
   "source": [
    "indexN=todas80[todas80['Pais']=='Other Europe (BP)'].index\n",
    "todas80.drop(indexN, inplace=True)\n",
    "todas80"
   ]
  },
  {
   "cell_type": "code",
   "execution_count": 193,
   "metadata": {},
   "outputs": [
    {
     "data": {
      "text/html": [
       "<div>\n",
       "<style scoped>\n",
       "    .dataframe tbody tr th:only-of-type {\n",
       "        vertical-align: middle;\n",
       "    }\n",
       "\n",
       "    .dataframe tbody tr th {\n",
       "        vertical-align: top;\n",
       "    }\n",
       "\n",
       "    .dataframe thead th {\n",
       "        text-align: right;\n",
       "    }\n",
       "</style>\n",
       "<table border=\"1\" class=\"dataframe\">\n",
       "  <thead>\n",
       "    <tr style=\"text-align: right;\">\n",
       "      <th></th>\n",
       "      <th>Id_Energia_solar</th>\n",
       "      <th>Id_anio</th>\n",
       "      <th>Consumo_solar</th>\n",
       "      <th>Produccion_solar</th>\n",
       "      <th>Instalada_solar</th>\n",
       "      <th>Consumo_Eolica</th>\n",
       "      <th>Produccion_Eolica</th>\n",
       "      <th>Capacidad_instalada_Eolica</th>\n",
       "      <th>Id_Pais</th>\n",
       "      <th>Produccion_Hidroelectrica</th>\n",
       "      <th>Consumo_Hidroelectrica</th>\n",
       "      <th>Anio</th>\n",
       "      <th>Codigo_pais</th>\n",
       "      <th>Pais</th>\n",
       "    </tr>\n",
       "  </thead>\n",
       "  <tbody>\n",
       "    <tr>\n",
       "      <th>0</th>\n",
       "      <td>1</td>\n",
       "      <td>25</td>\n",
       "      <td>0.0</td>\n",
       "      <td>0.3</td>\n",
       "      <td>0</td>\n",
       "      <td>0.02</td>\n",
       "      <td>2.1</td>\n",
       "      <td>0</td>\n",
       "      <td>44</td>\n",
       "      <td>1.045432</td>\n",
       "      <td>3.09</td>\n",
       "      <td>1989</td>\n",
       "      <td>CAN</td>\n",
       "      <td>Canada</td>\n",
       "    </tr>\n",
       "    <tr>\n",
       "      <th>1</th>\n",
       "      <td>1</td>\n",
       "      <td>25</td>\n",
       "      <td>0.0</td>\n",
       "      <td>0.3</td>\n",
       "      <td>0</td>\n",
       "      <td>0</td>\n",
       "      <td>0.4</td>\n",
       "      <td>0</td>\n",
       "      <td>44</td>\n",
       "      <td>1.045432</td>\n",
       "      <td>3.09</td>\n",
       "      <td>1989</td>\n",
       "      <td>CAN</td>\n",
       "      <td>Canada</td>\n",
       "    </tr>\n",
       "    <tr>\n",
       "      <th>2</th>\n",
       "      <td>2</td>\n",
       "      <td>26</td>\n",
       "      <td>0.0</td>\n",
       "      <td>0.4</td>\n",
       "      <td>0</td>\n",
       "      <td>0.03</td>\n",
       "      <td>2.8</td>\n",
       "      <td>0</td>\n",
       "      <td>44</td>\n",
       "      <td>1.064511</td>\n",
       "      <td>3.15</td>\n",
       "      <td>1990</td>\n",
       "      <td>CAN</td>\n",
       "      <td>Canada</td>\n",
       "    </tr>\n",
       "    <tr>\n",
       "      <th>3</th>\n",
       "      <td>2</td>\n",
       "      <td>26</td>\n",
       "      <td>0.0</td>\n",
       "      <td>0.4</td>\n",
       "      <td>0</td>\n",
       "      <td>0.01</td>\n",
       "      <td>0.6</td>\n",
       "      <td>0</td>\n",
       "      <td>44</td>\n",
       "      <td>1.064511</td>\n",
       "      <td>3.15</td>\n",
       "      <td>1990</td>\n",
       "      <td>CAN</td>\n",
       "      <td>Canada</td>\n",
       "    </tr>\n",
       "    <tr>\n",
       "      <th>4</th>\n",
       "      <td>2</td>\n",
       "      <td>26</td>\n",
       "      <td>0.0</td>\n",
       "      <td>0.4</td>\n",
       "      <td>0</td>\n",
       "      <td>0</td>\n",
       "      <td>0.1</td>\n",
       "      <td>0</td>\n",
       "      <td>44</td>\n",
       "      <td>1.064511</td>\n",
       "      <td>3.15</td>\n",
       "      <td>1990</td>\n",
       "      <td>CAN</td>\n",
       "      <td>Canada</td>\n",
       "    </tr>\n",
       "    <tr>\n",
       "      <th>...</th>\n",
       "      <td>...</td>\n",
       "      <td>...</td>\n",
       "      <td>...</td>\n",
       "      <td>...</td>\n",
       "      <td>...</td>\n",
       "      <td>...</td>\n",
       "      <td>...</td>\n",
       "      <td>...</td>\n",
       "      <td>...</td>\n",
       "      <td>...</td>\n",
       "      <td>...</td>\n",
       "      <td>...</td>\n",
       "      <td>...</td>\n",
       "      <td>...</td>\n",
       "    </tr>\n",
       "    <tr>\n",
       "      <th>5717057</th>\n",
       "      <td>1243</td>\n",
       "      <td>57</td>\n",
       "      <td>0.0</td>\n",
       "      <td>0.0</td>\n",
       "      <td>16660</td>\n",
       "      <td>0</td>\n",
       "      <td>0</td>\n",
       "      <td>1514</td>\n",
       "      <td>304</td>\n",
       "      <td>0.273238</td>\n",
       "      <td>0.71</td>\n",
       "      <td>2021</td>\n",
       "      <td>VNM</td>\n",
       "      <td>Vietnam</td>\n",
       "    </tr>\n",
       "    <tr>\n",
       "      <th>5717058</th>\n",
       "      <td>1243</td>\n",
       "      <td>57</td>\n",
       "      <td>0.0</td>\n",
       "      <td>0.0</td>\n",
       "      <td>16660</td>\n",
       "      <td>0</td>\n",
       "      <td>0</td>\n",
       "      <td>2258</td>\n",
       "      <td>304</td>\n",
       "      <td>0.273238</td>\n",
       "      <td>0.71</td>\n",
       "      <td>2021</td>\n",
       "      <td>VNM</td>\n",
       "      <td>Vietnam</td>\n",
       "    </tr>\n",
       "    <tr>\n",
       "      <th>5717059</th>\n",
       "      <td>1243</td>\n",
       "      <td>57</td>\n",
       "      <td>0.0</td>\n",
       "      <td>0.0</td>\n",
       "      <td>16660</td>\n",
       "      <td>0</td>\n",
       "      <td>0</td>\n",
       "      <td>622</td>\n",
       "      <td>304</td>\n",
       "      <td>0.273238</td>\n",
       "      <td>0.71</td>\n",
       "      <td>2021</td>\n",
       "      <td>VNM</td>\n",
       "      <td>Vietnam</td>\n",
       "    </tr>\n",
       "    <tr>\n",
       "      <th>5717060</th>\n",
       "      <td>1243</td>\n",
       "      <td>57</td>\n",
       "      <td>0.0</td>\n",
       "      <td>0.0</td>\n",
       "      <td>16660</td>\n",
       "      <td>0</td>\n",
       "      <td>0</td>\n",
       "      <td>245</td>\n",
       "      <td>304</td>\n",
       "      <td>0.273238</td>\n",
       "      <td>0.71</td>\n",
       "      <td>2021</td>\n",
       "      <td>VNM</td>\n",
       "      <td>Vietnam</td>\n",
       "    </tr>\n",
       "    <tr>\n",
       "      <th>5717061</th>\n",
       "      <td>1243</td>\n",
       "      <td>57</td>\n",
       "      <td>0.0</td>\n",
       "      <td>0.0</td>\n",
       "      <td>16660</td>\n",
       "      <td>0</td>\n",
       "      <td>0</td>\n",
       "      <td>1059</td>\n",
       "      <td>304</td>\n",
       "      <td>0.273238</td>\n",
       "      <td>0.71</td>\n",
       "      <td>2021</td>\n",
       "      <td>VNM</td>\n",
       "      <td>Vietnam</td>\n",
       "    </tr>\n",
       "  </tbody>\n",
       "</table>\n",
       "<p>5314452 rows × 14 columns</p>\n",
       "</div>"
      ],
      "text/plain": [
       "         Id_Energia_solar  Id_anio  Consumo_solar  Produccion_solar  \\\n",
       "0                       1       25            0.0               0.3   \n",
       "1                       1       25            0.0               0.3   \n",
       "2                       2       26            0.0               0.4   \n",
       "3                       2       26            0.0               0.4   \n",
       "4                       2       26            0.0               0.4   \n",
       "...                   ...      ...            ...               ...   \n",
       "5717057              1243       57            0.0               0.0   \n",
       "5717058              1243       57            0.0               0.0   \n",
       "5717059              1243       57            0.0               0.0   \n",
       "5717060              1243       57            0.0               0.0   \n",
       "5717061              1243       57            0.0               0.0   \n",
       "\n",
       "         Instalada_solar Consumo_Eolica Produccion_Eolica  \\\n",
       "0                      0           0.02               2.1   \n",
       "1                      0              0               0.4   \n",
       "2                      0           0.03               2.8   \n",
       "3                      0           0.01               0.6   \n",
       "4                      0              0               0.1   \n",
       "...                  ...            ...               ...   \n",
       "5717057            16660              0                 0   \n",
       "5717058            16660              0                 0   \n",
       "5717059            16660              0                 0   \n",
       "5717060            16660              0                 0   \n",
       "5717061            16660              0                 0   \n",
       "\n",
       "        Capacidad_instalada_Eolica  Id_Pais  Produccion_Hidroelectrica  \\\n",
       "0                                0       44                   1.045432   \n",
       "1                                0       44                   1.045432   \n",
       "2                                0       44                   1.064511   \n",
       "3                                0       44                   1.064511   \n",
       "4                                0       44                   1.064511   \n",
       "...                            ...      ...                        ...   \n",
       "5717057                       1514      304                   0.273238   \n",
       "5717058                       2258      304                   0.273238   \n",
       "5717059                        622      304                   0.273238   \n",
       "5717060                        245      304                   0.273238   \n",
       "5717061                       1059      304                   0.273238   \n",
       "\n",
       "        Consumo_Hidroelectrica  Anio Codigo_pais     Pais  \n",
       "0                         3.09  1989         CAN   Canada  \n",
       "1                         3.09  1989         CAN   Canada  \n",
       "2                         3.15  1990         CAN   Canada  \n",
       "3                         3.15  1990         CAN   Canada  \n",
       "4                         3.15  1990         CAN   Canada  \n",
       "...                        ...   ...         ...      ...  \n",
       "5717057                   0.71  2021         VNM  Vietnam  \n",
       "5717058                   0.71  2021         VNM  Vietnam  \n",
       "5717059                   0.71  2021         VNM  Vietnam  \n",
       "5717060                   0.71  2021         VNM  Vietnam  \n",
       "5717061                   0.71  2021         VNM  Vietnam  \n",
       "\n",
       "[5314452 rows x 14 columns]"
      ]
     },
     "execution_count": 193,
     "metadata": {},
     "output_type": "execute_result"
    }
   ],
   "source": [
    "indexN=todas80[todas80['Pais']=='Other CIS (BP)'].index\n",
    "todas80.drop(indexN, inplace=True)\n",
    "indexN=todas80[todas80['Pais']=='Other Middle East (BP)'].index\n",
    "todas80.drop(indexN, inplace=True)\n",
    "indexN=todas80[todas80['Pais']=='Other Western Africa (BP)'].index\n",
    "todas80.drop(indexN, inplace=True)\n",
    "indexN=todas80[todas80['Pais']=='Other Northern Africa (BP)'].index\n",
    "todas80.drop(indexN, inplace=True)\n",
    "\n",
    "todas80"
   ]
  },
  {
   "cell_type": "code",
   "execution_count": 183,
   "metadata": {},
   "outputs": [
    {
     "data": {
      "text/plain": [
       "array(['Canada', 'Mexico', 'United States', 'Argentina', 'Brazil',\n",
       "       'Chile', 'Colombia', 'Ecuador', 'Peru', 'Venezuela',\n",
       "       'Other South and Central America (BP)', 'Other Caribbean (BP)',\n",
       "       'Other South America (BP)', 'Austria', 'Belgium', 'Bulgaria',\n",
       "       'Croatia', 'Cyprus', 'Czechia', 'Denmark', 'Estonia', 'Finland',\n",
       "       'France', 'Germany', 'Greece', 'Hungary', 'Ireland', 'Italy',\n",
       "       'Latvia', 'Lithuania', 'Luxembourg', 'Netherlands',\n",
       "       'North Macedonia', 'Norway', 'Poland', 'Portugal', 'Romania',\n",
       "       'Spain', 'Sweden', 'Switzerland', 'Turkey', 'Ukraine',\n",
       "       'United Kingdom', 'Azerbaijan', 'Belarus', 'Kazakhstan', 'Russia',\n",
       "       'Iran', 'Oman', 'Egypt', 'Morocco', 'South Africa',\n",
       "       'Eastern Africa (BP)', 'Australia', 'China', 'India', 'Indonesia',\n",
       "       'Japan', 'New Zealand', 'Pakistan', 'Philippines', 'South Korea',\n",
       "       'Sri Lanka', 'Taiwan', 'Thailand', 'Vietnam'], dtype=object)"
      ]
     },
     "execution_count": 183,
     "metadata": {},
     "output_type": "execute_result"
    }
   ],
   "source": [
    "todas80['Pais'].unique()"
   ]
  },
  {
   "cell_type": "code",
   "execution_count": 207,
   "metadata": {},
   "outputs": [
    {
     "data": {
      "text/html": [
       "<div>\n",
       "<style scoped>\n",
       "    .dataframe tbody tr th:only-of-type {\n",
       "        vertical-align: middle;\n",
       "    }\n",
       "\n",
       "    .dataframe tbody tr th {\n",
       "        vertical-align: top;\n",
       "    }\n",
       "\n",
       "    .dataframe thead th {\n",
       "        text-align: right;\n",
       "    }\n",
       "</style>\n",
       "<table border=\"1\" class=\"dataframe\">\n",
       "  <thead>\n",
       "    <tr style=\"text-align: right;\">\n",
       "      <th></th>\n",
       "      <th>ID_Energia_renovables</th>\n",
       "      <th>Id_Pais_x</th>\n",
       "      <th>Id_anio</th>\n",
       "      <th>Consumo_renovables</th>\n",
       "      <th>Produccion_renovables</th>\n",
       "      <th>Codigo_pais</th>\n",
       "      <th>Pais</th>\n",
       "      <th>Anio</th>\n",
       "      <th>ID_Energia_nuclear</th>\n",
       "      <th>Id_Pais_y</th>\n",
       "      <th>Consumo_Nuclear</th>\n",
       "      <th>Produccion_Nuclear</th>\n",
       "    </tr>\n",
       "  </thead>\n",
       "  <tbody>\n",
       "    <tr>\n",
       "      <th>0</th>\n",
       "      <td>2761</td>\n",
       "      <td>44</td>\n",
       "      <td>31</td>\n",
       "      <td>0.082697</td>\n",
       "      <td>0.082697</td>\n",
       "      <td>CAN</td>\n",
       "      <td>Canada</td>\n",
       "      <td>1995</td>\n",
       "      <td>1</td>\n",
       "      <td>44</td>\n",
       "      <td>0.99</td>\n",
       "      <td>97.2</td>\n",
       "    </tr>\n",
       "    <tr>\n",
       "      <th>1</th>\n",
       "      <td>2761</td>\n",
       "      <td>44</td>\n",
       "      <td>31</td>\n",
       "      <td>0.082697</td>\n",
       "      <td>0.082697</td>\n",
       "      <td>CAN</td>\n",
       "      <td>Canada</td>\n",
       "      <td>1995</td>\n",
       "      <td>2</td>\n",
       "      <td>160</td>\n",
       "      <td>0.09</td>\n",
       "      <td>8.4</td>\n",
       "    </tr>\n",
       "    <tr>\n",
       "      <th>2</th>\n",
       "      <td>2761</td>\n",
       "      <td>44</td>\n",
       "      <td>31</td>\n",
       "      <td>0.082697</td>\n",
       "      <td>0.082697</td>\n",
       "      <td>CAN</td>\n",
       "      <td>Canada</td>\n",
       "      <td>1995</td>\n",
       "      <td>3</td>\n",
       "      <td>297</td>\n",
       "      <td>7.24</td>\n",
       "      <td>708.8</td>\n",
       "    </tr>\n",
       "    <tr>\n",
       "      <th>3</th>\n",
       "      <td>2761</td>\n",
       "      <td>44</td>\n",
       "      <td>31</td>\n",
       "      <td>0.082697</td>\n",
       "      <td>0.082697</td>\n",
       "      <td>CAN</td>\n",
       "      <td>Canada</td>\n",
       "      <td>1995</td>\n",
       "      <td>4</td>\n",
       "      <td>11</td>\n",
       "      <td>0.07</td>\n",
       "      <td>7.1</td>\n",
       "    </tr>\n",
       "    <tr>\n",
       "      <th>4</th>\n",
       "      <td>2761</td>\n",
       "      <td>44</td>\n",
       "      <td>31</td>\n",
       "      <td>0.082697</td>\n",
       "      <td>0.082697</td>\n",
       "      <td>CAN</td>\n",
       "      <td>Canada</td>\n",
       "      <td>1995</td>\n",
       "      <td>5</td>\n",
       "      <td>35</td>\n",
       "      <td>0.03</td>\n",
       "      <td>2.5</td>\n",
       "    </tr>\n",
       "    <tr>\n",
       "      <th>...</th>\n",
       "      <td>...</td>\n",
       "      <td>...</td>\n",
       "      <td>...</td>\n",
       "      <td>...</td>\n",
       "      <td>...</td>\n",
       "      <td>...</td>\n",
       "      <td>...</td>\n",
       "      <td>...</td>\n",
       "      <td>...</td>\n",
       "      <td>...</td>\n",
       "      <td>...</td>\n",
       "      <td>...</td>\n",
       "    </tr>\n",
       "    <tr>\n",
       "      <th>178843</th>\n",
       "      <td>5244</td>\n",
       "      <td>210</td>\n",
       "      <td>57</td>\n",
       "      <td>0.025920</td>\n",
       "      <td>0.025920</td>\n",
       "      <td>0</td>\n",
       "      <td>Other Asia Pacific (BP)</td>\n",
       "      <td>2021</td>\n",
       "      <td>2480</td>\n",
       "      <td>267</td>\n",
       "      <td>0.00</td>\n",
       "      <td>0.0</td>\n",
       "    </tr>\n",
       "    <tr>\n",
       "      <th>178844</th>\n",
       "      <td>5244</td>\n",
       "      <td>210</td>\n",
       "      <td>57</td>\n",
       "      <td>0.025920</td>\n",
       "      <td>0.025920</td>\n",
       "      <td>0</td>\n",
       "      <td>Other Asia Pacific (BP)</td>\n",
       "      <td>2021</td>\n",
       "      <td>2481</td>\n",
       "      <td>273</td>\n",
       "      <td>0.25</td>\n",
       "      <td>27.8</td>\n",
       "    </tr>\n",
       "    <tr>\n",
       "      <th>178845</th>\n",
       "      <td>5244</td>\n",
       "      <td>210</td>\n",
       "      <td>57</td>\n",
       "      <td>0.025920</td>\n",
       "      <td>0.025920</td>\n",
       "      <td>0</td>\n",
       "      <td>Other Asia Pacific (BP)</td>\n",
       "      <td>2021</td>\n",
       "      <td>2482</td>\n",
       "      <td>276</td>\n",
       "      <td>0.00</td>\n",
       "      <td>0.0</td>\n",
       "    </tr>\n",
       "    <tr>\n",
       "      <th>178846</th>\n",
       "      <td>5244</td>\n",
       "      <td>210</td>\n",
       "      <td>57</td>\n",
       "      <td>0.025920</td>\n",
       "      <td>0.025920</td>\n",
       "      <td>0</td>\n",
       "      <td>Other Asia Pacific (BP)</td>\n",
       "      <td>2021</td>\n",
       "      <td>2483</td>\n",
       "      <td>304</td>\n",
       "      <td>0.00</td>\n",
       "      <td>0.0</td>\n",
       "    </tr>\n",
       "    <tr>\n",
       "      <th>178847</th>\n",
       "      <td>5244</td>\n",
       "      <td>210</td>\n",
       "      <td>57</td>\n",
       "      <td>0.025920</td>\n",
       "      <td>0.025920</td>\n",
       "      <td>0</td>\n",
       "      <td>Other Asia Pacific (BP)</td>\n",
       "      <td>2021</td>\n",
       "      <td>2484</td>\n",
       "      <td>210</td>\n",
       "      <td>0.00</td>\n",
       "      <td>0.0</td>\n",
       "    </tr>\n",
       "  </tbody>\n",
       "</table>\n",
       "<p>178848 rows × 12 columns</p>\n",
       "</div>"
      ],
      "text/plain": [
       "        ID_Energia_renovables  Id_Pais_x  Id_anio  Consumo_renovables  \\\n",
       "0                        2761         44       31            0.082697   \n",
       "1                        2761         44       31            0.082697   \n",
       "2                        2761         44       31            0.082697   \n",
       "3                        2761         44       31            0.082697   \n",
       "4                        2761         44       31            0.082697   \n",
       "...                       ...        ...      ...                 ...   \n",
       "178843                   5244        210       57            0.025920   \n",
       "178844                   5244        210       57            0.025920   \n",
       "178845                   5244        210       57            0.025920   \n",
       "178846                   5244        210       57            0.025920   \n",
       "178847                   5244        210       57            0.025920   \n",
       "\n",
       "        Produccion_renovables Codigo_pais                     Pais  Anio  \\\n",
       "0                    0.082697         CAN                   Canada  1995   \n",
       "1                    0.082697         CAN                   Canada  1995   \n",
       "2                    0.082697         CAN                   Canada  1995   \n",
       "3                    0.082697         CAN                   Canada  1995   \n",
       "4                    0.082697         CAN                   Canada  1995   \n",
       "...                       ...         ...                      ...   ...   \n",
       "178843               0.025920           0  Other Asia Pacific (BP)  2021   \n",
       "178844               0.025920           0  Other Asia Pacific (BP)  2021   \n",
       "178845               0.025920           0  Other Asia Pacific (BP)  2021   \n",
       "178846               0.025920           0  Other Asia Pacific (BP)  2021   \n",
       "178847               0.025920           0  Other Asia Pacific (BP)  2021   \n",
       "\n",
       "        ID_Energia_nuclear  Id_Pais_y  Consumo_Nuclear  Produccion_Nuclear  \n",
       "0                        1         44             0.99                97.2  \n",
       "1                        2        160             0.09                 8.4  \n",
       "2                        3        297             7.24               708.8  \n",
       "3                        4         11             0.07                 7.1  \n",
       "4                        5         35             0.03                 2.5  \n",
       "...                    ...        ...              ...                 ...  \n",
       "178843                2480        267             0.00                 0.0  \n",
       "178844                2481        273             0.25                27.8  \n",
       "178845                2482        276             0.00                 0.0  \n",
       "178846                2483        304             0.00                 0.0  \n",
       "178847                2484        210             0.00                 0.0  \n",
       "\n",
       "[178848 rows x 12 columns]"
      ]
     },
     "execution_count": 207,
     "metadata": {},
     "output_type": "execute_result"
    }
   ],
   "source": [
    "ene_ren=pd.read_sql_query('SELECT *FROM \"Energia_renovables\";', con=conexion)\n",
    "todas_ren=pd.merge(ene_ren,paises, on='Id_Pais')\n",
    "todas_ren=pd.merge(todas_ren,años, on='Id_anio')\n",
    "todas_ren=pd.merge(todas_ren,nuclear, on='Id_anio')\n",
    "#todas_ren=pd.merge(todas_ren,paises, on='Id_anio')\n",
    "\n",
    "#todas_ren.drop(columns={'ID_Energia_renovables','Id_Pais_x','Id_anio','Id_Pais_y','ID_Energia_nuclear'},inplace=True)\n",
    "\n",
    "todas_ren"
   ]
  },
  {
   "cell_type": "code",
   "execution_count": 208,
   "metadata": {},
   "outputs": [
    {
     "data": {
      "text/html": [
       "<div>\n",
       "<style scoped>\n",
       "    .dataframe tbody tr th:only-of-type {\n",
       "        vertical-align: middle;\n",
       "    }\n",
       "\n",
       "    .dataframe tbody tr th {\n",
       "        vertical-align: top;\n",
       "    }\n",
       "\n",
       "    .dataframe thead th {\n",
       "        text-align: right;\n",
       "    }\n",
       "</style>\n",
       "<table border=\"1\" class=\"dataframe\">\n",
       "  <thead>\n",
       "    <tr style=\"text-align: right;\">\n",
       "      <th></th>\n",
       "      <th>Consumo_renovables</th>\n",
       "      <th>Produccion_renovables</th>\n",
       "      <th>Codigo_pais</th>\n",
       "      <th>Pais</th>\n",
       "      <th>Anio</th>\n",
       "      <th>Consumo_Nuclear</th>\n",
       "      <th>Produccion_Nuclear</th>\n",
       "    </tr>\n",
       "  </thead>\n",
       "  <tbody>\n",
       "    <tr>\n",
       "      <th>0</th>\n",
       "      <td>0.082697</td>\n",
       "      <td>0.082697</td>\n",
       "      <td>CAN</td>\n",
       "      <td>Canada</td>\n",
       "      <td>1995</td>\n",
       "      <td>0.99</td>\n",
       "      <td>97.2</td>\n",
       "    </tr>\n",
       "    <tr>\n",
       "      <th>1</th>\n",
       "      <td>0.082697</td>\n",
       "      <td>0.082697</td>\n",
       "      <td>CAN</td>\n",
       "      <td>Canada</td>\n",
       "      <td>1995</td>\n",
       "      <td>0.09</td>\n",
       "      <td>8.4</td>\n",
       "    </tr>\n",
       "    <tr>\n",
       "      <th>2</th>\n",
       "      <td>0.082697</td>\n",
       "      <td>0.082697</td>\n",
       "      <td>CAN</td>\n",
       "      <td>Canada</td>\n",
       "      <td>1995</td>\n",
       "      <td>7.24</td>\n",
       "      <td>708.8</td>\n",
       "    </tr>\n",
       "    <tr>\n",
       "      <th>3</th>\n",
       "      <td>0.082697</td>\n",
       "      <td>0.082697</td>\n",
       "      <td>CAN</td>\n",
       "      <td>Canada</td>\n",
       "      <td>1995</td>\n",
       "      <td>0.07</td>\n",
       "      <td>7.1</td>\n",
       "    </tr>\n",
       "    <tr>\n",
       "      <th>4</th>\n",
       "      <td>0.082697</td>\n",
       "      <td>0.082697</td>\n",
       "      <td>CAN</td>\n",
       "      <td>Canada</td>\n",
       "      <td>1995</td>\n",
       "      <td>0.03</td>\n",
       "      <td>2.5</td>\n",
       "    </tr>\n",
       "    <tr>\n",
       "      <th>...</th>\n",
       "      <td>...</td>\n",
       "      <td>...</td>\n",
       "      <td>...</td>\n",
       "      <td>...</td>\n",
       "      <td>...</td>\n",
       "      <td>...</td>\n",
       "      <td>...</td>\n",
       "    </tr>\n",
       "    <tr>\n",
       "      <th>178843</th>\n",
       "      <td>0.025920</td>\n",
       "      <td>0.025920</td>\n",
       "      <td>0</td>\n",
       "      <td>Other Asia Pacific (BP)</td>\n",
       "      <td>2021</td>\n",
       "      <td>0.00</td>\n",
       "      <td>0.0</td>\n",
       "    </tr>\n",
       "    <tr>\n",
       "      <th>178844</th>\n",
       "      <td>0.025920</td>\n",
       "      <td>0.025920</td>\n",
       "      <td>0</td>\n",
       "      <td>Other Asia Pacific (BP)</td>\n",
       "      <td>2021</td>\n",
       "      <td>0.25</td>\n",
       "      <td>27.8</td>\n",
       "    </tr>\n",
       "    <tr>\n",
       "      <th>178845</th>\n",
       "      <td>0.025920</td>\n",
       "      <td>0.025920</td>\n",
       "      <td>0</td>\n",
       "      <td>Other Asia Pacific (BP)</td>\n",
       "      <td>2021</td>\n",
       "      <td>0.00</td>\n",
       "      <td>0.0</td>\n",
       "    </tr>\n",
       "    <tr>\n",
       "      <th>178846</th>\n",
       "      <td>0.025920</td>\n",
       "      <td>0.025920</td>\n",
       "      <td>0</td>\n",
       "      <td>Other Asia Pacific (BP)</td>\n",
       "      <td>2021</td>\n",
       "      <td>0.00</td>\n",
       "      <td>0.0</td>\n",
       "    </tr>\n",
       "    <tr>\n",
       "      <th>178847</th>\n",
       "      <td>0.025920</td>\n",
       "      <td>0.025920</td>\n",
       "      <td>0</td>\n",
       "      <td>Other Asia Pacific (BP)</td>\n",
       "      <td>2021</td>\n",
       "      <td>0.00</td>\n",
       "      <td>0.0</td>\n",
       "    </tr>\n",
       "  </tbody>\n",
       "</table>\n",
       "<p>178848 rows × 7 columns</p>\n",
       "</div>"
      ],
      "text/plain": [
       "        Consumo_renovables  Produccion_renovables Codigo_pais  \\\n",
       "0                 0.082697               0.082697         CAN   \n",
       "1                 0.082697               0.082697         CAN   \n",
       "2                 0.082697               0.082697         CAN   \n",
       "3                 0.082697               0.082697         CAN   \n",
       "4                 0.082697               0.082697         CAN   \n",
       "...                    ...                    ...         ...   \n",
       "178843            0.025920               0.025920           0   \n",
       "178844            0.025920               0.025920           0   \n",
       "178845            0.025920               0.025920           0   \n",
       "178846            0.025920               0.025920           0   \n",
       "178847            0.025920               0.025920           0   \n",
       "\n",
       "                           Pais  Anio  Consumo_Nuclear  Produccion_Nuclear  \n",
       "0                        Canada  1995             0.99                97.2  \n",
       "1                        Canada  1995             0.09                 8.4  \n",
       "2                        Canada  1995             7.24               708.8  \n",
       "3                        Canada  1995             0.07                 7.1  \n",
       "4                        Canada  1995             0.03                 2.5  \n",
       "...                         ...   ...              ...                 ...  \n",
       "178843  Other Asia Pacific (BP)  2021             0.00                 0.0  \n",
       "178844  Other Asia Pacific (BP)  2021             0.25                27.8  \n",
       "178845  Other Asia Pacific (BP)  2021             0.00                 0.0  \n",
       "178846  Other Asia Pacific (BP)  2021             0.00                 0.0  \n",
       "178847  Other Asia Pacific (BP)  2021             0.00                 0.0  \n",
       "\n",
       "[178848 rows x 7 columns]"
      ]
     },
     "execution_count": 208,
     "metadata": {},
     "output_type": "execute_result"
    }
   ],
   "source": [
    "todas_ren.drop(columns={'ID_Energia_renovables','Id_Pais_x','Id_anio','Id_Pais_y','ID_Energia_nuclear'},inplace=True)\n",
    "\n",
    "todas_ren"
   ]
  },
  {
   "cell_type": "code",
   "execution_count": 212,
   "metadata": {},
   "outputs": [
    {
     "data": {
      "text/html": [
       "<div>\n",
       "<style scoped>\n",
       "    .dataframe tbody tr th:only-of-type {\n",
       "        vertical-align: middle;\n",
       "    }\n",
       "\n",
       "    .dataframe tbody tr th {\n",
       "        vertical-align: top;\n",
       "    }\n",
       "\n",
       "    .dataframe thead th {\n",
       "        text-align: right;\n",
       "    }\n",
       "</style>\n",
       "<table border=\"1\" class=\"dataframe\">\n",
       "  <thead>\n",
       "    <tr style=\"text-align: right;\">\n",
       "      <th></th>\n",
       "      <th>Consumo_renovables</th>\n",
       "      <th>Produccion_renovables</th>\n",
       "      <th>Codigo_pais</th>\n",
       "      <th>Pais</th>\n",
       "      <th>Anio</th>\n",
       "      <th>Consumo_Nuclear</th>\n",
       "      <th>Produccion_Nuclear</th>\n",
       "    </tr>\n",
       "  </thead>\n",
       "  <tbody>\n",
       "    <tr>\n",
       "      <th>0</th>\n",
       "      <td>0.082697</td>\n",
       "      <td>0.082697</td>\n",
       "      <td>CAN</td>\n",
       "      <td>Canada</td>\n",
       "      <td>1995</td>\n",
       "      <td>0.99</td>\n",
       "      <td>97.2</td>\n",
       "    </tr>\n",
       "    <tr>\n",
       "      <th>1</th>\n",
       "      <td>0.082697</td>\n",
       "      <td>0.082697</td>\n",
       "      <td>CAN</td>\n",
       "      <td>Canada</td>\n",
       "      <td>1995</td>\n",
       "      <td>0.09</td>\n",
       "      <td>8.4</td>\n",
       "    </tr>\n",
       "    <tr>\n",
       "      <th>2</th>\n",
       "      <td>0.082697</td>\n",
       "      <td>0.082697</td>\n",
       "      <td>CAN</td>\n",
       "      <td>Canada</td>\n",
       "      <td>1995</td>\n",
       "      <td>7.24</td>\n",
       "      <td>708.8</td>\n",
       "    </tr>\n",
       "    <tr>\n",
       "      <th>3</th>\n",
       "      <td>0.082697</td>\n",
       "      <td>0.082697</td>\n",
       "      <td>CAN</td>\n",
       "      <td>Canada</td>\n",
       "      <td>1995</td>\n",
       "      <td>0.07</td>\n",
       "      <td>7.1</td>\n",
       "    </tr>\n",
       "    <tr>\n",
       "      <th>4</th>\n",
       "      <td>0.082697</td>\n",
       "      <td>0.082697</td>\n",
       "      <td>CAN</td>\n",
       "      <td>Canada</td>\n",
       "      <td>1995</td>\n",
       "      <td>0.03</td>\n",
       "      <td>2.5</td>\n",
       "    </tr>\n",
       "    <tr>\n",
       "      <th>...</th>\n",
       "      <td>...</td>\n",
       "      <td>...</td>\n",
       "      <td>...</td>\n",
       "      <td>...</td>\n",
       "      <td>...</td>\n",
       "      <td>...</td>\n",
       "      <td>...</td>\n",
       "    </tr>\n",
       "    <tr>\n",
       "      <th>178751</th>\n",
       "      <td>0.267104</td>\n",
       "      <td>0.267104</td>\n",
       "      <td>VNM</td>\n",
       "      <td>Vietnam</td>\n",
       "      <td>2021</td>\n",
       "      <td>0.00</td>\n",
       "      <td>0.0</td>\n",
       "    </tr>\n",
       "    <tr>\n",
       "      <th>178752</th>\n",
       "      <td>0.267104</td>\n",
       "      <td>0.267104</td>\n",
       "      <td>VNM</td>\n",
       "      <td>Vietnam</td>\n",
       "      <td>2021</td>\n",
       "      <td>0.25</td>\n",
       "      <td>27.8</td>\n",
       "    </tr>\n",
       "    <tr>\n",
       "      <th>178753</th>\n",
       "      <td>0.267104</td>\n",
       "      <td>0.267104</td>\n",
       "      <td>VNM</td>\n",
       "      <td>Vietnam</td>\n",
       "      <td>2021</td>\n",
       "      <td>0.00</td>\n",
       "      <td>0.0</td>\n",
       "    </tr>\n",
       "    <tr>\n",
       "      <th>178754</th>\n",
       "      <td>0.267104</td>\n",
       "      <td>0.267104</td>\n",
       "      <td>VNM</td>\n",
       "      <td>Vietnam</td>\n",
       "      <td>2021</td>\n",
       "      <td>0.00</td>\n",
       "      <td>0.0</td>\n",
       "    </tr>\n",
       "    <tr>\n",
       "      <th>178755</th>\n",
       "      <td>0.267104</td>\n",
       "      <td>0.267104</td>\n",
       "      <td>VNM</td>\n",
       "      <td>Vietnam</td>\n",
       "      <td>2021</td>\n",
       "      <td>0.00</td>\n",
       "      <td>0.0</td>\n",
       "    </tr>\n",
       "  </tbody>\n",
       "</table>\n",
       "<p>163944 rows × 7 columns</p>\n",
       "</div>"
      ],
      "text/plain": [
       "        Consumo_renovables  Produccion_renovables Codigo_pais     Pais  Anio  \\\n",
       "0                 0.082697               0.082697         CAN   Canada  1995   \n",
       "1                 0.082697               0.082697         CAN   Canada  1995   \n",
       "2                 0.082697               0.082697         CAN   Canada  1995   \n",
       "3                 0.082697               0.082697         CAN   Canada  1995   \n",
       "4                 0.082697               0.082697         CAN   Canada  1995   \n",
       "...                    ...                    ...         ...      ...   ...   \n",
       "178751            0.267104               0.267104         VNM  Vietnam  2021   \n",
       "178752            0.267104               0.267104         VNM  Vietnam  2021   \n",
       "178753            0.267104               0.267104         VNM  Vietnam  2021   \n",
       "178754            0.267104               0.267104         VNM  Vietnam  2021   \n",
       "178755            0.267104               0.267104         VNM  Vietnam  2021   \n",
       "\n",
       "        Consumo_Nuclear  Produccion_Nuclear  \n",
       "0                  0.99                97.2  \n",
       "1                  0.09                 8.4  \n",
       "2                  7.24               708.8  \n",
       "3                  0.07                 7.1  \n",
       "4                  0.03                 2.5  \n",
       "...                 ...                 ...  \n",
       "178751             0.00                 0.0  \n",
       "178752             0.25                27.8  \n",
       "178753             0.00                 0.0  \n",
       "178754             0.00                 0.0  \n",
       "178755             0.00                 0.0  \n",
       "\n",
       "[163944 rows x 7 columns]"
      ]
     },
     "execution_count": 212,
     "metadata": {},
     "output_type": "execute_result"
    }
   ],
   "source": [
    "indexN=todas_ren[todas_ren['Pais']=='Other Europe (BP)'].index\n",
    "todas_ren.drop(indexN, inplace=True)\n",
    "indexN=todas_ren[todas_ren['Pais']=='Other CIS (BP)'].index\n",
    "todas_ren.drop(indexN, inplace=True)\n",
    "indexN=todas_ren[todas_ren['Pais']=='Other Middle East (BP)'].index\n",
    "todas_ren.drop(indexN, inplace=True)\n",
    "indexN=todas_ren[todas_ren['Pais']=='Other Western Africa (BP)'].index\n",
    "todas_ren.drop(indexN, inplace=True)\n",
    "indexN=todas_ren[todas_ren['Pais']=='Other Northern Africa (BP)'].index\n",
    "todas_ren.drop(indexN, inplace=True)\n",
    "indexN=todas_ren[todas_ren['Pais']=='Other Asia Pacific (BP)'].index\n",
    "todas_ren.drop(indexN, inplace=True)\n",
    "todas_ren"
   ]
  },
  {
   "cell_type": "code",
   "execution_count": 213,
   "metadata": {},
   "outputs": [
    {
     "data": {
      "text/html": [
       "<div>\n",
       "<style scoped>\n",
       "    .dataframe tbody tr th:only-of-type {\n",
       "        vertical-align: middle;\n",
       "    }\n",
       "\n",
       "    .dataframe tbody tr th {\n",
       "        vertical-align: top;\n",
       "    }\n",
       "\n",
       "    .dataframe thead th {\n",
       "        text-align: right;\n",
       "    }\n",
       "</style>\n",
       "<table border=\"1\" class=\"dataframe\">\n",
       "  <thead>\n",
       "    <tr style=\"text-align: right;\">\n",
       "      <th></th>\n",
       "      <th>Consumo_renovables</th>\n",
       "      <th>Produccion_renovables</th>\n",
       "      <th>Anio</th>\n",
       "      <th>Consumo_Nuclear</th>\n",
       "      <th>Produccion_Nuclear</th>\n",
       "    </tr>\n",
       "    <tr>\n",
       "      <th>Pais</th>\n",
       "      <th></th>\n",
       "      <th></th>\n",
       "      <th></th>\n",
       "      <th></th>\n",
       "      <th></th>\n",
       "    </tr>\n",
       "  </thead>\n",
       "  <tbody>\n",
       "    <tr>\n",
       "      <th>Argentina</th>\n",
       "      <td>0.046091</td>\n",
       "      <td>0.025226</td>\n",
       "      <td>2008.0</td>\n",
       "      <td>0.276502</td>\n",
       "      <td>28.544686</td>\n",
       "    </tr>\n",
       "    <tr>\n",
       "      <th>Australia</th>\n",
       "      <td>0.141623</td>\n",
       "      <td>0.137459</td>\n",
       "      <td>2008.0</td>\n",
       "      <td>0.276502</td>\n",
       "      <td>28.544686</td>\n",
       "    </tr>\n",
       "    <tr>\n",
       "      <th>Austria</th>\n",
       "      <td>0.080165</td>\n",
       "      <td>0.067910</td>\n",
       "      <td>2008.0</td>\n",
       "      <td>0.276502</td>\n",
       "      <td>28.544686</td>\n",
       "    </tr>\n",
       "    <tr>\n",
       "      <th>Azerbaijan</th>\n",
       "      <td>0.000583</td>\n",
       "      <td>0.000583</td>\n",
       "      <td>2008.0</td>\n",
       "      <td>0.276502</td>\n",
       "      <td>28.544686</td>\n",
       "    </tr>\n",
       "    <tr>\n",
       "      <th>Belarus</th>\n",
       "      <td>0.001719</td>\n",
       "      <td>0.001296</td>\n",
       "      <td>2008.0</td>\n",
       "      <td>0.276502</td>\n",
       "      <td>28.544686</td>\n",
       "    </tr>\n",
       "    <tr>\n",
       "      <th>...</th>\n",
       "      <td>...</td>\n",
       "      <td>...</td>\n",
       "      <td>...</td>\n",
       "      <td>...</td>\n",
       "      <td>...</td>\n",
       "    </tr>\n",
       "    <tr>\n",
       "      <th>Ukraine</th>\n",
       "      <td>0.014640</td>\n",
       "      <td>0.013984</td>\n",
       "      <td>2008.0</td>\n",
       "      <td>0.276502</td>\n",
       "      <td>28.544686</td>\n",
       "    </tr>\n",
       "    <tr>\n",
       "      <th>United Kingdom</th>\n",
       "      <td>0.421350</td>\n",
       "      <td>0.396020</td>\n",
       "      <td>2008.0</td>\n",
       "      <td>0.276502</td>\n",
       "      <td>28.544686</td>\n",
       "    </tr>\n",
       "    <tr>\n",
       "      <th>United States</th>\n",
       "      <td>2.911940</td>\n",
       "      <td>2.144924</td>\n",
       "      <td>2008.0</td>\n",
       "      <td>0.276502</td>\n",
       "      <td>28.544686</td>\n",
       "    </tr>\n",
       "    <tr>\n",
       "      <th>Venezuela</th>\n",
       "      <td>0.000347</td>\n",
       "      <td>0.000347</td>\n",
       "      <td>2008.0</td>\n",
       "      <td>0.276502</td>\n",
       "      <td>28.544686</td>\n",
       "    </tr>\n",
       "    <tr>\n",
       "      <th>Vietnam</th>\n",
       "      <td>0.017263</td>\n",
       "      <td>0.017263</td>\n",
       "      <td>2008.0</td>\n",
       "      <td>0.276502</td>\n",
       "      <td>28.544686</td>\n",
       "    </tr>\n",
       "  </tbody>\n",
       "</table>\n",
       "<p>66 rows × 5 columns</p>\n",
       "</div>"
      ],
      "text/plain": [
       "                Consumo_renovables  Produccion_renovables    Anio  \\\n",
       "Pais                                                                \n",
       "Argentina                 0.046091               0.025226  2008.0   \n",
       "Australia                 0.141623               0.137459  2008.0   \n",
       "Austria                   0.080165               0.067910  2008.0   \n",
       "Azerbaijan                0.000583               0.000583  2008.0   \n",
       "Belarus                   0.001719               0.001296  2008.0   \n",
       "...                            ...                    ...     ...   \n",
       "Ukraine                   0.014640               0.013984  2008.0   \n",
       "United Kingdom            0.421350               0.396020  2008.0   \n",
       "United States             2.911940               2.144924  2008.0   \n",
       "Venezuela                 0.000347               0.000347  2008.0   \n",
       "Vietnam                   0.017263               0.017263  2008.0   \n",
       "\n",
       "                Consumo_Nuclear  Produccion_Nuclear  \n",
       "Pais                                                 \n",
       "Argentina              0.276502           28.544686  \n",
       "Australia              0.276502           28.544686  \n",
       "Austria                0.276502           28.544686  \n",
       "Azerbaijan             0.276502           28.544686  \n",
       "Belarus                0.276502           28.544686  \n",
       "...                         ...                 ...  \n",
       "Ukraine                0.276502           28.544686  \n",
       "United Kingdom         0.276502           28.544686  \n",
       "United States          0.276502           28.544686  \n",
       "Venezuela              0.276502           28.544686  \n",
       "Vietnam                0.276502           28.544686  \n",
       "\n",
       "[66 rows x 5 columns]"
      ]
     },
     "execution_count": 213,
     "metadata": {},
     "output_type": "execute_result"
    }
   ],
   "source": [
    "todas_lim_pais=todas_ren.groupby(by=['Pais']).mean()\n",
    "todas_lim_pais"
   ]
  },
  {
   "cell_type": "code",
   "execution_count": 227,
   "metadata": {},
   "outputs": [
    {
     "data": {
      "text/html": [
       "<div>\n",
       "<style scoped>\n",
       "    .dataframe tbody tr th:only-of-type {\n",
       "        vertical-align: middle;\n",
       "    }\n",
       "\n",
       "    .dataframe tbody tr th {\n",
       "        vertical-align: top;\n",
       "    }\n",
       "\n",
       "    .dataframe thead th {\n",
       "        text-align: right;\n",
       "    }\n",
       "</style>\n",
       "<table border=\"1\" class=\"dataframe\">\n",
       "  <thead>\n",
       "    <tr style=\"text-align: right;\">\n",
       "      <th></th>\n",
       "      <th>Consumo_renovables</th>\n",
       "      <th>Produccion_renovables</th>\n",
       "      <th>Anio</th>\n",
       "      <th>Consumo_Nuclear</th>\n",
       "      <th>Produccion_Nuclear</th>\n",
       "      <th>total_consumo</th>\n",
       "      <th>total_produccion</th>\n",
       "    </tr>\n",
       "    <tr>\n",
       "      <th>Pais</th>\n",
       "      <th></th>\n",
       "      <th></th>\n",
       "      <th></th>\n",
       "      <th></th>\n",
       "      <th></th>\n",
       "      <th></th>\n",
       "      <th></th>\n",
       "    </tr>\n",
       "  </thead>\n",
       "  <tbody>\n",
       "    <tr>\n",
       "      <th>Argentina</th>\n",
       "      <td>0.046091</td>\n",
       "      <td>0.025226</td>\n",
       "      <td>2008.0</td>\n",
       "      <td>0.276502</td>\n",
       "      <td>28.544686</td>\n",
       "      <td>0.161296</td>\n",
       "      <td>14.284956</td>\n",
       "    </tr>\n",
       "    <tr>\n",
       "      <th>Australia</th>\n",
       "      <td>0.141623</td>\n",
       "      <td>0.137459</td>\n",
       "      <td>2008.0</td>\n",
       "      <td>0.276502</td>\n",
       "      <td>28.544686</td>\n",
       "      <td>0.209062</td>\n",
       "      <td>14.341072</td>\n",
       "    </tr>\n",
       "    <tr>\n",
       "      <th>Austria</th>\n",
       "      <td>0.080165</td>\n",
       "      <td>0.067910</td>\n",
       "      <td>2008.0</td>\n",
       "      <td>0.276502</td>\n",
       "      <td>28.544686</td>\n",
       "      <td>0.178334</td>\n",
       "      <td>14.306298</td>\n",
       "    </tr>\n",
       "    <tr>\n",
       "      <th>Azerbaijan</th>\n",
       "      <td>0.000583</td>\n",
       "      <td>0.000583</td>\n",
       "      <td>2008.0</td>\n",
       "      <td>0.276502</td>\n",
       "      <td>28.544686</td>\n",
       "      <td>0.138542</td>\n",
       "      <td>14.272634</td>\n",
       "    </tr>\n",
       "    <tr>\n",
       "      <th>Belarus</th>\n",
       "      <td>0.001719</td>\n",
       "      <td>0.001296</td>\n",
       "      <td>2008.0</td>\n",
       "      <td>0.276502</td>\n",
       "      <td>28.544686</td>\n",
       "      <td>0.139110</td>\n",
       "      <td>14.272991</td>\n",
       "    </tr>\n",
       "    <tr>\n",
       "      <th>...</th>\n",
       "      <td>...</td>\n",
       "      <td>...</td>\n",
       "      <td>...</td>\n",
       "      <td>...</td>\n",
       "      <td>...</td>\n",
       "      <td>...</td>\n",
       "      <td>...</td>\n",
       "    </tr>\n",
       "    <tr>\n",
       "      <th>Ukraine</th>\n",
       "      <td>0.014640</td>\n",
       "      <td>0.013984</td>\n",
       "      <td>2008.0</td>\n",
       "      <td>0.276502</td>\n",
       "      <td>28.544686</td>\n",
       "      <td>0.145571</td>\n",
       "      <td>14.279335</td>\n",
       "    </tr>\n",
       "    <tr>\n",
       "      <th>United Kingdom</th>\n",
       "      <td>0.421350</td>\n",
       "      <td>0.396020</td>\n",
       "      <td>2008.0</td>\n",
       "      <td>0.276502</td>\n",
       "      <td>28.544686</td>\n",
       "      <td>0.348926</td>\n",
       "      <td>14.470353</td>\n",
       "    </tr>\n",
       "    <tr>\n",
       "      <th>United States</th>\n",
       "      <td>2.911940</td>\n",
       "      <td>2.144924</td>\n",
       "      <td>2008.0</td>\n",
       "      <td>0.276502</td>\n",
       "      <td>28.544686</td>\n",
       "      <td>1.594221</td>\n",
       "      <td>15.344805</td>\n",
       "    </tr>\n",
       "    <tr>\n",
       "      <th>Venezuela</th>\n",
       "      <td>0.000347</td>\n",
       "      <td>0.000347</td>\n",
       "      <td>2008.0</td>\n",
       "      <td>0.276502</td>\n",
       "      <td>28.544686</td>\n",
       "      <td>0.138424</td>\n",
       "      <td>14.272516</td>\n",
       "    </tr>\n",
       "    <tr>\n",
       "      <th>Vietnam</th>\n",
       "      <td>0.017263</td>\n",
       "      <td>0.017263</td>\n",
       "      <td>2008.0</td>\n",
       "      <td>0.276502</td>\n",
       "      <td>28.544686</td>\n",
       "      <td>0.146883</td>\n",
       "      <td>14.280975</td>\n",
       "    </tr>\n",
       "  </tbody>\n",
       "</table>\n",
       "<p>66 rows × 7 columns</p>\n",
       "</div>"
      ],
      "text/plain": [
       "                Consumo_renovables  Produccion_renovables    Anio  \\\n",
       "Pais                                                                \n",
       "Argentina                 0.046091               0.025226  2008.0   \n",
       "Australia                 0.141623               0.137459  2008.0   \n",
       "Austria                   0.080165               0.067910  2008.0   \n",
       "Azerbaijan                0.000583               0.000583  2008.0   \n",
       "Belarus                   0.001719               0.001296  2008.0   \n",
       "...                            ...                    ...     ...   \n",
       "Ukraine                   0.014640               0.013984  2008.0   \n",
       "United Kingdom            0.421350               0.396020  2008.0   \n",
       "United States             2.911940               2.144924  2008.0   \n",
       "Venezuela                 0.000347               0.000347  2008.0   \n",
       "Vietnam                   0.017263               0.017263  2008.0   \n",
       "\n",
       "                Consumo_Nuclear  Produccion_Nuclear  total_consumo  \\\n",
       "Pais                                                                 \n",
       "Argentina              0.276502           28.544686       0.161296   \n",
       "Australia              0.276502           28.544686       0.209062   \n",
       "Austria                0.276502           28.544686       0.178334   \n",
       "Azerbaijan             0.276502           28.544686       0.138542   \n",
       "Belarus                0.276502           28.544686       0.139110   \n",
       "...                         ...                 ...            ...   \n",
       "Ukraine                0.276502           28.544686       0.145571   \n",
       "United Kingdom         0.276502           28.544686       0.348926   \n",
       "United States          0.276502           28.544686       1.594221   \n",
       "Venezuela              0.276502           28.544686       0.138424   \n",
       "Vietnam                0.276502           28.544686       0.146883   \n",
       "\n",
       "                total_produccion  \n",
       "Pais                              \n",
       "Argentina              14.284956  \n",
       "Australia              14.341072  \n",
       "Austria                14.306298  \n",
       "Azerbaijan             14.272634  \n",
       "Belarus                14.272991  \n",
       "...                          ...  \n",
       "Ukraine                14.279335  \n",
       "United Kingdom         14.470353  \n",
       "United States          15.344805  \n",
       "Venezuela              14.272516  \n",
       "Vietnam                14.280975  \n",
       "\n",
       "[66 rows x 7 columns]"
      ]
     },
     "execution_count": 227,
     "metadata": {},
     "output_type": "execute_result"
    }
   ],
   "source": [
    "todas_lim_pais['total_consumo'] = (todas_lim_pais['Consumo_renovables']+todas_lim_pais['Consumo_Nuclear'])/2\n",
    "todas_lim_pais['total_produccion'] = (todas_lim_pais['Produccion_renovables']+todas_lim_pais['Produccion_Nuclear'])/2\n",
    "todas_lim_pais"
   ]
  },
  {
   "cell_type": "code",
   "execution_count": 214,
   "metadata": {},
   "outputs": [
    {
     "data": {
      "text/html": [
       "<div>\n",
       "<style scoped>\n",
       "    .dataframe tbody tr th:only-of-type {\n",
       "        vertical-align: middle;\n",
       "    }\n",
       "\n",
       "    .dataframe tbody tr th {\n",
       "        vertical-align: top;\n",
       "    }\n",
       "\n",
       "    .dataframe thead th {\n",
       "        text-align: right;\n",
       "    }\n",
       "</style>\n",
       "<table border=\"1\" class=\"dataframe\">\n",
       "  <thead>\n",
       "    <tr style=\"text-align: right;\">\n",
       "      <th></th>\n",
       "      <th>Consumo_renovables</th>\n",
       "      <th>Produccion_renovables</th>\n",
       "      <th>Consumo_Nuclear</th>\n",
       "      <th>Produccion_Nuclear</th>\n",
       "    </tr>\n",
       "    <tr>\n",
       "      <th>Anio</th>\n",
       "      <th></th>\n",
       "      <th></th>\n",
       "      <th></th>\n",
       "      <th></th>\n",
       "    </tr>\n",
       "  </thead>\n",
       "  <tbody>\n",
       "    <tr>\n",
       "      <th>1995</th>\n",
       "      <td>0.032831</td>\n",
       "      <td>0.026062</td>\n",
       "      <td>0.257717</td>\n",
       "      <td>25.241304</td>\n",
       "    </tr>\n",
       "    <tr>\n",
       "      <th>1996</th>\n",
       "      <td>0.033374</td>\n",
       "      <td>0.026873</td>\n",
       "      <td>0.267174</td>\n",
       "      <td>26.160870</td>\n",
       "    </tr>\n",
       "    <tr>\n",
       "      <th>1997</th>\n",
       "      <td>0.035927</td>\n",
       "      <td>0.029160</td>\n",
       "      <td>0.265217</td>\n",
       "      <td>25.982609</td>\n",
       "    </tr>\n",
       "    <tr>\n",
       "      <th>1998</th>\n",
       "      <td>0.037777</td>\n",
       "      <td>0.030878</td>\n",
       "      <td>0.269891</td>\n",
       "      <td>26.432609</td>\n",
       "    </tr>\n",
       "    <tr>\n",
       "      <th>1999</th>\n",
       "      <td>0.040058</td>\n",
       "      <td>0.033059</td>\n",
       "      <td>0.280109</td>\n",
       "      <td>27.434783</td>\n",
       "    </tr>\n",
       "    <tr>\n",
       "      <th>2000</th>\n",
       "      <td>0.042795</td>\n",
       "      <td>0.035948</td>\n",
       "      <td>0.286630</td>\n",
       "      <td>28.054348</td>\n",
       "    </tr>\n",
       "    <tr>\n",
       "      <th>2001</th>\n",
       "      <td>0.044805</td>\n",
       "      <td>0.038188</td>\n",
       "      <td>0.292500</td>\n",
       "      <td>28.845652</td>\n",
       "    </tr>\n",
       "    <tr>\n",
       "      <th>2002</th>\n",
       "      <td>0.051182</td>\n",
       "      <td>0.042937</td>\n",
       "      <td>0.295761</td>\n",
       "      <td>29.304348</td>\n",
       "    </tr>\n",
       "    <tr>\n",
       "      <th>2003</th>\n",
       "      <td>0.055943</td>\n",
       "      <td>0.046619</td>\n",
       "      <td>0.287826</td>\n",
       "      <td>28.715217</td>\n",
       "    </tr>\n",
       "    <tr>\n",
       "      <th>2004</th>\n",
       "      <td>0.064107</td>\n",
       "      <td>0.053085</td>\n",
       "      <td>0.298696</td>\n",
       "      <td>30.018478</td>\n",
       "    </tr>\n",
       "    <tr>\n",
       "      <th>2005</th>\n",
       "      <td>0.072527</td>\n",
       "      <td>0.059433</td>\n",
       "      <td>0.297935</td>\n",
       "      <td>30.094565</td>\n",
       "    </tr>\n",
       "    <tr>\n",
       "      <th>2006</th>\n",
       "      <td>0.082752</td>\n",
       "      <td>0.066533</td>\n",
       "      <td>0.299891</td>\n",
       "      <td>30.470652</td>\n",
       "    </tr>\n",
       "    <tr>\n",
       "      <th>2007</th>\n",
       "      <td>0.097650</td>\n",
       "      <td>0.076386</td>\n",
       "      <td>0.291630</td>\n",
       "      <td>29.846739</td>\n",
       "    </tr>\n",
       "    <tr>\n",
       "      <th>2008</th>\n",
       "      <td>0.116609</td>\n",
       "      <td>0.087935</td>\n",
       "      <td>0.289022</td>\n",
       "      <td>29.758696</td>\n",
       "    </tr>\n",
       "    <tr>\n",
       "      <th>2009</th>\n",
       "      <td>0.133869</td>\n",
       "      <td>0.101204</td>\n",
       "      <td>0.283043</td>\n",
       "      <td>29.339130</td>\n",
       "    </tr>\n",
       "    <tr>\n",
       "      <th>2010</th>\n",
       "      <td>0.158198</td>\n",
       "      <td>0.120600</td>\n",
       "      <td>0.288261</td>\n",
       "      <td>30.090217</td>\n",
       "    </tr>\n",
       "    <tr>\n",
       "      <th>2011</th>\n",
       "      <td>0.182156</td>\n",
       "      <td>0.142576</td>\n",
       "      <td>0.275000</td>\n",
       "      <td>28.829348</td>\n",
       "    </tr>\n",
       "    <tr>\n",
       "      <th>2012</th>\n",
       "      <td>0.207454</td>\n",
       "      <td>0.166495</td>\n",
       "      <td>0.254130</td>\n",
       "      <td>26.854348</td>\n",
       "    </tr>\n",
       "    <tr>\n",
       "      <th>2013</th>\n",
       "      <td>0.237434</td>\n",
       "      <td>0.192996</td>\n",
       "      <td>0.254783</td>\n",
       "      <td>27.070652</td>\n",
       "    </tr>\n",
       "    <tr>\n",
       "      <th>2014</th>\n",
       "      <td>0.264719</td>\n",
       "      <td>0.217651</td>\n",
       "      <td>0.258587</td>\n",
       "      <td>27.625000</td>\n",
       "    </tr>\n",
       "    <tr>\n",
       "      <th>2015</th>\n",
       "      <td>0.299588</td>\n",
       "      <td>0.250603</td>\n",
       "      <td>0.260435</td>\n",
       "      <td>27.992391</td>\n",
       "    </tr>\n",
       "    <tr>\n",
       "      <th>2016</th>\n",
       "      <td>0.331751</td>\n",
       "      <td>0.280481</td>\n",
       "      <td>0.262717</td>\n",
       "      <td>28.415217</td>\n",
       "    </tr>\n",
       "    <tr>\n",
       "      <th>2017</th>\n",
       "      <td>0.380971</td>\n",
       "      <td>0.328315</td>\n",
       "      <td>0.263370</td>\n",
       "      <td>28.663043</td>\n",
       "    </tr>\n",
       "    <tr>\n",
       "      <th>2018</th>\n",
       "      <td>0.428346</td>\n",
       "      <td>0.371763</td>\n",
       "      <td>0.267826</td>\n",
       "      <td>29.353261</td>\n",
       "    </tr>\n",
       "    <tr>\n",
       "      <th>2019</th>\n",
       "      <td>0.475569</td>\n",
       "      <td>0.415095</td>\n",
       "      <td>0.276848</td>\n",
       "      <td>30.394565</td>\n",
       "    </tr>\n",
       "    <tr>\n",
       "      <th>2020</th>\n",
       "      <td>0.521511</td>\n",
       "      <td>0.463941</td>\n",
       "      <td>0.265652</td>\n",
       "      <td>29.281522</td>\n",
       "    </tr>\n",
       "    <tr>\n",
       "      <th>2021</th>\n",
       "      <td>0.598166</td>\n",
       "      <td>0.536687</td>\n",
       "      <td>0.274891</td>\n",
       "      <td>30.436957</td>\n",
       "    </tr>\n",
       "  </tbody>\n",
       "</table>\n",
       "</div>"
      ],
      "text/plain": [
       "      Consumo_renovables  Produccion_renovables  Consumo_Nuclear  \\\n",
       "Anio                                                               \n",
       "1995            0.032831               0.026062         0.257717   \n",
       "1996            0.033374               0.026873         0.267174   \n",
       "1997            0.035927               0.029160         0.265217   \n",
       "1998            0.037777               0.030878         0.269891   \n",
       "1999            0.040058               0.033059         0.280109   \n",
       "2000            0.042795               0.035948         0.286630   \n",
       "2001            0.044805               0.038188         0.292500   \n",
       "2002            0.051182               0.042937         0.295761   \n",
       "2003            0.055943               0.046619         0.287826   \n",
       "2004            0.064107               0.053085         0.298696   \n",
       "2005            0.072527               0.059433         0.297935   \n",
       "2006            0.082752               0.066533         0.299891   \n",
       "2007            0.097650               0.076386         0.291630   \n",
       "2008            0.116609               0.087935         0.289022   \n",
       "2009            0.133869               0.101204         0.283043   \n",
       "2010            0.158198               0.120600         0.288261   \n",
       "2011            0.182156               0.142576         0.275000   \n",
       "2012            0.207454               0.166495         0.254130   \n",
       "2013            0.237434               0.192996         0.254783   \n",
       "2014            0.264719               0.217651         0.258587   \n",
       "2015            0.299588               0.250603         0.260435   \n",
       "2016            0.331751               0.280481         0.262717   \n",
       "2017            0.380971               0.328315         0.263370   \n",
       "2018            0.428346               0.371763         0.267826   \n",
       "2019            0.475569               0.415095         0.276848   \n",
       "2020            0.521511               0.463941         0.265652   \n",
       "2021            0.598166               0.536687         0.274891   \n",
       "\n",
       "      Produccion_Nuclear  \n",
       "Anio                      \n",
       "1995           25.241304  \n",
       "1996           26.160870  \n",
       "1997           25.982609  \n",
       "1998           26.432609  \n",
       "1999           27.434783  \n",
       "2000           28.054348  \n",
       "2001           28.845652  \n",
       "2002           29.304348  \n",
       "2003           28.715217  \n",
       "2004           30.018478  \n",
       "2005           30.094565  \n",
       "2006           30.470652  \n",
       "2007           29.846739  \n",
       "2008           29.758696  \n",
       "2009           29.339130  \n",
       "2010           30.090217  \n",
       "2011           28.829348  \n",
       "2012           26.854348  \n",
       "2013           27.070652  \n",
       "2014           27.625000  \n",
       "2015           27.992391  \n",
       "2016           28.415217  \n",
       "2017           28.663043  \n",
       "2018           29.353261  \n",
       "2019           30.394565  \n",
       "2020           29.281522  \n",
       "2021           30.436957  "
      ]
     },
     "execution_count": 214,
     "metadata": {},
     "output_type": "execute_result"
    }
   ],
   "source": [
    "todas_lim_año=todas_ren.groupby(by=['Anio']).mean()\n",
    "todas_lim_año"
   ]
  },
  {
   "cell_type": "code",
   "execution_count": 225,
   "metadata": {},
   "outputs": [
    {
     "data": {
      "text/html": [
       "<div>\n",
       "<style scoped>\n",
       "    .dataframe tbody tr th:only-of-type {\n",
       "        vertical-align: middle;\n",
       "    }\n",
       "\n",
       "    .dataframe tbody tr th {\n",
       "        vertical-align: top;\n",
       "    }\n",
       "\n",
       "    .dataframe thead th {\n",
       "        text-align: right;\n",
       "    }\n",
       "</style>\n",
       "<table border=\"1\" class=\"dataframe\">\n",
       "  <thead>\n",
       "    <tr style=\"text-align: right;\">\n",
       "      <th></th>\n",
       "      <th>Consumo_renovables</th>\n",
       "      <th>Produccion_renovables</th>\n",
       "      <th>Consumo_Nuclear</th>\n",
       "      <th>Produccion_Nuclear</th>\n",
       "      <th>total_consumo</th>\n",
       "    </tr>\n",
       "    <tr>\n",
       "      <th>Anio</th>\n",
       "      <th></th>\n",
       "      <th></th>\n",
       "      <th></th>\n",
       "      <th></th>\n",
       "      <th></th>\n",
       "    </tr>\n",
       "  </thead>\n",
       "  <tbody>\n",
       "    <tr>\n",
       "      <th>1995</th>\n",
       "      <td>0.032831</td>\n",
       "      <td>0.026062</td>\n",
       "      <td>0.257717</td>\n",
       "      <td>25.241304</td>\n",
       "      <td>0.145274</td>\n",
       "    </tr>\n",
       "    <tr>\n",
       "      <th>1996</th>\n",
       "      <td>0.033374</td>\n",
       "      <td>0.026873</td>\n",
       "      <td>0.267174</td>\n",
       "      <td>26.160870</td>\n",
       "      <td>0.150274</td>\n",
       "    </tr>\n",
       "    <tr>\n",
       "      <th>1997</th>\n",
       "      <td>0.035927</td>\n",
       "      <td>0.029160</td>\n",
       "      <td>0.265217</td>\n",
       "      <td>25.982609</td>\n",
       "      <td>0.150572</td>\n",
       "    </tr>\n",
       "    <tr>\n",
       "      <th>1998</th>\n",
       "      <td>0.037777</td>\n",
       "      <td>0.030878</td>\n",
       "      <td>0.269891</td>\n",
       "      <td>26.432609</td>\n",
       "      <td>0.153834</td>\n",
       "    </tr>\n",
       "    <tr>\n",
       "      <th>1999</th>\n",
       "      <td>0.040058</td>\n",
       "      <td>0.033059</td>\n",
       "      <td>0.280109</td>\n",
       "      <td>27.434783</td>\n",
       "      <td>0.160084</td>\n",
       "    </tr>\n",
       "    <tr>\n",
       "      <th>2000</th>\n",
       "      <td>0.042795</td>\n",
       "      <td>0.035948</td>\n",
       "      <td>0.286630</td>\n",
       "      <td>28.054348</td>\n",
       "      <td>0.164713</td>\n",
       "    </tr>\n",
       "    <tr>\n",
       "      <th>2001</th>\n",
       "      <td>0.044805</td>\n",
       "      <td>0.038188</td>\n",
       "      <td>0.292500</td>\n",
       "      <td>28.845652</td>\n",
       "      <td>0.168653</td>\n",
       "    </tr>\n",
       "    <tr>\n",
       "      <th>2002</th>\n",
       "      <td>0.051182</td>\n",
       "      <td>0.042937</td>\n",
       "      <td>0.295761</td>\n",
       "      <td>29.304348</td>\n",
       "      <td>0.173471</td>\n",
       "    </tr>\n",
       "    <tr>\n",
       "      <th>2003</th>\n",
       "      <td>0.055943</td>\n",
       "      <td>0.046619</td>\n",
       "      <td>0.287826</td>\n",
       "      <td>28.715217</td>\n",
       "      <td>0.171885</td>\n",
       "    </tr>\n",
       "    <tr>\n",
       "      <th>2004</th>\n",
       "      <td>0.064107</td>\n",
       "      <td>0.053085</td>\n",
       "      <td>0.298696</td>\n",
       "      <td>30.018478</td>\n",
       "      <td>0.181401</td>\n",
       "    </tr>\n",
       "    <tr>\n",
       "      <th>2005</th>\n",
       "      <td>0.072527</td>\n",
       "      <td>0.059433</td>\n",
       "      <td>0.297935</td>\n",
       "      <td>30.094565</td>\n",
       "      <td>0.185231</td>\n",
       "    </tr>\n",
       "    <tr>\n",
       "      <th>2006</th>\n",
       "      <td>0.082752</td>\n",
       "      <td>0.066533</td>\n",
       "      <td>0.299891</td>\n",
       "      <td>30.470652</td>\n",
       "      <td>0.191322</td>\n",
       "    </tr>\n",
       "    <tr>\n",
       "      <th>2007</th>\n",
       "      <td>0.097650</td>\n",
       "      <td>0.076386</td>\n",
       "      <td>0.291630</td>\n",
       "      <td>29.846739</td>\n",
       "      <td>0.194640</td>\n",
       "    </tr>\n",
       "    <tr>\n",
       "      <th>2008</th>\n",
       "      <td>0.116609</td>\n",
       "      <td>0.087935</td>\n",
       "      <td>0.289022</td>\n",
       "      <td>29.758696</td>\n",
       "      <td>0.202815</td>\n",
       "    </tr>\n",
       "    <tr>\n",
       "      <th>2009</th>\n",
       "      <td>0.133869</td>\n",
       "      <td>0.101204</td>\n",
       "      <td>0.283043</td>\n",
       "      <td>29.339130</td>\n",
       "      <td>0.208456</td>\n",
       "    </tr>\n",
       "    <tr>\n",
       "      <th>2010</th>\n",
       "      <td>0.158198</td>\n",
       "      <td>0.120600</td>\n",
       "      <td>0.288261</td>\n",
       "      <td>30.090217</td>\n",
       "      <td>0.223230</td>\n",
       "    </tr>\n",
       "    <tr>\n",
       "      <th>2011</th>\n",
       "      <td>0.182156</td>\n",
       "      <td>0.142576</td>\n",
       "      <td>0.275000</td>\n",
       "      <td>28.829348</td>\n",
       "      <td>0.228578</td>\n",
       "    </tr>\n",
       "    <tr>\n",
       "      <th>2012</th>\n",
       "      <td>0.207454</td>\n",
       "      <td>0.166495</td>\n",
       "      <td>0.254130</td>\n",
       "      <td>26.854348</td>\n",
       "      <td>0.230792</td>\n",
       "    </tr>\n",
       "    <tr>\n",
       "      <th>2013</th>\n",
       "      <td>0.237434</td>\n",
       "      <td>0.192996</td>\n",
       "      <td>0.254783</td>\n",
       "      <td>27.070652</td>\n",
       "      <td>0.246109</td>\n",
       "    </tr>\n",
       "    <tr>\n",
       "      <th>2014</th>\n",
       "      <td>0.264719</td>\n",
       "      <td>0.217651</td>\n",
       "      <td>0.258587</td>\n",
       "      <td>27.625000</td>\n",
       "      <td>0.261653</td>\n",
       "    </tr>\n",
       "    <tr>\n",
       "      <th>2015</th>\n",
       "      <td>0.299588</td>\n",
       "      <td>0.250603</td>\n",
       "      <td>0.260435</td>\n",
       "      <td>27.992391</td>\n",
       "      <td>0.280012</td>\n",
       "    </tr>\n",
       "    <tr>\n",
       "      <th>2016</th>\n",
       "      <td>0.331751</td>\n",
       "      <td>0.280481</td>\n",
       "      <td>0.262717</td>\n",
       "      <td>28.415217</td>\n",
       "      <td>0.297234</td>\n",
       "    </tr>\n",
       "    <tr>\n",
       "      <th>2017</th>\n",
       "      <td>0.380971</td>\n",
       "      <td>0.328315</td>\n",
       "      <td>0.263370</td>\n",
       "      <td>28.663043</td>\n",
       "      <td>0.322170</td>\n",
       "    </tr>\n",
       "    <tr>\n",
       "      <th>2018</th>\n",
       "      <td>0.428346</td>\n",
       "      <td>0.371763</td>\n",
       "      <td>0.267826</td>\n",
       "      <td>29.353261</td>\n",
       "      <td>0.348086</td>\n",
       "    </tr>\n",
       "    <tr>\n",
       "      <th>2019</th>\n",
       "      <td>0.475569</td>\n",
       "      <td>0.415095</td>\n",
       "      <td>0.276848</td>\n",
       "      <td>30.394565</td>\n",
       "      <td>0.376208</td>\n",
       "    </tr>\n",
       "    <tr>\n",
       "      <th>2020</th>\n",
       "      <td>0.521511</td>\n",
       "      <td>0.463941</td>\n",
       "      <td>0.265652</td>\n",
       "      <td>29.281522</td>\n",
       "      <td>0.393582</td>\n",
       "    </tr>\n",
       "    <tr>\n",
       "      <th>2021</th>\n",
       "      <td>0.598166</td>\n",
       "      <td>0.536687</td>\n",
       "      <td>0.274891</td>\n",
       "      <td>30.436957</td>\n",
       "      <td>0.436529</td>\n",
       "    </tr>\n",
       "  </tbody>\n",
       "</table>\n",
       "</div>"
      ],
      "text/plain": [
       "      Consumo_renovables  Produccion_renovables  Consumo_Nuclear  \\\n",
       "Anio                                                               \n",
       "1995            0.032831               0.026062         0.257717   \n",
       "1996            0.033374               0.026873         0.267174   \n",
       "1997            0.035927               0.029160         0.265217   \n",
       "1998            0.037777               0.030878         0.269891   \n",
       "1999            0.040058               0.033059         0.280109   \n",
       "2000            0.042795               0.035948         0.286630   \n",
       "2001            0.044805               0.038188         0.292500   \n",
       "2002            0.051182               0.042937         0.295761   \n",
       "2003            0.055943               0.046619         0.287826   \n",
       "2004            0.064107               0.053085         0.298696   \n",
       "2005            0.072527               0.059433         0.297935   \n",
       "2006            0.082752               0.066533         0.299891   \n",
       "2007            0.097650               0.076386         0.291630   \n",
       "2008            0.116609               0.087935         0.289022   \n",
       "2009            0.133869               0.101204         0.283043   \n",
       "2010            0.158198               0.120600         0.288261   \n",
       "2011            0.182156               0.142576         0.275000   \n",
       "2012            0.207454               0.166495         0.254130   \n",
       "2013            0.237434               0.192996         0.254783   \n",
       "2014            0.264719               0.217651         0.258587   \n",
       "2015            0.299588               0.250603         0.260435   \n",
       "2016            0.331751               0.280481         0.262717   \n",
       "2017            0.380971               0.328315         0.263370   \n",
       "2018            0.428346               0.371763         0.267826   \n",
       "2019            0.475569               0.415095         0.276848   \n",
       "2020            0.521511               0.463941         0.265652   \n",
       "2021            0.598166               0.536687         0.274891   \n",
       "\n",
       "      Produccion_Nuclear  total_consumo  \n",
       "Anio                                     \n",
       "1995           25.241304       0.145274  \n",
       "1996           26.160870       0.150274  \n",
       "1997           25.982609       0.150572  \n",
       "1998           26.432609       0.153834  \n",
       "1999           27.434783       0.160084  \n",
       "2000           28.054348       0.164713  \n",
       "2001           28.845652       0.168653  \n",
       "2002           29.304348       0.173471  \n",
       "2003           28.715217       0.171885  \n",
       "2004           30.018478       0.181401  \n",
       "2005           30.094565       0.185231  \n",
       "2006           30.470652       0.191322  \n",
       "2007           29.846739       0.194640  \n",
       "2008           29.758696       0.202815  \n",
       "2009           29.339130       0.208456  \n",
       "2010           30.090217       0.223230  \n",
       "2011           28.829348       0.228578  \n",
       "2012           26.854348       0.230792  \n",
       "2013           27.070652       0.246109  \n",
       "2014           27.625000       0.261653  \n",
       "2015           27.992391       0.280012  \n",
       "2016           28.415217       0.297234  \n",
       "2017           28.663043       0.322170  \n",
       "2018           29.353261       0.348086  \n",
       "2019           30.394565       0.376208  \n",
       "2020           29.281522       0.393582  \n",
       "2021           30.436957       0.436529  "
      ]
     },
     "execution_count": 225,
     "metadata": {},
     "output_type": "execute_result"
    }
   ],
   "source": [
    "todas_lim_año['total_consumo'] = (todas_lim_año['Consumo_renovables']+todas_lim_año['Consumo_Nuclear'])/2\n",
    "todas_lim_año"
   ]
  },
  {
   "cell_type": "code",
   "execution_count": 226,
   "metadata": {},
   "outputs": [
    {
     "data": {
      "text/html": [
       "<div>\n",
       "<style scoped>\n",
       "    .dataframe tbody tr th:only-of-type {\n",
       "        vertical-align: middle;\n",
       "    }\n",
       "\n",
       "    .dataframe tbody tr th {\n",
       "        vertical-align: top;\n",
       "    }\n",
       "\n",
       "    .dataframe thead th {\n",
       "        text-align: right;\n",
       "    }\n",
       "</style>\n",
       "<table border=\"1\" class=\"dataframe\">\n",
       "  <thead>\n",
       "    <tr style=\"text-align: right;\">\n",
       "      <th></th>\n",
       "      <th>Consumo_renovables</th>\n",
       "      <th>Produccion_renovables</th>\n",
       "      <th>Consumo_Nuclear</th>\n",
       "      <th>Produccion_Nuclear</th>\n",
       "      <th>total_consumo</th>\n",
       "      <th>total_producion</th>\n",
       "    </tr>\n",
       "    <tr>\n",
       "      <th>Anio</th>\n",
       "      <th></th>\n",
       "      <th></th>\n",
       "      <th></th>\n",
       "      <th></th>\n",
       "      <th></th>\n",
       "      <th></th>\n",
       "    </tr>\n",
       "  </thead>\n",
       "  <tbody>\n",
       "    <tr>\n",
       "      <th>1995</th>\n",
       "      <td>0.032831</td>\n",
       "      <td>0.026062</td>\n",
       "      <td>0.257717</td>\n",
       "      <td>25.241304</td>\n",
       "      <td>0.145274</td>\n",
       "      <td>12.633683</td>\n",
       "    </tr>\n",
       "    <tr>\n",
       "      <th>1996</th>\n",
       "      <td>0.033374</td>\n",
       "      <td>0.026873</td>\n",
       "      <td>0.267174</td>\n",
       "      <td>26.160870</td>\n",
       "      <td>0.150274</td>\n",
       "      <td>13.093871</td>\n",
       "    </tr>\n",
       "    <tr>\n",
       "      <th>1997</th>\n",
       "      <td>0.035927</td>\n",
       "      <td>0.029160</td>\n",
       "      <td>0.265217</td>\n",
       "      <td>25.982609</td>\n",
       "      <td>0.150572</td>\n",
       "      <td>13.005884</td>\n",
       "    </tr>\n",
       "    <tr>\n",
       "      <th>1998</th>\n",
       "      <td>0.037777</td>\n",
       "      <td>0.030878</td>\n",
       "      <td>0.269891</td>\n",
       "      <td>26.432609</td>\n",
       "      <td>0.153834</td>\n",
       "      <td>13.231743</td>\n",
       "    </tr>\n",
       "    <tr>\n",
       "      <th>1999</th>\n",
       "      <td>0.040058</td>\n",
       "      <td>0.033059</td>\n",
       "      <td>0.280109</td>\n",
       "      <td>27.434783</td>\n",
       "      <td>0.160084</td>\n",
       "      <td>13.733921</td>\n",
       "    </tr>\n",
       "    <tr>\n",
       "      <th>2000</th>\n",
       "      <td>0.042795</td>\n",
       "      <td>0.035948</td>\n",
       "      <td>0.286630</td>\n",
       "      <td>28.054348</td>\n",
       "      <td>0.164713</td>\n",
       "      <td>14.045148</td>\n",
       "    </tr>\n",
       "    <tr>\n",
       "      <th>2001</th>\n",
       "      <td>0.044805</td>\n",
       "      <td>0.038188</td>\n",
       "      <td>0.292500</td>\n",
       "      <td>28.845652</td>\n",
       "      <td>0.168653</td>\n",
       "      <td>14.441920</td>\n",
       "    </tr>\n",
       "    <tr>\n",
       "      <th>2002</th>\n",
       "      <td>0.051182</td>\n",
       "      <td>0.042937</td>\n",
       "      <td>0.295761</td>\n",
       "      <td>29.304348</td>\n",
       "      <td>0.173471</td>\n",
       "      <td>14.673643</td>\n",
       "    </tr>\n",
       "    <tr>\n",
       "      <th>2003</th>\n",
       "      <td>0.055943</td>\n",
       "      <td>0.046619</td>\n",
       "      <td>0.287826</td>\n",
       "      <td>28.715217</td>\n",
       "      <td>0.171885</td>\n",
       "      <td>14.380918</td>\n",
       "    </tr>\n",
       "    <tr>\n",
       "      <th>2004</th>\n",
       "      <td>0.064107</td>\n",
       "      <td>0.053085</td>\n",
       "      <td>0.298696</td>\n",
       "      <td>30.018478</td>\n",
       "      <td>0.181401</td>\n",
       "      <td>15.035782</td>\n",
       "    </tr>\n",
       "    <tr>\n",
       "      <th>2005</th>\n",
       "      <td>0.072527</td>\n",
       "      <td>0.059433</td>\n",
       "      <td>0.297935</td>\n",
       "      <td>30.094565</td>\n",
       "      <td>0.185231</td>\n",
       "      <td>15.076999</td>\n",
       "    </tr>\n",
       "    <tr>\n",
       "      <th>2006</th>\n",
       "      <td>0.082752</td>\n",
       "      <td>0.066533</td>\n",
       "      <td>0.299891</td>\n",
       "      <td>30.470652</td>\n",
       "      <td>0.191322</td>\n",
       "      <td>15.268593</td>\n",
       "    </tr>\n",
       "    <tr>\n",
       "      <th>2007</th>\n",
       "      <td>0.097650</td>\n",
       "      <td>0.076386</td>\n",
       "      <td>0.291630</td>\n",
       "      <td>29.846739</td>\n",
       "      <td>0.194640</td>\n",
       "      <td>14.961563</td>\n",
       "    </tr>\n",
       "    <tr>\n",
       "      <th>2008</th>\n",
       "      <td>0.116609</td>\n",
       "      <td>0.087935</td>\n",
       "      <td>0.289022</td>\n",
       "      <td>29.758696</td>\n",
       "      <td>0.202815</td>\n",
       "      <td>14.923315</td>\n",
       "    </tr>\n",
       "    <tr>\n",
       "      <th>2009</th>\n",
       "      <td>0.133869</td>\n",
       "      <td>0.101204</td>\n",
       "      <td>0.283043</td>\n",
       "      <td>29.339130</td>\n",
       "      <td>0.208456</td>\n",
       "      <td>14.720167</td>\n",
       "    </tr>\n",
       "    <tr>\n",
       "      <th>2010</th>\n",
       "      <td>0.158198</td>\n",
       "      <td>0.120600</td>\n",
       "      <td>0.288261</td>\n",
       "      <td>30.090217</td>\n",
       "      <td>0.223230</td>\n",
       "      <td>15.105409</td>\n",
       "    </tr>\n",
       "    <tr>\n",
       "      <th>2011</th>\n",
       "      <td>0.182156</td>\n",
       "      <td>0.142576</td>\n",
       "      <td>0.275000</td>\n",
       "      <td>28.829348</td>\n",
       "      <td>0.228578</td>\n",
       "      <td>14.485962</td>\n",
       "    </tr>\n",
       "    <tr>\n",
       "      <th>2012</th>\n",
       "      <td>0.207454</td>\n",
       "      <td>0.166495</td>\n",
       "      <td>0.254130</td>\n",
       "      <td>26.854348</td>\n",
       "      <td>0.230792</td>\n",
       "      <td>13.510422</td>\n",
       "    </tr>\n",
       "    <tr>\n",
       "      <th>2013</th>\n",
       "      <td>0.237434</td>\n",
       "      <td>0.192996</td>\n",
       "      <td>0.254783</td>\n",
       "      <td>27.070652</td>\n",
       "      <td>0.246109</td>\n",
       "      <td>13.631824</td>\n",
       "    </tr>\n",
       "    <tr>\n",
       "      <th>2014</th>\n",
       "      <td>0.264719</td>\n",
       "      <td>0.217651</td>\n",
       "      <td>0.258587</td>\n",
       "      <td>27.625000</td>\n",
       "      <td>0.261653</td>\n",
       "      <td>13.921325</td>\n",
       "    </tr>\n",
       "    <tr>\n",
       "      <th>2015</th>\n",
       "      <td>0.299588</td>\n",
       "      <td>0.250603</td>\n",
       "      <td>0.260435</td>\n",
       "      <td>27.992391</td>\n",
       "      <td>0.280012</td>\n",
       "      <td>14.121497</td>\n",
       "    </tr>\n",
       "    <tr>\n",
       "      <th>2016</th>\n",
       "      <td>0.331751</td>\n",
       "      <td>0.280481</td>\n",
       "      <td>0.262717</td>\n",
       "      <td>28.415217</td>\n",
       "      <td>0.297234</td>\n",
       "      <td>14.347849</td>\n",
       "    </tr>\n",
       "    <tr>\n",
       "      <th>2017</th>\n",
       "      <td>0.380971</td>\n",
       "      <td>0.328315</td>\n",
       "      <td>0.263370</td>\n",
       "      <td>28.663043</td>\n",
       "      <td>0.322170</td>\n",
       "      <td>14.495679</td>\n",
       "    </tr>\n",
       "    <tr>\n",
       "      <th>2018</th>\n",
       "      <td>0.428346</td>\n",
       "      <td>0.371763</td>\n",
       "      <td>0.267826</td>\n",
       "      <td>29.353261</td>\n",
       "      <td>0.348086</td>\n",
       "      <td>14.862512</td>\n",
       "    </tr>\n",
       "    <tr>\n",
       "      <th>2019</th>\n",
       "      <td>0.475569</td>\n",
       "      <td>0.415095</td>\n",
       "      <td>0.276848</td>\n",
       "      <td>30.394565</td>\n",
       "      <td>0.376208</td>\n",
       "      <td>15.404830</td>\n",
       "    </tr>\n",
       "    <tr>\n",
       "      <th>2020</th>\n",
       "      <td>0.521511</td>\n",
       "      <td>0.463941</td>\n",
       "      <td>0.265652</td>\n",
       "      <td>29.281522</td>\n",
       "      <td>0.393582</td>\n",
       "      <td>14.872731</td>\n",
       "    </tr>\n",
       "    <tr>\n",
       "      <th>2021</th>\n",
       "      <td>0.598166</td>\n",
       "      <td>0.536687</td>\n",
       "      <td>0.274891</td>\n",
       "      <td>30.436957</td>\n",
       "      <td>0.436529</td>\n",
       "      <td>15.486822</td>\n",
       "    </tr>\n",
       "  </tbody>\n",
       "</table>\n",
       "</div>"
      ],
      "text/plain": [
       "      Consumo_renovables  Produccion_renovables  Consumo_Nuclear  \\\n",
       "Anio                                                               \n",
       "1995            0.032831               0.026062         0.257717   \n",
       "1996            0.033374               0.026873         0.267174   \n",
       "1997            0.035927               0.029160         0.265217   \n",
       "1998            0.037777               0.030878         0.269891   \n",
       "1999            0.040058               0.033059         0.280109   \n",
       "2000            0.042795               0.035948         0.286630   \n",
       "2001            0.044805               0.038188         0.292500   \n",
       "2002            0.051182               0.042937         0.295761   \n",
       "2003            0.055943               0.046619         0.287826   \n",
       "2004            0.064107               0.053085         0.298696   \n",
       "2005            0.072527               0.059433         0.297935   \n",
       "2006            0.082752               0.066533         0.299891   \n",
       "2007            0.097650               0.076386         0.291630   \n",
       "2008            0.116609               0.087935         0.289022   \n",
       "2009            0.133869               0.101204         0.283043   \n",
       "2010            0.158198               0.120600         0.288261   \n",
       "2011            0.182156               0.142576         0.275000   \n",
       "2012            0.207454               0.166495         0.254130   \n",
       "2013            0.237434               0.192996         0.254783   \n",
       "2014            0.264719               0.217651         0.258587   \n",
       "2015            0.299588               0.250603         0.260435   \n",
       "2016            0.331751               0.280481         0.262717   \n",
       "2017            0.380971               0.328315         0.263370   \n",
       "2018            0.428346               0.371763         0.267826   \n",
       "2019            0.475569               0.415095         0.276848   \n",
       "2020            0.521511               0.463941         0.265652   \n",
       "2021            0.598166               0.536687         0.274891   \n",
       "\n",
       "      Produccion_Nuclear  total_consumo  total_producion  \n",
       "Anio                                                      \n",
       "1995           25.241304       0.145274        12.633683  \n",
       "1996           26.160870       0.150274        13.093871  \n",
       "1997           25.982609       0.150572        13.005884  \n",
       "1998           26.432609       0.153834        13.231743  \n",
       "1999           27.434783       0.160084        13.733921  \n",
       "2000           28.054348       0.164713        14.045148  \n",
       "2001           28.845652       0.168653        14.441920  \n",
       "2002           29.304348       0.173471        14.673643  \n",
       "2003           28.715217       0.171885        14.380918  \n",
       "2004           30.018478       0.181401        15.035782  \n",
       "2005           30.094565       0.185231        15.076999  \n",
       "2006           30.470652       0.191322        15.268593  \n",
       "2007           29.846739       0.194640        14.961563  \n",
       "2008           29.758696       0.202815        14.923315  \n",
       "2009           29.339130       0.208456        14.720167  \n",
       "2010           30.090217       0.223230        15.105409  \n",
       "2011           28.829348       0.228578        14.485962  \n",
       "2012           26.854348       0.230792        13.510422  \n",
       "2013           27.070652       0.246109        13.631824  \n",
       "2014           27.625000       0.261653        13.921325  \n",
       "2015           27.992391       0.280012        14.121497  \n",
       "2016           28.415217       0.297234        14.347849  \n",
       "2017           28.663043       0.322170        14.495679  \n",
       "2018           29.353261       0.348086        14.862512  \n",
       "2019           30.394565       0.376208        15.404830  \n",
       "2020           29.281522       0.393582        14.872731  \n",
       "2021           30.436957       0.436529        15.486822  "
      ]
     },
     "execution_count": 226,
     "metadata": {},
     "output_type": "execute_result"
    }
   ],
   "source": [
    "todas_lim_año['total_producion'] = (todas_lim_año['Produccion_renovables']+todas_lim_año['Produccion_Nuclear'])/2\n",
    "todas_lim_año"
   ]
  },
  {
   "cell_type": "code",
   "execution_count": 240,
   "metadata": {},
   "outputs": [
    {
     "data": {
      "application/vnd.plotly.v1+json": {
       "config": {
        "plotlyServerURL": "https://plot.ly"
       },
       "data": [
        {
         "mode": "lines",
         "name": "Energia Limpia",
         "type": "scatter",
         "x": [
          1995,
          1996,
          1997,
          1998,
          1999,
          2000,
          2001,
          2002,
          2003,
          2004,
          2005,
          2006,
          2007,
          2008,
          2009,
          2010,
          2011,
          2012,
          2013,
          2014,
          2015,
          2016,
          2017,
          2018,
          2019,
          2020,
          2021
         ],
         "y": [
          0.14527403445917886,
          0.150274202819299,
          0.1505721106236526,
          0.15383415028834296,
          0.16008357554589403,
          0.16471257740950446,
          0.16865262644665116,
          0.17347140951512163,
          0.17188460133893238,
          0.18140118807911254,
          0.18523067199032722,
          0.19132150496095718,
          0.19464026194725192,
          0.20281540298098463,
          0.2084563751557788,
          0.2232296142286685,
          0.22857775457198992,
          0.23079214902292228,
          0.24610854341643593,
          0.26165273494309405,
          0.2800116036320306,
          0.29723436612652765,
          0.32217011081254016,
          0.3480860994202663,
          0.37620831900959895,
          0.3935816885543265,
          0.4365288920002123
         ]
        },
        {
         "mode": "lines",
         "name": "Energia fosil",
         "type": "scatter",
         "x": [
          1981,
          1982,
          1983,
          1984,
          1985,
          1986,
          1987,
          1988,
          1989,
          1990,
          1991,
          1992,
          1993,
          1994,
          1995,
          1996,
          1997,
          1998,
          1999,
          2000,
          2001,
          2002,
          2003,
          2004,
          2005,
          2006,
          2007,
          2008,
          2009,
          2010,
          2011,
          2012,
          2013,
          2014,
          2015,
          2016,
          2017,
          2018,
          2019,
          2020
         ],
         "y": [
          5.3820956524639945,
          5.319809400568238,
          5.363791584122705,
          5.587470124768133,
          6.118135609514314,
          6.2017473111292185,
          6.435341196298591,
          6.652270897666795,
          6.788975570650933,
          6.806673551526805,
          6.815619994120458,
          6.8556496859141,
          6.890206213184485,
          6.94680722547981,
          7.045707126984624,
          7.246282871499219,
          7.296081592442024,
          7.330593738649176,
          7.465843491726538,
          7.683416429166391,
          7.755831393392195,
          7.974156949811743,
          8.339948112718952,
          8.781839584783453,
          9.120595332308438,
          9.417357234331648,
          9.796750384900603,
          9.87029946357449,
          9.74851294081969,
          10.247744441064485,
          10.578418122679313,
          10.697099363699085,
          10.892489597754205,
          11.007160688433785,
          11.020781243551909,
          11.104847863704244,
          11.276759316347924,
          11.62302591324309,
          11.663075150598228,
          11.117781032889804
         ]
        }
       ],
       "layout": {
        "template": {
         "data": {
          "bar": [
           {
            "error_x": {
             "color": "#2a3f5f"
            },
            "error_y": {
             "color": "#2a3f5f"
            },
            "marker": {
             "line": {
              "color": "#E5ECF6",
              "width": 0.5
             },
             "pattern": {
              "fillmode": "overlay",
              "size": 10,
              "solidity": 0.2
             }
            },
            "type": "bar"
           }
          ],
          "barpolar": [
           {
            "marker": {
             "line": {
              "color": "#E5ECF6",
              "width": 0.5
             },
             "pattern": {
              "fillmode": "overlay",
              "size": 10,
              "solidity": 0.2
             }
            },
            "type": "barpolar"
           }
          ],
          "carpet": [
           {
            "aaxis": {
             "endlinecolor": "#2a3f5f",
             "gridcolor": "white",
             "linecolor": "white",
             "minorgridcolor": "white",
             "startlinecolor": "#2a3f5f"
            },
            "baxis": {
             "endlinecolor": "#2a3f5f",
             "gridcolor": "white",
             "linecolor": "white",
             "minorgridcolor": "white",
             "startlinecolor": "#2a3f5f"
            },
            "type": "carpet"
           }
          ],
          "choropleth": [
           {
            "colorbar": {
             "outlinewidth": 0,
             "ticks": ""
            },
            "type": "choropleth"
           }
          ],
          "contour": [
           {
            "colorbar": {
             "outlinewidth": 0,
             "ticks": ""
            },
            "colorscale": [
             [
              0,
              "#0d0887"
             ],
             [
              0.1111111111111111,
              "#46039f"
             ],
             [
              0.2222222222222222,
              "#7201a8"
             ],
             [
              0.3333333333333333,
              "#9c179e"
             ],
             [
              0.4444444444444444,
              "#bd3786"
             ],
             [
              0.5555555555555556,
              "#d8576b"
             ],
             [
              0.6666666666666666,
              "#ed7953"
             ],
             [
              0.7777777777777778,
              "#fb9f3a"
             ],
             [
              0.8888888888888888,
              "#fdca26"
             ],
             [
              1,
              "#f0f921"
             ]
            ],
            "type": "contour"
           }
          ],
          "contourcarpet": [
           {
            "colorbar": {
             "outlinewidth": 0,
             "ticks": ""
            },
            "type": "contourcarpet"
           }
          ],
          "heatmap": [
           {
            "colorbar": {
             "outlinewidth": 0,
             "ticks": ""
            },
            "colorscale": [
             [
              0,
              "#0d0887"
             ],
             [
              0.1111111111111111,
              "#46039f"
             ],
             [
              0.2222222222222222,
              "#7201a8"
             ],
             [
              0.3333333333333333,
              "#9c179e"
             ],
             [
              0.4444444444444444,
              "#bd3786"
             ],
             [
              0.5555555555555556,
              "#d8576b"
             ],
             [
              0.6666666666666666,
              "#ed7953"
             ],
             [
              0.7777777777777778,
              "#fb9f3a"
             ],
             [
              0.8888888888888888,
              "#fdca26"
             ],
             [
              1,
              "#f0f921"
             ]
            ],
            "type": "heatmap"
           }
          ],
          "heatmapgl": [
           {
            "colorbar": {
             "outlinewidth": 0,
             "ticks": ""
            },
            "colorscale": [
             [
              0,
              "#0d0887"
             ],
             [
              0.1111111111111111,
              "#46039f"
             ],
             [
              0.2222222222222222,
              "#7201a8"
             ],
             [
              0.3333333333333333,
              "#9c179e"
             ],
             [
              0.4444444444444444,
              "#bd3786"
             ],
             [
              0.5555555555555556,
              "#d8576b"
             ],
             [
              0.6666666666666666,
              "#ed7953"
             ],
             [
              0.7777777777777778,
              "#fb9f3a"
             ],
             [
              0.8888888888888888,
              "#fdca26"
             ],
             [
              1,
              "#f0f921"
             ]
            ],
            "type": "heatmapgl"
           }
          ],
          "histogram": [
           {
            "marker": {
             "pattern": {
              "fillmode": "overlay",
              "size": 10,
              "solidity": 0.2
             }
            },
            "type": "histogram"
           }
          ],
          "histogram2d": [
           {
            "colorbar": {
             "outlinewidth": 0,
             "ticks": ""
            },
            "colorscale": [
             [
              0,
              "#0d0887"
             ],
             [
              0.1111111111111111,
              "#46039f"
             ],
             [
              0.2222222222222222,
              "#7201a8"
             ],
             [
              0.3333333333333333,
              "#9c179e"
             ],
             [
              0.4444444444444444,
              "#bd3786"
             ],
             [
              0.5555555555555556,
              "#d8576b"
             ],
             [
              0.6666666666666666,
              "#ed7953"
             ],
             [
              0.7777777777777778,
              "#fb9f3a"
             ],
             [
              0.8888888888888888,
              "#fdca26"
             ],
             [
              1,
              "#f0f921"
             ]
            ],
            "type": "histogram2d"
           }
          ],
          "histogram2dcontour": [
           {
            "colorbar": {
             "outlinewidth": 0,
             "ticks": ""
            },
            "colorscale": [
             [
              0,
              "#0d0887"
             ],
             [
              0.1111111111111111,
              "#46039f"
             ],
             [
              0.2222222222222222,
              "#7201a8"
             ],
             [
              0.3333333333333333,
              "#9c179e"
             ],
             [
              0.4444444444444444,
              "#bd3786"
             ],
             [
              0.5555555555555556,
              "#d8576b"
             ],
             [
              0.6666666666666666,
              "#ed7953"
             ],
             [
              0.7777777777777778,
              "#fb9f3a"
             ],
             [
              0.8888888888888888,
              "#fdca26"
             ],
             [
              1,
              "#f0f921"
             ]
            ],
            "type": "histogram2dcontour"
           }
          ],
          "mesh3d": [
           {
            "colorbar": {
             "outlinewidth": 0,
             "ticks": ""
            },
            "type": "mesh3d"
           }
          ],
          "parcoords": [
           {
            "line": {
             "colorbar": {
              "outlinewidth": 0,
              "ticks": ""
             }
            },
            "type": "parcoords"
           }
          ],
          "pie": [
           {
            "automargin": true,
            "type": "pie"
           }
          ],
          "scatter": [
           {
            "fillpattern": {
             "fillmode": "overlay",
             "size": 10,
             "solidity": 0.2
            },
            "type": "scatter"
           }
          ],
          "scatter3d": [
           {
            "line": {
             "colorbar": {
              "outlinewidth": 0,
              "ticks": ""
             }
            },
            "marker": {
             "colorbar": {
              "outlinewidth": 0,
              "ticks": ""
             }
            },
            "type": "scatter3d"
           }
          ],
          "scattercarpet": [
           {
            "marker": {
             "colorbar": {
              "outlinewidth": 0,
              "ticks": ""
             }
            },
            "type": "scattercarpet"
           }
          ],
          "scattergeo": [
           {
            "marker": {
             "colorbar": {
              "outlinewidth": 0,
              "ticks": ""
             }
            },
            "type": "scattergeo"
           }
          ],
          "scattergl": [
           {
            "marker": {
             "colorbar": {
              "outlinewidth": 0,
              "ticks": ""
             }
            },
            "type": "scattergl"
           }
          ],
          "scattermapbox": [
           {
            "marker": {
             "colorbar": {
              "outlinewidth": 0,
              "ticks": ""
             }
            },
            "type": "scattermapbox"
           }
          ],
          "scatterpolar": [
           {
            "marker": {
             "colorbar": {
              "outlinewidth": 0,
              "ticks": ""
             }
            },
            "type": "scatterpolar"
           }
          ],
          "scatterpolargl": [
           {
            "marker": {
             "colorbar": {
              "outlinewidth": 0,
              "ticks": ""
             }
            },
            "type": "scatterpolargl"
           }
          ],
          "scatterternary": [
           {
            "marker": {
             "colorbar": {
              "outlinewidth": 0,
              "ticks": ""
             }
            },
            "type": "scatterternary"
           }
          ],
          "surface": [
           {
            "colorbar": {
             "outlinewidth": 0,
             "ticks": ""
            },
            "colorscale": [
             [
              0,
              "#0d0887"
             ],
             [
              0.1111111111111111,
              "#46039f"
             ],
             [
              0.2222222222222222,
              "#7201a8"
             ],
             [
              0.3333333333333333,
              "#9c179e"
             ],
             [
              0.4444444444444444,
              "#bd3786"
             ],
             [
              0.5555555555555556,
              "#d8576b"
             ],
             [
              0.6666666666666666,
              "#ed7953"
             ],
             [
              0.7777777777777778,
              "#fb9f3a"
             ],
             [
              0.8888888888888888,
              "#fdca26"
             ],
             [
              1,
              "#f0f921"
             ]
            ],
            "type": "surface"
           }
          ],
          "table": [
           {
            "cells": {
             "fill": {
              "color": "#EBF0F8"
             },
             "line": {
              "color": "white"
             }
            },
            "header": {
             "fill": {
              "color": "#C8D4E3"
             },
             "line": {
              "color": "white"
             }
            },
            "type": "table"
           }
          ]
         },
         "layout": {
          "annotationdefaults": {
           "arrowcolor": "#2a3f5f",
           "arrowhead": 0,
           "arrowwidth": 1
          },
          "autotypenumbers": "strict",
          "coloraxis": {
           "colorbar": {
            "outlinewidth": 0,
            "ticks": ""
           }
          },
          "colorscale": {
           "diverging": [
            [
             0,
             "#8e0152"
            ],
            [
             0.1,
             "#c51b7d"
            ],
            [
             0.2,
             "#de77ae"
            ],
            [
             0.3,
             "#f1b6da"
            ],
            [
             0.4,
             "#fde0ef"
            ],
            [
             0.5,
             "#f7f7f7"
            ],
            [
             0.6,
             "#e6f5d0"
            ],
            [
             0.7,
             "#b8e186"
            ],
            [
             0.8,
             "#7fbc41"
            ],
            [
             0.9,
             "#4d9221"
            ],
            [
             1,
             "#276419"
            ]
           ],
           "sequential": [
            [
             0,
             "#0d0887"
            ],
            [
             0.1111111111111111,
             "#46039f"
            ],
            [
             0.2222222222222222,
             "#7201a8"
            ],
            [
             0.3333333333333333,
             "#9c179e"
            ],
            [
             0.4444444444444444,
             "#bd3786"
            ],
            [
             0.5555555555555556,
             "#d8576b"
            ],
            [
             0.6666666666666666,
             "#ed7953"
            ],
            [
             0.7777777777777778,
             "#fb9f3a"
            ],
            [
             0.8888888888888888,
             "#fdca26"
            ],
            [
             1,
             "#f0f921"
            ]
           ],
           "sequentialminus": [
            [
             0,
             "#0d0887"
            ],
            [
             0.1111111111111111,
             "#46039f"
            ],
            [
             0.2222222222222222,
             "#7201a8"
            ],
            [
             0.3333333333333333,
             "#9c179e"
            ],
            [
             0.4444444444444444,
             "#bd3786"
            ],
            [
             0.5555555555555556,
             "#d8576b"
            ],
            [
             0.6666666666666666,
             "#ed7953"
            ],
            [
             0.7777777777777778,
             "#fb9f3a"
            ],
            [
             0.8888888888888888,
             "#fdca26"
            ],
            [
             1,
             "#f0f921"
            ]
           ]
          },
          "colorway": [
           "#636efa",
           "#EF553B",
           "#00cc96",
           "#ab63fa",
           "#FFA15A",
           "#19d3f3",
           "#FF6692",
           "#B6E880",
           "#FF97FF",
           "#FECB52"
          ],
          "font": {
           "color": "#2a3f5f"
          },
          "geo": {
           "bgcolor": "white",
           "lakecolor": "white",
           "landcolor": "#E5ECF6",
           "showlakes": true,
           "showland": true,
           "subunitcolor": "white"
          },
          "hoverlabel": {
           "align": "left"
          },
          "hovermode": "closest",
          "mapbox": {
           "style": "light"
          },
          "paper_bgcolor": "white",
          "plot_bgcolor": "#E5ECF6",
          "polar": {
           "angularaxis": {
            "gridcolor": "white",
            "linecolor": "white",
            "ticks": ""
           },
           "bgcolor": "#E5ECF6",
           "radialaxis": {
            "gridcolor": "white",
            "linecolor": "white",
            "ticks": ""
           }
          },
          "scene": {
           "xaxis": {
            "backgroundcolor": "#E5ECF6",
            "gridcolor": "white",
            "gridwidth": 2,
            "linecolor": "white",
            "showbackground": true,
            "ticks": "",
            "zerolinecolor": "white"
           },
           "yaxis": {
            "backgroundcolor": "#E5ECF6",
            "gridcolor": "white",
            "gridwidth": 2,
            "linecolor": "white",
            "showbackground": true,
            "ticks": "",
            "zerolinecolor": "white"
           },
           "zaxis": {
            "backgroundcolor": "#E5ECF6",
            "gridcolor": "white",
            "gridwidth": 2,
            "linecolor": "white",
            "showbackground": true,
            "ticks": "",
            "zerolinecolor": "white"
           }
          },
          "shapedefaults": {
           "line": {
            "color": "#2a3f5f"
           }
          },
          "ternary": {
           "aaxis": {
            "gridcolor": "white",
            "linecolor": "white",
            "ticks": ""
           },
           "baxis": {
            "gridcolor": "white",
            "linecolor": "white",
            "ticks": ""
           },
           "bgcolor": "#E5ECF6",
           "caxis": {
            "gridcolor": "white",
            "linecolor": "white",
            "ticks": ""
           }
          },
          "title": {
           "x": 0.05
          },
          "xaxis": {
           "automargin": true,
           "gridcolor": "white",
           "linecolor": "white",
           "ticks": "",
           "title": {
            "standoff": 15
           },
           "zerolinecolor": "white",
           "zerolinewidth": 2
          },
          "yaxis": {
           "automargin": true,
           "gridcolor": "white",
           "linecolor": "white",
           "ticks": "",
           "title": {
            "standoff": 15
           },
           "zerolinecolor": "white",
           "zerolinewidth": 2
          }
         }
        },
        "title": {
         "text": "Consumo Energia fosil vs Energia limpia"
        },
        "xaxis": {
         "title": {
          "text": "Año"
         }
        },
        "yaxis": {
         "title": {
          "text": "Consumo(Exajoules)"
         }
        }
       }
      }
     },
     "metadata": {},
     "output_type": "display_data"
    }
   ],
   "source": [
    "fig = go.Figure()\n",
    "fig.add_trace(go.Scatter(x=todas_lim_año.index, y=todas_lim_año['total_consumo'],\n",
    "                    mode='lines',\n",
    "                    name='Energia Limpia' ))\n",
    "fig.add_trace(go.Scatter(x=ene_fosil_consumo_total_año.index, y=ene_fosil_consumo_total_año['Total_Consumo'],\n",
    "                    mode='lines',\n",
    "                    name='Energia fosil'))\n",
    "fig.update_layout(title='Consumo Energia fosil vs Energia limpia',\n",
    "                   xaxis_title='Año',\n",
    "                   yaxis_title='Consumo(Exajoules)')\n",
    "#st.plotly(fig, use_container_width=True)\n",
    "fig.show()"
   ]
  },
  {
   "cell_type": "code",
   "execution_count": 239,
   "metadata": {},
   "outputs": [
    {
     "data": {
      "application/vnd.plotly.v1+json": {
       "config": {
        "plotlyServerURL": "https://plot.ly"
       },
       "data": [
        {
         "mode": "lines",
         "name": "Energia Limpia",
         "type": "scatter",
         "x": [
          "Argentina",
          "Australia",
          "Austria",
          "Azerbaijan",
          "Belarus",
          "Belgium",
          "Brazil",
          "Bulgaria",
          "Canada",
          "Chile",
          "China",
          "Colombia",
          "Croatia",
          "Cyprus",
          "Czechia",
          "Denmark",
          "Eastern Africa (BP)",
          "Ecuador",
          "Egypt",
          "Estonia",
          "Finland",
          "France",
          "Germany",
          "Greece",
          "Hungary",
          "India",
          "Indonesia",
          "Iran",
          "Ireland",
          "Italy",
          "Japan",
          "Kazakhstan",
          "Latvia",
          "Lithuania",
          "Luxembourg",
          "Mexico",
          "Morocco",
          "Netherlands",
          "New Zealand",
          "North Macedonia",
          "Norway",
          "Oman",
          "Other Caribbean (BP)",
          "Other South America (BP)",
          "Other South and Central America (BP)",
          "Pakistan",
          "Peru",
          "Philippines",
          "Poland",
          "Portugal",
          "Romania",
          "Russia",
          "South Africa",
          "South Korea",
          "Spain",
          "Sri Lanka",
          "Sweden",
          "Switzerland",
          "Taiwan",
          "Thailand",
          "Turkey",
          "Ukraine",
          "United Kingdom",
          "United States",
          "Venezuela",
          "Vietnam"
         ],
         "y": [
          0.16129631642804104,
          0.2090621826595104,
          0.17833355124761718,
          0.1385423040503182,
          0.13911042868871482,
          0.1800056101777296,
          0.6110453514102181,
          0.1464719559968883,
          0.27221637511968577,
          0.17459839989830794,
          1.1589511081079202,
          0.15223129452501794,
          0.14190641334250384,
          0.1392769073211667,
          0.16075847153377334,
          0.2028623568373386,
          0.15871844495763132,
          0.1397468146650513,
          0.14720713021031376,
          0.14275898568167622,
          0.20757175705717995,
          0.27433070657998965,
          0.6419910054672209,
          0.16238108143494367,
          0.1509949534128017,
          0.38528985882815026,
          0.2142624941780089,
          0.13982140975414836,
          0.15835759643194067,
          0.3129775757669324,
          0.3683760239172765,
          0.13963324357424678,
          0.14058074926539005,
          0.14241493601679214,
          0.14043819165027632,
          0.20274400754374589,
          0.14552470641581142,
          0.19997238771807047,
          0.17224452515056898,
          0.13850662178707188,
          0.1516783883093158,
          0.13838163747141985,
          0.15936553089957461,
          0.15320520026261686,
          0.17496486799795957,
          0.14438964608197166,
          0.1468031787976112,
          0.19442698021062524,
          0.19417770963647668,
          0.18645850324226604,
          0.15528571939453356,
          0.14277414311024378,
          0.1559325589455365,
          0.19080098061488088,
          0.3533016043590797,
          0.13956657585273488,
          0.23179184424693225,
          0.14931174282705095,
          0.15647910959330175,
          0.18757281754688593,
          0.19576427626880794,
          0.14557095688219174,
          0.3489258427566811,
          1.594220737481119,
          0.1384242902579369,
          0.14688253598572806
         ]
        },
        {
         "mode": "lines",
         "name": "Energia fosil",
         "type": "scatter",
         "x": [
          "Argentina",
          "Australia",
          "Azerbaijan",
          "Brazil",
          "Canada",
          "China",
          "Colombia",
          "Denmark",
          "Egypt",
          "Germany",
          "India",
          "Indonesia",
          "Iran",
          "Italy",
          "Kazakhstan",
          "Mexico",
          "Netherlands",
          "Norway",
          "Oman",
          "Pakistan",
          "Peru",
          "Poland",
          "Romania",
          "Russia",
          "Thailand",
          "Ukraine",
          "United Kingdom",
          "United States",
          "Venezuela",
          "Vietnam"
         ],
         "y": [
          7.234949834962096,
          6.954699834962096,
          6.409699834962096,
          6.664949834962096,
          9.062449834962095,
          8.908699834962096,
          6.327449834962096,
          6.2081998349620955,
          7.017949834962096,
          8.865699834962095,
          7.132449834962096,
          7.180949834962096,
          9.154949834962096,
          8.187199834962096,
          6.4204498349620955,
          7.806699834962096,
          7.492199834962096,
          6.2089498349620955,
          6.443949834962096,
          6.9044498349620955,
          6.181949834962096,
          6.568949834962096,
          6.819949834962096,
          19.092699834962097,
          6.973199834962096,
          8.292449834962095,
          8.842449834962096,
          27.991949834962096,
          7.122199834962096,
          6.227449834962096
         ]
        }
       ],
       "layout": {
        "template": {
         "data": {
          "bar": [
           {
            "error_x": {
             "color": "#2a3f5f"
            },
            "error_y": {
             "color": "#2a3f5f"
            },
            "marker": {
             "line": {
              "color": "#E5ECF6",
              "width": 0.5
             },
             "pattern": {
              "fillmode": "overlay",
              "size": 10,
              "solidity": 0.2
             }
            },
            "type": "bar"
           }
          ],
          "barpolar": [
           {
            "marker": {
             "line": {
              "color": "#E5ECF6",
              "width": 0.5
             },
             "pattern": {
              "fillmode": "overlay",
              "size": 10,
              "solidity": 0.2
             }
            },
            "type": "barpolar"
           }
          ],
          "carpet": [
           {
            "aaxis": {
             "endlinecolor": "#2a3f5f",
             "gridcolor": "white",
             "linecolor": "white",
             "minorgridcolor": "white",
             "startlinecolor": "#2a3f5f"
            },
            "baxis": {
             "endlinecolor": "#2a3f5f",
             "gridcolor": "white",
             "linecolor": "white",
             "minorgridcolor": "white",
             "startlinecolor": "#2a3f5f"
            },
            "type": "carpet"
           }
          ],
          "choropleth": [
           {
            "colorbar": {
             "outlinewidth": 0,
             "ticks": ""
            },
            "type": "choropleth"
           }
          ],
          "contour": [
           {
            "colorbar": {
             "outlinewidth": 0,
             "ticks": ""
            },
            "colorscale": [
             [
              0,
              "#0d0887"
             ],
             [
              0.1111111111111111,
              "#46039f"
             ],
             [
              0.2222222222222222,
              "#7201a8"
             ],
             [
              0.3333333333333333,
              "#9c179e"
             ],
             [
              0.4444444444444444,
              "#bd3786"
             ],
             [
              0.5555555555555556,
              "#d8576b"
             ],
             [
              0.6666666666666666,
              "#ed7953"
             ],
             [
              0.7777777777777778,
              "#fb9f3a"
             ],
             [
              0.8888888888888888,
              "#fdca26"
             ],
             [
              1,
              "#f0f921"
             ]
            ],
            "type": "contour"
           }
          ],
          "contourcarpet": [
           {
            "colorbar": {
             "outlinewidth": 0,
             "ticks": ""
            },
            "type": "contourcarpet"
           }
          ],
          "heatmap": [
           {
            "colorbar": {
             "outlinewidth": 0,
             "ticks": ""
            },
            "colorscale": [
             [
              0,
              "#0d0887"
             ],
             [
              0.1111111111111111,
              "#46039f"
             ],
             [
              0.2222222222222222,
              "#7201a8"
             ],
             [
              0.3333333333333333,
              "#9c179e"
             ],
             [
              0.4444444444444444,
              "#bd3786"
             ],
             [
              0.5555555555555556,
              "#d8576b"
             ],
             [
              0.6666666666666666,
              "#ed7953"
             ],
             [
              0.7777777777777778,
              "#fb9f3a"
             ],
             [
              0.8888888888888888,
              "#fdca26"
             ],
             [
              1,
              "#f0f921"
             ]
            ],
            "type": "heatmap"
           }
          ],
          "heatmapgl": [
           {
            "colorbar": {
             "outlinewidth": 0,
             "ticks": ""
            },
            "colorscale": [
             [
              0,
              "#0d0887"
             ],
             [
              0.1111111111111111,
              "#46039f"
             ],
             [
              0.2222222222222222,
              "#7201a8"
             ],
             [
              0.3333333333333333,
              "#9c179e"
             ],
             [
              0.4444444444444444,
              "#bd3786"
             ],
             [
              0.5555555555555556,
              "#d8576b"
             ],
             [
              0.6666666666666666,
              "#ed7953"
             ],
             [
              0.7777777777777778,
              "#fb9f3a"
             ],
             [
              0.8888888888888888,
              "#fdca26"
             ],
             [
              1,
              "#f0f921"
             ]
            ],
            "type": "heatmapgl"
           }
          ],
          "histogram": [
           {
            "marker": {
             "pattern": {
              "fillmode": "overlay",
              "size": 10,
              "solidity": 0.2
             }
            },
            "type": "histogram"
           }
          ],
          "histogram2d": [
           {
            "colorbar": {
             "outlinewidth": 0,
             "ticks": ""
            },
            "colorscale": [
             [
              0,
              "#0d0887"
             ],
             [
              0.1111111111111111,
              "#46039f"
             ],
             [
              0.2222222222222222,
              "#7201a8"
             ],
             [
              0.3333333333333333,
              "#9c179e"
             ],
             [
              0.4444444444444444,
              "#bd3786"
             ],
             [
              0.5555555555555556,
              "#d8576b"
             ],
             [
              0.6666666666666666,
              "#ed7953"
             ],
             [
              0.7777777777777778,
              "#fb9f3a"
             ],
             [
              0.8888888888888888,
              "#fdca26"
             ],
             [
              1,
              "#f0f921"
             ]
            ],
            "type": "histogram2d"
           }
          ],
          "histogram2dcontour": [
           {
            "colorbar": {
             "outlinewidth": 0,
             "ticks": ""
            },
            "colorscale": [
             [
              0,
              "#0d0887"
             ],
             [
              0.1111111111111111,
              "#46039f"
             ],
             [
              0.2222222222222222,
              "#7201a8"
             ],
             [
              0.3333333333333333,
              "#9c179e"
             ],
             [
              0.4444444444444444,
              "#bd3786"
             ],
             [
              0.5555555555555556,
              "#d8576b"
             ],
             [
              0.6666666666666666,
              "#ed7953"
             ],
             [
              0.7777777777777778,
              "#fb9f3a"
             ],
             [
              0.8888888888888888,
              "#fdca26"
             ],
             [
              1,
              "#f0f921"
             ]
            ],
            "type": "histogram2dcontour"
           }
          ],
          "mesh3d": [
           {
            "colorbar": {
             "outlinewidth": 0,
             "ticks": ""
            },
            "type": "mesh3d"
           }
          ],
          "parcoords": [
           {
            "line": {
             "colorbar": {
              "outlinewidth": 0,
              "ticks": ""
             }
            },
            "type": "parcoords"
           }
          ],
          "pie": [
           {
            "automargin": true,
            "type": "pie"
           }
          ],
          "scatter": [
           {
            "fillpattern": {
             "fillmode": "overlay",
             "size": 10,
             "solidity": 0.2
            },
            "type": "scatter"
           }
          ],
          "scatter3d": [
           {
            "line": {
             "colorbar": {
              "outlinewidth": 0,
              "ticks": ""
             }
            },
            "marker": {
             "colorbar": {
              "outlinewidth": 0,
              "ticks": ""
             }
            },
            "type": "scatter3d"
           }
          ],
          "scattercarpet": [
           {
            "marker": {
             "colorbar": {
              "outlinewidth": 0,
              "ticks": ""
             }
            },
            "type": "scattercarpet"
           }
          ],
          "scattergeo": [
           {
            "marker": {
             "colorbar": {
              "outlinewidth": 0,
              "ticks": ""
             }
            },
            "type": "scattergeo"
           }
          ],
          "scattergl": [
           {
            "marker": {
             "colorbar": {
              "outlinewidth": 0,
              "ticks": ""
             }
            },
            "type": "scattergl"
           }
          ],
          "scattermapbox": [
           {
            "marker": {
             "colorbar": {
              "outlinewidth": 0,
              "ticks": ""
             }
            },
            "type": "scattermapbox"
           }
          ],
          "scatterpolar": [
           {
            "marker": {
             "colorbar": {
              "outlinewidth": 0,
              "ticks": ""
             }
            },
            "type": "scatterpolar"
           }
          ],
          "scatterpolargl": [
           {
            "marker": {
             "colorbar": {
              "outlinewidth": 0,
              "ticks": ""
             }
            },
            "type": "scatterpolargl"
           }
          ],
          "scatterternary": [
           {
            "marker": {
             "colorbar": {
              "outlinewidth": 0,
              "ticks": ""
             }
            },
            "type": "scatterternary"
           }
          ],
          "surface": [
           {
            "colorbar": {
             "outlinewidth": 0,
             "ticks": ""
            },
            "colorscale": [
             [
              0,
              "#0d0887"
             ],
             [
              0.1111111111111111,
              "#46039f"
             ],
             [
              0.2222222222222222,
              "#7201a8"
             ],
             [
              0.3333333333333333,
              "#9c179e"
             ],
             [
              0.4444444444444444,
              "#bd3786"
             ],
             [
              0.5555555555555556,
              "#d8576b"
             ],
             [
              0.6666666666666666,
              "#ed7953"
             ],
             [
              0.7777777777777778,
              "#fb9f3a"
             ],
             [
              0.8888888888888888,
              "#fdca26"
             ],
             [
              1,
              "#f0f921"
             ]
            ],
            "type": "surface"
           }
          ],
          "table": [
           {
            "cells": {
             "fill": {
              "color": "#EBF0F8"
             },
             "line": {
              "color": "white"
             }
            },
            "header": {
             "fill": {
              "color": "#C8D4E3"
             },
             "line": {
              "color": "white"
             }
            },
            "type": "table"
           }
          ]
         },
         "layout": {
          "annotationdefaults": {
           "arrowcolor": "#2a3f5f",
           "arrowhead": 0,
           "arrowwidth": 1
          },
          "autotypenumbers": "strict",
          "coloraxis": {
           "colorbar": {
            "outlinewidth": 0,
            "ticks": ""
           }
          },
          "colorscale": {
           "diverging": [
            [
             0,
             "#8e0152"
            ],
            [
             0.1,
             "#c51b7d"
            ],
            [
             0.2,
             "#de77ae"
            ],
            [
             0.3,
             "#f1b6da"
            ],
            [
             0.4,
             "#fde0ef"
            ],
            [
             0.5,
             "#f7f7f7"
            ],
            [
             0.6,
             "#e6f5d0"
            ],
            [
             0.7,
             "#b8e186"
            ],
            [
             0.8,
             "#7fbc41"
            ],
            [
             0.9,
             "#4d9221"
            ],
            [
             1,
             "#276419"
            ]
           ],
           "sequential": [
            [
             0,
             "#0d0887"
            ],
            [
             0.1111111111111111,
             "#46039f"
            ],
            [
             0.2222222222222222,
             "#7201a8"
            ],
            [
             0.3333333333333333,
             "#9c179e"
            ],
            [
             0.4444444444444444,
             "#bd3786"
            ],
            [
             0.5555555555555556,
             "#d8576b"
            ],
            [
             0.6666666666666666,
             "#ed7953"
            ],
            [
             0.7777777777777778,
             "#fb9f3a"
            ],
            [
             0.8888888888888888,
             "#fdca26"
            ],
            [
             1,
             "#f0f921"
            ]
           ],
           "sequentialminus": [
            [
             0,
             "#0d0887"
            ],
            [
             0.1111111111111111,
             "#46039f"
            ],
            [
             0.2222222222222222,
             "#7201a8"
            ],
            [
             0.3333333333333333,
             "#9c179e"
            ],
            [
             0.4444444444444444,
             "#bd3786"
            ],
            [
             0.5555555555555556,
             "#d8576b"
            ],
            [
             0.6666666666666666,
             "#ed7953"
            ],
            [
             0.7777777777777778,
             "#fb9f3a"
            ],
            [
             0.8888888888888888,
             "#fdca26"
            ],
            [
             1,
             "#f0f921"
            ]
           ]
          },
          "colorway": [
           "#636efa",
           "#EF553B",
           "#00cc96",
           "#ab63fa",
           "#FFA15A",
           "#19d3f3",
           "#FF6692",
           "#B6E880",
           "#FF97FF",
           "#FECB52"
          ],
          "font": {
           "color": "#2a3f5f"
          },
          "geo": {
           "bgcolor": "white",
           "lakecolor": "white",
           "landcolor": "#E5ECF6",
           "showlakes": true,
           "showland": true,
           "subunitcolor": "white"
          },
          "hoverlabel": {
           "align": "left"
          },
          "hovermode": "closest",
          "mapbox": {
           "style": "light"
          },
          "paper_bgcolor": "white",
          "plot_bgcolor": "#E5ECF6",
          "polar": {
           "angularaxis": {
            "gridcolor": "white",
            "linecolor": "white",
            "ticks": ""
           },
           "bgcolor": "#E5ECF6",
           "radialaxis": {
            "gridcolor": "white",
            "linecolor": "white",
            "ticks": ""
           }
          },
          "scene": {
           "xaxis": {
            "backgroundcolor": "#E5ECF6",
            "gridcolor": "white",
            "gridwidth": 2,
            "linecolor": "white",
            "showbackground": true,
            "ticks": "",
            "zerolinecolor": "white"
           },
           "yaxis": {
            "backgroundcolor": "#E5ECF6",
            "gridcolor": "white",
            "gridwidth": 2,
            "linecolor": "white",
            "showbackground": true,
            "ticks": "",
            "zerolinecolor": "white"
           },
           "zaxis": {
            "backgroundcolor": "#E5ECF6",
            "gridcolor": "white",
            "gridwidth": 2,
            "linecolor": "white",
            "showbackground": true,
            "ticks": "",
            "zerolinecolor": "white"
           }
          },
          "shapedefaults": {
           "line": {
            "color": "#2a3f5f"
           }
          },
          "ternary": {
           "aaxis": {
            "gridcolor": "white",
            "linecolor": "white",
            "ticks": ""
           },
           "baxis": {
            "gridcolor": "white",
            "linecolor": "white",
            "ticks": ""
           },
           "bgcolor": "#E5ECF6",
           "caxis": {
            "gridcolor": "white",
            "linecolor": "white",
            "ticks": ""
           }
          },
          "title": {
           "x": 0.05
          },
          "xaxis": {
           "automargin": true,
           "gridcolor": "white",
           "linecolor": "white",
           "ticks": "",
           "title": {
            "standoff": 15
           },
           "zerolinecolor": "white",
           "zerolinewidth": 2
          },
          "yaxis": {
           "automargin": true,
           "gridcolor": "white",
           "linecolor": "white",
           "ticks": "",
           "title": {
            "standoff": 15
           },
           "zerolinecolor": "white",
           "zerolinewidth": 2
          }
         }
        },
        "title": {
         "text": "Consumo Energia fosil vs Energia limpia por país"
        },
        "xaxis": {
         "title": {
          "text": "Año"
         }
        },
        "yaxis": {
         "title": {
          "text": "Consumo(Exajoules)"
         }
        }
       }
      }
     },
     "metadata": {},
     "output_type": "display_data"
    }
   ],
   "source": [
    "fig = go.Figure()\n",
    "fig.add_trace(go.Scatter(x=todas_lim_pais.index, y=todas_lim_pais['total_consumo'],\n",
    "                    mode='lines',\n",
    "                    name='Energia Limpia' ))\n",
    "fig.add_trace(go.Scatter(x=ene_fosil_consumo_total_pais.index, y=ene_fosil_consumo_total_pais['Total_Consumo'],\n",
    "                    mode='lines',\n",
    "                    name='Energia fosil'))\n",
    "fig.update_layout(title='Consumo Energia fosil vs Energia limpia por país',\n",
    "                   xaxis_title='Año',\n",
    "                   yaxis_title='Consumo(Exajoules)')\n",
    "#st.plotly(fig, use_container_width=True)\n",
    "fig.show()"
   ]
  },
  {
   "cell_type": "code",
   "execution_count": 257,
   "metadata": {},
   "outputs": [],
   "source": [
    "#consulta consumo energias por pais\n",
    "carbon=pd.read_sql_query('SELECT *FROM \"Energia_Carbon\";', con=conexion)\n",
    "carbon.rename(columns={'Id_Anio':'Id_anio'},inplace=True)\n",
    "petroleo=pd.read_sql_query('SELECT *FROM \"Energia_petroleo\";', con=conexion)\n",
    "gas_n=pd.read_sql_query('SELECT *FROM \"Gas_Natural\";', con=conexion)\n",
    "eolica=pd.read_sql_query('SELECT *FROM \"Energia_Eolica\";', con=conexion)\n",
    "hidroe=pd.read_sql_query('SELECT *FROM \"Energia_Hidroelectrica\";', con=conexion)\n",
    "solar=pd.read_sql_query('SELECT *FROM \"Energia_solar\";', con=conexion)\n",
    "geoter=pd.read_sql_query('SELECT *FROM \"Energia_Geotermica\";', con=conexion)\n",
    "nuclear=pd.read_sql_query('SELECT *FROM \"Energia_nuclear\";', con=conexion)\n"
   ]
  },
  {
   "cell_type": "code",
   "execution_count": 20,
   "metadata": {},
   "outputs": [],
   "source": [
    "def grafica_consumo_fosil(pais):\n",
    "    carbon=pd.read_sql_query('SELECT *FROM \"Energia_Carbon\";', con=conexion)\n",
    "    carbon.rename(columns={'Id_Anio':'Id_anio'},inplace=True)\n",
    "    petroleo=pd.read_sql_query('SELECT *FROM \"Energia_petroleo\";', con=conexion)\n",
    "    gas=pd.read_sql_query('SELECT *FROM \"Gas_Natural2\";', con=conexion)\n",
    "    ene_fosil=pd.merge(carbon,petroleo, on='Id_anio')\n",
    "    ene_fosil=pd.merge(ene_fosil,gas,how='left', on='Id_anio')\n",
    "    ene_fosil.drop(columns={'Id_Pais_x','ID_Energia_petroleo','Id_Pais_y','Id_Energia_Gas'},inplace=True)\n",
    "    ene_fosil_consumo=ene_fosil.loc[:,('Id_anio','Id_Pais','Consumo_Carbon','Consumo_Petroleo','Consumo_Gas_Natural')]\n",
    "    ene_fosil_consumo.fillna(0, inplace=True)\n",
    "    ene_fosil_consumo['Total_Consumo']=ene_fosil_consumo['Consumo_Carbon']+ene_fosil_consumo['Consumo_Petroleo']+ene_fosil_consumo['Consumo_Gas_Natural']\n",
    "    ene_fosil_consumo_total=pd.merge(ene_fosil_consumo,paises, on='Id_Pais')\n",
    "    ene_fosil_consumo_total=pd.merge(ene_fosil_consumo_total,años, on='Id_anio')\n",
    "    indexN=ene_fosil_consumo_total[ene_fosil_consumo_total['Pais']=='Other Europe (BP)'].index\n",
    "    ene_fosil_consumo_total.drop(indexN, inplace=True)\n",
    "    indexN=ene_fosil_consumo_total[ene_fosil_consumo_total['Pais']=='Other CIS (BP)'].index\n",
    "    ene_fosil_consumo_total.drop(indexN, inplace=True)\n",
    "    indexN=ene_fosil_consumo_total[ene_fosil_consumo_total['Pais']=='Other Middle East (BP)'].index\n",
    "    ene_fosil_consumo_total.drop(indexN, inplace=True)\n",
    "    indexN=ene_fosil_consumo_total[ene_fosil_consumo_total['Pais']=='Other Western Africa (BP)'].index\n",
    "    ene_fosil_consumo_total.drop(indexN, inplace=True)\n",
    "    indexN=ene_fosil_consumo_total[ene_fosil_consumo_total['Pais']=='Other Northern Africa (BP)'].index\n",
    "    ene_fosil_consumo_total.drop(indexN, inplace=True)\n",
    "    indexN=ene_fosil_consumo_total[ene_fosil_consumo_total['Pais']=='Other Asia Pacific (BP)'].index\n",
    "    ene_fosil_consumo_total.drop(indexN, inplace=True)\n",
    "    año90=ene_fosil_consumo_total[ene_fosil_consumo_total.Anio>=1990]\n",
    "    pais=año90[(año90.Pais==pais)].groupby(by=['Anio']).mean()\n",
    "   \n",
    "    fig = go.Figure()\n",
    "    fig.add_trace(go.Bar(\n",
    "    x=pais.index,\n",
    "    y=pais['Consumo_Carbon'],\n",
    "    name='Carbon',\n",
    "    marker_color= 'lightslategray'\n",
    "        ))\n",
    "    fig.add_trace(go.Bar(\n",
    "    x=pais.index,\n",
    "    y=pais['Consumo_Petroleo'],\n",
    "    name='Petroleo',\n",
    "    marker_color='black'\n",
    "        ))\n",
    "    fig.add_trace(go.Bar(\n",
    "    x=pais.index,\n",
    "    y=pais['Consumo_Gas_Natural'],\n",
    "    name='Gas Natural',\n",
    "    marker_color='yellowgreen'\n",
    "        ))\n",
    "    return fig.show()"
   ]
  },
  {
   "cell_type": "code",
   "execution_count": 21,
   "metadata": {},
   "outputs": [
    {
     "data": {
      "application/vnd.plotly.v1+json": {
       "config": {
        "plotlyServerURL": "https://plot.ly"
       },
       "data": [
        {
         "marker": {
          "color": "lightslategray"
         },
         "name": "Carbon",
         "type": "bar",
         "x": [
          1990,
          1991,
          1992,
          1993,
          1994,
          1995,
          1996,
          1997,
          1998,
          1999,
          2000,
          2001,
          2002,
          2003,
          2004,
          2005,
          2006,
          2007,
          2008,
          2009,
          2010,
          2011,
          2012,
          2013,
          2014,
          2015,
          2016,
          2017,
          2018,
          2019,
          2020,
          2021
         ],
         "y": [
          2.5014285714285713,
          2.475142857142857,
          2.476,
          2.491714285714286,
          2.500857142857143,
          2.5171428571428573,
          2.573714285714286,
          2.571142857142857,
          2.5508571428571427,
          2.569428571428572,
          2.657142857142857,
          2.694571428571429,
          2.8048571428571427,
          3.0517142857142856,
          3.2717142857142854,
          3.5314285714285716,
          3.718285714285714,
          3.9354285714285715,
          3.999142857142857,
          3.953142857142857,
          4.123714285714286,
          4.326285714285714,
          4.339714285714285,
          4.401428571428571,
          4.433714285714285,
          4.318857142857143,
          4.2628571428571425,
          4.283142857142857,
          4.339142857142857,
          4.2865714285714285,
          4.127428571428571,
          4.3748571428571426
         ]
        },
        {
         "marker": {
          "color": "black"
         },
         "name": "Petroleo",
         "type": "bar",
         "x": [
          1990,
          1991,
          1992,
          1993,
          1994,
          1995,
          1996,
          1997,
          1998,
          1999,
          2000,
          2001,
          2002,
          2003,
          2004,
          2005,
          2006,
          2007,
          2008,
          2009,
          2010,
          2011,
          2012,
          2013,
          2014,
          2015,
          2016,
          2017,
          2018,
          2019,
          2020,
          2021
         ],
         "y": [
          2.4059116467649,
          2.3964771369776,
          2.4436496859141,
          2.4454919274702,
          2.494283415956,
          2.5178976031750997,
          2.5762352524515997,
          2.6642720686324997,
          2.6914032624587,
          2.7627482536312997,
          2.8139402386901997,
          2.8455932981540997,
          2.8882998069546,
          2.9665671603379997,
          3.1164586324025003,
          3.1595000942132,
          3.2087381867126,
          3.2719884801387,
          3.2378232730982996,
          3.2130367503434996,
          3.3610301553501993,
          3.4281324083936,
          3.4803850779847996,
          3.5627276929923,
          3.6194464027195,
          3.6952574340281004,
          3.7549907208471,
          3.8269497925383997,
          3.9165497227669,
          3.9415037220267997,
          3.6000191281279,
          3.8287920340945
         ]
        },
        {
         "marker": {
          "color": "yellowgreen"
         },
         "name": "Gas Natural",
         "type": "bar",
         "x": [
          1990,
          1991,
          1992,
          1993,
          1994,
          1995,
          1996,
          1997,
          1998,
          1999,
          2000,
          2001,
          2002,
          2003,
          2004,
          2005,
          2006,
          2007,
          2008,
          2009,
          2010,
          2011,
          2012,
          2013,
          2014,
          2015,
          2016,
          2017,
          2018,
          2019,
          2020,
          2021
         ],
         "y": [
          18.61,
          19.02,
          19.67,
          20.16,
          20.63,
          21.53,
          21.92,
          22.05,
          21.68,
          21.75,
          22.62,
          21.62,
          22.32,
          21.68,
          21.77,
          21.43,
          21.12,
          22.47,
          22.64,
          22.23,
          23.33,
          23.7,
          24.77,
          25.45,
          26,
          26.77,
          26.97,
          26.64,
          29.58,
          30.62,
          29.95,
          29.76
         ]
        }
       ],
       "layout": {
        "template": {
         "data": {
          "bar": [
           {
            "error_x": {
             "color": "#2a3f5f"
            },
            "error_y": {
             "color": "#2a3f5f"
            },
            "marker": {
             "line": {
              "color": "#E5ECF6",
              "width": 0.5
             },
             "pattern": {
              "fillmode": "overlay",
              "size": 10,
              "solidity": 0.2
             }
            },
            "type": "bar"
           }
          ],
          "barpolar": [
           {
            "marker": {
             "line": {
              "color": "#E5ECF6",
              "width": 0.5
             },
             "pattern": {
              "fillmode": "overlay",
              "size": 10,
              "solidity": 0.2
             }
            },
            "type": "barpolar"
           }
          ],
          "carpet": [
           {
            "aaxis": {
             "endlinecolor": "#2a3f5f",
             "gridcolor": "white",
             "linecolor": "white",
             "minorgridcolor": "white",
             "startlinecolor": "#2a3f5f"
            },
            "baxis": {
             "endlinecolor": "#2a3f5f",
             "gridcolor": "white",
             "linecolor": "white",
             "minorgridcolor": "white",
             "startlinecolor": "#2a3f5f"
            },
            "type": "carpet"
           }
          ],
          "choropleth": [
           {
            "colorbar": {
             "outlinewidth": 0,
             "ticks": ""
            },
            "type": "choropleth"
           }
          ],
          "contour": [
           {
            "colorbar": {
             "outlinewidth": 0,
             "ticks": ""
            },
            "colorscale": [
             [
              0,
              "#0d0887"
             ],
             [
              0.1111111111111111,
              "#46039f"
             ],
             [
              0.2222222222222222,
              "#7201a8"
             ],
             [
              0.3333333333333333,
              "#9c179e"
             ],
             [
              0.4444444444444444,
              "#bd3786"
             ],
             [
              0.5555555555555556,
              "#d8576b"
             ],
             [
              0.6666666666666666,
              "#ed7953"
             ],
             [
              0.7777777777777778,
              "#fb9f3a"
             ],
             [
              0.8888888888888888,
              "#fdca26"
             ],
             [
              1,
              "#f0f921"
             ]
            ],
            "type": "contour"
           }
          ],
          "contourcarpet": [
           {
            "colorbar": {
             "outlinewidth": 0,
             "ticks": ""
            },
            "type": "contourcarpet"
           }
          ],
          "heatmap": [
           {
            "colorbar": {
             "outlinewidth": 0,
             "ticks": ""
            },
            "colorscale": [
             [
              0,
              "#0d0887"
             ],
             [
              0.1111111111111111,
              "#46039f"
             ],
             [
              0.2222222222222222,
              "#7201a8"
             ],
             [
              0.3333333333333333,
              "#9c179e"
             ],
             [
              0.4444444444444444,
              "#bd3786"
             ],
             [
              0.5555555555555556,
              "#d8576b"
             ],
             [
              0.6666666666666666,
              "#ed7953"
             ],
             [
              0.7777777777777778,
              "#fb9f3a"
             ],
             [
              0.8888888888888888,
              "#fdca26"
             ],
             [
              1,
              "#f0f921"
             ]
            ],
            "type": "heatmap"
           }
          ],
          "heatmapgl": [
           {
            "colorbar": {
             "outlinewidth": 0,
             "ticks": ""
            },
            "colorscale": [
             [
              0,
              "#0d0887"
             ],
             [
              0.1111111111111111,
              "#46039f"
             ],
             [
              0.2222222222222222,
              "#7201a8"
             ],
             [
              0.3333333333333333,
              "#9c179e"
             ],
             [
              0.4444444444444444,
              "#bd3786"
             ],
             [
              0.5555555555555556,
              "#d8576b"
             ],
             [
              0.6666666666666666,
              "#ed7953"
             ],
             [
              0.7777777777777778,
              "#fb9f3a"
             ],
             [
              0.8888888888888888,
              "#fdca26"
             ],
             [
              1,
              "#f0f921"
             ]
            ],
            "type": "heatmapgl"
           }
          ],
          "histogram": [
           {
            "marker": {
             "pattern": {
              "fillmode": "overlay",
              "size": 10,
              "solidity": 0.2
             }
            },
            "type": "histogram"
           }
          ],
          "histogram2d": [
           {
            "colorbar": {
             "outlinewidth": 0,
             "ticks": ""
            },
            "colorscale": [
             [
              0,
              "#0d0887"
             ],
             [
              0.1111111111111111,
              "#46039f"
             ],
             [
              0.2222222222222222,
              "#7201a8"
             ],
             [
              0.3333333333333333,
              "#9c179e"
             ],
             [
              0.4444444444444444,
              "#bd3786"
             ],
             [
              0.5555555555555556,
              "#d8576b"
             ],
             [
              0.6666666666666666,
              "#ed7953"
             ],
             [
              0.7777777777777778,
              "#fb9f3a"
             ],
             [
              0.8888888888888888,
              "#fdca26"
             ],
             [
              1,
              "#f0f921"
             ]
            ],
            "type": "histogram2d"
           }
          ],
          "histogram2dcontour": [
           {
            "colorbar": {
             "outlinewidth": 0,
             "ticks": ""
            },
            "colorscale": [
             [
              0,
              "#0d0887"
             ],
             [
              0.1111111111111111,
              "#46039f"
             ],
             [
              0.2222222222222222,
              "#7201a8"
             ],
             [
              0.3333333333333333,
              "#9c179e"
             ],
             [
              0.4444444444444444,
              "#bd3786"
             ],
             [
              0.5555555555555556,
              "#d8576b"
             ],
             [
              0.6666666666666666,
              "#ed7953"
             ],
             [
              0.7777777777777778,
              "#fb9f3a"
             ],
             [
              0.8888888888888888,
              "#fdca26"
             ],
             [
              1,
              "#f0f921"
             ]
            ],
            "type": "histogram2dcontour"
           }
          ],
          "mesh3d": [
           {
            "colorbar": {
             "outlinewidth": 0,
             "ticks": ""
            },
            "type": "mesh3d"
           }
          ],
          "parcoords": [
           {
            "line": {
             "colorbar": {
              "outlinewidth": 0,
              "ticks": ""
             }
            },
            "type": "parcoords"
           }
          ],
          "pie": [
           {
            "automargin": true,
            "type": "pie"
           }
          ],
          "scatter": [
           {
            "fillpattern": {
             "fillmode": "overlay",
             "size": 10,
             "solidity": 0.2
            },
            "type": "scatter"
           }
          ],
          "scatter3d": [
           {
            "line": {
             "colorbar": {
              "outlinewidth": 0,
              "ticks": ""
             }
            },
            "marker": {
             "colorbar": {
              "outlinewidth": 0,
              "ticks": ""
             }
            },
            "type": "scatter3d"
           }
          ],
          "scattercarpet": [
           {
            "marker": {
             "colorbar": {
              "outlinewidth": 0,
              "ticks": ""
             }
            },
            "type": "scattercarpet"
           }
          ],
          "scattergeo": [
           {
            "marker": {
             "colorbar": {
              "outlinewidth": 0,
              "ticks": ""
             }
            },
            "type": "scattergeo"
           }
          ],
          "scattergl": [
           {
            "marker": {
             "colorbar": {
              "outlinewidth": 0,
              "ticks": ""
             }
            },
            "type": "scattergl"
           }
          ],
          "scattermapbox": [
           {
            "marker": {
             "colorbar": {
              "outlinewidth": 0,
              "ticks": ""
             }
            },
            "type": "scattermapbox"
           }
          ],
          "scatterpolar": [
           {
            "marker": {
             "colorbar": {
              "outlinewidth": 0,
              "ticks": ""
             }
            },
            "type": "scatterpolar"
           }
          ],
          "scatterpolargl": [
           {
            "marker": {
             "colorbar": {
              "outlinewidth": 0,
              "ticks": ""
             }
            },
            "type": "scatterpolargl"
           }
          ],
          "scatterternary": [
           {
            "marker": {
             "colorbar": {
              "outlinewidth": 0,
              "ticks": ""
             }
            },
            "type": "scatterternary"
           }
          ],
          "surface": [
           {
            "colorbar": {
             "outlinewidth": 0,
             "ticks": ""
            },
            "colorscale": [
             [
              0,
              "#0d0887"
             ],
             [
              0.1111111111111111,
              "#46039f"
             ],
             [
              0.2222222222222222,
              "#7201a8"
             ],
             [
              0.3333333333333333,
              "#9c179e"
             ],
             [
              0.4444444444444444,
              "#bd3786"
             ],
             [
              0.5555555555555556,
              "#d8576b"
             ],
             [
              0.6666666666666666,
              "#ed7953"
             ],
             [
              0.7777777777777778,
              "#fb9f3a"
             ],
             [
              0.8888888888888888,
              "#fdca26"
             ],
             [
              1,
              "#f0f921"
             ]
            ],
            "type": "surface"
           }
          ],
          "table": [
           {
            "cells": {
             "fill": {
              "color": "#EBF0F8"
             },
             "line": {
              "color": "white"
             }
            },
            "header": {
             "fill": {
              "color": "#C8D4E3"
             },
             "line": {
              "color": "white"
             }
            },
            "type": "table"
           }
          ]
         },
         "layout": {
          "annotationdefaults": {
           "arrowcolor": "#2a3f5f",
           "arrowhead": 0,
           "arrowwidth": 1
          },
          "autotypenumbers": "strict",
          "coloraxis": {
           "colorbar": {
            "outlinewidth": 0,
            "ticks": ""
           }
          },
          "colorscale": {
           "diverging": [
            [
             0,
             "#8e0152"
            ],
            [
             0.1,
             "#c51b7d"
            ],
            [
             0.2,
             "#de77ae"
            ],
            [
             0.3,
             "#f1b6da"
            ],
            [
             0.4,
             "#fde0ef"
            ],
            [
             0.5,
             "#f7f7f7"
            ],
            [
             0.6,
             "#e6f5d0"
            ],
            [
             0.7,
             "#b8e186"
            ],
            [
             0.8,
             "#7fbc41"
            ],
            [
             0.9,
             "#4d9221"
            ],
            [
             1,
             "#276419"
            ]
           ],
           "sequential": [
            [
             0,
             "#0d0887"
            ],
            [
             0.1111111111111111,
             "#46039f"
            ],
            [
             0.2222222222222222,
             "#7201a8"
            ],
            [
             0.3333333333333333,
             "#9c179e"
            ],
            [
             0.4444444444444444,
             "#bd3786"
            ],
            [
             0.5555555555555556,
             "#d8576b"
            ],
            [
             0.6666666666666666,
             "#ed7953"
            ],
            [
             0.7777777777777778,
             "#fb9f3a"
            ],
            [
             0.8888888888888888,
             "#fdca26"
            ],
            [
             1,
             "#f0f921"
            ]
           ],
           "sequentialminus": [
            [
             0,
             "#0d0887"
            ],
            [
             0.1111111111111111,
             "#46039f"
            ],
            [
             0.2222222222222222,
             "#7201a8"
            ],
            [
             0.3333333333333333,
             "#9c179e"
            ],
            [
             0.4444444444444444,
             "#bd3786"
            ],
            [
             0.5555555555555556,
             "#d8576b"
            ],
            [
             0.6666666666666666,
             "#ed7953"
            ],
            [
             0.7777777777777778,
             "#fb9f3a"
            ],
            [
             0.8888888888888888,
             "#fdca26"
            ],
            [
             1,
             "#f0f921"
            ]
           ]
          },
          "colorway": [
           "#636efa",
           "#EF553B",
           "#00cc96",
           "#ab63fa",
           "#FFA15A",
           "#19d3f3",
           "#FF6692",
           "#B6E880",
           "#FF97FF",
           "#FECB52"
          ],
          "font": {
           "color": "#2a3f5f"
          },
          "geo": {
           "bgcolor": "white",
           "lakecolor": "white",
           "landcolor": "#E5ECF6",
           "showlakes": true,
           "showland": true,
           "subunitcolor": "white"
          },
          "hoverlabel": {
           "align": "left"
          },
          "hovermode": "closest",
          "mapbox": {
           "style": "light"
          },
          "paper_bgcolor": "white",
          "plot_bgcolor": "#E5ECF6",
          "polar": {
           "angularaxis": {
            "gridcolor": "white",
            "linecolor": "white",
            "ticks": ""
           },
           "bgcolor": "#E5ECF6",
           "radialaxis": {
            "gridcolor": "white",
            "linecolor": "white",
            "ticks": ""
           }
          },
          "scene": {
           "xaxis": {
            "backgroundcolor": "#E5ECF6",
            "gridcolor": "white",
            "gridwidth": 2,
            "linecolor": "white",
            "showbackground": true,
            "ticks": "",
            "zerolinecolor": "white"
           },
           "yaxis": {
            "backgroundcolor": "#E5ECF6",
            "gridcolor": "white",
            "gridwidth": 2,
            "linecolor": "white",
            "showbackground": true,
            "ticks": "",
            "zerolinecolor": "white"
           },
           "zaxis": {
            "backgroundcolor": "#E5ECF6",
            "gridcolor": "white",
            "gridwidth": 2,
            "linecolor": "white",
            "showbackground": true,
            "ticks": "",
            "zerolinecolor": "white"
           }
          },
          "shapedefaults": {
           "line": {
            "color": "#2a3f5f"
           }
          },
          "ternary": {
           "aaxis": {
            "gridcolor": "white",
            "linecolor": "white",
            "ticks": ""
           },
           "baxis": {
            "gridcolor": "white",
            "linecolor": "white",
            "ticks": ""
           },
           "bgcolor": "#E5ECF6",
           "caxis": {
            "gridcolor": "white",
            "linecolor": "white",
            "ticks": ""
           }
          },
          "title": {
           "x": 0.05
          },
          "xaxis": {
           "automargin": true,
           "gridcolor": "white",
           "linecolor": "white",
           "ticks": "",
           "title": {
            "standoff": 15
           },
           "zerolinecolor": "white",
           "zerolinewidth": 2
          },
          "yaxis": {
           "automargin": true,
           "gridcolor": "white",
           "linecolor": "white",
           "ticks": "",
           "title": {
            "standoff": 15
           },
           "zerolinecolor": "white",
           "zerolinewidth": 2
          }
         }
        }
       }
      }
     },
     "metadata": {},
     "output_type": "display_data"
    }
   ],
   "source": [
    "grafica=grafica_consumo_fosil('United States')\n",
    "grafica"
   ]
  },
  {
   "cell_type": "code",
   "execution_count": 25,
   "metadata": {},
   "outputs": [],
   "source": [
    "#FUNCION PARA GRAFICAR ENERGIAS LIMPIAS\n",
    "def grafica_consumo_limpio(pais):\n",
    "    eoil=pd.read_sql_query('SELECT *FROM \"Energia_Eolica\";', con=conexion)\n",
    "    solar=pd.read_sql_query('SELECT *FROM \"Energia_solar\";', con=conexion)\n",
    "    hidro=pd.read_sql_query('SELECT *FROM \"Energia_Hidroelectrica\";', con=conexion)\n",
    "    hidro.rename(columns={'Id_Anio':'Id_anio'}, inplace=True)\n",
    "    geo=pd.read_sql_query('SELECT *FROM \"Energia_Geotermica\";', con=conexion)\n",
    "    geo.rename(columns={'Id_Anio':'Id_anio'}, inplace=True)\n",
    "    nuclear=pd.read_sql_query('SELECT *FROM \"Energia_nuclear_con_ceros\";', con=conexion)\n",
    "    todas=pd.merge(solar,eoil, on='Id_anio')\n",
    "    todas=pd.merge(todas,hidro, on='Id_anio')\n",
    "    todas.drop(columns={'Id_Pais_x','Id_Pais_y','Id_Energia_Eolica','Id_Energia_Hidroelectrica'},inplace=True)\n",
    "    todas=pd.merge(todas, años, on='Id_anio')\n",
    "    todas90=todas[todas['Anio']>=1990]\n",
    "    todas90=pd.merge(todas90,paises, on='Id_Pais')\n",
    "    indexN=todas90[todas90['Pais']=='Other Europe (BP)'].index\n",
    "    todas90.drop(indexN, inplace=True)\n",
    "    indexN=todas90[todas90['Pais']=='Other CIS (BP)'].index\n",
    "    todas90.drop(indexN, inplace=True)\n",
    "    indexN=todas90[todas90['Pais']=='Other Middle East (BP)'].index\n",
    "    todas90.drop(indexN, inplace=True)\n",
    "    indexN=todas90[todas90['Pais']=='Other Western Africa (BP)'].index\n",
    "    todas90.drop(indexN, inplace=True)\n",
    "    indexN=todas90[todas90['Pais']=='Other Northern Africa (BP)'].index\n",
    "    todas90.drop(indexN, inplace=True)\n",
    "    indexN=todas90[todas90['Pais']=='Other Asia Pacific (BP)'].index\n",
    "    todas90.drop(indexN, inplace=True)\n",
    "    todas90.drop(columns={'Id_Energia_solar','Id_anio','Id_Pais'},inplace=True)\n",
    "    todas90['Consumo_Eolica']=todas90['Consumo_Eolica'].astype(float)\n",
    "    todas90['Produccion_Eolica']=todas90['Produccion_Eolica'].astype(float)\n",
    "    todas90['Capacidad_instalada_Eolica']=todas90['Capacidad_instalada_Eolica'].astype(float)\n",
    "    todas90['Consumo_Hidroelectrica']=todas90['Consumo_Hidroelectrica'].astype(float)\n",
    "    pais_lim1=todas90[(todas90.Pais==pais)].groupby(by=['Anio']).mean()\n",
    "    geo_nuc=pd.merge(geo, paises, on='Id_Pais')\n",
    "    geo_nuc=pd.merge(geo_nuc, años, on='Id_anio')\n",
    "    geo_nuc=pd.merge(geo_nuc,nuclear, on='Id_anio')\n",
    "    geo_nuc.drop(columns={'Id_Pais_x','Id_Pais_y','Id_anio','Id_Energia_Geotermica','ID_Energia_nuclear'},inplace=True)\n",
    "    indexN=geo_nuc[geo_nuc['Pais']=='Other Europe (BP)'].index\n",
    "    geo_nuc.drop(indexN, inplace=True)\n",
    "    indexN=geo_nuc[geo_nuc['Pais']=='Other CIS (BP)'].index\n",
    "    geo_nuc.drop(indexN, inplace=True)\n",
    "    indexN=geo_nuc[geo_nuc['Pais']=='Other Middle East (BP)'].index\n",
    "    geo_nuc.drop(indexN, inplace=True)\n",
    "    indexN=geo_nuc[geo_nuc['Pais']=='Other Western Africa (BP)'].index\n",
    "    geo_nuc.drop(indexN, inplace=True)\n",
    "    indexN=geo_nuc[geo_nuc['Pais']=='Other Northern Africa (BP)'].index\n",
    "    geo_nuc.drop(indexN, inplace=True)\n",
    "    indexN=geo_nuc[geo_nuc['Pais']=='Other Asia Pacific (BP)'].index\n",
    "    geo_nuc.drop(indexN, inplace=True)\n",
    "    geo_nuc['Consumo_Geotermica']=geo_nuc['Consumo_Geotermica'].astype(float)\n",
    "    pais_lim2=geo_nuc[(geo_nuc.Pais==pais)].groupby(by=['Anio']).mean()\n",
    "    fig = go.Figure()\n",
    "    fig.add_trace(go.Bar(\n",
    "    x=pais_lim1.index,\n",
    "    y=pais_lim1['Consumo_solar'],\n",
    "    name='Solar',\n",
    "    marker_color= 'yellow'\n",
    "        ))\n",
    "    fig.add_trace(go.Bar(\n",
    "    x=pais_lim1.index,\n",
    "    y=pais_lim1['Consumo_Eolica'],\n",
    "    name='Eolica',\n",
    "    marker_color='crimson'\n",
    "        ))\n",
    "    fig.add_trace(go.Bar(\n",
    "    x=pais_lim1.index,\n",
    "    y=pais_lim1['Consumo_Hidroelectrica'],\n",
    "    name='Hidroelectrica',\n",
    "    marker_color='blue'\n",
    "        ))\n",
    "    fig.add_trace(go.Bar(\n",
    "    x=pais_lim2.index,\n",
    "    y=pais_lim2['Consumo_Geotermica'],\n",
    "    name='Geotermica',\n",
    "    marker_color='goldenrod'\n",
    "        ))\n",
    "    fig.add_trace(go.Bar(\n",
    "    x=pais_lim2.index,\n",
    "    y=pais_lim2['Consumo_Nuclear'],\n",
    "    name='Nuclear',\n",
    "    marker_color='red'\n",
    "        ))\n",
    "    return fig.show()\n"
   ]
  },
  {
   "cell_type": "code",
   "execution_count": 26,
   "metadata": {},
   "outputs": [
    {
     "data": {
      "application/vnd.plotly.v1+json": {
       "config": {
        "plotlyServerURL": "https://plot.ly"
       },
       "data": [
        {
         "marker": {
          "color": "yellow"
         },
         "name": "Solar",
         "type": "bar",
         "x": [
          1990,
          1991,
          1992,
          1993,
          1994,
          1995,
          1996,
          1997,
          1998,
          1999,
          2000,
          2001,
          2002,
          2003,
          2004,
          2005,
          2006,
          2007,
          2008,
          2009,
          2010,
          2011,
          2012,
          2013,
          2014,
          2015,
          2016,
          2017,
          2018,
          2019,
          2020,
          2021
         ],
         "y": [
          0,
          0.01,
          0,
          0.01,
          0.01,
          0.01,
          0.000625,
          0.000588235294117647,
          0.0005263157894736842,
          0.00045454545454545455,
          0.0004,
          0.0007692307692307692,
          0.0006896551724137932,
          0.0006666666666666668,
          0.0009090909090909091,
          0.001142857142857143,
          0.001388888888888889,
          0.0018918918918918919,
          0.00325,
          0.004761904761904762,
          0.00723404255319149,
          0.012075471698113209,
          0.016666666666666666,
          0.023103448275862068,
          0.030158730158730163,
          0.035522388059701496,
          0.043055555555555555,
          0.05578947368421053,
          0.06790123456790123,
          0.07892857142857143,
          0.09341176470588235,
          0.11232558139534884
         ]
        },
        {
         "marker": {
          "color": "crimson"
         },
         "name": "Eolica",
         "type": "bar",
         "x": [
          1990,
          1991,
          1992,
          1993,
          1994,
          1995,
          1996,
          1997,
          1998,
          1999,
          2000,
          2001,
          2002,
          2003,
          2004,
          2005,
          2006,
          2007,
          2008,
          2009,
          2010,
          2011,
          2012,
          2013,
          2014,
          2015,
          2016,
          2017,
          2018,
          2019,
          2020,
          2021
         ],
         "y": [
          0.01,
          0.008,
          0.005,
          0.005,
          0.006,
          0.008,
          0.008,
          0.003611111111111111,
          0.003947368421052632,
          0.005789473684210526,
          0.007804878048780488,
          0.008837209302325582,
          0.011063829787234043,
          0.013829787234042552,
          0.017755102040816328,
          0.02057692307692308,
          0.025660377358490565,
          0.02982456140350877,
          0.036833333333333336,
          0.04524590163934426,
          0.055645161290322584,
          0.06676923076923078,
          0.07676470588235294,
          0.08774647887323943,
          0.09424657534246575,
          0.10837837837837838,
          0.12306666666666666,
          0.1472972972972973,
          0.1585526315789474,
          0.17493506493506494,
          0.19558441558441558,
          0.22435897435897437
         ]
        },
        {
         "marker": {
          "color": "blue"
         },
         "name": "Hidroelectrica",
         "type": "bar",
         "x": [
          1990,
          1991,
          1992,
          1993,
          1994,
          1995,
          1996,
          1997,
          1998,
          1999,
          2000,
          2001,
          2002,
          2003,
          2004,
          2005,
          2006,
          2007,
          2008,
          2009,
          2010,
          2011,
          2012,
          2013,
          2014,
          2015,
          2016,
          2017,
          2018,
          2019,
          2020,
          2021
         ],
         "y": [
          3.11,
          3.06,
          2.68,
          2.97,
          2.76,
          3.31,
          3.7,
          3.79,
          3.43,
          3.37,
          2.9,
          2.22,
          2.71,
          2.82,
          2.7200000000000006,
          2.75,
          2.92,
          2.47,
          2.54,
          2.73,
          2.57,
          3.14,
          2.7,
          2.62,
          2.49,
          2.39,
          2.54,
          2.84,
          2.76,
          2.71,
          2.6699999999999995,
          2.43
         ]
        },
        {
         "marker": {
          "color": "goldenrod"
         },
         "name": "Geotermica",
         "type": "bar",
         "x": [
          1995,
          1996,
          1997,
          1998,
          1999,
          2000,
          2001,
          2002,
          2003,
          2004,
          2005,
          2006,
          2007,
          2008,
          2009,
          2010,
          2011,
          2012,
          2013,
          2014,
          2015,
          2016,
          2017,
          2018,
          2019,
          2020,
          2021
         ],
         "y": [
          0.71,
          0.73,
          0.74,
          0.73,
          0.74,
          0.75,
          0.75,
          0.8,
          0.8,
          0.8,
          0.8100000000000002,
          0.8100000000000002,
          0.82,
          0.82,
          0.8100000000000002,
          0.83,
          0.84,
          0.85,
          0.8899999999999999,
          0.93,
          0.93,
          0.91,
          0.91,
          0.9,
          0.84,
          0.8100000000000002,
          0.83
         ]
        },
        {
         "marker": {
          "color": "red"
         },
         "name": "Nuclear",
         "type": "bar",
         "x": [
          1995,
          1996,
          1997,
          1998,
          1999,
          2000,
          2001,
          2002,
          2003,
          2004,
          2005,
          2006,
          2007,
          2008,
          2009,
          2010,
          2011,
          2012,
          2013,
          2014,
          2015,
          2016,
          2017,
          2018,
          2019,
          2020,
          2021
         ],
         "y": [
          0.25771739130434784,
          0.26717391304347826,
          0.2652173913043478,
          0.2698913043478261,
          0.2801086956521739,
          0.2866304347826087,
          0.2925,
          0.29576086956521735,
          0.28782608695652173,
          0.29869565217391303,
          0.29793478260869566,
          0.29989130434782607,
          0.2916304347826087,
          0.2890217391304348,
          0.28304347826086956,
          0.2882608695652174,
          0.275,
          0.25413043478260866,
          0.25478260869565217,
          0.25858695652173913,
          0.2604347826086957,
          0.26271739130434785,
          0.2633695652173913,
          0.26782608695652177,
          0.2768478260869565,
          0.26565217391304347,
          0.2748913043478261
         ]
        }
       ],
       "layout": {
        "template": {
         "data": {
          "bar": [
           {
            "error_x": {
             "color": "#2a3f5f"
            },
            "error_y": {
             "color": "#2a3f5f"
            },
            "marker": {
             "line": {
              "color": "#E5ECF6",
              "width": 0.5
             },
             "pattern": {
              "fillmode": "overlay",
              "size": 10,
              "solidity": 0.2
             }
            },
            "type": "bar"
           }
          ],
          "barpolar": [
           {
            "marker": {
             "line": {
              "color": "#E5ECF6",
              "width": 0.5
             },
             "pattern": {
              "fillmode": "overlay",
              "size": 10,
              "solidity": 0.2
             }
            },
            "type": "barpolar"
           }
          ],
          "carpet": [
           {
            "aaxis": {
             "endlinecolor": "#2a3f5f",
             "gridcolor": "white",
             "linecolor": "white",
             "minorgridcolor": "white",
             "startlinecolor": "#2a3f5f"
            },
            "baxis": {
             "endlinecolor": "#2a3f5f",
             "gridcolor": "white",
             "linecolor": "white",
             "minorgridcolor": "white",
             "startlinecolor": "#2a3f5f"
            },
            "type": "carpet"
           }
          ],
          "choropleth": [
           {
            "colorbar": {
             "outlinewidth": 0,
             "ticks": ""
            },
            "type": "choropleth"
           }
          ],
          "contour": [
           {
            "colorbar": {
             "outlinewidth": 0,
             "ticks": ""
            },
            "colorscale": [
             [
              0,
              "#0d0887"
             ],
             [
              0.1111111111111111,
              "#46039f"
             ],
             [
              0.2222222222222222,
              "#7201a8"
             ],
             [
              0.3333333333333333,
              "#9c179e"
             ],
             [
              0.4444444444444444,
              "#bd3786"
             ],
             [
              0.5555555555555556,
              "#d8576b"
             ],
             [
              0.6666666666666666,
              "#ed7953"
             ],
             [
              0.7777777777777778,
              "#fb9f3a"
             ],
             [
              0.8888888888888888,
              "#fdca26"
             ],
             [
              1,
              "#f0f921"
             ]
            ],
            "type": "contour"
           }
          ],
          "contourcarpet": [
           {
            "colorbar": {
             "outlinewidth": 0,
             "ticks": ""
            },
            "type": "contourcarpet"
           }
          ],
          "heatmap": [
           {
            "colorbar": {
             "outlinewidth": 0,
             "ticks": ""
            },
            "colorscale": [
             [
              0,
              "#0d0887"
             ],
             [
              0.1111111111111111,
              "#46039f"
             ],
             [
              0.2222222222222222,
              "#7201a8"
             ],
             [
              0.3333333333333333,
              "#9c179e"
             ],
             [
              0.4444444444444444,
              "#bd3786"
             ],
             [
              0.5555555555555556,
              "#d8576b"
             ],
             [
              0.6666666666666666,
              "#ed7953"
             ],
             [
              0.7777777777777778,
              "#fb9f3a"
             ],
             [
              0.8888888888888888,
              "#fdca26"
             ],
             [
              1,
              "#f0f921"
             ]
            ],
            "type": "heatmap"
           }
          ],
          "heatmapgl": [
           {
            "colorbar": {
             "outlinewidth": 0,
             "ticks": ""
            },
            "colorscale": [
             [
              0,
              "#0d0887"
             ],
             [
              0.1111111111111111,
              "#46039f"
             ],
             [
              0.2222222222222222,
              "#7201a8"
             ],
             [
              0.3333333333333333,
              "#9c179e"
             ],
             [
              0.4444444444444444,
              "#bd3786"
             ],
             [
              0.5555555555555556,
              "#d8576b"
             ],
             [
              0.6666666666666666,
              "#ed7953"
             ],
             [
              0.7777777777777778,
              "#fb9f3a"
             ],
             [
              0.8888888888888888,
              "#fdca26"
             ],
             [
              1,
              "#f0f921"
             ]
            ],
            "type": "heatmapgl"
           }
          ],
          "histogram": [
           {
            "marker": {
             "pattern": {
              "fillmode": "overlay",
              "size": 10,
              "solidity": 0.2
             }
            },
            "type": "histogram"
           }
          ],
          "histogram2d": [
           {
            "colorbar": {
             "outlinewidth": 0,
             "ticks": ""
            },
            "colorscale": [
             [
              0,
              "#0d0887"
             ],
             [
              0.1111111111111111,
              "#46039f"
             ],
             [
              0.2222222222222222,
              "#7201a8"
             ],
             [
              0.3333333333333333,
              "#9c179e"
             ],
             [
              0.4444444444444444,
              "#bd3786"
             ],
             [
              0.5555555555555556,
              "#d8576b"
             ],
             [
              0.6666666666666666,
              "#ed7953"
             ],
             [
              0.7777777777777778,
              "#fb9f3a"
             ],
             [
              0.8888888888888888,
              "#fdca26"
             ],
             [
              1,
              "#f0f921"
             ]
            ],
            "type": "histogram2d"
           }
          ],
          "histogram2dcontour": [
           {
            "colorbar": {
             "outlinewidth": 0,
             "ticks": ""
            },
            "colorscale": [
             [
              0,
              "#0d0887"
             ],
             [
              0.1111111111111111,
              "#46039f"
             ],
             [
              0.2222222222222222,
              "#7201a8"
             ],
             [
              0.3333333333333333,
              "#9c179e"
             ],
             [
              0.4444444444444444,
              "#bd3786"
             ],
             [
              0.5555555555555556,
              "#d8576b"
             ],
             [
              0.6666666666666666,
              "#ed7953"
             ],
             [
              0.7777777777777778,
              "#fb9f3a"
             ],
             [
              0.8888888888888888,
              "#fdca26"
             ],
             [
              1,
              "#f0f921"
             ]
            ],
            "type": "histogram2dcontour"
           }
          ],
          "mesh3d": [
           {
            "colorbar": {
             "outlinewidth": 0,
             "ticks": ""
            },
            "type": "mesh3d"
           }
          ],
          "parcoords": [
           {
            "line": {
             "colorbar": {
              "outlinewidth": 0,
              "ticks": ""
             }
            },
            "type": "parcoords"
           }
          ],
          "pie": [
           {
            "automargin": true,
            "type": "pie"
           }
          ],
          "scatter": [
           {
            "fillpattern": {
             "fillmode": "overlay",
             "size": 10,
             "solidity": 0.2
            },
            "type": "scatter"
           }
          ],
          "scatter3d": [
           {
            "line": {
             "colorbar": {
              "outlinewidth": 0,
              "ticks": ""
             }
            },
            "marker": {
             "colorbar": {
              "outlinewidth": 0,
              "ticks": ""
             }
            },
            "type": "scatter3d"
           }
          ],
          "scattercarpet": [
           {
            "marker": {
             "colorbar": {
              "outlinewidth": 0,
              "ticks": ""
             }
            },
            "type": "scattercarpet"
           }
          ],
          "scattergeo": [
           {
            "marker": {
             "colorbar": {
              "outlinewidth": 0,
              "ticks": ""
             }
            },
            "type": "scattergeo"
           }
          ],
          "scattergl": [
           {
            "marker": {
             "colorbar": {
              "outlinewidth": 0,
              "ticks": ""
             }
            },
            "type": "scattergl"
           }
          ],
          "scattermapbox": [
           {
            "marker": {
             "colorbar": {
              "outlinewidth": 0,
              "ticks": ""
             }
            },
            "type": "scattermapbox"
           }
          ],
          "scatterpolar": [
           {
            "marker": {
             "colorbar": {
              "outlinewidth": 0,
              "ticks": ""
             }
            },
            "type": "scatterpolar"
           }
          ],
          "scatterpolargl": [
           {
            "marker": {
             "colorbar": {
              "outlinewidth": 0,
              "ticks": ""
             }
            },
            "type": "scatterpolargl"
           }
          ],
          "scatterternary": [
           {
            "marker": {
             "colorbar": {
              "outlinewidth": 0,
              "ticks": ""
             }
            },
            "type": "scatterternary"
           }
          ],
          "surface": [
           {
            "colorbar": {
             "outlinewidth": 0,
             "ticks": ""
            },
            "colorscale": [
             [
              0,
              "#0d0887"
             ],
             [
              0.1111111111111111,
              "#46039f"
             ],
             [
              0.2222222222222222,
              "#7201a8"
             ],
             [
              0.3333333333333333,
              "#9c179e"
             ],
             [
              0.4444444444444444,
              "#bd3786"
             ],
             [
              0.5555555555555556,
              "#d8576b"
             ],
             [
              0.6666666666666666,
              "#ed7953"
             ],
             [
              0.7777777777777778,
              "#fb9f3a"
             ],
             [
              0.8888888888888888,
              "#fdca26"
             ],
             [
              1,
              "#f0f921"
             ]
            ],
            "type": "surface"
           }
          ],
          "table": [
           {
            "cells": {
             "fill": {
              "color": "#EBF0F8"
             },
             "line": {
              "color": "white"
             }
            },
            "header": {
             "fill": {
              "color": "#C8D4E3"
             },
             "line": {
              "color": "white"
             }
            },
            "type": "table"
           }
          ]
         },
         "layout": {
          "annotationdefaults": {
           "arrowcolor": "#2a3f5f",
           "arrowhead": 0,
           "arrowwidth": 1
          },
          "autotypenumbers": "strict",
          "coloraxis": {
           "colorbar": {
            "outlinewidth": 0,
            "ticks": ""
           }
          },
          "colorscale": {
           "diverging": [
            [
             0,
             "#8e0152"
            ],
            [
             0.1,
             "#c51b7d"
            ],
            [
             0.2,
             "#de77ae"
            ],
            [
             0.3,
             "#f1b6da"
            ],
            [
             0.4,
             "#fde0ef"
            ],
            [
             0.5,
             "#f7f7f7"
            ],
            [
             0.6,
             "#e6f5d0"
            ],
            [
             0.7,
             "#b8e186"
            ],
            [
             0.8,
             "#7fbc41"
            ],
            [
             0.9,
             "#4d9221"
            ],
            [
             1,
             "#276419"
            ]
           ],
           "sequential": [
            [
             0,
             "#0d0887"
            ],
            [
             0.1111111111111111,
             "#46039f"
            ],
            [
             0.2222222222222222,
             "#7201a8"
            ],
            [
             0.3333333333333333,
             "#9c179e"
            ],
            [
             0.4444444444444444,
             "#bd3786"
            ],
            [
             0.5555555555555556,
             "#d8576b"
            ],
            [
             0.6666666666666666,
             "#ed7953"
            ],
            [
             0.7777777777777778,
             "#fb9f3a"
            ],
            [
             0.8888888888888888,
             "#fdca26"
            ],
            [
             1,
             "#f0f921"
            ]
           ],
           "sequentialminus": [
            [
             0,
             "#0d0887"
            ],
            [
             0.1111111111111111,
             "#46039f"
            ],
            [
             0.2222222222222222,
             "#7201a8"
            ],
            [
             0.3333333333333333,
             "#9c179e"
            ],
            [
             0.4444444444444444,
             "#bd3786"
            ],
            [
             0.5555555555555556,
             "#d8576b"
            ],
            [
             0.6666666666666666,
             "#ed7953"
            ],
            [
             0.7777777777777778,
             "#fb9f3a"
            ],
            [
             0.8888888888888888,
             "#fdca26"
            ],
            [
             1,
             "#f0f921"
            ]
           ]
          },
          "colorway": [
           "#636efa",
           "#EF553B",
           "#00cc96",
           "#ab63fa",
           "#FFA15A",
           "#19d3f3",
           "#FF6692",
           "#B6E880",
           "#FF97FF",
           "#FECB52"
          ],
          "font": {
           "color": "#2a3f5f"
          },
          "geo": {
           "bgcolor": "white",
           "lakecolor": "white",
           "landcolor": "#E5ECF6",
           "showlakes": true,
           "showland": true,
           "subunitcolor": "white"
          },
          "hoverlabel": {
           "align": "left"
          },
          "hovermode": "closest",
          "mapbox": {
           "style": "light"
          },
          "paper_bgcolor": "white",
          "plot_bgcolor": "#E5ECF6",
          "polar": {
           "angularaxis": {
            "gridcolor": "white",
            "linecolor": "white",
            "ticks": ""
           },
           "bgcolor": "#E5ECF6",
           "radialaxis": {
            "gridcolor": "white",
            "linecolor": "white",
            "ticks": ""
           }
          },
          "scene": {
           "xaxis": {
            "backgroundcolor": "#E5ECF6",
            "gridcolor": "white",
            "gridwidth": 2,
            "linecolor": "white",
            "showbackground": true,
            "ticks": "",
            "zerolinecolor": "white"
           },
           "yaxis": {
            "backgroundcolor": "#E5ECF6",
            "gridcolor": "white",
            "gridwidth": 2,
            "linecolor": "white",
            "showbackground": true,
            "ticks": "",
            "zerolinecolor": "white"
           },
           "zaxis": {
            "backgroundcolor": "#E5ECF6",
            "gridcolor": "white",
            "gridwidth": 2,
            "linecolor": "white",
            "showbackground": true,
            "ticks": "",
            "zerolinecolor": "white"
           }
          },
          "shapedefaults": {
           "line": {
            "color": "#2a3f5f"
           }
          },
          "ternary": {
           "aaxis": {
            "gridcolor": "white",
            "linecolor": "white",
            "ticks": ""
           },
           "baxis": {
            "gridcolor": "white",
            "linecolor": "white",
            "ticks": ""
           },
           "bgcolor": "#E5ECF6",
           "caxis": {
            "gridcolor": "white",
            "linecolor": "white",
            "ticks": ""
           }
          },
          "title": {
           "x": 0.05
          },
          "xaxis": {
           "automargin": true,
           "gridcolor": "white",
           "linecolor": "white",
           "ticks": "",
           "title": {
            "standoff": 15
           },
           "zerolinecolor": "white",
           "zerolinewidth": 2
          },
          "yaxis": {
           "automargin": true,
           "gridcolor": "white",
           "linecolor": "white",
           "ticks": "",
           "title": {
            "standoff": 15
           },
           "zerolinecolor": "white",
           "zerolinewidth": 2
          }
         }
        }
       }
      }
     },
     "metadata": {},
     "output_type": "display_data"
    }
   ],
   "source": [
    "limpias=grafica_consumo_limpio('United States')\n",
    "limpias"
   ]
  },
  {
   "cell_type": "code",
   "execution_count": 37,
   "metadata": {},
   "outputs": [
    {
     "ename": "KeyError",
     "evalue": "\"['Id_anio', 'Id_Pais', 'Id_Energia_solar'] not found in axis\"",
     "output_type": "error",
     "traceback": [
      "\u001b[1;31m---------------------------------------------------------------------------\u001b[0m",
      "\u001b[1;31mKeyError\u001b[0m                                  Traceback (most recent call last)",
      "\u001b[1;32mc:\\Users\\Usuario\\ProyectoEmisionesGit\\Proyecto_Grupal_Grupo05\\analisisEmisiones.ipynb Celda 60\u001b[0m in \u001b[0;36m<module>\u001b[1;34m\u001b[0m\n\u001b[1;32m----> <a href='vscode-notebook-cell:/c%3A/Users/Usuario/ProyectoEmisionesGit/Proyecto_Grupal_Grupo05/analisisEmisiones.ipynb#Y113sZmlsZQ%3D%3D?line=0'>1</a>\u001b[0m todas90\u001b[39m.\u001b[39;49mdrop(columns\u001b[39m=\u001b[39;49m{\u001b[39m'\u001b[39;49m\u001b[39mId_Energia_solar\u001b[39;49m\u001b[39m'\u001b[39;49m,\u001b[39m'\u001b[39;49m\u001b[39mId_anio\u001b[39;49m\u001b[39m'\u001b[39;49m,\u001b[39m'\u001b[39;49m\u001b[39mId_Pais\u001b[39;49m\u001b[39m'\u001b[39;49m},inplace\u001b[39m=\u001b[39;49m\u001b[39mTrue\u001b[39;49;00m)\n",
      "File \u001b[1;32mc:\\Users\\Usuario\\AppData\\Local\\Programs\\Python\\Python310\\lib\\site-packages\\pandas\\util\\_decorators.py:311\u001b[0m, in \u001b[0;36mdeprecate_nonkeyword_arguments.<locals>.decorate.<locals>.wrapper\u001b[1;34m(*args, **kwargs)\u001b[0m\n\u001b[0;32m    305\u001b[0m \u001b[39mif\u001b[39;00m \u001b[39mlen\u001b[39m(args) \u001b[39m>\u001b[39m num_allow_args:\n\u001b[0;32m    306\u001b[0m     warnings\u001b[39m.\u001b[39mwarn(\n\u001b[0;32m    307\u001b[0m         msg\u001b[39m.\u001b[39mformat(arguments\u001b[39m=\u001b[39marguments),\n\u001b[0;32m    308\u001b[0m         \u001b[39mFutureWarning\u001b[39;00m,\n\u001b[0;32m    309\u001b[0m         stacklevel\u001b[39m=\u001b[39mstacklevel,\n\u001b[0;32m    310\u001b[0m     )\n\u001b[1;32m--> 311\u001b[0m \u001b[39mreturn\u001b[39;00m func(\u001b[39m*\u001b[39margs, \u001b[39m*\u001b[39m\u001b[39m*\u001b[39mkwargs)\n",
      "File \u001b[1;32mc:\\Users\\Usuario\\AppData\\Local\\Programs\\Python\\Python310\\lib\\site-packages\\pandas\\core\\frame.py:4948\u001b[0m, in \u001b[0;36mDataFrame.drop\u001b[1;34m(self, labels, axis, index, columns, level, inplace, errors)\u001b[0m\n\u001b[0;32m   4800\u001b[0m \u001b[39m@deprecate_nonkeyword_arguments\u001b[39m(version\u001b[39m=\u001b[39m\u001b[39mNone\u001b[39;00m, allowed_args\u001b[39m=\u001b[39m[\u001b[39m\"\u001b[39m\u001b[39mself\u001b[39m\u001b[39m\"\u001b[39m, \u001b[39m\"\u001b[39m\u001b[39mlabels\u001b[39m\u001b[39m\"\u001b[39m])\n\u001b[0;32m   4801\u001b[0m \u001b[39mdef\u001b[39;00m \u001b[39mdrop\u001b[39m(\n\u001b[0;32m   4802\u001b[0m     \u001b[39mself\u001b[39m,\n\u001b[1;32m   (...)\u001b[0m\n\u001b[0;32m   4809\u001b[0m     errors: \u001b[39mstr\u001b[39m \u001b[39m=\u001b[39m \u001b[39m\"\u001b[39m\u001b[39mraise\u001b[39m\u001b[39m\"\u001b[39m,\n\u001b[0;32m   4810\u001b[0m ):\n\u001b[0;32m   4811\u001b[0m     \u001b[39m\"\"\"\u001b[39;00m\n\u001b[0;32m   4812\u001b[0m \u001b[39m    Drop specified labels from rows or columns.\u001b[39;00m\n\u001b[0;32m   4813\u001b[0m \n\u001b[1;32m   (...)\u001b[0m\n\u001b[0;32m   4946\u001b[0m \u001b[39m            weight  1.0     0.8\u001b[39;00m\n\u001b[0;32m   4947\u001b[0m \u001b[39m    \"\"\"\u001b[39;00m\n\u001b[1;32m-> 4948\u001b[0m     \u001b[39mreturn\u001b[39;00m \u001b[39msuper\u001b[39;49m()\u001b[39m.\u001b[39;49mdrop(\n\u001b[0;32m   4949\u001b[0m         labels\u001b[39m=\u001b[39;49mlabels,\n\u001b[0;32m   4950\u001b[0m         axis\u001b[39m=\u001b[39;49maxis,\n\u001b[0;32m   4951\u001b[0m         index\u001b[39m=\u001b[39;49mindex,\n\u001b[0;32m   4952\u001b[0m         columns\u001b[39m=\u001b[39;49mcolumns,\n\u001b[0;32m   4953\u001b[0m         level\u001b[39m=\u001b[39;49mlevel,\n\u001b[0;32m   4954\u001b[0m         inplace\u001b[39m=\u001b[39;49minplace,\n\u001b[0;32m   4955\u001b[0m         errors\u001b[39m=\u001b[39;49merrors,\n\u001b[0;32m   4956\u001b[0m     )\n",
      "File \u001b[1;32mc:\\Users\\Usuario\\AppData\\Local\\Programs\\Python\\Python310\\lib\\site-packages\\pandas\\core\\generic.py:4279\u001b[0m, in \u001b[0;36mNDFrame.drop\u001b[1;34m(self, labels, axis, index, columns, level, inplace, errors)\u001b[0m\n\u001b[0;32m   4277\u001b[0m \u001b[39mfor\u001b[39;00m axis, labels \u001b[39min\u001b[39;00m axes\u001b[39m.\u001b[39mitems():\n\u001b[0;32m   4278\u001b[0m     \u001b[39mif\u001b[39;00m labels \u001b[39mis\u001b[39;00m \u001b[39mnot\u001b[39;00m \u001b[39mNone\u001b[39;00m:\n\u001b[1;32m-> 4279\u001b[0m         obj \u001b[39m=\u001b[39m obj\u001b[39m.\u001b[39;49m_drop_axis(labels, axis, level\u001b[39m=\u001b[39;49mlevel, errors\u001b[39m=\u001b[39;49merrors)\n\u001b[0;32m   4281\u001b[0m \u001b[39mif\u001b[39;00m inplace:\n\u001b[0;32m   4282\u001b[0m     \u001b[39mself\u001b[39m\u001b[39m.\u001b[39m_update_inplace(obj)\n",
      "File \u001b[1;32mc:\\Users\\Usuario\\AppData\\Local\\Programs\\Python\\Python310\\lib\\site-packages\\pandas\\core\\generic.py:4323\u001b[0m, in \u001b[0;36mNDFrame._drop_axis\u001b[1;34m(self, labels, axis, level, errors, consolidate, only_slice)\u001b[0m\n\u001b[0;32m   4321\u001b[0m         new_axis \u001b[39m=\u001b[39m axis\u001b[39m.\u001b[39mdrop(labels, level\u001b[39m=\u001b[39mlevel, errors\u001b[39m=\u001b[39merrors)\n\u001b[0;32m   4322\u001b[0m     \u001b[39melse\u001b[39;00m:\n\u001b[1;32m-> 4323\u001b[0m         new_axis \u001b[39m=\u001b[39m axis\u001b[39m.\u001b[39;49mdrop(labels, errors\u001b[39m=\u001b[39;49merrors)\n\u001b[0;32m   4324\u001b[0m     indexer \u001b[39m=\u001b[39m axis\u001b[39m.\u001b[39mget_indexer(new_axis)\n\u001b[0;32m   4326\u001b[0m \u001b[39m# Case for non-unique axis\u001b[39;00m\n\u001b[0;32m   4327\u001b[0m \u001b[39melse\u001b[39;00m:\n",
      "File \u001b[1;32mc:\\Users\\Usuario\\AppData\\Local\\Programs\\Python\\Python310\\lib\\site-packages\\pandas\\core\\indexes\\base.py:6644\u001b[0m, in \u001b[0;36mIndex.drop\u001b[1;34m(self, labels, errors)\u001b[0m\n\u001b[0;32m   6642\u001b[0m \u001b[39mif\u001b[39;00m mask\u001b[39m.\u001b[39many():\n\u001b[0;32m   6643\u001b[0m     \u001b[39mif\u001b[39;00m errors \u001b[39m!=\u001b[39m \u001b[39m\"\u001b[39m\u001b[39mignore\u001b[39m\u001b[39m\"\u001b[39m:\n\u001b[1;32m-> 6644\u001b[0m         \u001b[39mraise\u001b[39;00m \u001b[39mKeyError\u001b[39;00m(\u001b[39mf\u001b[39m\u001b[39m\"\u001b[39m\u001b[39m{\u001b[39;00m\u001b[39mlist\u001b[39m(labels[mask])\u001b[39m}\u001b[39;00m\u001b[39m not found in axis\u001b[39m\u001b[39m\"\u001b[39m)\n\u001b[0;32m   6645\u001b[0m     indexer \u001b[39m=\u001b[39m indexer[\u001b[39m~\u001b[39mmask]\n\u001b[0;32m   6646\u001b[0m \u001b[39mreturn\u001b[39;00m \u001b[39mself\u001b[39m\u001b[39m.\u001b[39mdelete(indexer)\n",
      "\u001b[1;31mKeyError\u001b[0m: \"['Id_anio', 'Id_Pais', 'Id_Energia_solar'] not found in axis\""
     ]
    }
   ],
   "source": [
    "todas90.drop(columns={'Id_Energia_solar','Id_anio','Id_Pais'},inplace=True)\n",
    "\n"
   ]
  },
  {
   "cell_type": "code",
   "execution_count": 40,
   "metadata": {},
   "outputs": [
    {
     "data": {
      "text/plain": [
       "Consumo_solar                 float64\n",
       "Produccion_solar              float64\n",
       "Instalada_solar                 int64\n",
       "Consumo_Eolica                 object\n",
       "Produccion_Eolica              object\n",
       "Capacidad_instalada_Eolica     object\n",
       "Produccion_Hidroelectrica     float64\n",
       "Consumo_Hidroelectrica         object\n",
       "Anio                            int64\n",
       "Codigo_pais                    object\n",
       "Pais                           object\n",
       "dtype: object"
      ]
     },
     "execution_count": 40,
     "metadata": {},
     "output_type": "execute_result"
    }
   ],
   "source": [
    "todas90.dtypes"
   ]
  },
  {
   "cell_type": "code",
   "execution_count": 41,
   "metadata": {},
   "outputs": [
    {
     "data": {
      "text/html": [
       "<div>\n",
       "<style scoped>\n",
       "    .dataframe tbody tr th:only-of-type {\n",
       "        vertical-align: middle;\n",
       "    }\n",
       "\n",
       "    .dataframe tbody tr th {\n",
       "        vertical-align: top;\n",
       "    }\n",
       "\n",
       "    .dataframe thead th {\n",
       "        text-align: right;\n",
       "    }\n",
       "</style>\n",
       "<table border=\"1\" class=\"dataframe\">\n",
       "  <thead>\n",
       "    <tr style=\"text-align: right;\">\n",
       "      <th></th>\n",
       "      <th>Consumo_solar</th>\n",
       "      <th>Produccion_solar</th>\n",
       "      <th>Instalada_solar</th>\n",
       "      <th>Consumo_Eolica</th>\n",
       "      <th>Produccion_Eolica</th>\n",
       "      <th>Capacidad_instalada_Eolica</th>\n",
       "      <th>Produccion_Hidroelectrica</th>\n",
       "      <th>Consumo_Hidroelectrica</th>\n",
       "      <th>Anio</th>\n",
       "      <th>Codigo_pais</th>\n",
       "      <th>Pais</th>\n",
       "    </tr>\n",
       "  </thead>\n",
       "  <tbody>\n",
       "    <tr>\n",
       "      <th>0</th>\n",
       "      <td>0.00</td>\n",
       "      <td>0.4</td>\n",
       "      <td>0</td>\n",
       "      <td>0.03</td>\n",
       "      <td>2.8</td>\n",
       "      <td>0.0</td>\n",
       "      <td>1.064511</td>\n",
       "      <td>3.15</td>\n",
       "      <td>1990</td>\n",
       "      <td>CAN</td>\n",
       "      <td>Canada</td>\n",
       "    </tr>\n",
       "    <tr>\n",
       "      <th>1</th>\n",
       "      <td>0.00</td>\n",
       "      <td>0.4</td>\n",
       "      <td>0</td>\n",
       "      <td>0.01</td>\n",
       "      <td>0.6</td>\n",
       "      <td>0.0</td>\n",
       "      <td>1.064511</td>\n",
       "      <td>3.15</td>\n",
       "      <td>1990</td>\n",
       "      <td>CAN</td>\n",
       "      <td>Canada</td>\n",
       "    </tr>\n",
       "    <tr>\n",
       "      <th>2</th>\n",
       "      <td>0.00</td>\n",
       "      <td>0.4</td>\n",
       "      <td>0</td>\n",
       "      <td>0.00</td>\n",
       "      <td>0.1</td>\n",
       "      <td>0.0</td>\n",
       "      <td>1.064511</td>\n",
       "      <td>3.15</td>\n",
       "      <td>1990</td>\n",
       "      <td>CAN</td>\n",
       "      <td>Canada</td>\n",
       "    </tr>\n",
       "    <tr>\n",
       "      <th>3</th>\n",
       "      <td>0.00</td>\n",
       "      <td>0.4</td>\n",
       "      <td>0</td>\n",
       "      <td>0.00</td>\n",
       "      <td>0.1</td>\n",
       "      <td>0.0</td>\n",
       "      <td>1.064511</td>\n",
       "      <td>3.15</td>\n",
       "      <td>1990</td>\n",
       "      <td>CAN</td>\n",
       "      <td>Canada</td>\n",
       "    </tr>\n",
       "    <tr>\n",
       "      <th>4</th>\n",
       "      <td>0.01</td>\n",
       "      <td>0.5</td>\n",
       "      <td>0</td>\n",
       "      <td>0.03</td>\n",
       "      <td>3.0</td>\n",
       "      <td>0.0</td>\n",
       "      <td>1.106271</td>\n",
       "      <td>3.27</td>\n",
       "      <td>1991</td>\n",
       "      <td>CAN</td>\n",
       "      <td>Canada</td>\n",
       "    </tr>\n",
       "    <tr>\n",
       "      <th>...</th>\n",
       "      <td>...</td>\n",
       "      <td>...</td>\n",
       "      <td>...</td>\n",
       "      <td>...</td>\n",
       "      <td>...</td>\n",
       "      <td>...</td>\n",
       "      <td>...</td>\n",
       "      <td>...</td>\n",
       "      <td>...</td>\n",
       "      <td>...</td>\n",
       "      <td>...</td>\n",
       "    </tr>\n",
       "    <tr>\n",
       "      <th>5716915</th>\n",
       "      <td>0.00</td>\n",
       "      <td>0.0</td>\n",
       "      <td>16660</td>\n",
       "      <td>0.00</td>\n",
       "      <td>0.0</td>\n",
       "      <td>1514.0</td>\n",
       "      <td>0.273238</td>\n",
       "      <td>0.71</td>\n",
       "      <td>2021</td>\n",
       "      <td>VNM</td>\n",
       "      <td>Vietnam</td>\n",
       "    </tr>\n",
       "    <tr>\n",
       "      <th>5716916</th>\n",
       "      <td>0.00</td>\n",
       "      <td>0.0</td>\n",
       "      <td>16660</td>\n",
       "      <td>0.00</td>\n",
       "      <td>0.0</td>\n",
       "      <td>2258.0</td>\n",
       "      <td>0.273238</td>\n",
       "      <td>0.71</td>\n",
       "      <td>2021</td>\n",
       "      <td>VNM</td>\n",
       "      <td>Vietnam</td>\n",
       "    </tr>\n",
       "    <tr>\n",
       "      <th>5716917</th>\n",
       "      <td>0.00</td>\n",
       "      <td>0.0</td>\n",
       "      <td>16660</td>\n",
       "      <td>0.00</td>\n",
       "      <td>0.0</td>\n",
       "      <td>622.0</td>\n",
       "      <td>0.273238</td>\n",
       "      <td>0.71</td>\n",
       "      <td>2021</td>\n",
       "      <td>VNM</td>\n",
       "      <td>Vietnam</td>\n",
       "    </tr>\n",
       "    <tr>\n",
       "      <th>5716918</th>\n",
       "      <td>0.00</td>\n",
       "      <td>0.0</td>\n",
       "      <td>16660</td>\n",
       "      <td>0.00</td>\n",
       "      <td>0.0</td>\n",
       "      <td>245.0</td>\n",
       "      <td>0.273238</td>\n",
       "      <td>0.71</td>\n",
       "      <td>2021</td>\n",
       "      <td>VNM</td>\n",
       "      <td>Vietnam</td>\n",
       "    </tr>\n",
       "    <tr>\n",
       "      <th>5716919</th>\n",
       "      <td>0.00</td>\n",
       "      <td>0.0</td>\n",
       "      <td>16660</td>\n",
       "      <td>0.00</td>\n",
       "      <td>0.0</td>\n",
       "      <td>1059.0</td>\n",
       "      <td>0.273238</td>\n",
       "      <td>0.71</td>\n",
       "      <td>2021</td>\n",
       "      <td>VNM</td>\n",
       "      <td>Vietnam</td>\n",
       "    </tr>\n",
       "  </tbody>\n",
       "</table>\n",
       "<p>5314320 rows × 11 columns</p>\n",
       "</div>"
      ],
      "text/plain": [
       "         Consumo_solar  Produccion_solar  Instalada_solar  Consumo_Eolica  \\\n",
       "0                 0.00               0.4                0            0.03   \n",
       "1                 0.00               0.4                0            0.01   \n",
       "2                 0.00               0.4                0            0.00   \n",
       "3                 0.00               0.4                0            0.00   \n",
       "4                 0.01               0.5                0            0.03   \n",
       "...                ...               ...              ...             ...   \n",
       "5716915           0.00               0.0            16660            0.00   \n",
       "5716916           0.00               0.0            16660            0.00   \n",
       "5716917           0.00               0.0            16660            0.00   \n",
       "5716918           0.00               0.0            16660            0.00   \n",
       "5716919           0.00               0.0            16660            0.00   \n",
       "\n",
       "         Produccion_Eolica  Capacidad_instalada_Eolica  \\\n",
       "0                      2.8                         0.0   \n",
       "1                      0.6                         0.0   \n",
       "2                      0.1                         0.0   \n",
       "3                      0.1                         0.0   \n",
       "4                      3.0                         0.0   \n",
       "...                    ...                         ...   \n",
       "5716915                0.0                      1514.0   \n",
       "5716916                0.0                      2258.0   \n",
       "5716917                0.0                       622.0   \n",
       "5716918                0.0                       245.0   \n",
       "5716919                0.0                      1059.0   \n",
       "\n",
       "         Produccion_Hidroelectrica Consumo_Hidroelectrica  Anio Codigo_pais  \\\n",
       "0                         1.064511                   3.15  1990         CAN   \n",
       "1                         1.064511                   3.15  1990         CAN   \n",
       "2                         1.064511                   3.15  1990         CAN   \n",
       "3                         1.064511                   3.15  1990         CAN   \n",
       "4                         1.106271                   3.27  1991         CAN   \n",
       "...                            ...                    ...   ...         ...   \n",
       "5716915                   0.273238                   0.71  2021         VNM   \n",
       "5716916                   0.273238                   0.71  2021         VNM   \n",
       "5716917                   0.273238                   0.71  2021         VNM   \n",
       "5716918                   0.273238                   0.71  2021         VNM   \n",
       "5716919                   0.273238                   0.71  2021         VNM   \n",
       "\n",
       "            Pais  \n",
       "0         Canada  \n",
       "1         Canada  \n",
       "2         Canada  \n",
       "3         Canada  \n",
       "4         Canada  \n",
       "...          ...  \n",
       "5716915  Vietnam  \n",
       "5716916  Vietnam  \n",
       "5716917  Vietnam  \n",
       "5716918  Vietnam  \n",
       "5716919  Vietnam  \n",
       "\n",
       "[5314320 rows x 11 columns]"
      ]
     },
     "execution_count": 41,
     "metadata": {},
     "output_type": "execute_result"
    }
   ],
   "source": [
    "todas90['Consumo_Eolica']=todas90['Consumo_Eolica'].astype(float)\n",
    "todas90['Produccion_Eolica']=todas90['Produccion_Eolica'].astype(float)\n",
    "todas90['Capacidad_instalada_Eolica']=todas90['Capacidad_instalada_Eolica'].astype(float)\n",
    "todas90"
   ]
  },
  {
   "cell_type": "code",
   "execution_count": 43,
   "metadata": {},
   "outputs": [
    {
     "data": {
      "text/html": [
       "<div>\n",
       "<style scoped>\n",
       "    .dataframe tbody tr th:only-of-type {\n",
       "        vertical-align: middle;\n",
       "    }\n",
       "\n",
       "    .dataframe tbody tr th {\n",
       "        vertical-align: top;\n",
       "    }\n",
       "\n",
       "    .dataframe thead th {\n",
       "        text-align: right;\n",
       "    }\n",
       "</style>\n",
       "<table border=\"1\" class=\"dataframe\">\n",
       "  <thead>\n",
       "    <tr style=\"text-align: right;\">\n",
       "      <th></th>\n",
       "      <th>Consumo_solar</th>\n",
       "      <th>Produccion_solar</th>\n",
       "      <th>Instalada_solar</th>\n",
       "      <th>Consumo_Eolica</th>\n",
       "      <th>Produccion_Eolica</th>\n",
       "      <th>Capacidad_instalada_Eolica</th>\n",
       "      <th>Produccion_Hidroelectrica</th>\n",
       "      <th>Consumo_Hidroelectrica</th>\n",
       "      <th>Anio</th>\n",
       "      <th>Codigo_pais</th>\n",
       "      <th>Pais</th>\n",
       "    </tr>\n",
       "  </thead>\n",
       "  <tbody>\n",
       "    <tr>\n",
       "      <th>0</th>\n",
       "      <td>0.00</td>\n",
       "      <td>0.4</td>\n",
       "      <td>0</td>\n",
       "      <td>0.03</td>\n",
       "      <td>2.8</td>\n",
       "      <td>0.0</td>\n",
       "      <td>1.064511</td>\n",
       "      <td>3.15</td>\n",
       "      <td>1990</td>\n",
       "      <td>CAN</td>\n",
       "      <td>Canada</td>\n",
       "    </tr>\n",
       "    <tr>\n",
       "      <th>1</th>\n",
       "      <td>0.00</td>\n",
       "      <td>0.4</td>\n",
       "      <td>0</td>\n",
       "      <td>0.01</td>\n",
       "      <td>0.6</td>\n",
       "      <td>0.0</td>\n",
       "      <td>1.064511</td>\n",
       "      <td>3.15</td>\n",
       "      <td>1990</td>\n",
       "      <td>CAN</td>\n",
       "      <td>Canada</td>\n",
       "    </tr>\n",
       "    <tr>\n",
       "      <th>2</th>\n",
       "      <td>0.00</td>\n",
       "      <td>0.4</td>\n",
       "      <td>0</td>\n",
       "      <td>0.00</td>\n",
       "      <td>0.1</td>\n",
       "      <td>0.0</td>\n",
       "      <td>1.064511</td>\n",
       "      <td>3.15</td>\n",
       "      <td>1990</td>\n",
       "      <td>CAN</td>\n",
       "      <td>Canada</td>\n",
       "    </tr>\n",
       "    <tr>\n",
       "      <th>3</th>\n",
       "      <td>0.00</td>\n",
       "      <td>0.4</td>\n",
       "      <td>0</td>\n",
       "      <td>0.00</td>\n",
       "      <td>0.1</td>\n",
       "      <td>0.0</td>\n",
       "      <td>1.064511</td>\n",
       "      <td>3.15</td>\n",
       "      <td>1990</td>\n",
       "      <td>CAN</td>\n",
       "      <td>Canada</td>\n",
       "    </tr>\n",
       "    <tr>\n",
       "      <th>4</th>\n",
       "      <td>0.01</td>\n",
       "      <td>0.5</td>\n",
       "      <td>0</td>\n",
       "      <td>0.03</td>\n",
       "      <td>3.0</td>\n",
       "      <td>0.0</td>\n",
       "      <td>1.106271</td>\n",
       "      <td>3.27</td>\n",
       "      <td>1991</td>\n",
       "      <td>CAN</td>\n",
       "      <td>Canada</td>\n",
       "    </tr>\n",
       "    <tr>\n",
       "      <th>...</th>\n",
       "      <td>...</td>\n",
       "      <td>...</td>\n",
       "      <td>...</td>\n",
       "      <td>...</td>\n",
       "      <td>...</td>\n",
       "      <td>...</td>\n",
       "      <td>...</td>\n",
       "      <td>...</td>\n",
       "      <td>...</td>\n",
       "      <td>...</td>\n",
       "      <td>...</td>\n",
       "    </tr>\n",
       "    <tr>\n",
       "      <th>5716915</th>\n",
       "      <td>0.00</td>\n",
       "      <td>0.0</td>\n",
       "      <td>16660</td>\n",
       "      <td>0.00</td>\n",
       "      <td>0.0</td>\n",
       "      <td>1514.0</td>\n",
       "      <td>0.273238</td>\n",
       "      <td>0.71</td>\n",
       "      <td>2021</td>\n",
       "      <td>VNM</td>\n",
       "      <td>Vietnam</td>\n",
       "    </tr>\n",
       "    <tr>\n",
       "      <th>5716916</th>\n",
       "      <td>0.00</td>\n",
       "      <td>0.0</td>\n",
       "      <td>16660</td>\n",
       "      <td>0.00</td>\n",
       "      <td>0.0</td>\n",
       "      <td>2258.0</td>\n",
       "      <td>0.273238</td>\n",
       "      <td>0.71</td>\n",
       "      <td>2021</td>\n",
       "      <td>VNM</td>\n",
       "      <td>Vietnam</td>\n",
       "    </tr>\n",
       "    <tr>\n",
       "      <th>5716917</th>\n",
       "      <td>0.00</td>\n",
       "      <td>0.0</td>\n",
       "      <td>16660</td>\n",
       "      <td>0.00</td>\n",
       "      <td>0.0</td>\n",
       "      <td>622.0</td>\n",
       "      <td>0.273238</td>\n",
       "      <td>0.71</td>\n",
       "      <td>2021</td>\n",
       "      <td>VNM</td>\n",
       "      <td>Vietnam</td>\n",
       "    </tr>\n",
       "    <tr>\n",
       "      <th>5716918</th>\n",
       "      <td>0.00</td>\n",
       "      <td>0.0</td>\n",
       "      <td>16660</td>\n",
       "      <td>0.00</td>\n",
       "      <td>0.0</td>\n",
       "      <td>245.0</td>\n",
       "      <td>0.273238</td>\n",
       "      <td>0.71</td>\n",
       "      <td>2021</td>\n",
       "      <td>VNM</td>\n",
       "      <td>Vietnam</td>\n",
       "    </tr>\n",
       "    <tr>\n",
       "      <th>5716919</th>\n",
       "      <td>0.00</td>\n",
       "      <td>0.0</td>\n",
       "      <td>16660</td>\n",
       "      <td>0.00</td>\n",
       "      <td>0.0</td>\n",
       "      <td>1059.0</td>\n",
       "      <td>0.273238</td>\n",
       "      <td>0.71</td>\n",
       "      <td>2021</td>\n",
       "      <td>VNM</td>\n",
       "      <td>Vietnam</td>\n",
       "    </tr>\n",
       "  </tbody>\n",
       "</table>\n",
       "<p>5314320 rows × 11 columns</p>\n",
       "</div>"
      ],
      "text/plain": [
       "         Consumo_solar  Produccion_solar  Instalada_solar  Consumo_Eolica  \\\n",
       "0                 0.00               0.4                0            0.03   \n",
       "1                 0.00               0.4                0            0.01   \n",
       "2                 0.00               0.4                0            0.00   \n",
       "3                 0.00               0.4                0            0.00   \n",
       "4                 0.01               0.5                0            0.03   \n",
       "...                ...               ...              ...             ...   \n",
       "5716915           0.00               0.0            16660            0.00   \n",
       "5716916           0.00               0.0            16660            0.00   \n",
       "5716917           0.00               0.0            16660            0.00   \n",
       "5716918           0.00               0.0            16660            0.00   \n",
       "5716919           0.00               0.0            16660            0.00   \n",
       "\n",
       "         Produccion_Eolica  Capacidad_instalada_Eolica  \\\n",
       "0                      2.8                         0.0   \n",
       "1                      0.6                         0.0   \n",
       "2                      0.1                         0.0   \n",
       "3                      0.1                         0.0   \n",
       "4                      3.0                         0.0   \n",
       "...                    ...                         ...   \n",
       "5716915                0.0                      1514.0   \n",
       "5716916                0.0                      2258.0   \n",
       "5716917                0.0                       622.0   \n",
       "5716918                0.0                       245.0   \n",
       "5716919                0.0                      1059.0   \n",
       "\n",
       "         Produccion_Hidroelectrica  Consumo_Hidroelectrica  Anio Codigo_pais  \\\n",
       "0                         1.064511                    3.15  1990         CAN   \n",
       "1                         1.064511                    3.15  1990         CAN   \n",
       "2                         1.064511                    3.15  1990         CAN   \n",
       "3                         1.064511                    3.15  1990         CAN   \n",
       "4                         1.106271                    3.27  1991         CAN   \n",
       "...                            ...                     ...   ...         ...   \n",
       "5716915                   0.273238                    0.71  2021         VNM   \n",
       "5716916                   0.273238                    0.71  2021         VNM   \n",
       "5716917                   0.273238                    0.71  2021         VNM   \n",
       "5716918                   0.273238                    0.71  2021         VNM   \n",
       "5716919                   0.273238                    0.71  2021         VNM   \n",
       "\n",
       "            Pais  \n",
       "0         Canada  \n",
       "1         Canada  \n",
       "2         Canada  \n",
       "3         Canada  \n",
       "4         Canada  \n",
       "...          ...  \n",
       "5716915  Vietnam  \n",
       "5716916  Vietnam  \n",
       "5716917  Vietnam  \n",
       "5716918  Vietnam  \n",
       "5716919  Vietnam  \n",
       "\n",
       "[5314320 rows x 11 columns]"
      ]
     },
     "execution_count": 43,
     "metadata": {},
     "output_type": "execute_result"
    }
   ],
   "source": [
    "todas90['Consumo_Hidroelectrica']=todas90['Consumo_Hidroelectrica'].astype(float)\n",
    "todas90"
   ]
  },
  {
   "cell_type": "code",
   "execution_count": 44,
   "metadata": {},
   "outputs": [
    {
     "data": {
      "text/html": [
       "<div>\n",
       "<style scoped>\n",
       "    .dataframe tbody tr th:only-of-type {\n",
       "        vertical-align: middle;\n",
       "    }\n",
       "\n",
       "    .dataframe tbody tr th {\n",
       "        vertical-align: top;\n",
       "    }\n",
       "\n",
       "    .dataframe thead th {\n",
       "        text-align: right;\n",
       "    }\n",
       "</style>\n",
       "<table border=\"1\" class=\"dataframe\">\n",
       "  <thead>\n",
       "    <tr style=\"text-align: right;\">\n",
       "      <th></th>\n",
       "      <th>Consumo_solar</th>\n",
       "      <th>Produccion_solar</th>\n",
       "      <th>Instalada_solar</th>\n",
       "      <th>Consumo_Eolica</th>\n",
       "      <th>Produccion_Eolica</th>\n",
       "      <th>Capacidad_instalada_Eolica</th>\n",
       "      <th>Produccion_Hidroelectrica</th>\n",
       "      <th>Consumo_Hidroelectrica</th>\n",
       "    </tr>\n",
       "    <tr>\n",
       "      <th>Anio</th>\n",
       "      <th></th>\n",
       "      <th></th>\n",
       "      <th></th>\n",
       "      <th></th>\n",
       "      <th></th>\n",
       "      <th></th>\n",
       "      <th></th>\n",
       "      <th></th>\n",
       "    </tr>\n",
       "  </thead>\n",
       "  <tbody>\n",
       "    <tr>\n",
       "      <th>1990</th>\n",
       "      <td>0.000000</td>\n",
       "      <td>0.400000</td>\n",
       "      <td>0.000000</td>\n",
       "      <td>0.010000</td>\n",
       "      <td>0.900000</td>\n",
       "      <td>0.000000</td>\n",
       "      <td>1.064511</td>\n",
       "      <td>3.15</td>\n",
       "    </tr>\n",
       "    <tr>\n",
       "      <th>1991</th>\n",
       "      <td>0.010000</td>\n",
       "      <td>0.500000</td>\n",
       "      <td>0.000000</td>\n",
       "      <td>0.008000</td>\n",
       "      <td>0.800000</td>\n",
       "      <td>0.000000</td>\n",
       "      <td>1.106271</td>\n",
       "      <td>3.27</td>\n",
       "    </tr>\n",
       "    <tr>\n",
       "      <th>1992</th>\n",
       "      <td>0.000000</td>\n",
       "      <td>0.400000</td>\n",
       "      <td>0.000000</td>\n",
       "      <td>0.005000</td>\n",
       "      <td>0.575000</td>\n",
       "      <td>0.000000</td>\n",
       "      <td>1.134711</td>\n",
       "      <td>3.36</td>\n",
       "    </tr>\n",
       "    <tr>\n",
       "      <th>1993</th>\n",
       "      <td>0.010000</td>\n",
       "      <td>0.500000</td>\n",
       "      <td>0.000000</td>\n",
       "      <td>0.005000</td>\n",
       "      <td>0.560000</td>\n",
       "      <td>0.000000</td>\n",
       "      <td>1.159911</td>\n",
       "      <td>3.43</td>\n",
       "    </tr>\n",
       "    <tr>\n",
       "      <th>1994</th>\n",
       "      <td>0.010000</td>\n",
       "      <td>0.500000</td>\n",
       "      <td>0.000000</td>\n",
       "      <td>0.006000</td>\n",
       "      <td>0.700000</td>\n",
       "      <td>0.000000</td>\n",
       "      <td>1.180431</td>\n",
       "      <td>3.49</td>\n",
       "    </tr>\n",
       "    <tr>\n",
       "      <th>1995</th>\n",
       "      <td>0.010000</td>\n",
       "      <td>0.500000</td>\n",
       "      <td>0.000000</td>\n",
       "      <td>0.008000</td>\n",
       "      <td>0.820000</td>\n",
       "      <td>0.000000</td>\n",
       "      <td>1.202750</td>\n",
       "      <td>3.56</td>\n",
       "    </tr>\n",
       "    <tr>\n",
       "      <th>1996</th>\n",
       "      <td>0.000625</td>\n",
       "      <td>0.037500</td>\n",
       "      <td>10.750000</td>\n",
       "      <td>0.008000</td>\n",
       "      <td>0.900000</td>\n",
       "      <td>0.000000</td>\n",
       "      <td>1.276550</td>\n",
       "      <td>3.77</td>\n",
       "    </tr>\n",
       "    <tr>\n",
       "      <th>1997</th>\n",
       "      <td>0.000588</td>\n",
       "      <td>0.035294</td>\n",
       "      <td>13.588235</td>\n",
       "      <td>0.003611</td>\n",
       "      <td>0.330556</td>\n",
       "      <td>211.750000</td>\n",
       "      <td>1.255310</td>\n",
       "      <td>3.71</td>\n",
       "    </tr>\n",
       "    <tr>\n",
       "      <th>1998</th>\n",
       "      <td>0.000526</td>\n",
       "      <td>0.031579</td>\n",
       "      <td>16.000000</td>\n",
       "      <td>0.003947</td>\n",
       "      <td>0.418421</td>\n",
       "      <td>261.473684</td>\n",
       "      <td>1.191230</td>\n",
       "      <td>3.52</td>\n",
       "    </tr>\n",
       "    <tr>\n",
       "      <th>1999</th>\n",
       "      <td>0.000455</td>\n",
       "      <td>0.031818</td>\n",
       "      <td>19.272727</td>\n",
       "      <td>0.005789</td>\n",
       "      <td>0.547368</td>\n",
       "      <td>353.342105</td>\n",
       "      <td>1.241990</td>\n",
       "      <td>3.67</td>\n",
       "    </tr>\n",
       "    <tr>\n",
       "      <th>2000</th>\n",
       "      <td>0.000400</td>\n",
       "      <td>0.032000</td>\n",
       "      <td>32.360000</td>\n",
       "      <td>0.007805</td>\n",
       "      <td>0.758537</td>\n",
       "      <td>413.000000</td>\n",
       "      <td>1.284470</td>\n",
       "      <td>3.80</td>\n",
       "    </tr>\n",
       "    <tr>\n",
       "      <th>2001</th>\n",
       "      <td>0.000769</td>\n",
       "      <td>0.050000</td>\n",
       "      <td>42.038462</td>\n",
       "      <td>0.008837</td>\n",
       "      <td>0.888372</td>\n",
       "      <td>557.418605</td>\n",
       "      <td>1.193390</td>\n",
       "      <td>3.51</td>\n",
       "    </tr>\n",
       "    <tr>\n",
       "      <th>2002</th>\n",
       "      <td>0.000690</td>\n",
       "      <td>0.055172</td>\n",
       "      <td>49.586207</td>\n",
       "      <td>0.011064</td>\n",
       "      <td>1.114894</td>\n",
       "      <td>653.914894</td>\n",
       "      <td>1.257470</td>\n",
       "      <td>3.67</td>\n",
       "    </tr>\n",
       "    <tr>\n",
       "      <th>2003</th>\n",
       "      <td>0.000667</td>\n",
       "      <td>0.070000</td>\n",
       "      <td>65.466667</td>\n",
       "      <td>0.013830</td>\n",
       "      <td>1.344681</td>\n",
       "      <td>822.744681</td>\n",
       "      <td>1.209950</td>\n",
       "      <td>3.51</td>\n",
       "    </tr>\n",
       "    <tr>\n",
       "      <th>2004</th>\n",
       "      <td>0.000909</td>\n",
       "      <td>0.087879</td>\n",
       "      <td>92.484848</td>\n",
       "      <td>0.017755</td>\n",
       "      <td>1.740816</td>\n",
       "      <td>973.183673</td>\n",
       "      <td>1.218230</td>\n",
       "      <td>3.51</td>\n",
       "    </tr>\n",
       "    <tr>\n",
       "      <th>2005</th>\n",
       "      <td>0.001143</td>\n",
       "      <td>0.108571</td>\n",
       "      <td>129.971429</td>\n",
       "      <td>0.020577</td>\n",
       "      <td>2.007692</td>\n",
       "      <td>1123.250000</td>\n",
       "      <td>1.303190</td>\n",
       "      <td>3.73</td>\n",
       "    </tr>\n",
       "    <tr>\n",
       "      <th>2006</th>\n",
       "      <td>0.001389</td>\n",
       "      <td>0.150000</td>\n",
       "      <td>169.222222</td>\n",
       "      <td>0.025660</td>\n",
       "      <td>2.513208</td>\n",
       "      <td>1380.415094</td>\n",
       "      <td>1.270430</td>\n",
       "      <td>3.61</td>\n",
       "    </tr>\n",
       "    <tr>\n",
       "      <th>2007</th>\n",
       "      <td>0.001892</td>\n",
       "      <td>0.200000</td>\n",
       "      <td>229.837838</td>\n",
       "      <td>0.029825</td>\n",
       "      <td>3.003509</td>\n",
       "      <td>1606.210526</td>\n",
       "      <td>1.323349</td>\n",
       "      <td>3.74</td>\n",
       "    </tr>\n",
       "    <tr>\n",
       "      <th>2008</th>\n",
       "      <td>0.003250</td>\n",
       "      <td>0.305000</td>\n",
       "      <td>368.250000</td>\n",
       "      <td>0.036833</td>\n",
       "      <td>3.683333</td>\n",
       "      <td>1926.066667</td>\n",
       "      <td>1.358989</td>\n",
       "      <td>3.82</td>\n",
       "    </tr>\n",
       "    <tr>\n",
       "      <th>2009</th>\n",
       "      <td>0.004762</td>\n",
       "      <td>0.495238</td>\n",
       "      <td>543.976190</td>\n",
       "      <td>0.045246</td>\n",
       "      <td>4.534426</td>\n",
       "      <td>2460.967213</td>\n",
       "      <td>1.327309</td>\n",
       "      <td>3.71</td>\n",
       "    </tr>\n",
       "    <tr>\n",
       "      <th>2010</th>\n",
       "      <td>0.007234</td>\n",
       "      <td>0.717021</td>\n",
       "      <td>858.340426</td>\n",
       "      <td>0.055645</td>\n",
       "      <td>5.580645</td>\n",
       "      <td>2916.951613</td>\n",
       "      <td>1.265030</td>\n",
       "      <td>3.51</td>\n",
       "    </tr>\n",
       "    <tr>\n",
       "      <th>2011</th>\n",
       "      <td>0.012075</td>\n",
       "      <td>1.230189</td>\n",
       "      <td>1362.584906</td>\n",
       "      <td>0.066769</td>\n",
       "      <td>6.778462</td>\n",
       "      <td>3386.476923</td>\n",
       "      <td>1.352509</td>\n",
       "      <td>3.73</td>\n",
       "    </tr>\n",
       "    <tr>\n",
       "      <th>2012</th>\n",
       "      <td>0.016667</td>\n",
       "      <td>1.778947</td>\n",
       "      <td>1785.017544</td>\n",
       "      <td>0.076765</td>\n",
       "      <td>7.798529</td>\n",
       "      <td>3925.250000</td>\n",
       "      <td>1.369069</td>\n",
       "      <td>3.75</td>\n",
       "    </tr>\n",
       "    <tr>\n",
       "      <th>2013</th>\n",
       "      <td>0.023103</td>\n",
       "      <td>2.374138</td>\n",
       "      <td>2366.017241</td>\n",
       "      <td>0.087746</td>\n",
       "      <td>8.949296</td>\n",
       "      <td>4223.098592</td>\n",
       "      <td>1.410469</td>\n",
       "      <td>3.84</td>\n",
       "    </tr>\n",
       "    <tr>\n",
       "      <th>2014</th>\n",
       "      <td>0.030159</td>\n",
       "      <td>3.111111</td>\n",
       "      <td>2787.555556</td>\n",
       "      <td>0.094247</td>\n",
       "      <td>9.667123</td>\n",
       "      <td>4785.013699</td>\n",
       "      <td>1.376989</td>\n",
       "      <td>3.73</td>\n",
       "    </tr>\n",
       "    <tr>\n",
       "      <th>2015</th>\n",
       "      <td>0.035522</td>\n",
       "      <td>3.797015</td>\n",
       "      <td>3331.447761</td>\n",
       "      <td>0.108378</td>\n",
       "      <td>11.228378</td>\n",
       "      <td>5623.918919</td>\n",
       "      <td>1.375909</td>\n",
       "      <td>3.71</td>\n",
       "    </tr>\n",
       "    <tr>\n",
       "      <th>2016</th>\n",
       "      <td>0.043056</td>\n",
       "      <td>4.540278</td>\n",
       "      <td>4100.416667</td>\n",
       "      <td>0.123067</td>\n",
       "      <td>12.826667</td>\n",
       "      <td>6224.866667</td>\n",
       "      <td>1.387429</td>\n",
       "      <td>3.71</td>\n",
       "    </tr>\n",
       "    <tr>\n",
       "      <th>2017</th>\n",
       "      <td>0.055789</td>\n",
       "      <td>5.857895</td>\n",
       "      <td>5134.302632</td>\n",
       "      <td>0.147297</td>\n",
       "      <td>15.406757</td>\n",
       "      <td>6948.824324</td>\n",
       "      <td>1.420549</td>\n",
       "      <td>3.78</td>\n",
       "    </tr>\n",
       "    <tr>\n",
       "      <th>2018</th>\n",
       "      <td>0.067901</td>\n",
       "      <td>7.109877</td>\n",
       "      <td>5963.111111</td>\n",
       "      <td>0.158553</td>\n",
       "      <td>16.705263</td>\n",
       "      <td>7414.013158</td>\n",
       "      <td>1.389229</td>\n",
       "      <td>3.68</td>\n",
       "    </tr>\n",
       "    <tr>\n",
       "      <th>2019</th>\n",
       "      <td>0.078929</td>\n",
       "      <td>8.379762</td>\n",
       "      <td>6960.535714</td>\n",
       "      <td>0.174935</td>\n",
       "      <td>18.446753</td>\n",
       "      <td>8068.415584</td>\n",
       "      <td>1.374469</td>\n",
       "      <td>3.62</td>\n",
       "    </tr>\n",
       "    <tr>\n",
       "      <th>2020</th>\n",
       "      <td>0.093412</td>\n",
       "      <td>9.958824</td>\n",
       "      <td>8356.235294</td>\n",
       "      <td>0.195584</td>\n",
       "      <td>20.727273</td>\n",
       "      <td>9503.428571</td>\n",
       "      <td>1.391389</td>\n",
       "      <td>3.65</td>\n",
       "    </tr>\n",
       "    <tr>\n",
       "      <th>2021</th>\n",
       "      <td>0.112326</td>\n",
       "      <td>12.008140</td>\n",
       "      <td>9803.302326</td>\n",
       "      <td>0.224359</td>\n",
       "      <td>23.869231</td>\n",
       "      <td>10575.346154</td>\n",
       "      <td>1.370869</td>\n",
       "      <td>3.59</td>\n",
       "    </tr>\n",
       "  </tbody>\n",
       "</table>\n",
       "</div>"
      ],
      "text/plain": [
       "      Consumo_solar  Produccion_solar  Instalada_solar  Consumo_Eolica  \\\n",
       "Anio                                                                     \n",
       "1990       0.000000          0.400000         0.000000        0.010000   \n",
       "1991       0.010000          0.500000         0.000000        0.008000   \n",
       "1992       0.000000          0.400000         0.000000        0.005000   \n",
       "1993       0.010000          0.500000         0.000000        0.005000   \n",
       "1994       0.010000          0.500000         0.000000        0.006000   \n",
       "1995       0.010000          0.500000         0.000000        0.008000   \n",
       "1996       0.000625          0.037500        10.750000        0.008000   \n",
       "1997       0.000588          0.035294        13.588235        0.003611   \n",
       "1998       0.000526          0.031579        16.000000        0.003947   \n",
       "1999       0.000455          0.031818        19.272727        0.005789   \n",
       "2000       0.000400          0.032000        32.360000        0.007805   \n",
       "2001       0.000769          0.050000        42.038462        0.008837   \n",
       "2002       0.000690          0.055172        49.586207        0.011064   \n",
       "2003       0.000667          0.070000        65.466667        0.013830   \n",
       "2004       0.000909          0.087879        92.484848        0.017755   \n",
       "2005       0.001143          0.108571       129.971429        0.020577   \n",
       "2006       0.001389          0.150000       169.222222        0.025660   \n",
       "2007       0.001892          0.200000       229.837838        0.029825   \n",
       "2008       0.003250          0.305000       368.250000        0.036833   \n",
       "2009       0.004762          0.495238       543.976190        0.045246   \n",
       "2010       0.007234          0.717021       858.340426        0.055645   \n",
       "2011       0.012075          1.230189      1362.584906        0.066769   \n",
       "2012       0.016667          1.778947      1785.017544        0.076765   \n",
       "2013       0.023103          2.374138      2366.017241        0.087746   \n",
       "2014       0.030159          3.111111      2787.555556        0.094247   \n",
       "2015       0.035522          3.797015      3331.447761        0.108378   \n",
       "2016       0.043056          4.540278      4100.416667        0.123067   \n",
       "2017       0.055789          5.857895      5134.302632        0.147297   \n",
       "2018       0.067901          7.109877      5963.111111        0.158553   \n",
       "2019       0.078929          8.379762      6960.535714        0.174935   \n",
       "2020       0.093412          9.958824      8356.235294        0.195584   \n",
       "2021       0.112326         12.008140      9803.302326        0.224359   \n",
       "\n",
       "      Produccion_Eolica  Capacidad_instalada_Eolica  \\\n",
       "Anio                                                  \n",
       "1990           0.900000                    0.000000   \n",
       "1991           0.800000                    0.000000   \n",
       "1992           0.575000                    0.000000   \n",
       "1993           0.560000                    0.000000   \n",
       "1994           0.700000                    0.000000   \n",
       "1995           0.820000                    0.000000   \n",
       "1996           0.900000                    0.000000   \n",
       "1997           0.330556                  211.750000   \n",
       "1998           0.418421                  261.473684   \n",
       "1999           0.547368                  353.342105   \n",
       "2000           0.758537                  413.000000   \n",
       "2001           0.888372                  557.418605   \n",
       "2002           1.114894                  653.914894   \n",
       "2003           1.344681                  822.744681   \n",
       "2004           1.740816                  973.183673   \n",
       "2005           2.007692                 1123.250000   \n",
       "2006           2.513208                 1380.415094   \n",
       "2007           3.003509                 1606.210526   \n",
       "2008           3.683333                 1926.066667   \n",
       "2009           4.534426                 2460.967213   \n",
       "2010           5.580645                 2916.951613   \n",
       "2011           6.778462                 3386.476923   \n",
       "2012           7.798529                 3925.250000   \n",
       "2013           8.949296                 4223.098592   \n",
       "2014           9.667123                 4785.013699   \n",
       "2015          11.228378                 5623.918919   \n",
       "2016          12.826667                 6224.866667   \n",
       "2017          15.406757                 6948.824324   \n",
       "2018          16.705263                 7414.013158   \n",
       "2019          18.446753                 8068.415584   \n",
       "2020          20.727273                 9503.428571   \n",
       "2021          23.869231                10575.346154   \n",
       "\n",
       "      Produccion_Hidroelectrica  Consumo_Hidroelectrica  \n",
       "Anio                                                     \n",
       "1990                   1.064511                    3.15  \n",
       "1991                   1.106271                    3.27  \n",
       "1992                   1.134711                    3.36  \n",
       "1993                   1.159911                    3.43  \n",
       "1994                   1.180431                    3.49  \n",
       "1995                   1.202750                    3.56  \n",
       "1996                   1.276550                    3.77  \n",
       "1997                   1.255310                    3.71  \n",
       "1998                   1.191230                    3.52  \n",
       "1999                   1.241990                    3.67  \n",
       "2000                   1.284470                    3.80  \n",
       "2001                   1.193390                    3.51  \n",
       "2002                   1.257470                    3.67  \n",
       "2003                   1.209950                    3.51  \n",
       "2004                   1.218230                    3.51  \n",
       "2005                   1.303190                    3.73  \n",
       "2006                   1.270430                    3.61  \n",
       "2007                   1.323349                    3.74  \n",
       "2008                   1.358989                    3.82  \n",
       "2009                   1.327309                    3.71  \n",
       "2010                   1.265030                    3.51  \n",
       "2011                   1.352509                    3.73  \n",
       "2012                   1.369069                    3.75  \n",
       "2013                   1.410469                    3.84  \n",
       "2014                   1.376989                    3.73  \n",
       "2015                   1.375909                    3.71  \n",
       "2016                   1.387429                    3.71  \n",
       "2017                   1.420549                    3.78  \n",
       "2018                   1.389229                    3.68  \n",
       "2019                   1.374469                    3.62  \n",
       "2020                   1.391389                    3.65  \n",
       "2021                   1.370869                    3.59  "
      ]
     },
     "execution_count": 44,
     "metadata": {},
     "output_type": "execute_result"
    }
   ],
   "source": [
    "pais_lim1=todas90[(todas90.Pais=='Canada')].groupby(by=['Anio']).mean()\n",
    "pais_lim1"
   ]
  },
  {
   "cell_type": "code",
   "execution_count": 35,
   "metadata": {},
   "outputs": [
    {
     "data": {
      "text/html": [
       "<div>\n",
       "<style scoped>\n",
       "    .dataframe tbody tr th:only-of-type {\n",
       "        vertical-align: middle;\n",
       "    }\n",
       "\n",
       "    .dataframe tbody tr th {\n",
       "        vertical-align: top;\n",
       "    }\n",
       "\n",
       "    .dataframe thead th {\n",
       "        text-align: right;\n",
       "    }\n",
       "</style>\n",
       "<table border=\"1\" class=\"dataframe\">\n",
       "  <thead>\n",
       "    <tr style=\"text-align: right;\">\n",
       "      <th></th>\n",
       "      <th>Produccion_Geotermica</th>\n",
       "      <th>Consumo_Geotermica</th>\n",
       "      <th>Codigo_pais</th>\n",
       "      <th>Pais</th>\n",
       "      <th>Anio</th>\n",
       "      <th>Consumo_Nuclear</th>\n",
       "      <th>Produccion_Nuclear</th>\n",
       "    </tr>\n",
       "  </thead>\n",
       "  <tbody>\n",
       "    <tr>\n",
       "      <th>0</th>\n",
       "      <td>0.02556</td>\n",
       "      <td>0.08</td>\n",
       "      <td>CAN</td>\n",
       "      <td>Canada</td>\n",
       "      <td>1995</td>\n",
       "      <td>0.99</td>\n",
       "      <td>97.2</td>\n",
       "    </tr>\n",
       "    <tr>\n",
       "      <th>1</th>\n",
       "      <td>0.02556</td>\n",
       "      <td>0.08</td>\n",
       "      <td>CAN</td>\n",
       "      <td>Canada</td>\n",
       "      <td>1995</td>\n",
       "      <td>0.09</td>\n",
       "      <td>8.4</td>\n",
       "    </tr>\n",
       "    <tr>\n",
       "      <th>2</th>\n",
       "      <td>0.02556</td>\n",
       "      <td>0.08</td>\n",
       "      <td>CAN</td>\n",
       "      <td>Canada</td>\n",
       "      <td>1995</td>\n",
       "      <td>7.24</td>\n",
       "      <td>708.8</td>\n",
       "    </tr>\n",
       "    <tr>\n",
       "      <th>3</th>\n",
       "      <td>0.02556</td>\n",
       "      <td>0.08</td>\n",
       "      <td>CAN</td>\n",
       "      <td>Canada</td>\n",
       "      <td>1995</td>\n",
       "      <td>0.07</td>\n",
       "      <td>7.1</td>\n",
       "    </tr>\n",
       "    <tr>\n",
       "      <th>4</th>\n",
       "      <td>0.02556</td>\n",
       "      <td>0.08</td>\n",
       "      <td>CAN</td>\n",
       "      <td>Canada</td>\n",
       "      <td>1995</td>\n",
       "      <td>0.03</td>\n",
       "      <td>2.5</td>\n",
       "    </tr>\n",
       "    <tr>\n",
       "      <th>...</th>\n",
       "      <td>...</td>\n",
       "      <td>...</td>\n",
       "      <td>...</td>\n",
       "      <td>...</td>\n",
       "      <td>...</td>\n",
       "      <td>...</td>\n",
       "      <td>...</td>\n",
       "    </tr>\n",
       "    <tr>\n",
       "      <th>176267</th>\n",
       "      <td>0.00072</td>\n",
       "      <td>0</td>\n",
       "      <td>VNM</td>\n",
       "      <td>Vietnam</td>\n",
       "      <td>2021</td>\n",
       "      <td>0.00</td>\n",
       "      <td>0.0</td>\n",
       "    </tr>\n",
       "    <tr>\n",
       "      <th>176268</th>\n",
       "      <td>0.00072</td>\n",
       "      <td>0</td>\n",
       "      <td>VNM</td>\n",
       "      <td>Vietnam</td>\n",
       "      <td>2021</td>\n",
       "      <td>0.25</td>\n",
       "      <td>27.8</td>\n",
       "    </tr>\n",
       "    <tr>\n",
       "      <th>176269</th>\n",
       "      <td>0.00072</td>\n",
       "      <td>0</td>\n",
       "      <td>VNM</td>\n",
       "      <td>Vietnam</td>\n",
       "      <td>2021</td>\n",
       "      <td>0.00</td>\n",
       "      <td>0.0</td>\n",
       "    </tr>\n",
       "    <tr>\n",
       "      <th>176270</th>\n",
       "      <td>0.00072</td>\n",
       "      <td>0</td>\n",
       "      <td>VNM</td>\n",
       "      <td>Vietnam</td>\n",
       "      <td>2021</td>\n",
       "      <td>0.00</td>\n",
       "      <td>0.0</td>\n",
       "    </tr>\n",
       "    <tr>\n",
       "      <th>176271</th>\n",
       "      <td>0.00072</td>\n",
       "      <td>0</td>\n",
       "      <td>VNM</td>\n",
       "      <td>Vietnam</td>\n",
       "      <td>2021</td>\n",
       "      <td>0.00</td>\n",
       "      <td>0.0</td>\n",
       "    </tr>\n",
       "  </tbody>\n",
       "</table>\n",
       "<p>163944 rows × 7 columns</p>\n",
       "</div>"
      ],
      "text/plain": [
       "        Produccion_Geotermica Consumo_Geotermica Codigo_pais     Pais  Anio  \\\n",
       "0                     0.02556               0.08         CAN   Canada  1995   \n",
       "1                     0.02556               0.08         CAN   Canada  1995   \n",
       "2                     0.02556               0.08         CAN   Canada  1995   \n",
       "3                     0.02556               0.08         CAN   Canada  1995   \n",
       "4                     0.02556               0.08         CAN   Canada  1995   \n",
       "...                       ...                ...         ...      ...   ...   \n",
       "176267                0.00072                  0         VNM  Vietnam  2021   \n",
       "176268                0.00072                  0         VNM  Vietnam  2021   \n",
       "176269                0.00072                  0         VNM  Vietnam  2021   \n",
       "176270                0.00072                  0         VNM  Vietnam  2021   \n",
       "176271                0.00072                  0         VNM  Vietnam  2021   \n",
       "\n",
       "        Consumo_Nuclear  Produccion_Nuclear  \n",
       "0                  0.99                97.2  \n",
       "1                  0.09                 8.4  \n",
       "2                  7.24               708.8  \n",
       "3                  0.07                 7.1  \n",
       "4                  0.03                 2.5  \n",
       "...                 ...                 ...  \n",
       "176267             0.00                 0.0  \n",
       "176268             0.25                27.8  \n",
       "176269             0.00                 0.0  \n",
       "176270             0.00                 0.0  \n",
       "176271             0.00                 0.0  \n",
       "\n",
       "[163944 rows x 7 columns]"
      ]
     },
     "execution_count": 35,
     "metadata": {},
     "output_type": "execute_result"
    }
   ],
   "source": [
    "geo_nuc=pd.merge(geo, paises, on='Id_Pais')\n",
    "geo_nuc=pd.merge(geo_nuc, años, on='Id_anio')\n",
    "geo_nuc=pd.merge(geo_nuc,nuclear, on='Id_anio')\n",
    "geo_nuc.drop(columns={'Id_Pais_x','Id_Pais_y','Id_anio','Id_Energia_Geotermica','ID_Energia_nuclear'},inplace=True)\n",
    "indexN=geo_nuc[geo_nuc['Pais']=='Other Europe (BP)'].index\n",
    "geo_nuc.drop(indexN, inplace=True)\n",
    "indexN=geo_nuc[geo_nuc['Pais']=='Other CIS (BP)'].index\n",
    "geo_nuc.drop(indexN, inplace=True)\n",
    "indexN=geo_nuc[geo_nuc['Pais']=='Other Middle East (BP)'].index\n",
    "geo_nuc.drop(indexN, inplace=True)\n",
    "indexN=geo_nuc[geo_nuc['Pais']=='Other Western Africa (BP)'].index\n",
    "geo_nuc.drop(indexN, inplace=True)\n",
    "indexN=geo_nuc[geo_nuc['Pais']=='Other Northern Africa (BP)'].index\n",
    "geo_nuc.drop(indexN, inplace=True)\n",
    "indexN=geo_nuc[geo_nuc['Pais']=='Other Asia Pacific (BP)'].index\n",
    "geo_nuc.drop(indexN, inplace=True)\n",
    "\n",
    "geo_nuc"
   ]
  },
  {
   "cell_type": "code",
   "execution_count": 45,
   "metadata": {},
   "outputs": [
    {
     "data": {
      "text/plain": [
       "Produccion_Geotermica    float64\n",
       "Consumo_Geotermica        object\n",
       "Codigo_pais               object\n",
       "Pais                      object\n",
       "Anio                       int64\n",
       "Consumo_Nuclear          float64\n",
       "Produccion_Nuclear       float64\n",
       "dtype: object"
      ]
     },
     "execution_count": 45,
     "metadata": {},
     "output_type": "execute_result"
    }
   ],
   "source": [
    "geo_nuc.dtypes"
   ]
  },
  {
   "cell_type": "code",
   "execution_count": 46,
   "metadata": {},
   "outputs": [],
   "source": [
    "geo_nuc['Consumo_Geotermica']=geo_nuc['Consumo_Geotermica'].astype(float)"
   ]
  },
  {
   "cell_type": "code",
   "execution_count": 47,
   "metadata": {},
   "outputs": [
    {
     "data": {
      "text/html": [
       "<div>\n",
       "<style scoped>\n",
       "    .dataframe tbody tr th:only-of-type {\n",
       "        vertical-align: middle;\n",
       "    }\n",
       "\n",
       "    .dataframe tbody tr th {\n",
       "        vertical-align: top;\n",
       "    }\n",
       "\n",
       "    .dataframe thead th {\n",
       "        text-align: right;\n",
       "    }\n",
       "</style>\n",
       "<table border=\"1\" class=\"dataframe\">\n",
       "  <thead>\n",
       "    <tr style=\"text-align: right;\">\n",
       "      <th></th>\n",
       "      <th>Produccion_Geotermica</th>\n",
       "      <th>Consumo_Geotermica</th>\n",
       "      <th>Consumo_Nuclear</th>\n",
       "      <th>Produccion_Nuclear</th>\n",
       "    </tr>\n",
       "    <tr>\n",
       "      <th>Anio</th>\n",
       "      <th></th>\n",
       "      <th></th>\n",
       "      <th></th>\n",
       "      <th></th>\n",
       "    </tr>\n",
       "  </thead>\n",
       "  <tbody>\n",
       "    <tr>\n",
       "      <th>1995</th>\n",
       "      <td>0.02556</td>\n",
       "      <td>0.08</td>\n",
       "      <td>0.257717</td>\n",
       "      <td>25.241304</td>\n",
       "    </tr>\n",
       "    <tr>\n",
       "      <th>1996</th>\n",
       "      <td>0.02700</td>\n",
       "      <td>0.09</td>\n",
       "      <td>0.267174</td>\n",
       "      <td>26.160870</td>\n",
       "    </tr>\n",
       "    <tr>\n",
       "      <th>1997</th>\n",
       "      <td>0.02952</td>\n",
       "      <td>0.09</td>\n",
       "      <td>0.265217</td>\n",
       "      <td>25.982609</td>\n",
       "    </tr>\n",
       "    <tr>\n",
       "      <th>1998</th>\n",
       "      <td>0.03240</td>\n",
       "      <td>0.10</td>\n",
       "      <td>0.269891</td>\n",
       "      <td>26.432609</td>\n",
       "    </tr>\n",
       "    <tr>\n",
       "      <th>1999</th>\n",
       "      <td>0.03204</td>\n",
       "      <td>0.10</td>\n",
       "      <td>0.280109</td>\n",
       "      <td>27.434783</td>\n",
       "    </tr>\n",
       "    <tr>\n",
       "      <th>2000</th>\n",
       "      <td>0.03204</td>\n",
       "      <td>0.10</td>\n",
       "      <td>0.286630</td>\n",
       "      <td>28.054348</td>\n",
       "    </tr>\n",
       "    <tr>\n",
       "      <th>2001</th>\n",
       "      <td>0.03492</td>\n",
       "      <td>0.11</td>\n",
       "      <td>0.292500</td>\n",
       "      <td>28.845652</td>\n",
       "    </tr>\n",
       "    <tr>\n",
       "      <th>2002</th>\n",
       "      <td>0.03600</td>\n",
       "      <td>0.12</td>\n",
       "      <td>0.295761</td>\n",
       "      <td>29.304348</td>\n",
       "    </tr>\n",
       "    <tr>\n",
       "      <th>2003</th>\n",
       "      <td>0.03384</td>\n",
       "      <td>0.11</td>\n",
       "      <td>0.287826</td>\n",
       "      <td>28.715217</td>\n",
       "    </tr>\n",
       "    <tr>\n",
       "      <th>2004</th>\n",
       "      <td>0.03528</td>\n",
       "      <td>0.11</td>\n",
       "      <td>0.298696</td>\n",
       "      <td>30.018478</td>\n",
       "    </tr>\n",
       "    <tr>\n",
       "      <th>2005</th>\n",
       "      <td>0.03312</td>\n",
       "      <td>0.11</td>\n",
       "      <td>0.297935</td>\n",
       "      <td>30.094565</td>\n",
       "    </tr>\n",
       "    <tr>\n",
       "      <th>2006</th>\n",
       "      <td>0.03204</td>\n",
       "      <td>0.10</td>\n",
       "      <td>0.299891</td>\n",
       "      <td>30.470652</td>\n",
       "    </tr>\n",
       "    <tr>\n",
       "      <th>2007</th>\n",
       "      <td>0.03240</td>\n",
       "      <td>0.10</td>\n",
       "      <td>0.291630</td>\n",
       "      <td>29.846739</td>\n",
       "    </tr>\n",
       "    <tr>\n",
       "      <th>2008</th>\n",
       "      <td>0.02880</td>\n",
       "      <td>0.09</td>\n",
       "      <td>0.289022</td>\n",
       "      <td>29.758696</td>\n",
       "    </tr>\n",
       "    <tr>\n",
       "      <th>2009</th>\n",
       "      <td>0.03204</td>\n",
       "      <td>0.10</td>\n",
       "      <td>0.283043</td>\n",
       "      <td>29.339130</td>\n",
       "    </tr>\n",
       "    <tr>\n",
       "      <th>2010</th>\n",
       "      <td>0.03708</td>\n",
       "      <td>0.12</td>\n",
       "      <td>0.288261</td>\n",
       "      <td>30.090217</td>\n",
       "    </tr>\n",
       "    <tr>\n",
       "      <th>2011</th>\n",
       "      <td>0.03672</td>\n",
       "      <td>0.12</td>\n",
       "      <td>0.275000</td>\n",
       "      <td>28.829348</td>\n",
       "    </tr>\n",
       "    <tr>\n",
       "      <th>2012</th>\n",
       "      <td>0.03924</td>\n",
       "      <td>0.13</td>\n",
       "      <td>0.254130</td>\n",
       "      <td>26.854348</td>\n",
       "    </tr>\n",
       "    <tr>\n",
       "      <th>2013</th>\n",
       "      <td>0.03960</td>\n",
       "      <td>0.13</td>\n",
       "      <td>0.254783</td>\n",
       "      <td>27.070652</td>\n",
       "    </tr>\n",
       "    <tr>\n",
       "      <th>2014</th>\n",
       "      <td>0.03528</td>\n",
       "      <td>0.11</td>\n",
       "      <td>0.258587</td>\n",
       "      <td>27.625000</td>\n",
       "    </tr>\n",
       "    <tr>\n",
       "      <th>2015</th>\n",
       "      <td>0.03600</td>\n",
       "      <td>0.11</td>\n",
       "      <td>0.260435</td>\n",
       "      <td>27.992391</td>\n",
       "    </tr>\n",
       "    <tr>\n",
       "      <th>2016</th>\n",
       "      <td>0.04104</td>\n",
       "      <td>0.13</td>\n",
       "      <td>0.262717</td>\n",
       "      <td>28.415217</td>\n",
       "    </tr>\n",
       "    <tr>\n",
       "      <th>2017</th>\n",
       "      <td>0.03924</td>\n",
       "      <td>0.12</td>\n",
       "      <td>0.263370</td>\n",
       "      <td>28.663043</td>\n",
       "    </tr>\n",
       "    <tr>\n",
       "      <th>2018</th>\n",
       "      <td>0.03780</td>\n",
       "      <td>0.12</td>\n",
       "      <td>0.267826</td>\n",
       "      <td>29.353261</td>\n",
       "    </tr>\n",
       "    <tr>\n",
       "      <th>2019</th>\n",
       "      <td>0.03708</td>\n",
       "      <td>0.12</td>\n",
       "      <td>0.276848</td>\n",
       "      <td>30.394565</td>\n",
       "    </tr>\n",
       "    <tr>\n",
       "      <th>2020</th>\n",
       "      <td>0.03384</td>\n",
       "      <td>0.11</td>\n",
       "      <td>0.265652</td>\n",
       "      <td>29.281522</td>\n",
       "    </tr>\n",
       "    <tr>\n",
       "      <th>2021</th>\n",
       "      <td>0.03492</td>\n",
       "      <td>0.11</td>\n",
       "      <td>0.274891</td>\n",
       "      <td>30.436957</td>\n",
       "    </tr>\n",
       "  </tbody>\n",
       "</table>\n",
       "</div>"
      ],
      "text/plain": [
       "      Produccion_Geotermica  Consumo_Geotermica  Consumo_Nuclear  \\\n",
       "Anio                                                               \n",
       "1995                0.02556                0.08         0.257717   \n",
       "1996                0.02700                0.09         0.267174   \n",
       "1997                0.02952                0.09         0.265217   \n",
       "1998                0.03240                0.10         0.269891   \n",
       "1999                0.03204                0.10         0.280109   \n",
       "2000                0.03204                0.10         0.286630   \n",
       "2001                0.03492                0.11         0.292500   \n",
       "2002                0.03600                0.12         0.295761   \n",
       "2003                0.03384                0.11         0.287826   \n",
       "2004                0.03528                0.11         0.298696   \n",
       "2005                0.03312                0.11         0.297935   \n",
       "2006                0.03204                0.10         0.299891   \n",
       "2007                0.03240                0.10         0.291630   \n",
       "2008                0.02880                0.09         0.289022   \n",
       "2009                0.03204                0.10         0.283043   \n",
       "2010                0.03708                0.12         0.288261   \n",
       "2011                0.03672                0.12         0.275000   \n",
       "2012                0.03924                0.13         0.254130   \n",
       "2013                0.03960                0.13         0.254783   \n",
       "2014                0.03528                0.11         0.258587   \n",
       "2015                0.03600                0.11         0.260435   \n",
       "2016                0.04104                0.13         0.262717   \n",
       "2017                0.03924                0.12         0.263370   \n",
       "2018                0.03780                0.12         0.267826   \n",
       "2019                0.03708                0.12         0.276848   \n",
       "2020                0.03384                0.11         0.265652   \n",
       "2021                0.03492                0.11         0.274891   \n",
       "\n",
       "      Produccion_Nuclear  \n",
       "Anio                      \n",
       "1995           25.241304  \n",
       "1996           26.160870  \n",
       "1997           25.982609  \n",
       "1998           26.432609  \n",
       "1999           27.434783  \n",
       "2000           28.054348  \n",
       "2001           28.845652  \n",
       "2002           29.304348  \n",
       "2003           28.715217  \n",
       "2004           30.018478  \n",
       "2005           30.094565  \n",
       "2006           30.470652  \n",
       "2007           29.846739  \n",
       "2008           29.758696  \n",
       "2009           29.339130  \n",
       "2010           30.090217  \n",
       "2011           28.829348  \n",
       "2012           26.854348  \n",
       "2013           27.070652  \n",
       "2014           27.625000  \n",
       "2015           27.992391  \n",
       "2016           28.415217  \n",
       "2017           28.663043  \n",
       "2018           29.353261  \n",
       "2019           30.394565  \n",
       "2020           29.281522  \n",
       "2021           30.436957  "
      ]
     },
     "execution_count": 47,
     "metadata": {},
     "output_type": "execute_result"
    }
   ],
   "source": [
    "pais_lim2=geo_nuc[(geo_nuc.Pais=='Canada')].groupby(by=['Anio']).mean()\n",
    "pais_lim2"
   ]
  },
  {
   "cell_type": "code",
   "execution_count": 48,
   "metadata": {},
   "outputs": [
    {
     "data": {
      "application/vnd.plotly.v1+json": {
       "config": {
        "plotlyServerURL": "https://plot.ly"
       },
       "data": [
        {
         "marker": {
          "color": "lightslategray"
         },
         "name": "Solar",
         "type": "bar",
         "x": [
          1990,
          1991,
          1992,
          1993,
          1994,
          1995,
          1996,
          1997,
          1998,
          1999,
          2000,
          2001,
          2002,
          2003,
          2004,
          2005,
          2006,
          2007,
          2008,
          2009,
          2010,
          2011,
          2012,
          2013,
          2014,
          2015,
          2016,
          2017,
          2018,
          2019,
          2020,
          2021
         ],
         "y": [
          0,
          0.01,
          0,
          0.01,
          0.01,
          0.01,
          0.000625,
          0.000588235294117647,
          0.0005263157894736842,
          0.00045454545454545455,
          0.0004,
          0.0007692307692307692,
          0.0006896551724137932,
          0.0006666666666666668,
          0.0009090909090909091,
          0.001142857142857143,
          0.001388888888888889,
          0.0018918918918918919,
          0.00325,
          0.004761904761904762,
          0.00723404255319149,
          0.012075471698113209,
          0.016666666666666666,
          0.023103448275862068,
          0.030158730158730163,
          0.035522388059701496,
          0.043055555555555555,
          0.05578947368421053,
          0.06790123456790123,
          0.07892857142857143,
          0.09341176470588235,
          0.11232558139534884
         ]
        },
        {
         "marker": {
          "color": "crimson"
         },
         "name": "Eolica",
         "type": "bar",
         "x": [
          1990,
          1991,
          1992,
          1993,
          1994,
          1995,
          1996,
          1997,
          1998,
          1999,
          2000,
          2001,
          2002,
          2003,
          2004,
          2005,
          2006,
          2007,
          2008,
          2009,
          2010,
          2011,
          2012,
          2013,
          2014,
          2015,
          2016,
          2017,
          2018,
          2019,
          2020,
          2021
         ],
         "y": [
          0.01,
          0.008,
          0.005,
          0.005,
          0.006,
          0.008,
          0.008,
          0.003611111111111111,
          0.003947368421052632,
          0.005789473684210526,
          0.007804878048780488,
          0.008837209302325582,
          0.011063829787234043,
          0.013829787234042552,
          0.017755102040816328,
          0.02057692307692308,
          0.025660377358490565,
          0.02982456140350877,
          0.036833333333333336,
          0.04524590163934426,
          0.055645161290322584,
          0.06676923076923078,
          0.07676470588235294,
          0.08774647887323943,
          0.09424657534246575,
          0.10837837837837838,
          0.12306666666666666,
          0.1472972972972973,
          0.1585526315789474,
          0.17493506493506494,
          0.19558441558441558,
          0.22435897435897437
         ]
        },
        {
         "marker": {
          "color": "indianred"
         },
         "name": "Hidroelectrica",
         "type": "bar",
         "x": [
          1990,
          1991,
          1992,
          1993,
          1994,
          1995,
          1996,
          1997,
          1998,
          1999,
          2000,
          2001,
          2002,
          2003,
          2004,
          2005,
          2006,
          2007,
          2008,
          2009,
          2010,
          2011,
          2012,
          2013,
          2014,
          2015,
          2016,
          2017,
          2018,
          2019,
          2020,
          2021
         ],
         "y": [
          3.15,
          3.2700000000000005,
          3.36,
          3.4300000000000006,
          3.4900000000000007,
          3.56,
          3.7700000000000005,
          3.71,
          3.52,
          3.67,
          3.8,
          3.51,
          3.67,
          3.51,
          3.5100000000000002,
          3.73,
          3.61,
          3.74,
          3.82,
          3.71,
          3.51,
          3.73,
          3.75,
          3.84,
          3.73,
          3.71,
          3.71,
          3.7799999999999994,
          3.68,
          3.62,
          3.65,
          3.5899999999999994
         ]
        },
        {
         "marker": {
          "color": "lightsalmon"
         },
         "name": "Geotermica",
         "type": "bar",
         "x": [
          1995,
          1996,
          1997,
          1998,
          1999,
          2000,
          2001,
          2002,
          2003,
          2004,
          2005,
          2006,
          2007,
          2008,
          2009,
          2010,
          2011,
          2012,
          2013,
          2014,
          2015,
          2016,
          2017,
          2018,
          2019,
          2020,
          2021
         ],
         "y": [
          0.08,
          0.09,
          0.09,
          0.1,
          0.1,
          0.1,
          0.10999999999999999,
          0.12,
          0.10999999999999999,
          0.10999999999999999,
          0.10999999999999999,
          0.1,
          0.1,
          0.09,
          0.1,
          0.12,
          0.12,
          0.13,
          0.13,
          0.10999999999999999,
          0.10999999999999999,
          0.13,
          0.12,
          0.12,
          0.12,
          0.10999999999999999,
          0.10999999999999999
         ]
        },
        {
         "marker": {
          "color": "indianred"
         },
         "name": "Nuclear",
         "type": "bar",
         "x": [
          1995,
          1996,
          1997,
          1998,
          1999,
          2000,
          2001,
          2002,
          2003,
          2004,
          2005,
          2006,
          2007,
          2008,
          2009,
          2010,
          2011,
          2012,
          2013,
          2014,
          2015,
          2016,
          2017,
          2018,
          2019,
          2020,
          2021
         ],
         "y": [
          0.25771739130434784,
          0.26717391304347826,
          0.2652173913043478,
          0.2698913043478261,
          0.2801086956521739,
          0.2866304347826087,
          0.2925,
          0.29576086956521735,
          0.28782608695652173,
          0.29869565217391303,
          0.29793478260869566,
          0.29989130434782607,
          0.2916304347826087,
          0.2890217391304348,
          0.28304347826086956,
          0.2882608695652174,
          0.275,
          0.25413043478260866,
          0.25478260869565217,
          0.25858695652173913,
          0.2604347826086957,
          0.26271739130434785,
          0.2633695652173913,
          0.26782608695652177,
          0.2768478260869565,
          0.26565217391304347,
          0.2748913043478261
         ]
        }
       ],
       "layout": {
        "template": {
         "data": {
          "bar": [
           {
            "error_x": {
             "color": "#2a3f5f"
            },
            "error_y": {
             "color": "#2a3f5f"
            },
            "marker": {
             "line": {
              "color": "#E5ECF6",
              "width": 0.5
             },
             "pattern": {
              "fillmode": "overlay",
              "size": 10,
              "solidity": 0.2
             }
            },
            "type": "bar"
           }
          ],
          "barpolar": [
           {
            "marker": {
             "line": {
              "color": "#E5ECF6",
              "width": 0.5
             },
             "pattern": {
              "fillmode": "overlay",
              "size": 10,
              "solidity": 0.2
             }
            },
            "type": "barpolar"
           }
          ],
          "carpet": [
           {
            "aaxis": {
             "endlinecolor": "#2a3f5f",
             "gridcolor": "white",
             "linecolor": "white",
             "minorgridcolor": "white",
             "startlinecolor": "#2a3f5f"
            },
            "baxis": {
             "endlinecolor": "#2a3f5f",
             "gridcolor": "white",
             "linecolor": "white",
             "minorgridcolor": "white",
             "startlinecolor": "#2a3f5f"
            },
            "type": "carpet"
           }
          ],
          "choropleth": [
           {
            "colorbar": {
             "outlinewidth": 0,
             "ticks": ""
            },
            "type": "choropleth"
           }
          ],
          "contour": [
           {
            "colorbar": {
             "outlinewidth": 0,
             "ticks": ""
            },
            "colorscale": [
             [
              0,
              "#0d0887"
             ],
             [
              0.1111111111111111,
              "#46039f"
             ],
             [
              0.2222222222222222,
              "#7201a8"
             ],
             [
              0.3333333333333333,
              "#9c179e"
             ],
             [
              0.4444444444444444,
              "#bd3786"
             ],
             [
              0.5555555555555556,
              "#d8576b"
             ],
             [
              0.6666666666666666,
              "#ed7953"
             ],
             [
              0.7777777777777778,
              "#fb9f3a"
             ],
             [
              0.8888888888888888,
              "#fdca26"
             ],
             [
              1,
              "#f0f921"
             ]
            ],
            "type": "contour"
           }
          ],
          "contourcarpet": [
           {
            "colorbar": {
             "outlinewidth": 0,
             "ticks": ""
            },
            "type": "contourcarpet"
           }
          ],
          "heatmap": [
           {
            "colorbar": {
             "outlinewidth": 0,
             "ticks": ""
            },
            "colorscale": [
             [
              0,
              "#0d0887"
             ],
             [
              0.1111111111111111,
              "#46039f"
             ],
             [
              0.2222222222222222,
              "#7201a8"
             ],
             [
              0.3333333333333333,
              "#9c179e"
             ],
             [
              0.4444444444444444,
              "#bd3786"
             ],
             [
              0.5555555555555556,
              "#d8576b"
             ],
             [
              0.6666666666666666,
              "#ed7953"
             ],
             [
              0.7777777777777778,
              "#fb9f3a"
             ],
             [
              0.8888888888888888,
              "#fdca26"
             ],
             [
              1,
              "#f0f921"
             ]
            ],
            "type": "heatmap"
           }
          ],
          "heatmapgl": [
           {
            "colorbar": {
             "outlinewidth": 0,
             "ticks": ""
            },
            "colorscale": [
             [
              0,
              "#0d0887"
             ],
             [
              0.1111111111111111,
              "#46039f"
             ],
             [
              0.2222222222222222,
              "#7201a8"
             ],
             [
              0.3333333333333333,
              "#9c179e"
             ],
             [
              0.4444444444444444,
              "#bd3786"
             ],
             [
              0.5555555555555556,
              "#d8576b"
             ],
             [
              0.6666666666666666,
              "#ed7953"
             ],
             [
              0.7777777777777778,
              "#fb9f3a"
             ],
             [
              0.8888888888888888,
              "#fdca26"
             ],
             [
              1,
              "#f0f921"
             ]
            ],
            "type": "heatmapgl"
           }
          ],
          "histogram": [
           {
            "marker": {
             "pattern": {
              "fillmode": "overlay",
              "size": 10,
              "solidity": 0.2
             }
            },
            "type": "histogram"
           }
          ],
          "histogram2d": [
           {
            "colorbar": {
             "outlinewidth": 0,
             "ticks": ""
            },
            "colorscale": [
             [
              0,
              "#0d0887"
             ],
             [
              0.1111111111111111,
              "#46039f"
             ],
             [
              0.2222222222222222,
              "#7201a8"
             ],
             [
              0.3333333333333333,
              "#9c179e"
             ],
             [
              0.4444444444444444,
              "#bd3786"
             ],
             [
              0.5555555555555556,
              "#d8576b"
             ],
             [
              0.6666666666666666,
              "#ed7953"
             ],
             [
              0.7777777777777778,
              "#fb9f3a"
             ],
             [
              0.8888888888888888,
              "#fdca26"
             ],
             [
              1,
              "#f0f921"
             ]
            ],
            "type": "histogram2d"
           }
          ],
          "histogram2dcontour": [
           {
            "colorbar": {
             "outlinewidth": 0,
             "ticks": ""
            },
            "colorscale": [
             [
              0,
              "#0d0887"
             ],
             [
              0.1111111111111111,
              "#46039f"
             ],
             [
              0.2222222222222222,
              "#7201a8"
             ],
             [
              0.3333333333333333,
              "#9c179e"
             ],
             [
              0.4444444444444444,
              "#bd3786"
             ],
             [
              0.5555555555555556,
              "#d8576b"
             ],
             [
              0.6666666666666666,
              "#ed7953"
             ],
             [
              0.7777777777777778,
              "#fb9f3a"
             ],
             [
              0.8888888888888888,
              "#fdca26"
             ],
             [
              1,
              "#f0f921"
             ]
            ],
            "type": "histogram2dcontour"
           }
          ],
          "mesh3d": [
           {
            "colorbar": {
             "outlinewidth": 0,
             "ticks": ""
            },
            "type": "mesh3d"
           }
          ],
          "parcoords": [
           {
            "line": {
             "colorbar": {
              "outlinewidth": 0,
              "ticks": ""
             }
            },
            "type": "parcoords"
           }
          ],
          "pie": [
           {
            "automargin": true,
            "type": "pie"
           }
          ],
          "scatter": [
           {
            "fillpattern": {
             "fillmode": "overlay",
             "size": 10,
             "solidity": 0.2
            },
            "type": "scatter"
           }
          ],
          "scatter3d": [
           {
            "line": {
             "colorbar": {
              "outlinewidth": 0,
              "ticks": ""
             }
            },
            "marker": {
             "colorbar": {
              "outlinewidth": 0,
              "ticks": ""
             }
            },
            "type": "scatter3d"
           }
          ],
          "scattercarpet": [
           {
            "marker": {
             "colorbar": {
              "outlinewidth": 0,
              "ticks": ""
             }
            },
            "type": "scattercarpet"
           }
          ],
          "scattergeo": [
           {
            "marker": {
             "colorbar": {
              "outlinewidth": 0,
              "ticks": ""
             }
            },
            "type": "scattergeo"
           }
          ],
          "scattergl": [
           {
            "marker": {
             "colorbar": {
              "outlinewidth": 0,
              "ticks": ""
             }
            },
            "type": "scattergl"
           }
          ],
          "scattermapbox": [
           {
            "marker": {
             "colorbar": {
              "outlinewidth": 0,
              "ticks": ""
             }
            },
            "type": "scattermapbox"
           }
          ],
          "scatterpolar": [
           {
            "marker": {
             "colorbar": {
              "outlinewidth": 0,
              "ticks": ""
             }
            },
            "type": "scatterpolar"
           }
          ],
          "scatterpolargl": [
           {
            "marker": {
             "colorbar": {
              "outlinewidth": 0,
              "ticks": ""
             }
            },
            "type": "scatterpolargl"
           }
          ],
          "scatterternary": [
           {
            "marker": {
             "colorbar": {
              "outlinewidth": 0,
              "ticks": ""
             }
            },
            "type": "scatterternary"
           }
          ],
          "surface": [
           {
            "colorbar": {
             "outlinewidth": 0,
             "ticks": ""
            },
            "colorscale": [
             [
              0,
              "#0d0887"
             ],
             [
              0.1111111111111111,
              "#46039f"
             ],
             [
              0.2222222222222222,
              "#7201a8"
             ],
             [
              0.3333333333333333,
              "#9c179e"
             ],
             [
              0.4444444444444444,
              "#bd3786"
             ],
             [
              0.5555555555555556,
              "#d8576b"
             ],
             [
              0.6666666666666666,
              "#ed7953"
             ],
             [
              0.7777777777777778,
              "#fb9f3a"
             ],
             [
              0.8888888888888888,
              "#fdca26"
             ],
             [
              1,
              "#f0f921"
             ]
            ],
            "type": "surface"
           }
          ],
          "table": [
           {
            "cells": {
             "fill": {
              "color": "#EBF0F8"
             },
             "line": {
              "color": "white"
             }
            },
            "header": {
             "fill": {
              "color": "#C8D4E3"
             },
             "line": {
              "color": "white"
             }
            },
            "type": "table"
           }
          ]
         },
         "layout": {
          "annotationdefaults": {
           "arrowcolor": "#2a3f5f",
           "arrowhead": 0,
           "arrowwidth": 1
          },
          "autotypenumbers": "strict",
          "coloraxis": {
           "colorbar": {
            "outlinewidth": 0,
            "ticks": ""
           }
          },
          "colorscale": {
           "diverging": [
            [
             0,
             "#8e0152"
            ],
            [
             0.1,
             "#c51b7d"
            ],
            [
             0.2,
             "#de77ae"
            ],
            [
             0.3,
             "#f1b6da"
            ],
            [
             0.4,
             "#fde0ef"
            ],
            [
             0.5,
             "#f7f7f7"
            ],
            [
             0.6,
             "#e6f5d0"
            ],
            [
             0.7,
             "#b8e186"
            ],
            [
             0.8,
             "#7fbc41"
            ],
            [
             0.9,
             "#4d9221"
            ],
            [
             1,
             "#276419"
            ]
           ],
           "sequential": [
            [
             0,
             "#0d0887"
            ],
            [
             0.1111111111111111,
             "#46039f"
            ],
            [
             0.2222222222222222,
             "#7201a8"
            ],
            [
             0.3333333333333333,
             "#9c179e"
            ],
            [
             0.4444444444444444,
             "#bd3786"
            ],
            [
             0.5555555555555556,
             "#d8576b"
            ],
            [
             0.6666666666666666,
             "#ed7953"
            ],
            [
             0.7777777777777778,
             "#fb9f3a"
            ],
            [
             0.8888888888888888,
             "#fdca26"
            ],
            [
             1,
             "#f0f921"
            ]
           ],
           "sequentialminus": [
            [
             0,
             "#0d0887"
            ],
            [
             0.1111111111111111,
             "#46039f"
            ],
            [
             0.2222222222222222,
             "#7201a8"
            ],
            [
             0.3333333333333333,
             "#9c179e"
            ],
            [
             0.4444444444444444,
             "#bd3786"
            ],
            [
             0.5555555555555556,
             "#d8576b"
            ],
            [
             0.6666666666666666,
             "#ed7953"
            ],
            [
             0.7777777777777778,
             "#fb9f3a"
            ],
            [
             0.8888888888888888,
             "#fdca26"
            ],
            [
             1,
             "#f0f921"
            ]
           ]
          },
          "colorway": [
           "#636efa",
           "#EF553B",
           "#00cc96",
           "#ab63fa",
           "#FFA15A",
           "#19d3f3",
           "#FF6692",
           "#B6E880",
           "#FF97FF",
           "#FECB52"
          ],
          "font": {
           "color": "#2a3f5f"
          },
          "geo": {
           "bgcolor": "white",
           "lakecolor": "white",
           "landcolor": "#E5ECF6",
           "showlakes": true,
           "showland": true,
           "subunitcolor": "white"
          },
          "hoverlabel": {
           "align": "left"
          },
          "hovermode": "closest",
          "mapbox": {
           "style": "light"
          },
          "paper_bgcolor": "white",
          "plot_bgcolor": "#E5ECF6",
          "polar": {
           "angularaxis": {
            "gridcolor": "white",
            "linecolor": "white",
            "ticks": ""
           },
           "bgcolor": "#E5ECF6",
           "radialaxis": {
            "gridcolor": "white",
            "linecolor": "white",
            "ticks": ""
           }
          },
          "scene": {
           "xaxis": {
            "backgroundcolor": "#E5ECF6",
            "gridcolor": "white",
            "gridwidth": 2,
            "linecolor": "white",
            "showbackground": true,
            "ticks": "",
            "zerolinecolor": "white"
           },
           "yaxis": {
            "backgroundcolor": "#E5ECF6",
            "gridcolor": "white",
            "gridwidth": 2,
            "linecolor": "white",
            "showbackground": true,
            "ticks": "",
            "zerolinecolor": "white"
           },
           "zaxis": {
            "backgroundcolor": "#E5ECF6",
            "gridcolor": "white",
            "gridwidth": 2,
            "linecolor": "white",
            "showbackground": true,
            "ticks": "",
            "zerolinecolor": "white"
           }
          },
          "shapedefaults": {
           "line": {
            "color": "#2a3f5f"
           }
          },
          "ternary": {
           "aaxis": {
            "gridcolor": "white",
            "linecolor": "white",
            "ticks": ""
           },
           "baxis": {
            "gridcolor": "white",
            "linecolor": "white",
            "ticks": ""
           },
           "bgcolor": "#E5ECF6",
           "caxis": {
            "gridcolor": "white",
            "linecolor": "white",
            "ticks": ""
           }
          },
          "title": {
           "x": 0.05
          },
          "xaxis": {
           "automargin": true,
           "gridcolor": "white",
           "linecolor": "white",
           "ticks": "",
           "title": {
            "standoff": 15
           },
           "zerolinecolor": "white",
           "zerolinewidth": 2
          },
          "yaxis": {
           "automargin": true,
           "gridcolor": "white",
           "linecolor": "white",
           "ticks": "",
           "title": {
            "standoff": 15
           },
           "zerolinecolor": "white",
           "zerolinewidth": 2
          }
         }
        }
       }
      }
     },
     "metadata": {},
     "output_type": "display_data"
    }
   ],
   "source": [
    "fig = go.Figure()\n",
    "fig.add_trace(go.Bar(\n",
    "x=pais_lim1.index,\n",
    "y=pais_lim1['Consumo_solar'],\n",
    "name='Solar',\n",
    "marker_color= 'lightslategray'\n",
    "    ))\n",
    "fig.add_trace(go.Bar(\n",
    "x=pais_lim1.index,\n",
    "y=pais_lim1['Consumo_Eolica'],\n",
    "name='Eolica',\n",
    "marker_color='crimson'\n",
    "    ))\n",
    "fig.add_trace(go.Bar(\n",
    "x=pais_lim1.index,\n",
    "y=pais_lim1['Consumo_Hidroelectrica'],\n",
    "name='Hidroelectrica',\n",
    "marker_color='indianred'\n",
    "    ))\n",
    "fig.add_trace(go.Bar(\n",
    "x=pais_lim2.index,\n",
    "y=pais_lim2['Consumo_Geotermica'],\n",
    "name='Geotermica',\n",
    "marker_color='lightsalmon'\n",
    "    ))\n",
    "fig.add_trace(go.Bar(\n",
    "x=pais_lim2.index,\n",
    "y=pais_lim2['Consumo_Nuclear'],\n",
    "name='Nuclear',\n",
    "marker_color='indianred'\n",
    "    ))\n",
    "fig.show()"
   ]
  }
 ],
 "metadata": {
  "kernelspec": {
   "display_name": "Python 3.10.2 64-bit",
   "language": "python",
   "name": "python3"
  },
  "language_info": {
   "codemirror_mode": {
    "name": "ipython",
    "version": 3
   },
   "file_extension": ".py",
   "mimetype": "text/x-python",
   "name": "python",
   "nbconvert_exporter": "python",
   "pygments_lexer": "ipython3",
   "version": "3.10.2"
  },
  "orig_nbformat": 4,
  "vscode": {
   "interpreter": {
    "hash": "c63d8c7d738c2960218a10995aedf0a7f67a49a231e71037adf0440953cdb45b"
   }
  }
 },
 "nbformat": 4,
 "nbformat_minor": 2
}
